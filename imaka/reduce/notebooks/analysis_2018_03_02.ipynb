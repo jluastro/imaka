{
 "cells": [
  {
   "cell_type": "markdown",
   "metadata": {},
   "source": [
    "# RUN5: 2018-03-03 UT Preliminary Analysis"
   ]
  },
  {
   "cell_type": "code",
   "execution_count": 1,
   "metadata": {
    "scrolled": true
   },
   "outputs": [
    {
     "name": "stdout",
     "output_type": "stream",
     "text": [
      "Root directory: /g/lu/data/imaka/onaga/20180302/FLI/\n"
     ]
    }
   ],
   "source": [
    "%load_ext autoreload\n",
    "%autoreload 2\n",
    "%matplotlib inline\n",
    "\n",
    "import matplotlib.pyplot as plt\n",
    "from imaka.analysis import plot_stats\n",
    "from astropy.table import Table\n",
    "import numpy as np\n",
    "from importlib import reload\n",
    "from imaka.reduce.nights import reduce_2018_03_02 as redu\n",
    "\n",
    "reload(redu)\n",
    "reload(plot_stats)\n",
    "camera = 'FLI' #camera variable to account for discrepancies in folder naming conventions\n",
    "\n",
    "root_dir = \"/g/lu/data/imaka/onaga/20180302/{}/\".format(camera)#confirms that the root directory specified is correct\n",
    "print(\"Root directory:\",root_dir)\n",
    "stats_dir = root_dir + \"reduce/stats/\"\n",
    "plots_dir = root_dir + \"reduce/plots/\"\n",
    "stack_dir = root_dir + \"reduce/stacks/\""
   ]
  },
  {
   "cell_type": "markdown",
   "metadata": {},
   "source": [
    "# Data Reduction\n",
    "\n",
    "Fully reduce the data from 220180302 UT. Don't re-run this unless you really need to as it takes awhile. After you re-run the data reduction, please remember to load it back up to onaga.\n"
   ]
  },
  {
   "cell_type": "code",
   "execution_count": 2,
   "metadata": {
    "scrolled": true
   },
   "outputs": [
    {
     "name": "stdout",
     "output_type": "stream",
     "text": [
      "Attempting match with 14 and 14 stars from starlist1 and starlist2\n",
      "Begin initial match\n",
      "7 stars matched between starlist1 and starlist2\n",
      "End initial match \n",
      "\n",
      "    Found 0 duplicates out of 14 matches\n",
      "14 of 14 stars matched\n",
      "14 stars used in transform\n",
      "\n",
      "    Found 0 duplicates out of 14 matches\n",
      "14 of 14 stars matched\n",
      "Attempting match with 13 and 14 stars from starlist1 and starlist2\n",
      "Begin initial match\n",
      "5 stars matched between starlist1 and starlist2\n",
      "End initial match \n",
      "\n",
      "    Found 0 duplicates out of 4 matches\n",
      "4 of 13 stars matched\n",
      "4 stars used in transform\n",
      "\n",
      "    Found 0 duplicates out of 4 matches\n",
      "4 of 13 stars matched\n",
      "Attempting match with 37 and 14 stars from starlist1 and starlist2\n",
      "Begin initial match\n",
      "3 stars matched between starlist1 and starlist2\n",
      "End initial match \n",
      "\n",
      "    Found 0 duplicates out of 4 matches\n",
      "4 of 37 stars matched\n",
      "4 stars used in transform\n",
      "\n",
      "    Found 0 duplicates out of 4 matches\n",
      "4 of 37 stars matched\n",
      "Attempting match with 18 and 14 stars from starlist1 and starlist2\n",
      "Begin initial match\n",
      "4 stars matched between starlist1 and starlist2\n",
      "End initial match \n",
      "\n",
      "    Found 0 duplicates out of 4 matches\n",
      "4 of 18 stars matched\n",
      "4 stars used in transform\n",
      "\n",
      "    Found 0 duplicates out of 4 matches\n",
      "4 of 18 stars matched\n",
      "Attempting match with 22 and 14 stars from starlist1 and starlist2\n",
      "Begin initial match\n",
      "0 stars matched between starlist1 and starlist2\n",
      "End initial match \n",
      "\n",
      "    Found 0 duplicates out of 0 matches\n",
      "0 of 22 stars matched\n",
      "0 stars used in transform\n",
      "\n",
      "    Found 0 duplicates out of 0 matches\n",
      "0 of 22 stars matched\n",
      "Attempting match with 24 and 14 stars from starlist1 and starlist2\n",
      "Begin initial match\n",
      "0 stars matched between starlist1 and starlist2\n",
      "End initial match \n",
      "\n",
      "    Found 0 duplicates out of 0 matches\n",
      "0 of 24 stars matched\n",
      "0 stars used in transform\n",
      "\n",
      "    Found 0 duplicates out of 0 matches\n",
      "0 of 24 stars matched\n",
      "Attempting match with 17 and 14 stars from starlist1 and starlist2\n",
      "Begin initial match\n",
      "0 stars matched between starlist1 and starlist2\n",
      "End initial match \n",
      "\n",
      "    Found 0 duplicates out of 0 matches\n",
      "0 of 17 stars matched\n",
      "0 stars used in transform\n",
      "\n",
      "    Found 0 duplicates out of 0 matches\n",
      "0 of 17 stars matched\n",
      "Attempting match with 18 and 14 stars from starlist1 and starlist2\n",
      "Begin initial match\n",
      "0 stars matched between starlist1 and starlist2\n",
      "End initial match \n",
      "\n",
      "    Found 0 duplicates out of 0 matches\n",
      "0 of 18 stars matched\n",
      "0 stars used in transform\n",
      "\n",
      "    Found 0 duplicates out of 0 matches\n",
      "0 of 18 stars matched\n",
      "Attempting match with 17 and 14 stars from starlist1 and starlist2\n",
      "Begin initial match\n",
      "0 stars matched between starlist1 and starlist2\n",
      "End initial match \n",
      "\n",
      "    Found 0 duplicates out of 0 matches\n",
      "0 of 17 stars matched\n",
      "0 stars used in transform\n",
      "\n",
      "    Found 0 duplicates out of 0 matches\n",
      "0 of 17 stars matched\n"
     ]
    },
    {
     "name": "stderr",
     "output_type": "stream",
     "text": [
      "/opt/anaconda3/envs/astroconda/lib/python3.7/site-packages/numpy/lib/function_base.py:390: RuntimeWarning: Mean of empty slice.\n",
      "  avg = a.mean(axis)\n",
      "/opt/anaconda3/envs/astroconda/lib/python3.7/site-packages/numpy/core/_methods.py:161: RuntimeWarning: invalid value encountered in double_scalars\n",
      "  ret = ret.dtype.type(ret / rcount)\n",
      "/opt/anaconda3/envs/astroconda/lib/python3.7/site-packages/numpy/core/_methods.py:217: RuntimeWarning: Degrees of freedom <= 0 for slice\n",
      "  keepdims=keepdims)\n",
      "/opt/anaconda3/envs/astroconda/lib/python3.7/site-packages/numpy/core/_methods.py:186: RuntimeWarning: invalid value encountered in true_divide\n",
      "  arrmean, rcount, out=arrmean, casting='unsafe', subok=False)\n",
      "/opt/anaconda3/envs/astroconda/lib/python3.7/site-packages/numpy/core/_methods.py:209: RuntimeWarning: invalid value encountered in double_scalars\n",
      "  ret = ret.dtype.type(ret / rcount)\n"
     ]
    },
    {
     "name": "stdout",
     "output_type": "stream",
     "text": [
      "Attempting match with 26 and 14 stars from starlist1 and starlist2\n",
      "Begin initial match\n",
      "0 stars matched between starlist1 and starlist2\n",
      "End initial match \n",
      "\n",
      "    Found 0 duplicates out of 0 matches\n",
      "0 of 26 stars matched\n",
      "0 stars used in transform\n",
      "\n",
      "    Found 0 duplicates out of 0 matches\n",
      "0 of 26 stars matched\n",
      "Attempting match with 24 and 14 stars from starlist1 and starlist2\n",
      "Begin initial match\n",
      "0 stars matched between starlist1 and starlist2\n",
      "End initial match \n",
      "\n",
      "    Found 0 duplicates out of 0 matches\n",
      "0 of 24 stars matched\n",
      "0 stars used in transform\n",
      "\n",
      "    Found 0 duplicates out of 0 matches\n",
      "0 of 24 stars matched\n",
      "Attempting match with 27 and 14 stars from starlist1 and starlist2\n",
      "Begin initial match\n",
      "0 stars matched between starlist1 and starlist2\n",
      "End initial match \n",
      "\n",
      "    Found 0 duplicates out of 0 matches\n",
      "0 of 27 stars matched\n",
      "0 stars used in transform\n",
      "\n",
      "    Found 0 duplicates out of 0 matches\n",
      "0 of 27 stars matched\n",
      "Attempting match with 20 and 14 stars from starlist1 and starlist2\n",
      "Begin initial match\n",
      "0 stars matched between starlist1 and starlist2\n",
      "End initial match \n",
      "\n",
      "    Found 0 duplicates out of 0 matches\n",
      "0 of 20 stars matched\n",
      "0 stars used in transform\n",
      "\n",
      "    Found 0 duplicates out of 0 matches\n",
      "0 of 20 stars matched\n",
      "Attempting match with 11 and 14 stars from starlist1 and starlist2\n",
      "Begin initial match\n",
      "0 stars matched between starlist1 and starlist2\n",
      "End initial match \n",
      "\n",
      "    Found 0 duplicates out of 0 matches\n",
      "0 of 11 stars matched\n",
      "0 stars used in transform\n",
      "\n",
      "    Found 0 duplicates out of 0 matches\n",
      "0 of 11 stars matched\n",
      "Attempting match with 19 and 14 stars from starlist1 and starlist2\n",
      "Begin initial match\n",
      "0 stars matched between starlist1 and starlist2\n",
      "End initial match \n",
      "\n",
      "    Found 0 duplicates out of 0 matches\n",
      "0 of 19 stars matched\n",
      "0 stars used in transform\n",
      "\n",
      "    Found 0 duplicates out of 0 matches\n",
      "0 of 19 stars matched\n",
      "Attempting match with 14 and 14 stars from starlist1 and starlist2\n",
      "Begin initial match\n",
      "0 stars matched between starlist1 and starlist2\n",
      "End initial match \n",
      "\n",
      "    Found 0 duplicates out of 0 matches\n",
      "0 of 14 stars matched\n",
      "0 stars used in transform\n",
      "\n",
      "    Found 0 duplicates out of 0 matches\n",
      "0 of 14 stars matched\n",
      "Attempting match with 18 and 14 stars from starlist1 and starlist2\n",
      "Begin initial match\n",
      "0 stars matched between starlist1 and starlist2\n",
      "End initial match \n",
      "\n",
      "    Found 0 duplicates out of 0 matches\n",
      "0 of 18 stars matched\n",
      "0 stars used in transform\n",
      "\n",
      "    Found 0 duplicates out of 0 matches\n",
      "0 of 18 stars matched\n",
      "Attempting match with 30 and 14 stars from starlist1 and starlist2\n",
      "Begin initial match\n",
      "0 stars matched between starlist1 and starlist2\n",
      "End initial match \n",
      "\n",
      "    Found 0 duplicates out of 0 matches\n",
      "0 of 30 stars matched\n",
      "0 stars used in transform\n",
      "\n",
      "    Found 0 duplicates out of 0 matches\n",
      "0 of 30 stars matched\n",
      "Attempting match with 21 and 14 stars from starlist1 and starlist2\n",
      "Begin initial match\n",
      "0 stars matched between starlist1 and starlist2\n",
      "End initial match \n",
      "\n",
      "    Found 0 duplicates out of 0 matches\n",
      "0 of 21 stars matched\n",
      "0 stars used in transform\n",
      "\n",
      "    Found 0 duplicates out of 0 matches\n",
      "0 of 21 stars matched\n",
      "Attempting match with 16 and 14 stars from starlist1 and starlist2\n",
      "Begin initial match\n",
      "0 stars matched between starlist1 and starlist2\n",
      "End initial match \n",
      "\n",
      "    Found 0 duplicates out of 0 matches\n",
      "0 of 16 stars matched\n",
      "0 stars used in transform\n",
      "\n",
      "    Found 0 duplicates out of 0 matches\n",
      "0 of 16 stars matched\n",
      "Attempting match with 17 and 14 stars from starlist1 and starlist2\n",
      "Begin initial match\n",
      "0 stars matched between starlist1 and starlist2\n",
      "End initial match \n",
      "\n",
      "    Found 0 duplicates out of 0 matches\n",
      "0 of 17 stars matched\n",
      "0 stars used in transform\n",
      "\n",
      "    Found 0 duplicates out of 0 matches\n",
      "0 of 17 stars matched\n",
      "Attempting match with 19 and 14 stars from starlist1 and starlist2\n",
      "Begin initial match\n",
      "0 stars matched between starlist1 and starlist2\n",
      "End initial match \n",
      "\n",
      "    Found 0 duplicates out of 0 matches\n",
      "0 of 19 stars matched\n",
      "0 stars used in transform\n",
      "\n",
      "    Found 0 duplicates out of 0 matches\n",
      "0 of 19 stars matched\n",
      "Attempting match with 12 and 14 stars from starlist1 and starlist2\n",
      "Begin initial match\n",
      "0 stars matched between starlist1 and starlist2\n",
      "End initial match \n",
      "\n",
      "    Found 0 duplicates out of 0 matches\n",
      "0 of 12 stars matched\n",
      "0 stars used in transform\n",
      "\n",
      "    Found 0 duplicates out of 0 matches\n",
      "0 of 12 stars matched\n",
      "Attempting match with 14 and 14 stars from starlist1 and starlist2\n",
      "Begin initial match\n",
      "0 stars matched between starlist1 and starlist2\n",
      "End initial match \n",
      "\n",
      "    Found 0 duplicates out of 0 matches\n",
      "0 of 14 stars matched\n",
      "0 stars used in transform\n",
      "\n",
      "    Found 0 duplicates out of 0 matches\n",
      "0 of 14 stars matched\n",
      "Attempting match with 22 and 14 stars from starlist1 and starlist2\n",
      "Begin initial match\n",
      "0 stars matched between starlist1 and starlist2\n",
      "End initial match \n",
      "\n",
      "    Found 0 duplicates out of 0 matches\n",
      "0 of 22 stars matched\n",
      "0 stars used in transform\n",
      "\n",
      "    Found 0 duplicates out of 0 matches\n",
      "0 of 22 stars matched\n",
      "Attempting match with 30 and 14 stars from starlist1 and starlist2\n",
      "Begin initial match\n",
      "0 stars matched between starlist1 and starlist2\n",
      "End initial match \n",
      "\n",
      "    Found 0 duplicates out of 0 matches\n",
      "0 of 30 stars matched\n",
      "0 stars used in transform\n",
      "\n",
      "    Found 0 duplicates out of 0 matches\n",
      "0 of 30 stars matched\n",
      "Attempting match with 19 and 14 stars from starlist1 and starlist2\n",
      "Begin initial match\n",
      "0 stars matched between starlist1 and starlist2\n",
      "End initial match \n",
      "\n",
      "    Found 0 duplicates out of 0 matches\n",
      "0 of 19 stars matched\n",
      "0 stars used in transform\n",
      "\n",
      "    Found 0 duplicates out of 0 matches\n",
      "0 of 19 stars matched\n",
      "Attempting match with 15 and 14 stars from starlist1 and starlist2\n",
      "Begin initial match\n",
      "0 stars matched between starlist1 and starlist2\n",
      "End initial match \n",
      "\n",
      "    Found 0 duplicates out of 0 matches\n",
      "0 of 15 stars matched\n",
      "0 stars used in transform\n",
      "\n",
      "    Found 0 duplicates out of 0 matches\n",
      "0 of 15 stars matched\n",
      "Attempting match with 35 and 14 stars from starlist1 and starlist2\n",
      "Begin initial match\n",
      "3 stars matched between starlist1 and starlist2\n",
      "End initial match \n",
      "\n",
      "    Found 0 duplicates out of 0 matches\n",
      "0 of 35 stars matched\n",
      "0 stars used in transform\n",
      "\n",
      "    Found 0 duplicates out of 0 matches\n",
      "0 of 35 stars matched\n",
      "Attempting match with 14 and 4 stars from starlist1 and starlist2\n",
      "Begin initial match\n",
      "You need at least 7 to \n",
      "find the matches...\n",
      "('NIN1: ', 14)\n",
      "('NIN2: ', 4)\n",
      "0 stars matched between starlist1 and starlist2\n"
     ]
    },
    {
     "ename": "TypeError",
     "evalue": "unsupported operand type(s) for -: 'NoneType' and 'NoneType'",
     "output_type": "error",
     "traceback": [
      "\u001b[0;31m---------------------------------------------------------------------------\u001b[0m",
      "\u001b[0;31mTypeError\u001b[0m                                 Traceback (most recent call last)",
      "\u001b[0;32m<ipython-input-2-fbab30a17132>\u001b[0m in \u001b[0;36m<module>\u001b[0;34m\u001b[0m\n\u001b[1;32m     12\u001b[0m \u001b[0;34m\u001b[0m\u001b[0m\n\u001b[1;32m     13\u001b[0m \u001b[0;34m\"\"\"\"Make a stack of images for each mode and analyze stacks\"\"\"\u001b[0m\u001b[0;34m\u001b[0m\u001b[0;34m\u001b[0m\u001b[0m\n\u001b[0;32m---> 14\u001b[0;31m \u001b[0mredu\u001b[0m\u001b[0;34m.\u001b[0m\u001b[0mstack_FLD2\u001b[0m\u001b[0;34m(\u001b[0m\u001b[0;34m)\u001b[0m\u001b[0;34m\u001b[0m\u001b[0;34m\u001b[0m\u001b[0m\n\u001b[0m\u001b[1;32m     15\u001b[0m \u001b[0mredu\u001b[0m\u001b[0;34m.\u001b[0m\u001b[0manalyze_stacks\u001b[0m\u001b[0;34m(\u001b[0m\u001b[0;34m)\u001b[0m\u001b[0;34m\u001b[0m\u001b[0;34m\u001b[0m\u001b[0m\n",
      "\u001b[0;32m~/code/python/imaka/imaka/reduce/nights/reduce_2018_03_02.py\u001b[0m in \u001b[0;36mstack_FLD2\u001b[0;34m()\u001b[0m\n\u001b[1;32m    138\u001b[0m     \u001b[0mopen_starlists\u001b[0m \u001b[0;34m=\u001b[0m \u001b[0;34m[\u001b[0m\u001b[0mout_dir\u001b[0m \u001b[0;34m+\u001b[0m \u001b[0;34m'obj{0:04d}_o_clean_stars.txt'\u001b[0m\u001b[0;34m.\u001b[0m\u001b[0mformat\u001b[0m\u001b[0;34m(\u001b[0m\u001b[0mii\u001b[0m\u001b[0;34m)\u001b[0m \u001b[0;32mfor\u001b[0m \u001b[0mii\u001b[0m \u001b[0;32min\u001b[0m \u001b[0mfnum_o\u001b[0m\u001b[0;34m]\u001b[0m\u001b[0;34m\u001b[0m\u001b[0;34m\u001b[0m\u001b[0m\n\u001b[1;32m    139\u001b[0m     \u001b[0mopen_output_root\u001b[0m \u001b[0;34m=\u001b[0m \u001b[0mstacks_dir\u001b[0m \u001b[0;34m+\u001b[0m \u001b[0;34m'Beehive-W_stack_open'\u001b[0m\u001b[0;34m\u001b[0m\u001b[0;34m\u001b[0m\u001b[0m\n\u001b[0;32m--> 140\u001b[0;31m     \u001b[0mreduce_fli\u001b[0m\u001b[0;34m.\u001b[0m\u001b[0mshift_and_add\u001b[0m\u001b[0;34m(\u001b[0m\u001b[0mopen_images\u001b[0m\u001b[0;34m,\u001b[0m \u001b[0mopen_starlists\u001b[0m\u001b[0;34m,\u001b[0m \u001b[0mopen_output_root\u001b[0m\u001b[0;34m,\u001b[0m \u001b[0mmethod\u001b[0m\u001b[0;34m=\u001b[0m\u001b[0;34m'mean'\u001b[0m\u001b[0;34m)\u001b[0m\u001b[0;34m\u001b[0m\u001b[0;34m\u001b[0m\u001b[0m\n\u001b[0m\u001b[1;32m    141\u001b[0m \u001b[0;34m\u001b[0m\u001b[0m\n\u001b[1;32m    142\u001b[0m     \u001b[0;31m# Closed Loop\u001b[0m\u001b[0;34m\u001b[0m\u001b[0;34m\u001b[0m\u001b[0;34m\u001b[0m\u001b[0m\n",
      "\u001b[0;32m~/code/python/imaka/imaka/reduce/reduce_fli.py\u001b[0m in \u001b[0;36mshift_and_add\u001b[0;34m(img_files, starlists, output_root, method, clip_sigma)\u001b[0m\n\u001b[1;32m    744\u001b[0m     \u001b[0;31m# We will align all frames to the first frame. We can repeat\u001b[0m\u001b[0;34m\u001b[0m\u001b[0;34m\u001b[0m\u001b[0;34m\u001b[0m\u001b[0m\n\u001b[1;32m    745\u001b[0m     \u001b[0;31m# this process.\u001b[0m\u001b[0;34m\u001b[0m\u001b[0;34m\u001b[0m\u001b[0;34m\u001b[0m\u001b[0m\n\u001b[0;32m--> 746\u001b[0;31m     \u001b[0mshift_trans\u001b[0m \u001b[0;34m=\u001b[0m \u001b[0mget_transforms_from_starlists\u001b[0m\u001b[0;34m(\u001b[0m\u001b[0mstarlists\u001b[0m\u001b[0;34m)\u001b[0m\u001b[0;34m\u001b[0m\u001b[0;34m\u001b[0m\u001b[0m\n\u001b[0m\u001b[1;32m    747\u001b[0m \u001b[0;34m\u001b[0m\u001b[0m\n\u001b[1;32m    748\u001b[0m     \u001b[0;31m# Make some arrays to store the stack of images... this is a big array.\u001b[0m\u001b[0;34m\u001b[0m\u001b[0;34m\u001b[0m\u001b[0;34m\u001b[0m\u001b[0m\n",
      "\u001b[0;32m~/code/python/imaka/imaka/reduce/reduce_fli.py\u001b[0m in \u001b[0;36mget_transforms_from_starlists\u001b[0;34m(starlists)\u001b[0m\n\u001b[1;32m    835\u001b[0m             \u001b[0mstars\u001b[0m \u001b[0;34m=\u001b[0m \u001b[0mread_starlist\u001b[0m\u001b[0;34m(\u001b[0m\u001b[0mstarlists\u001b[0m\u001b[0;34m[\u001b[0m\u001b[0mii\u001b[0m\u001b[0;34m]\u001b[0m\u001b[0;34m)\u001b[0m\u001b[0;34m\u001b[0m\u001b[0;34m\u001b[0m\u001b[0m\n\u001b[1;32m    836\u001b[0m \u001b[0;34m\u001b[0m\u001b[0m\n\u001b[0;32m--> 837\u001b[0;31m             \u001b[0mt\u001b[0m \u001b[0;34m=\u001b[0m \u001b[0malign\u001b[0m\u001b[0;34m.\u001b[0m\u001b[0minitial_align\u001b[0m\u001b[0;34m(\u001b[0m\u001b[0mstars\u001b[0m\u001b[0;34m,\u001b[0m \u001b[0mstars_ref\u001b[0m\u001b[0;34m,\u001b[0m \u001b[0mbriteN\u001b[0m\u001b[0;34m=\u001b[0m\u001b[0mN_brite\u001b[0m\u001b[0;34m,\u001b[0m \u001b[0mtransformModel\u001b[0m\u001b[0;34m=\u001b[0m\u001b[0mtransforms\u001b[0m\u001b[0;34m.\u001b[0m\u001b[0mShift\u001b[0m\u001b[0;34m,\u001b[0m \u001b[0mreq_match\u001b[0m\u001b[0;34m=\u001b[0m\u001b[0;36m3\u001b[0m\u001b[0;34m)\u001b[0m\u001b[0;34m\u001b[0m\u001b[0;34m\u001b[0m\u001b[0m\n\u001b[0m\u001b[1;32m    838\u001b[0m \u001b[0;34m\u001b[0m\u001b[0m\n\u001b[1;32m    839\u001b[0m             \u001b[0midx1\u001b[0m\u001b[0;34m,\u001b[0m \u001b[0midx2\u001b[0m \u001b[0;34m=\u001b[0m \u001b[0malign\u001b[0m\u001b[0;34m.\u001b[0m\u001b[0mtransform_and_match\u001b[0m\u001b[0;34m(\u001b[0m\u001b[0mstars\u001b[0m\u001b[0;34m,\u001b[0m \u001b[0mstars_ref\u001b[0m\u001b[0;34m,\u001b[0m \u001b[0mt\u001b[0m\u001b[0;34m,\u001b[0m \u001b[0mdr_tol\u001b[0m\u001b[0;34m=\u001b[0m\u001b[0;36m5\u001b[0m\u001b[0;34m,\u001b[0m \u001b[0mdm_tol\u001b[0m\u001b[0;34m=\u001b[0m\u001b[0;32mNone\u001b[0m\u001b[0;34m)\u001b[0m\u001b[0;34m\u001b[0m\u001b[0;34m\u001b[0m\u001b[0m\n",
      "\u001b[0;32m~/code/python/flystar/flystar/align.py\u001b[0m in \u001b[0;36minitial_align\u001b[0;34m(table1, table2, briteN, transformModel, order, req_match)\u001b[0m\n\u001b[1;32m   2299\u001b[0m \u001b[0;34m\u001b[0m\u001b[0m\n\u001b[1;32m   2300\u001b[0m     \u001b[0;31m# Calculate transformation based on matches\u001b[0m\u001b[0;34m\u001b[0m\u001b[0;34m\u001b[0m\u001b[0;34m\u001b[0m\u001b[0m\n\u001b[0;32m-> 2301\u001b[0;31m     \u001b[0mt\u001b[0m \u001b[0;34m=\u001b[0m \u001b[0mtransformModel\u001b[0m\u001b[0;34m.\u001b[0m\u001b[0mderive_transform\u001b[0m\u001b[0;34m(\u001b[0m\u001b[0mx1m\u001b[0m\u001b[0;34m,\u001b[0m \u001b[0my1m\u001b[0m \u001b[0;34m,\u001b[0m\u001b[0mx2m\u001b[0m\u001b[0;34m,\u001b[0m \u001b[0my2m\u001b[0m\u001b[0;34m,\u001b[0m \u001b[0morder\u001b[0m\u001b[0;34m=\u001b[0m\u001b[0morder\u001b[0m\u001b[0;34m,\u001b[0m \u001b[0mweights\u001b[0m\u001b[0;34m=\u001b[0m\u001b[0;32mNone\u001b[0m\u001b[0;34m)\u001b[0m\u001b[0;34m\u001b[0m\u001b[0;34m\u001b[0m\u001b[0m\n\u001b[0m\u001b[1;32m   2302\u001b[0m \u001b[0;34m\u001b[0m\u001b[0m\n\u001b[1;32m   2303\u001b[0m     \u001b[0mprint\u001b[0m\u001b[0;34m(\u001b[0m \u001b[0;34m'End initial match \\n'\u001b[0m\u001b[0;34m)\u001b[0m\u001b[0;34m\u001b[0m\u001b[0;34m\u001b[0m\u001b[0m\n",
      "\u001b[0;32m~/code/python/flystar/flystar/transforms.py\u001b[0m in \u001b[0;36mderive_transform\u001b[0;34m(cls, x, y, xref, yref, m, mref, weights, **kwargs)\u001b[0m\n\u001b[1;32m    706\u001b[0m     \u001b[0;34m@\u001b[0m\u001b[0mclassmethod\u001b[0m\u001b[0;34m\u001b[0m\u001b[0;34m\u001b[0m\u001b[0m\n\u001b[1;32m    707\u001b[0m     \u001b[0;32mdef\u001b[0m \u001b[0mderive_transform\u001b[0m\u001b[0;34m(\u001b[0m\u001b[0mcls\u001b[0m\u001b[0;34m,\u001b[0m \u001b[0mx\u001b[0m\u001b[0;34m,\u001b[0m \u001b[0my\u001b[0m\u001b[0;34m,\u001b[0m \u001b[0mxref\u001b[0m\u001b[0;34m,\u001b[0m \u001b[0myref\u001b[0m\u001b[0;34m,\u001b[0m \u001b[0mm\u001b[0m\u001b[0;34m=\u001b[0m\u001b[0;32mNone\u001b[0m\u001b[0;34m,\u001b[0m \u001b[0mmref\u001b[0m\u001b[0;34m=\u001b[0m\u001b[0;32mNone\u001b[0m\u001b[0;34m,\u001b[0m \u001b[0mweights\u001b[0m\u001b[0;34m=\u001b[0m\u001b[0;32mNone\u001b[0m\u001b[0;34m,\u001b[0m \u001b[0;34m**\u001b[0m\u001b[0mkwargs\u001b[0m\u001b[0;34m)\u001b[0m\u001b[0;34m:\u001b[0m\u001b[0;34m\u001b[0m\u001b[0;34m\u001b[0m\u001b[0m\n\u001b[0;32m--> 708\u001b[0;31m         \u001b[0mdx\u001b[0m \u001b[0;34m=\u001b[0m \u001b[0mxref\u001b[0m \u001b[0;34m-\u001b[0m \u001b[0mx\u001b[0m\u001b[0;34m\u001b[0m\u001b[0;34m\u001b[0m\u001b[0m\n\u001b[0m\u001b[1;32m    709\u001b[0m         \u001b[0mdy\u001b[0m \u001b[0;34m=\u001b[0m \u001b[0myref\u001b[0m \u001b[0;34m-\u001b[0m \u001b[0my\u001b[0m\u001b[0;34m\u001b[0m\u001b[0;34m\u001b[0m\u001b[0m\n\u001b[1;32m    710\u001b[0m \u001b[0;34m\u001b[0m\u001b[0m\n",
      "\u001b[0;31mTypeError\u001b[0m: unsupported operand type(s) for -: 'NoneType' and 'NoneType'"
     ]
    }
   ],
   "source": [
    "\"\"\"Set the appropriate root directory for your machine\"\"\"\n",
    "redu.root_dir = root_dir\n",
    "\n",
    "\"\"\"\"Make sky and flat images and use them to reduce science images\"\"\"\n",
    "#redu.make_sky()\n",
    "#redu.make_flat()  # Manually copy over flat from 20180302/\n",
    "#redu.reduce_FLD2() #clean images via reduce_fli.clean_images()\n",
    "\n",
    "\"\"\"\"Find stars in clean images and calculate stats\"\"\"\n",
    "#redu.find_stars_FLD2()\n",
    "#redu.calc_star_stats()\n",
    "\n",
    "\"\"\"\"Make a stack of images for each mode and analyze stacks\"\"\"\n",
    "redu.stack_FLD2()\n",
    "redu.analyze_stacks()"
   ]
  },
  {
   "cell_type": "code",
   "execution_count": null,
   "metadata": {},
   "outputs": [
    {
     "name": "stdout",
     "output_type": "stream",
     "text": [
      "> /u/caylananderson/code/python/flystar/flystar/align.py(2449)find_transform()\n",
      "-> t = transModel.derive_transform(x1, y1, x2, y2, order, m=m1, mref=m2, weights=weight)\n",
      "(Pdb) type(m1)\n",
      "<class 'astropy.table.column.Column'>\n"
     ]
    }
   ],
   "source": [
    "import pdb; pdb.pm()"
   ]
  },
  {
   "cell_type": "markdown",
   "metadata": {},
   "source": [
    "# Generate Plots"
   ]
  },
  {
   "cell_type": "markdown",
   "metadata": {},
   "source": [
    "# FWHM and Seeing\n"
   ]
  },
  {
   "cell_type": "code",
   "execution_count": 10,
   "metadata": {
    "scrolled": true
   },
   "outputs": [
    {
     "ename": "KeyError",
     "evalue": "'MASS'",
     "output_type": "error",
     "traceback": [
      "\u001b[0;31m---------------------------------------------------------------------------\u001b[0m",
      "\u001b[0;31mKeyError\u001b[0m                                  Traceback (most recent call last)",
      "\u001b[0;32m<ipython-input-10-01d0a1bd70dc>\u001b[0m in \u001b[0;36m<module>\u001b[0;34m\u001b[0m\n\u001b[1;32m      1\u001b[0m \u001b[0mopen_file\u001b[0m \u001b[0;34m=\u001b[0m \u001b[0mstats_dir\u001b[0m \u001b[0;34m+\u001b[0m\u001b[0;34m\"stats_open.fits\"\u001b[0m\u001b[0;34m\u001b[0m\u001b[0;34m\u001b[0m\u001b[0m\n\u001b[1;32m      2\u001b[0m \u001b[0mclosed_file1\u001b[0m \u001b[0;34m=\u001b[0m \u001b[0mstats_dir\u001b[0m\u001b[0;34m+\u001b[0m \u001b[0;34m\"stats_closed.fits\"\u001b[0m\u001b[0;34m\u001b[0m\u001b[0;34m\u001b[0m\u001b[0m\n\u001b[0;32m----> 3\u001b[0;31m \u001b[0mplot_stats\u001b[0m\u001b[0;34m.\u001b[0m\u001b[0mplot_fwhmvt_nomatch\u001b[0m\u001b[0;34m(\u001b[0m\u001b[0mopen_file\u001b[0m\u001b[0;34m,\u001b[0m \u001b[0mclosed_file1\u001b[0m\u001b[0;34m,\u001b[0m \u001b[0;34m'emp_fwhm'\u001b[0m\u001b[0;34m,\u001b[0m \u001b[0;34m\"2018-03-02: FWHM and Seeing over time\"\u001b[0m\u001b[0;34m,\u001b[0m \u001b[0mplots_dir\u001b[0m\u001b[0;34m)\u001b[0m\u001b[0;34m\u001b[0m\u001b[0;34m\u001b[0m\u001b[0m\n\u001b[0m",
      "\u001b[0;32m~/code/python/imaka/imaka/analysis/plot_stats.py\u001b[0m in \u001b[0;36mplot_fwhmvt_nomatch\u001b[0;34m(open_file, closed_file, comp_col, title, plots_dir)\u001b[0m\n\u001b[1;32m   1582\u001b[0m \u001b[0;34m\u001b[0m\u001b[0m\n\u001b[1;32m   1583\u001b[0m     \u001b[0;31m# Get mass/dimm data\u001b[0m\u001b[0;34m\u001b[0m\u001b[0;34m\u001b[0m\u001b[0;34m\u001b[0m\u001b[0m\n\u001b[0;32m-> 1584\u001b[0;31m     \u001b[0mmass\u001b[0m \u001b[0;34m=\u001b[0m \u001b[0mstats2\u001b[0m\u001b[0;34m[\u001b[0m\u001b[0;34m'MASS'\u001b[0m\u001b[0;34m]\u001b[0m\u001b[0;34m\u001b[0m\u001b[0;34m\u001b[0m\u001b[0m\n\u001b[0m\u001b[1;32m   1585\u001b[0m     \u001b[0mdimm\u001b[0m \u001b[0;34m=\u001b[0m \u001b[0mstats1\u001b[0m\u001b[0;34m[\u001b[0m\u001b[0;34m'DIMM'\u001b[0m\u001b[0;34m]\u001b[0m\u001b[0;34m\u001b[0m\u001b[0;34m\u001b[0m\u001b[0m\n\u001b[1;32m   1586\u001b[0m \u001b[0;34m\u001b[0m\u001b[0m\n",
      "\u001b[0;32m/opt/anaconda3/envs/astroconda/lib/python3.7/site-packages/astropy/table/table.py\u001b[0m in \u001b[0;36m__getitem__\u001b[0;34m(self, item)\u001b[0m\n\u001b[1;32m   1347\u001b[0m     \u001b[0;32mdef\u001b[0m \u001b[0m__getitem__\u001b[0m\u001b[0;34m(\u001b[0m\u001b[0mself\u001b[0m\u001b[0;34m,\u001b[0m \u001b[0mitem\u001b[0m\u001b[0;34m)\u001b[0m\u001b[0;34m:\u001b[0m\u001b[0;34m\u001b[0m\u001b[0;34m\u001b[0m\u001b[0m\n\u001b[1;32m   1348\u001b[0m         \u001b[0;32mif\u001b[0m \u001b[0misinstance\u001b[0m\u001b[0;34m(\u001b[0m\u001b[0mitem\u001b[0m\u001b[0;34m,\u001b[0m \u001b[0mstr\u001b[0m\u001b[0;34m)\u001b[0m\u001b[0;34m:\u001b[0m\u001b[0;34m\u001b[0m\u001b[0;34m\u001b[0m\u001b[0m\n\u001b[0;32m-> 1349\u001b[0;31m             \u001b[0;32mreturn\u001b[0m \u001b[0mself\u001b[0m\u001b[0;34m.\u001b[0m\u001b[0mcolumns\u001b[0m\u001b[0;34m[\u001b[0m\u001b[0mitem\u001b[0m\u001b[0;34m]\u001b[0m\u001b[0;34m\u001b[0m\u001b[0;34m\u001b[0m\u001b[0m\n\u001b[0m\u001b[1;32m   1350\u001b[0m         \u001b[0;32melif\u001b[0m \u001b[0misinstance\u001b[0m\u001b[0;34m(\u001b[0m\u001b[0mitem\u001b[0m\u001b[0;34m,\u001b[0m \u001b[0;34m(\u001b[0m\u001b[0mint\u001b[0m\u001b[0;34m,\u001b[0m \u001b[0mnp\u001b[0m\u001b[0;34m.\u001b[0m\u001b[0minteger\u001b[0m\u001b[0;34m)\u001b[0m\u001b[0;34m)\u001b[0m\u001b[0;34m:\u001b[0m\u001b[0;34m\u001b[0m\u001b[0;34m\u001b[0m\u001b[0m\n\u001b[1;32m   1351\u001b[0m             \u001b[0;32mreturn\u001b[0m \u001b[0mself\u001b[0m\u001b[0;34m.\u001b[0m\u001b[0mRow\u001b[0m\u001b[0;34m(\u001b[0m\u001b[0mself\u001b[0m\u001b[0;34m,\u001b[0m \u001b[0mitem\u001b[0m\u001b[0;34m)\u001b[0m\u001b[0;34m\u001b[0m\u001b[0;34m\u001b[0m\u001b[0m\n",
      "\u001b[0;32m/opt/anaconda3/envs/astroconda/lib/python3.7/site-packages/astropy/table/table.py\u001b[0m in \u001b[0;36m__getitem__\u001b[0;34m(self, item)\u001b[0m\n\u001b[1;32m    189\u001b[0m         \"\"\"\n\u001b[1;32m    190\u001b[0m         \u001b[0;32mif\u001b[0m \u001b[0misinstance\u001b[0m\u001b[0;34m(\u001b[0m\u001b[0mitem\u001b[0m\u001b[0;34m,\u001b[0m \u001b[0mstr\u001b[0m\u001b[0;34m)\u001b[0m\u001b[0;34m:\u001b[0m\u001b[0;34m\u001b[0m\u001b[0;34m\u001b[0m\u001b[0m\n\u001b[0;32m--> 191\u001b[0;31m             \u001b[0;32mreturn\u001b[0m \u001b[0mOrderedDict\u001b[0m\u001b[0;34m.\u001b[0m\u001b[0m__getitem__\u001b[0m\u001b[0;34m(\u001b[0m\u001b[0mself\u001b[0m\u001b[0;34m,\u001b[0m \u001b[0mitem\u001b[0m\u001b[0;34m)\u001b[0m\u001b[0;34m\u001b[0m\u001b[0;34m\u001b[0m\u001b[0m\n\u001b[0m\u001b[1;32m    192\u001b[0m         \u001b[0;32melif\u001b[0m \u001b[0misinstance\u001b[0m\u001b[0;34m(\u001b[0m\u001b[0mitem\u001b[0m\u001b[0;34m,\u001b[0m \u001b[0;34m(\u001b[0m\u001b[0mint\u001b[0m\u001b[0;34m,\u001b[0m \u001b[0mnp\u001b[0m\u001b[0;34m.\u001b[0m\u001b[0minteger\u001b[0m\u001b[0;34m)\u001b[0m\u001b[0;34m)\u001b[0m\u001b[0;34m:\u001b[0m\u001b[0;34m\u001b[0m\u001b[0;34m\u001b[0m\u001b[0m\n\u001b[1;32m    193\u001b[0m             \u001b[0;32mreturn\u001b[0m \u001b[0mself\u001b[0m\u001b[0;34m.\u001b[0m\u001b[0mvalues\u001b[0m\u001b[0;34m(\u001b[0m\u001b[0;34m)\u001b[0m\u001b[0;34m[\u001b[0m\u001b[0mitem\u001b[0m\u001b[0;34m]\u001b[0m\u001b[0;34m\u001b[0m\u001b[0;34m\u001b[0m\u001b[0m\n",
      "\u001b[0;31mKeyError\u001b[0m: 'MASS'"
     ]
    }
   ],
   "source": [
    "open_file = stats_dir +\"stats_open.fits\"\n",
    "closed_file1 = stats_dir+ \"stats_closed.fits\"\n",
    "plot_stats.plot_fwhmvt_nomatch(open_file, closed_file1, 'emp_fwhm', \"2018-03-02: FWHM and Seeing over time\", plots_dir)"
   ]
  },
  {
   "cell_type": "code",
   "execution_count": null,
   "metadata": {},
   "outputs": [],
   "source": [
    "open_file = stats_dir +\"stats_open_mdp.fits\"\n",
    "closed_file2 = stats_dir+ \"stats_closed_3WFS_L_mdp.fits\"\n",
    "plot_stats.plot_fwhmvt_nomatch(open_file, closed_file1, 'emp_fwhm', \"2018-05-26: FWHM and Seeing over time with 3WFS_L\", plots_dir)"
   ]
  },
  {
   "cell_type": "code",
   "execution_count": null,
   "metadata": {},
   "outputs": [],
   "source": [
    "open_file = stats_dir +\"stats_open_mdp.fits\"\n",
    "closed_file3 = stats_dir+ \"stats_closed_4WFS_mdp.fits\"\n",
    "plot_stats.plot_fwhmvt_nomatch(open_file, closed_file1, 'emp_fwhm', \"2018-05-26: FWHM and Seeing over time with 4WFS\", plots_dir)"
   ]
  },
  {
   "cell_type": "markdown",
   "metadata": {},
   "source": [
    "# PSF Comparisons\n"
   ]
  },
  {
   "cell_type": "code",
   "execution_count": null,
   "metadata": {},
   "outputs": [],
   "source": [
    "files = [open_file, closed_file1, closed_file2, closed_file3]\n",
    "labels = ['Open', '3WFS_S', '3WFS_L', '4WFS']\n",
    "colors = ['k', 'g', 'b', 'purple']\n",
    "plot_stats.comp_cdf(files, labels, colors);"
   ]
  },
  {
   "cell_type": "markdown",
   "metadata": {},
   "source": [
    "# PSF Variability over Field of View\n",
    "\n",
    "Right panel shows the FWHM of sources as a function of position on image.  Sources on right have outliers removed by sigma clipping, with both the original and clipped data sets shown on the left panel."
   ]
  },
  {
   "cell_type": "code",
   "execution_count": null,
   "metadata": {},
   "outputs": [],
   "source": [
    "img_file = stack_dir + \"FLD2_stack_closed_3S_30.fits\"\n",
    "starlist = stack_dir + \"FLD2_stack_closed_3S_30_stars.txt\"\n",
    "plot_stats.plot_var(img_file, starlist, \"3S WFS - 30 Sec\")"
   ]
  },
  {
   "cell_type": "code",
   "execution_count": null,
   "metadata": {},
   "outputs": [],
   "source": [
    "img_file = stack_dir + \"FLD2_stack_closed_3L_30.fits\"\n",
    "starlist = stack_dir + \"FLD2_stack_closed_3L_30_stars.txt\"\n",
    "plot_stats.plot_var(img_file, starlist, \"3L WFS - 30 Sec\")"
   ]
  },
  {
   "cell_type": "code",
   "execution_count": null,
   "metadata": {},
   "outputs": [],
   "source": [
    "img_file = stack_dir + \"FLD2_stack_closed_4_30.fits\"\n",
    "starlist = stack_dir + \"FLD2_stack_closed_4_30_stars.txt\"\n",
    "plot_stats.plot_var(img_file, starlist, \"4 WFS - 30 Sec\")"
   ]
  },
  {
   "cell_type": "code",
   "execution_count": null,
   "metadata": {},
   "outputs": [],
   "source": [
    "img_file = stack_dir + \"FLD2_stack_closed_3S_60.fits\"\n",
    "starlist = stack_dir + \"FLD2_stack_closed_3S_60_stars.txt\"\n",
    "plot_stats.plot_var(img_file, starlist, \"3S WFS - 60 Sec\")"
   ]
  },
  {
   "cell_type": "code",
   "execution_count": null,
   "metadata": {},
   "outputs": [],
   "source": [
    "img_file = stack_dir + \"FLD2_stack_closed_3L_60.fits\"\n",
    "starlist = stack_dir + \"FLD2_stack_closed_3L_60_stars.txt\"\n",
    "plot_stats.plot_var(img_file, starlist, \"3L WFS - 60 Sec\")"
   ]
  },
  {
   "cell_type": "code",
   "execution_count": null,
   "metadata": {},
   "outputs": [],
   "source": [
    "img_file = stack_dir + \"FLD2_stack_closed_4_60.fits\"\n",
    "starlist = stack_dir + \"FLD2_stack_closed_4_60_stars.txt\"\n",
    "plot_stats.plot_var(img_file, starlist, \"4 WFS - 60 Sec\")"
   ]
  },
  {
   "cell_type": "code",
   "execution_count": null,
   "metadata": {},
   "outputs": [],
   "source": []
  }
 ],
 "metadata": {
  "kernelspec": {
   "display_name": "Python 3",
   "language": "python",
   "name": "python3"
  },
  "language_info": {
   "codemirror_mode": {
    "name": "ipython",
    "version": 3
   },
   "file_extension": ".py",
   "mimetype": "text/x-python",
   "name": "python",
   "nbconvert_exporter": "python",
   "pygments_lexer": "ipython3",
   "version": "3.7.3"
  }
 },
 "nbformat": 4,
 "nbformat_minor": 4
}
