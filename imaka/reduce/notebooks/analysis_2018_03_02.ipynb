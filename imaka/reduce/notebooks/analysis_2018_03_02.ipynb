{
 "cells": [
  {
   "cell_type": "markdown",
   "metadata": {},
   "source": [
    "# RUN5: 2018-03-03 UT Preliminary Analysis"
   ]
  },
  {
   "cell_type": "code",
   "execution_count": 5,
   "metadata": {
    "scrolled": true
   },
   "outputs": [
    {
     "name": "stdout",
     "output_type": "stream",
     "text": [
      "The autoreload extension is already loaded. To reload it, use:\n",
      "  %reload_ext autoreload\n",
      "Root directory: /g/lu/data/imaka/onaga/20180302/FLI/\n"
     ]
    }
   ],
   "source": [
    "%load_ext autoreload\n",
    "%autoreload 2\n",
    "%matplotlib inline\n",
    "\n",
    "import matplotlib.pyplot as plt\n",
    "from imaka.analysis import plot_stats\n",
    "from astropy.table import Table\n",
    "import numpy as np\n",
    "from importlib import reload\n",
    "from imaka.reduce.nights import reduce_2018_03_02 as redu\n",
    "\n",
    "reload(redu)\n",
    "reload(plot_stats)\n",
    "camera = 'FLI' #camera variable to account for discrepancies in folder naming conventions\n",
    "\n",
    "root_dir = \"/g/lu/data/imaka/onaga/20180302/{}/\".format(camera)#confirms that the root directory specified is correct\n",
    "print(\"Root directory:\",root_dir)\n",
    "stats_dir = root_dir + \"reduce/stats/\"\n",
    "plots_dir = root_dir + \"reduce/plots/\"\n",
    "stack_dir = root_dir + \"reduce/stacks/\""
   ]
  },
  {
   "cell_type": "markdown",
   "metadata": {},
   "source": [
    "# Data Reduction\n",
    "\n",
    "Fully reduce the data from 220180302 UT. Don't re-run this unless you really need to as it takes awhile. After you re-run the data reduction, please remember to load it back up to onaga.\n"
   ]
  },
  {
   "cell_type": "code",
   "execution_count": 6,
   "metadata": {},
   "outputs": [
    {
     "name": "stdout",
     "output_type": "stream",
     "text": [
      "Working on image:  /g/lu/data/imaka/onaga/20180302/FLI/reduce/Beehive-W/obj0170_o_clean.fits\n"
     ]
    },
    {
     "ename": "TypeError",
     "evalue": "unsupported operand type(s) for /: 'float' and 'CircularAnnulus'",
     "output_type": "error",
     "traceback": [
      "\u001b[0;31m---------------------------------------------------------------------------\u001b[0m",
      "\u001b[0;31mTypeError\u001b[0m                                 Traceback (most recent call last)",
      "\u001b[0;32m<ipython-input-6-6c86791800c2>\u001b[0m in \u001b[0;36m<module>\u001b[0;34m\u001b[0m\n\u001b[1;32m      9\u001b[0m \u001b[0;34m\"\"\"\"Find stars in clean images and calculate stats\"\"\"\u001b[0m\u001b[0;34m\u001b[0m\u001b[0;34m\u001b[0m\u001b[0m\n\u001b[1;32m     10\u001b[0m \u001b[0;31m#redu.find_stars_FLD2()\u001b[0m\u001b[0;34m\u001b[0m\u001b[0;34m\u001b[0m\u001b[0;34m\u001b[0m\u001b[0m\n\u001b[0;32m---> 11\u001b[0;31m \u001b[0mredu\u001b[0m\u001b[0;34m.\u001b[0m\u001b[0mcalc_star_stats\u001b[0m\u001b[0;34m(\u001b[0m\u001b[0;34m)\u001b[0m\u001b[0;34m\u001b[0m\u001b[0;34m\u001b[0m\u001b[0m\n\u001b[0m\u001b[1;32m     12\u001b[0m \u001b[0;34m\u001b[0m\u001b[0m\n\u001b[1;32m     13\u001b[0m \u001b[0;34m\"\"\"\"Make a stack of images for each mode and analyze stacks\"\"\"\u001b[0m\u001b[0;34m\u001b[0m\u001b[0;34m\u001b[0m\u001b[0m\n",
      "\u001b[0;32m~/code/python/imaka/imaka/reduce/nights/reduce_2018_03_02.py\u001b[0m in \u001b[0;36mcalc_star_stats\u001b[0;34m()\u001b[0m\n\u001b[1;32m     90\u001b[0m     \u001b[0;31m# Open Loop\u001b[0m\u001b[0;34m\u001b[0m\u001b[0;34m\u001b[0m\u001b[0;34m\u001b[0m\u001b[0m\n\u001b[1;32m     91\u001b[0m     \u001b[0mimg_files\u001b[0m \u001b[0;34m=\u001b[0m \u001b[0;34m[\u001b[0m\u001b[0mout_dir\u001b[0m \u001b[0;34m+\u001b[0m \u001b[0;34m'obj{0:04d}_o_clean.fits'\u001b[0m\u001b[0;34m.\u001b[0m\u001b[0mformat\u001b[0m\u001b[0;34m(\u001b[0m\u001b[0mii\u001b[0m\u001b[0;34m)\u001b[0m \u001b[0;32mfor\u001b[0m \u001b[0mii\u001b[0m \u001b[0;32min\u001b[0m \u001b[0mfnum_o\u001b[0m\u001b[0;34m]\u001b[0m\u001b[0;34m\u001b[0m\u001b[0;34m\u001b[0m\u001b[0m\n\u001b[0;32m---> 92\u001b[0;31m     \u001b[0mreduce_fli\u001b[0m\u001b[0;34m.\u001b[0m\u001b[0mcalc_star_stats\u001b[0m\u001b[0;34m(\u001b[0m\u001b[0mimg_files\u001b[0m\u001b[0;34m,\u001b[0m \u001b[0moutput_stats\u001b[0m\u001b[0;34m=\u001b[0m\u001b[0mstats_dir\u001b[0m \u001b[0;34m+\u001b[0m \u001b[0;34m'stats_open.fits'\u001b[0m\u001b[0;34m)\u001b[0m\u001b[0;34m\u001b[0m\u001b[0;34m\u001b[0m\u001b[0m\n\u001b[0m\u001b[1;32m     93\u001b[0m \u001b[0;34m\u001b[0m\u001b[0m\n\u001b[1;32m     94\u001b[0m     \u001b[0;31m# Closed Loop\u001b[0m\u001b[0;34m\u001b[0m\u001b[0;34m\u001b[0m\u001b[0;34m\u001b[0m\u001b[0m\n",
      "\u001b[0;32m~/code/python/imaka/imaka/reduce/reduce_fli.py\u001b[0m in \u001b[0;36mcalc_star_stats\u001b[0;34m(img_files, output_stats)\u001b[0m\n\u001b[1;32m    555\u001b[0m         \u001b[0mbkg_annuli\u001b[0m \u001b[0;34m=\u001b[0m \u001b[0mCircularAnnulus\u001b[0m\u001b[0;34m(\u001b[0m\u001b[0mcoords\u001b[0m\u001b[0;34m,\u001b[0m \u001b[0mmax_radius\u001b[0m \u001b[0;34m/\u001b[0m \u001b[0mplate_scale\u001b[0m\u001b[0;34m,\u001b[0m \u001b[0;34m(\u001b[0m\u001b[0mmax_radius\u001b[0m \u001b[0;34m+\u001b[0m \u001b[0;36m1\u001b[0m\u001b[0;34m)\u001b[0m \u001b[0;34m/\u001b[0m \u001b[0mplate_scale\u001b[0m\u001b[0;34m)\u001b[0m\u001b[0;34m\u001b[0m\u001b[0;34m\u001b[0m\u001b[0m\n\u001b[1;32m    556\u001b[0m         \u001b[0mbkg\u001b[0m \u001b[0;34m=\u001b[0m \u001b[0maperture_photometry\u001b[0m\u001b[0;34m(\u001b[0m\u001b[0mimg\u001b[0m\u001b[0;34m,\u001b[0m \u001b[0mbkg_annuli\u001b[0m\u001b[0;34m)\u001b[0m\u001b[0;34m\u001b[0m\u001b[0;34m\u001b[0m\u001b[0m\n\u001b[0;32m--> 557\u001b[0;31m         \u001b[0mbkg_mean\u001b[0m \u001b[0;34m=\u001b[0m \u001b[0mbkg\u001b[0m\u001b[0;34m[\u001b[0m\u001b[0;34m'aperture_sum'\u001b[0m\u001b[0;34m]\u001b[0m \u001b[0;34m/\u001b[0m \u001b[0mbkg_annuli\u001b[0m\u001b[0;34m\u001b[0m\u001b[0;34m\u001b[0m\u001b[0m\n\u001b[0m\u001b[1;32m    558\u001b[0m \u001b[0;34m\u001b[0m\u001b[0m\n\u001b[1;32m    559\u001b[0m         \u001b[0menc_energy\u001b[0m \u001b[0;34m=\u001b[0m \u001b[0mnp\u001b[0m\u001b[0;34m.\u001b[0m\u001b[0mzeros\u001b[0m\u001b[0;34m(\u001b[0m\u001b[0;34m(\u001b[0m\u001b[0mN_stars\u001b[0m\u001b[0;34m,\u001b[0m \u001b[0mlen\u001b[0m\u001b[0;34m(\u001b[0m\u001b[0mradii\u001b[0m\u001b[0;34m)\u001b[0m\u001b[0;34m)\u001b[0m\u001b[0;34m,\u001b[0m \u001b[0mdtype\u001b[0m\u001b[0;34m=\u001b[0m\u001b[0mfloat\u001b[0m\u001b[0;34m)\u001b[0m\u001b[0;34m\u001b[0m\u001b[0;34m\u001b[0m\u001b[0m\n",
      "\u001b[0;31mTypeError\u001b[0m: unsupported operand type(s) for /: 'float' and 'CircularAnnulus'"
     ]
    }
   ],
   "source": [
    "\"\"\"Set the appropriate root directory for your machine\"\"\"\n",
    "redu.root_dir = root_dir\n",
    "\n",
    "\"\"\"\"Make sky and flat images and use them to reduce science images\"\"\"\n",
    "#redu.make_sky()\n",
    "#redu.make_flat()  # Manually copy over flat from 20180302/\n",
    "#redu.reduce_FLD2() #clean images via reduce_fli.clean_images()\n",
    "\n",
    "\"\"\"\"Find stars in clean images and calculate stats\"\"\"\n",
    "#redu.find_stars_FLD2()\n",
    "redu.calc_star_stats()\n",
    "\n",
    "\"\"\"\"Make a stack of images for each mode and analyze stacks\"\"\"\n",
    "#redu.stack_FLD2()\n",
    "#redu.analyze_stacks()"
   ]
  },
  {
   "cell_type": "code",
   "execution_count": null,
   "metadata": {},
   "outputs": [
    {
     "name": "stdout",
     "output_type": "stream",
     "text": [
      "> /u/caylananderson/code/python/flystar/flystar/align.py(2449)find_transform()\n",
      "-> t = transModel.derive_transform(x1, y1, x2, y2, order, m=m1, mref=m2, weights=weight)\n",
      "(Pdb) type(m1)\n",
      "<class 'astropy.table.column.Column'>\n"
     ]
    }
   ],
   "source": [
    "import pdb; pdb.pm()"
   ]
  },
  {
   "cell_type": "markdown",
   "metadata": {},
   "source": [
    "# Generate Plots"
   ]
  },
  {
   "cell_type": "markdown",
   "metadata": {},
   "source": [
    "# FWHM and Seeing\n"
   ]
  },
  {
   "cell_type": "code",
   "execution_count": 3,
   "metadata": {
    "scrolled": true
   },
   "outputs": [],
   "source": [
    "# open_file = stats_dir +\"stats_open.fits\"\n",
    "# closed_file1 = stats_dir+ \"stats_closed.fits\"\n",
    "# plot_stats.plot_fwhmvt_nomatch(open_file, closed_file1, 'emp_fwhm', \"2018-03-02: FWHM and Seeing over time\", plots_dir)"
   ]
  },
  {
   "cell_type": "markdown",
   "metadata": {},
   "source": [
    "# PSF Comparisons\n"
   ]
  },
  {
   "cell_type": "code",
   "execution_count": null,
   "metadata": {},
   "outputs": [],
   "source": [
    "files = [open_file, closed_file1, closed_file2, closed_file3]\n",
    "labels = ['Open', '3WFS_S', '3WFS_L', '4WFS']\n",
    "colors = ['k', 'g', 'b', 'purple']\n",
    "plot_stats.comp_cdf(files, labels, colors);"
   ]
  },
  {
   "cell_type": "markdown",
   "metadata": {},
   "source": [
    "# PSF Variability over Field of View\n",
    "\n",
    "Right panel shows the FWHM of sources as a function of position on image.  Sources on right have outliers removed by sigma clipping, with both the original and clipped data sets shown on the left panel."
   ]
  },
  {
   "cell_type": "code",
   "execution_count": null,
   "metadata": {},
   "outputs": [],
   "source": [
    "img_file = stack_dir + \"FLD2_stack_closed_3S_30.fits\"\n",
    "starlist = stack_dir + \"FLD2_stack_closed_3S_30_stars.txt\"\n",
    "plot_stats.plot_var(img_file, starlist, \"3S WFS - 30 Sec\")"
   ]
  },
  {
   "cell_type": "code",
   "execution_count": null,
   "metadata": {},
   "outputs": [],
   "source": [
    "img_file = stack_dir + \"FLD2_stack_closed_3L_30.fits\"\n",
    "starlist = stack_dir + \"FLD2_stack_closed_3L_30_stars.txt\"\n",
    "plot_stats.plot_var(img_file, starlist, \"3L WFS - 30 Sec\")"
   ]
  },
  {
   "cell_type": "code",
   "execution_count": null,
   "metadata": {},
   "outputs": [],
   "source": [
    "img_file = stack_dir + \"FLD2_stack_closed_4_30.fits\"\n",
    "starlist = stack_dir + \"FLD2_stack_closed_4_30_stars.txt\"\n",
    "plot_stats.plot_var(img_file, starlist, \"4 WFS - 30 Sec\")"
   ]
  },
  {
   "cell_type": "code",
   "execution_count": null,
   "metadata": {},
   "outputs": [],
   "source": [
    "img_file = stack_dir + \"FLD2_stack_closed_3S_60.fits\"\n",
    "starlist = stack_dir + \"FLD2_stack_closed_3S_60_stars.txt\"\n",
    "plot_stats.plot_var(img_file, starlist, \"3S WFS - 60 Sec\")"
   ]
  },
  {
   "cell_type": "code",
   "execution_count": null,
   "metadata": {},
   "outputs": [],
   "source": [
    "img_file = stack_dir + \"FLD2_stack_closed_3L_60.fits\"\n",
    "starlist = stack_dir + \"FLD2_stack_closed_3L_60_stars.txt\"\n",
    "plot_stats.plot_var(img_file, starlist, \"3L WFS - 60 Sec\")"
   ]
  },
  {
   "cell_type": "code",
   "execution_count": null,
   "metadata": {},
   "outputs": [],
   "source": [
    "img_file = stack_dir + \"FLD2_stack_closed_4_60.fits\"\n",
    "starlist = stack_dir + \"FLD2_stack_closed_4_60_stars.txt\"\n",
    "plot_stats.plot_var(img_file, starlist, \"4 WFS - 60 Sec\")"
   ]
  },
  {
   "cell_type": "code",
   "execution_count": null,
   "metadata": {},
   "outputs": [],
   "source": []
  }
 ],
 "metadata": {
  "kernelspec": {
   "display_name": "Python 3",
   "language": "python",
   "name": "python3"
  },
  "language_info": {
   "codemirror_mode": {
    "name": "ipython",
    "version": 3
   },
   "file_extension": ".py",
   "mimetype": "text/x-python",
   "name": "python",
   "nbconvert_exporter": "python",
   "pygments_lexer": "ipython3",
   "version": "3.7.3"
  }
 },
 "nbformat": 4,
 "nbformat_minor": 4
}
