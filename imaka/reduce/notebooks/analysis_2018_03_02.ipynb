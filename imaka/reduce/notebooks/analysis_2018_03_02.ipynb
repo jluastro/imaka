{
 "cells": [
  {
   "cell_type": "markdown",
   "metadata": {},
   "source": [
    "# RUN5: 2018-03-03 UT Preliminary Analysis"
   ]
  },
  {
   "cell_type": "code",
   "execution_count": 5,
   "metadata": {
    "scrolled": true
   },
   "outputs": [
    {
     "name": "stdout",
     "output_type": "stream",
     "text": [
      "The autoreload extension is already loaded. To reload it, use:\n",
      "  %reload_ext autoreload\n",
      "Root directory: /g/lu/data/imaka/onaga/20180302/FLI/\n"
     ]
    }
   ],
   "source": [
    "%load_ext autoreload\n",
    "%autoreload 2\n",
    "%matplotlib inline\n",
    "\n",
    "import matplotlib.pyplot as plt\n",
    "from imaka.analysis import plot_stats\n",
    "from astropy.table import Table\n",
    "import numpy as np\n",
    "from importlib import reload\n",
    "from imaka.reduce.nights import reduce_2018_03_02 as redu\n",
    "\n",
    "reload(redu)\n",
    "reload(plot_stats)\n",
    "camera = 'FLI' #camera variable to account for discrepancies in folder naming conventions\n",
    "\n",
    "root_dir = \"/g/lu/data/imaka/onaga/20180302/{}/\".format(camera)#confirms that the root directory specified is correct\n",
    "print(\"Root directory:\",root_dir)\n",
    "stats_dir = root_dir + \"reduce/stats/\"\n",
    "plots_dir = root_dir + \"reduce/plots/\"\n",
    "stack_dir = root_dir + \"reduce/stacks/\""
   ]
  },
  {
   "cell_type": "markdown",
   "metadata": {},
   "source": [
    "# Data Reduction\n",
    "\n",
    "Fully reduce the data from 220180302 UT. Don't re-run this unless you really need to as it takes awhile. After you re-run the data reduction, please remember to load it back up to onaga.\n"
   ]
  },
  {
   "cell_type": "code",
   "execution_count": null,
   "metadata": {
    "scrolled": false
   },
   "outputs": [
    {
     "name": "stdout",
     "output_type": "stream",
     "text": [
      "> /u/caylananderson/code/python/imaka/imaka/reduce/reduce_fli.py(837)get_transforms_from_starlists()\n",
      "-> t = align.initial_align(stars, stars_ref, briteN=N_brite, transformModel=transforms.Shift, req_match=3)\n",
      "(Pdb) stars_ref\n",
      "<Table length=14>\n",
      "  id     x        y     sharpness roundness1 ...    m     x_fwhm  y_fwhm  theta \n",
      "int64 float64  float64   float64   float64   ... float64 float64 float64 float64\n",
      "----- -------- -------- --------- ---------- ... ------- ------- ------- -------\n",
      "   10 3210.152  468.695      0.26      -0.08 ...   -1.41     7.0     0.0   -41.0\n",
      "   14 2214.862  718.947      0.21        0.1 ...   -1.01     1.0     0.0   -41.0\n",
      "   15 1927.872  743.501      0.45       -0.0 ...   -1.14     0.0     1.0    40.0\n",
      "   16 3851.447  783.207      0.33       0.07 ...   -7.56    28.0    24.0     6.0\n",
      "   17   794.92  797.567      0.62       0.03 ...   -0.87     0.0     0.0    41.0\n",
      "   21  234.751 1082.458      0.55      -0.17 ...   -0.87     0.0     5.0    37.0\n",
      "   23 1097.761 1357.968      0.29       0.15 ...   -3.14    29.0    26.0    41.0\n",
      "   30  884.582 1764.409      0.77      -0.07 ...   -1.03     0.0     2.0    35.0\n",
      "   32 3392.462 1953.391      0.37      -0.12 ...   -1.02    47.0    47.0    39.0\n",
      "   34 2129.225 2101.138      0.36      -0.05 ...   -0.89    47.0    47.0    45.0\n",
      "   38 1981.731 2269.398      0.32       0.12 ...   -5.68    28.0    26.0    40.0\n",
      "   44 2983.872  2729.29       0.4      -0.13 ...   -1.15     0.0     0.0    41.0\n",
      "   47 3431.237 2830.929      0.41      -0.32 ...   -0.81     4.0     0.0   -41.0\n",
      "   48 1368.576 2851.564      0.28       0.11 ...   -3.84    29.0    27.0    40.0\n",
      "(Pdb) stars\n",
      "<Table length=14>\n",
      "  id     x        y     sharpness roundness1 ...    m     x_fwhm  y_fwhm  theta \n",
      "int64 float64  float64   float64   float64   ... float64 float64 float64 float64\n",
      "----- -------- -------- --------- ---------- ... ------- ------- ------- -------\n",
      "   10 3210.152  468.695      0.26      -0.08 ...   -1.41     7.0     0.0   -41.0\n",
      "   14 2214.862  718.947      0.21        0.1 ...   -1.01     1.0     0.0   -41.0\n",
      "   15 1927.872  743.501      0.45       -0.0 ...   -1.14     0.0     1.0    40.0\n",
      "   16 3851.447  783.207      0.33       0.07 ...   -7.56    28.0    24.0     6.0\n",
      "   17   794.92  797.567      0.62       0.03 ...   -0.87     0.0     0.0    41.0\n",
      "   21  234.751 1082.458      0.55      -0.17 ...   -0.87     0.0     5.0    37.0\n",
      "   23 1097.761 1357.968      0.29       0.15 ...   -3.14    29.0    26.0    41.0\n",
      "   30  884.582 1764.409      0.77      -0.07 ...   -1.03     0.0     2.0    35.0\n",
      "   32 3392.462 1953.391      0.37      -0.12 ...   -1.02    47.0    47.0    39.0\n",
      "   34 2129.225 2101.138      0.36      -0.05 ...   -0.89    47.0    47.0    45.0\n",
      "   38 1981.731 2269.398      0.32       0.12 ...   -5.68    28.0    26.0    40.0\n",
      "   44 2983.872  2729.29       0.4      -0.13 ...   -1.15     0.0     0.0    41.0\n",
      "   47 3431.237 2830.929      0.41      -0.32 ...   -0.81     4.0     0.0   -41.0\n",
      "   48 1368.576 2851.564      0.28       0.11 ...   -3.84    29.0    27.0    40.0\n",
      "(Pdb) c\n",
      "Attempting match with 14 and 14 stars from starlist1 and starlist2\n",
      "Begin initial match\n",
      "7 stars matched between starlist1 and starlist2\n",
      "End initial match \n",
      "\n",
      "    Found 0 duplicates out of 14 matches\n",
      "14 of 14 stars matched\n",
      "14 stars used in transform\n",
      "\n",
      "    Found 0 duplicates out of 14 matches\n",
      "14 of 14 stars matched\n",
      "> /u/caylananderson/code/python/imaka/imaka/reduce/reduce_fli.py(836)get_transforms_from_starlists()\n",
      "-> pdb.set_trace()\n",
      "(Pdb) stars_ref\n",
      "<Table length=14>\n",
      "  id     x        y     sharpness roundness1 ...    m     x_fwhm  y_fwhm  theta \n",
      "int64 float64  float64   float64   float64   ... float64 float64 float64 float64\n",
      "----- -------- -------- --------- ---------- ... ------- ------- ------- -------\n",
      "   10 3210.152  468.695      0.26      -0.08 ...   -1.41     7.0     0.0   -41.0\n",
      "   14 2214.862  718.947      0.21        0.1 ...   -1.01     1.0     0.0   -41.0\n",
      "   15 1927.872  743.501      0.45       -0.0 ...   -1.14     0.0     1.0    40.0\n",
      "   16 3851.447  783.207      0.33       0.07 ...   -7.56    28.0    24.0     6.0\n",
      "   17   794.92  797.567      0.62       0.03 ...   -0.87     0.0     0.0    41.0\n",
      "   21  234.751 1082.458      0.55      -0.17 ...   -0.87     0.0     5.0    37.0\n",
      "   23 1097.761 1357.968      0.29       0.15 ...   -3.14    29.0    26.0    41.0\n",
      "   30  884.582 1764.409      0.77      -0.07 ...   -1.03     0.0     2.0    35.0\n",
      "   32 3392.462 1953.391      0.37      -0.12 ...   -1.02    47.0    47.0    39.0\n",
      "   34 2129.225 2101.138      0.36      -0.05 ...   -0.89    47.0    47.0    45.0\n",
      "   38 1981.731 2269.398      0.32       0.12 ...   -5.68    28.0    26.0    40.0\n",
      "   44 2983.872  2729.29       0.4      -0.13 ...   -1.15     0.0     0.0    41.0\n",
      "   47 3431.237 2830.929      0.41      -0.32 ...   -0.81     4.0     0.0   -41.0\n",
      "   48 1368.576 2851.564      0.28       0.11 ...   -3.84    29.0    27.0    40.0\n",
      "(Pdb) stars\n",
      "<Table length=13>\n",
      "  id     x        y     sharpness roundness1 ...    m     x_fwhm  y_fwhm  theta \n",
      "int64 float64  float64   float64   float64   ... float64 float64 float64 float64\n",
      "----- -------- -------- --------- ---------- ... ------- ------- ------- -------\n",
      "    2 1675.452  214.437      0.83      -0.03 ...   -0.81     0.0     5.0   -39.0\n",
      "    8 2187.508  664.255      0.79      -0.12 ...   -0.78    47.0    47.0   -36.0\n",
      "   10 1927.431  742.781      0.42       0.07 ...   -1.16     0.0     1.0   -41.0\n",
      "   12 3836.799  773.315      0.28      -0.05 ...   -6.79    29.0    23.0   -18.0\n",
      "   18 1082.648 1347.431      0.41       0.03 ...   -2.31    30.0    25.0    12.0\n",
      "   22  884.677 1764.444      0.45       0.08 ...   -0.94     0.0     6.0    40.0\n",
      "   23 3608.228 1786.457      0.65      -0.07 ...   -1.16     6.0     0.0     0.0\n",
      "   25 3391.811 1954.181      0.48      -0.27 ...    -0.9    47.0    47.0    51.0\n",
      "   32 1966.947 2258.852      0.25       0.03 ...   -4.87    26.0    29.0   -23.0\n",
      "   33 1250.182 2453.056      0.27      -0.01 ...   -1.99     0.0     3.0     8.0\n",
      "   36 1353.865 2841.368      0.33       0.01 ...   -3.07    26.0    29.0     7.0\n",
      "   37 1546.117 2924.231      0.24      -0.06 ...   -0.82     0.0     0.0    40.0\n",
      "   38 1685.817 2992.852      0.45       0.04 ...   -0.96     0.0     0.0     0.0\n",
      "(Pdb) s\n",
      "> /u/caylananderson/code/python/imaka/imaka/reduce/reduce_fli.py(837)get_transforms_from_starlists()\n",
      "-> t = align.initial_align(stars, stars_ref, briteN=N_brite, transformModel=transforms.Shift, req_match=3)\n",
      "(Pdb) s\n",
      "--Call--\n",
      "> /u/caylananderson/code/python/flystar/flystar/align.py(2224)initial_align()\n",
      "-> def initial_align(table1, table2, briteN=100,\n",
      "(Pdb) n\n",
      "> /u/caylananderson/code/python/flystar/flystar/align.py(2285)initial_align()\n",
      "-> x1 = table1['x']\n",
      "(Pdb) n\n",
      "> /u/caylananderson/code/python/flystar/flystar/align.py(2286)initial_align()\n",
      "-> y1 = table1['y']\n",
      "(Pdb) n\n",
      "> /u/caylananderson/code/python/flystar/flystar/align.py(2287)initial_align()\n",
      "-> m1 = table1['m']\n",
      "(Pdb) n\n",
      "> /u/caylananderson/code/python/flystar/flystar/align.py(2288)initial_align()\n",
      "-> x2 = table2['x']\n",
      "(Pdb) n\n",
      "> /u/caylananderson/code/python/flystar/flystar/align.py(2289)initial_align()\n",
      "-> y2 = table2['y']\n",
      "(Pdb) n\n",
      "> /u/caylananderson/code/python/flystar/flystar/align.py(2290)initial_align()\n",
      "-> m2 = table2['m']\n",
      "(Pdb) n\n",
      "> /u/caylananderson/code/python/flystar/flystar/align.py(2293)initial_align()\n",
      "-> print(( 'Attempting match with {0} and {1} stars from starlist1 and starlist2'.format(len(table1), len(table2))))\n",
      "(Pdb) n\n",
      "Attempting match with 13 and 14 stars from starlist1 and starlist2\n",
      "> /u/caylananderson/code/python/flystar/flystar/align.py(2294)initial_align()\n",
      "-> print( 'Begin initial match')\n",
      "(Pdb) n\n",
      "Begin initial match\n",
      "> /u/caylananderson/code/python/flystar/flystar/align.py(2296)initial_align()\n",
      "-> N, x1m, y1m, m1m, x2m, y2m, m2m = match.miracle_match_briteN(x1, y1, m1, x2, y2, m2, briteN)\n",
      "(Pdb) n\n",
      "> /u/caylananderson/code/python/flystar/flystar/align.py(2298)initial_align()\n",
      "-> print(( '{0} stars matched between starlist1 and starlist2'.format(N)))\n",
      "(Pdb) print(x1, x2)\n",
      "   x    \n",
      "--------\n",
      "1675.452\n",
      "2187.508\n",
      "1927.431\n",
      "3836.799\n",
      "1082.648\n",
      " 884.677\n",
      "3608.228\n",
      "3391.811\n",
      "1966.947\n",
      "1250.182\n",
      "1353.865\n",
      "1546.117\n",
      "1685.817    x    \n",
      "--------\n",
      "3210.152\n",
      "2214.862\n",
      "1927.872\n",
      "3851.447\n",
      "  794.92\n",
      " 234.751\n",
      "1097.761\n",
      " 884.582\n",
      "3392.462\n",
      "2129.225\n",
      "1981.731\n",
      "2983.872\n",
      "3431.237\n",
      "1368.576\n"
     ]
    },
    {
     "name": "stdout",
     "output_type": "stream",
     "text": [
      "(Pdb) print(x1[0],x2[0],y1[0],y2[0],m1[0],m2[0])\n",
      "1675.452 3210.152 214.437 468.695 -0.81 -1.41\n",
      "(Pdb) print(table1)\n",
      " id    x        y     sharpness roundness1 ...   m   x_fwhm y_fwhm theta\n",
      "--- -------- -------- --------- ---------- ... ----- ------ ------ -----\n",
      "  2 1675.452  214.437      0.83      -0.03 ... -0.81    0.0    5.0 -39.0\n",
      "  8 2187.508  664.255      0.79      -0.12 ... -0.78   47.0   47.0 -36.0\n",
      " 10 1927.431  742.781      0.42       0.07 ... -1.16    0.0    1.0 -41.0\n",
      " 12 3836.799  773.315      0.28      -0.05 ... -6.79   29.0   23.0 -18.0\n",
      " 18 1082.648 1347.431      0.41       0.03 ... -2.31   30.0   25.0  12.0\n",
      " 22  884.677 1764.444      0.45       0.08 ... -0.94    0.0    6.0  40.0\n",
      " 23 3608.228 1786.457      0.65      -0.07 ... -1.16    6.0    0.0   0.0\n",
      " 25 3391.811 1954.181      0.48      -0.27 ...  -0.9   47.0   47.0  51.0\n",
      " 32 1966.947 2258.852      0.25       0.03 ... -4.87   26.0   29.0 -23.0\n",
      " 33 1250.182 2453.056      0.27      -0.01 ... -1.99    0.0    3.0   8.0\n",
      " 36 1353.865 2841.368      0.33       0.01 ... -3.07   26.0   29.0   7.0\n",
      " 37 1546.117 2924.231      0.24      -0.06 ... -0.82    0.0    0.0  40.0\n",
      " 38 1685.817 2992.852      0.45       0.04 ... -0.96    0.0    0.0   0.0\n",
      "(Pdb) print(table2)\n",
      " id    x        y     sharpness roundness1 ...   m   x_fwhm y_fwhm theta\n",
      "--- -------- -------- --------- ---------- ... ----- ------ ------ -----\n",
      " 10 3210.152  468.695      0.26      -0.08 ... -1.41    7.0    0.0 -41.0\n",
      " 14 2214.862  718.947      0.21        0.1 ... -1.01    1.0    0.0 -41.0\n",
      " 15 1927.872  743.501      0.45       -0.0 ... -1.14    0.0    1.0  40.0\n",
      " 16 3851.447  783.207      0.33       0.07 ... -7.56   28.0   24.0   6.0\n",
      " 17   794.92  797.567      0.62       0.03 ... -0.87    0.0    0.0  41.0\n",
      " 21  234.751 1082.458      0.55      -0.17 ... -0.87    0.0    5.0  37.0\n",
      " 23 1097.761 1357.968      0.29       0.15 ... -3.14   29.0   26.0  41.0\n",
      " 30  884.582 1764.409      0.77      -0.07 ... -1.03    0.0    2.0  35.0\n",
      " 32 3392.462 1953.391      0.37      -0.12 ... -1.02   47.0   47.0  39.0\n",
      " 34 2129.225 2101.138      0.36      -0.05 ... -0.89   47.0   47.0  45.0\n",
      " 38 1981.731 2269.398      0.32       0.12 ... -5.68   28.0   26.0  40.0\n",
      " 44 2983.872  2729.29       0.4      -0.13 ... -1.15    0.0    0.0  41.0\n",
      " 47 3431.237 2830.929      0.41      -0.32 ... -0.81    4.0    0.0 -41.0\n",
      " 48 1368.576 2851.564      0.28       0.11 ... -3.84   29.0   27.0  40.0\n",
      "(Pdb) print(x1m,x2m)\n",
      "   x    \n",
      "--------\n",
      "3836.799\n",
      "1966.947\n",
      "1353.865\n",
      "1082.648\n",
      "1927.431    x    \n",
      "--------\n",
      "3851.447\n",
      "1981.731\n",
      "1368.576\n",
      "1097.761\n",
      "1927.872\n",
      "(Pdb) print(briteN)\n",
      "7\n"
     ]
    }
   ],
   "source": [
    "\"\"\"Set the appropriate root directory for your machine\"\"\"\n",
    "redu.root_dir = root_dir\n",
    "\n",
    "\"\"\"\"Make sky and flat images and use them to reduce science images\"\"\"\n",
    "#redu.make_sky()\n",
    "#redu.make_flat()  # Manually copy over flat from 20180302/\n",
    "#redu.reduce_FLD2() #clean images via reduce_fli.clean_images()\n",
    "\n",
    "\"\"\"\"Find stars in clean images and calculate stats\"\"\"\n",
    "#redu.find_stars_FLD2()\n",
    "#redu.calc_star_stats()\n",
    "\n",
    "\"\"\"\"Make a stack of images for each mode and analyze stacks\"\"\"\n",
    "redu.stack_FLD2()\n",
    "redu.analyze_stacks()"
   ]
  },
  {
   "cell_type": "code",
   "execution_count": null,
   "metadata": {},
   "outputs": [
    {
     "name": "stdout",
     "output_type": "stream",
     "text": [
      "> /u/caylananderson/code/python/flystar/flystar/align.py(2449)find_transform()\n",
      "-> t = transModel.derive_transform(x1, y1, x2, y2, order, m=m1, mref=m2, weights=weight)\n",
      "(Pdb) type(m1)\n",
      "<class 'astropy.table.column.Column'>\n"
     ]
    }
   ],
   "source": [
    "import pdb; pdb.pm()"
   ]
  },
  {
   "cell_type": "markdown",
   "metadata": {},
   "source": [
    "# Generate Plots"
   ]
  },
  {
   "cell_type": "markdown",
   "metadata": {},
   "source": [
    "# FWHM and Seeing\n"
   ]
  },
  {
   "cell_type": "code",
   "execution_count": 3,
   "metadata": {
    "scrolled": true
   },
   "outputs": [],
   "source": [
    "# open_file = stats_dir +\"stats_open.fits\"\n",
    "# closed_file1 = stats_dir+ \"stats_closed.fits\"\n",
    "# plot_stats.plot_fwhmvt_nomatch(open_file, closed_file1, 'emp_fwhm', \"2018-03-02: FWHM and Seeing over time\", plots_dir)"
   ]
  },
  {
   "cell_type": "markdown",
   "metadata": {},
   "source": [
    "# PSF Comparisons\n"
   ]
  },
  {
   "cell_type": "code",
   "execution_count": null,
   "metadata": {},
   "outputs": [],
   "source": [
    "files = [open_file, closed_file1, closed_file2, closed_file3]\n",
    "labels = ['Open', '3WFS_S', '3WFS_L', '4WFS']\n",
    "colors = ['k', 'g', 'b', 'purple']\n",
    "plot_stats.comp_cdf(files, labels, colors);"
   ]
  },
  {
   "cell_type": "markdown",
   "metadata": {},
   "source": [
    "# PSF Variability over Field of View\n",
    "\n",
    "Right panel shows the FWHM of sources as a function of position on image.  Sources on right have outliers removed by sigma clipping, with both the original and clipped data sets shown on the left panel."
   ]
  },
  {
   "cell_type": "code",
   "execution_count": null,
   "metadata": {},
   "outputs": [],
   "source": [
    "img_file = stack_dir + \"FLD2_stack_closed_3S_30.fits\"\n",
    "starlist = stack_dir + \"FLD2_stack_closed_3S_30_stars.txt\"\n",
    "plot_stats.plot_var(img_file, starlist, \"3S WFS - 30 Sec\")"
   ]
  },
  {
   "cell_type": "code",
   "execution_count": null,
   "metadata": {},
   "outputs": [],
   "source": [
    "img_file = stack_dir + \"FLD2_stack_closed_3L_30.fits\"\n",
    "starlist = stack_dir + \"FLD2_stack_closed_3L_30_stars.txt\"\n",
    "plot_stats.plot_var(img_file, starlist, \"3L WFS - 30 Sec\")"
   ]
  },
  {
   "cell_type": "code",
   "execution_count": null,
   "metadata": {},
   "outputs": [],
   "source": [
    "img_file = stack_dir + \"FLD2_stack_closed_4_30.fits\"\n",
    "starlist = stack_dir + \"FLD2_stack_closed_4_30_stars.txt\"\n",
    "plot_stats.plot_var(img_file, starlist, \"4 WFS - 30 Sec\")"
   ]
  },
  {
   "cell_type": "code",
   "execution_count": null,
   "metadata": {},
   "outputs": [],
   "source": [
    "img_file = stack_dir + \"FLD2_stack_closed_3S_60.fits\"\n",
    "starlist = stack_dir + \"FLD2_stack_closed_3S_60_stars.txt\"\n",
    "plot_stats.plot_var(img_file, starlist, \"3S WFS - 60 Sec\")"
   ]
  },
  {
   "cell_type": "code",
   "execution_count": null,
   "metadata": {},
   "outputs": [],
   "source": [
    "img_file = stack_dir + \"FLD2_stack_closed_3L_60.fits\"\n",
    "starlist = stack_dir + \"FLD2_stack_closed_3L_60_stars.txt\"\n",
    "plot_stats.plot_var(img_file, starlist, \"3L WFS - 60 Sec\")"
   ]
  },
  {
   "cell_type": "code",
   "execution_count": null,
   "metadata": {},
   "outputs": [],
   "source": [
    "img_file = stack_dir + \"FLD2_stack_closed_4_60.fits\"\n",
    "starlist = stack_dir + \"FLD2_stack_closed_4_60_stars.txt\"\n",
    "plot_stats.plot_var(img_file, starlist, \"4 WFS - 60 Sec\")"
   ]
  },
  {
   "cell_type": "code",
   "execution_count": null,
   "metadata": {},
   "outputs": [],
   "source": []
  }
 ],
 "metadata": {
  "kernelspec": {
   "display_name": "Python 3",
   "language": "python",
   "name": "python3"
  },
  "language_info": {
   "codemirror_mode": {
    "name": "ipython",
    "version": 3
   },
   "file_extension": ".py",
   "mimetype": "text/x-python",
   "name": "python",
   "nbconvert_exporter": "python",
   "pygments_lexer": "ipython3",
   "version": "3.7.3"
  }
 },
 "nbformat": 4,
 "nbformat_minor": 4
}
