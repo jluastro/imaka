{
 "cells": [
  {
   "cell_type": "markdown",
   "metadata": {},
   "source": [
    "# RUN5: 2018-03-02 UT Preliminary Analysis"
   ]
  },
  {
   "cell_type": "code",
   "execution_count": 1,
   "metadata": {},
   "outputs": [
    {
     "name": "stdout",
     "output_type": "stream",
     "text": [
      "Root directory: /g/lu/data/imaka/onaga/20180302/FLI/\n"
     ]
    }
   ],
   "source": [
    "%load_ext autoreload\n",
    "%autoreload 2\n",
    "%matplotlib inline\n",
    "\n",
    "import matplotlib.pyplot as plt\n",
    "from imaka.analysis import plot_stats\n",
    "from astropy.table import Table\n",
    "import numpy as np\n",
    "from importlib import reload\n",
    "from imaka.reduce.nights import reduce_2018_03_02 as redu\n",
    "\n",
    "reload(redu)\n",
    "reload(plot_stats)\n",
    "camera = 'FLI' #camera variable to account for discrepancies in folder naming conventions\n",
    "\n",
    "root_dir = \"/g/lu/data/imaka/onaga/20180302/{}/\".format(camera)\n",
    "print(\"Root directory:\",root_dir)\n",
    "stats_dir = root_dir + \"reduce/stats/\"\n",
    "plots_dir = root_dir + \"reduce/plots/\"\n",
    "stack_dir = root_dir + \"reduce/stacks/\""
   ]
  },
  {
   "cell_type": "markdown",
   "metadata": {},
   "source": [
    "# Data Reduction\n",
    "\n",
    "Fully reduce the data from 20180526 UT. Don't re-run this unless you really need to as it takes awhile. After you re-run the data reduction, please remember to load it back up to onaga.\n"
   ]
  },
  {
   "cell_type": "code",
   "execution_count": 2,
   "metadata": {},
   "outputs": [
    {
     "name": "stdout",
     "output_type": "stream",
     "text": [
      "\n",
      "REDUCE_FLI: find_stars()\n",
      "  Working on image:  /g/lu/data/imaka/onaga/20180302/FLI/reduce/Beehive-W/obj0127_o_clean.fits\n",
      "    Calculating background\n",
      "     Bkg = -26.01 +/- 15.78\n",
      "     Bkg Threshold = 157.82\n",
      "     Detecting Stars\n",
      "     Pass 0 assuming FWHM = 8.0\n",
      "31 sources found\n",
      "fwhm_type = \n",
      " <class 'int'>\n"
     ]
    },
    {
     "name": "stderr",
     "output_type": "stream",
     "text": [
      "/anaconda/lib/python3.6/site-packages/astropy/modeling/functional_models.py:373: RuntimeWarning: divide by zero encountered in true_divide\n",
      "  a = 0.5 * ((cost2 / xstd2) + (sint2 / ystd2))\n",
      "/anaconda/lib/python3.6/site-packages/astropy/modeling/functional_models.py:374: RuntimeWarning: divide by zero encountered in true_divide\n",
      "  b = 0.5 * ((sin2t / xstd2) - (sin2t / ystd2))\n",
      "/anaconda/lib/python3.6/site-packages/astropy/modeling/functional_models.py:374: RuntimeWarning: invalid value encountered in subtract\n",
      "  b = 0.5 * ((sin2t / xstd2) - (sin2t / ystd2))\n",
      "/anaconda/lib/python3.6/site-packages/astropy/modeling/functional_models.py:375: RuntimeWarning: divide by zero encountered in true_divide\n",
      "  c = 0.5 * ((sint2 / xstd2) + (cost2 / ystd2))\n",
      "/anaconda/lib/python3.6/site-packages/astropy/modeling/functional_models.py:376: RuntimeWarning: invalid value encountered in add\n",
      "  return amplitude * np.exp(-((a * xdiff ** 2) + (b * xdiff * ydiff) +\n",
      "WARNING: The fit may be unsuccessful; check fit_info['message'] for more information. [astropy.modeling.fitting]\n",
      "/anaconda/lib/python3.6/site-packages/numpy/core/fromnumeric.py:2954: RuntimeWarning: Mean of empty slice.\n",
      "  return mean(axis=axis, dtype=dtype, out=out, **kwargs)\n",
      "/anaconda/lib/python3.6/site-packages/numpy/core/_methods.py:80: RuntimeWarning: invalid value encountered in double_scalars\n",
      "  ret = ret.dtype.type(ret / rcount)\n",
      "/anaconda/lib/python3.6/site-packages/photutils/detection/findstars.py:132: RuntimeWarning: invalid value encountered in less_equal\n",
      "  (self.elliptical_radius <= self.f) |\n",
      "WARNING: Input data is constant. No local peaks can be found. [photutils.detection.core]\n",
      "WARNING: No sources were found. [photutils.detection.findstars]\n"
     ]
    },
    {
     "name": "stdout",
     "output_type": "stream",
     "text": [
      "        Number of sources =  4\n",
      "        Median x_fwhm = nan +/- 1.6\n",
      "        Median y_fwhm = nan +/- 2.5\n",
      "fwhm_type = \n",
      " <class 'numpy.float64'>\n",
      "     Pass 1 assuming FWHM = nan\n",
      "0 sources found\n"
     ]
    },
    {
     "ename": "ValueError",
     "evalue": "cannot convert float NaN to integer",
     "output_type": "error",
     "traceback": [
      "\u001b[0;31m---------------------------------------------------------------------------\u001b[0m",
      "\u001b[0;31mValueError\u001b[0m                                Traceback (most recent call last)",
      "\u001b[0;32m<ipython-input-2-df4ff0b34163>\u001b[0m in \u001b[0;36m<module>\u001b[0;34m\u001b[0m\n\u001b[1;32m      8\u001b[0m \u001b[0;34m\u001b[0m\u001b[0m\n\u001b[1;32m      9\u001b[0m \u001b[0;34m\"\"\"\"Find stars in clean images and calculate stats\"\"\"\u001b[0m\u001b[0;34m\u001b[0m\u001b[0;34m\u001b[0m\u001b[0m\n\u001b[0;32m---> 10\u001b[0;31m \u001b[0mredu\u001b[0m\u001b[0;34m.\u001b[0m\u001b[0mfind_stars_FLD2\u001b[0m\u001b[0;34m(\u001b[0m\u001b[0;34m)\u001b[0m\u001b[0;34m\u001b[0m\u001b[0;34m\u001b[0m\u001b[0m\n\u001b[0m\u001b[1;32m     11\u001b[0m \u001b[0;31m#redu.calc_star_stats()\u001b[0m\u001b[0;34m\u001b[0m\u001b[0;34m\u001b[0m\u001b[0;34m\u001b[0m\u001b[0m\n\u001b[1;32m     12\u001b[0m \u001b[0;34m\u001b[0m\u001b[0m\n",
      "\u001b[0;32m~/code/python/imaka/imaka/reduce/nights/reduce_2018_03_02.py\u001b[0m in \u001b[0;36mfind_stars_FLD2\u001b[0;34m()\u001b[0m\n\u001b[1;32m     52\u001b[0m     \u001b[0;31m# Open Loop\u001b[0m\u001b[0;34m\u001b[0m\u001b[0;34m\u001b[0m\u001b[0;34m\u001b[0m\u001b[0m\n\u001b[1;32m     53\u001b[0m     \u001b[0mimg_files\u001b[0m \u001b[0;34m=\u001b[0m \u001b[0;34m[\u001b[0m\u001b[0mout_dir\u001b[0m \u001b[0;34m+\u001b[0m \u001b[0;34m'obj{0:04d}_o_clean.fits'\u001b[0m\u001b[0;34m.\u001b[0m\u001b[0mformat\u001b[0m\u001b[0;34m(\u001b[0m\u001b[0mii\u001b[0m\u001b[0;34m)\u001b[0m \u001b[0;32mfor\u001b[0m \u001b[0mii\u001b[0m \u001b[0;32min\u001b[0m \u001b[0mfnum_o\u001b[0m\u001b[0;34m]\u001b[0m\u001b[0;34m\u001b[0m\u001b[0;34m\u001b[0m\u001b[0m\n\u001b[0;32m---> 54\u001b[0;31m     \u001b[0mreduce_fli\u001b[0m\u001b[0;34m.\u001b[0m\u001b[0mfind_stars\u001b[0m\u001b[0;34m(\u001b[0m\u001b[0mimg_files\u001b[0m\u001b[0;34m,\u001b[0m \u001b[0mfwhm\u001b[0m\u001b[0;34m=\u001b[0m\u001b[0;36m8\u001b[0m\u001b[0;34m,\u001b[0m \u001b[0mthreshold\u001b[0m\u001b[0;34m=\u001b[0m\u001b[0;36m10\u001b[0m\u001b[0;34m)\u001b[0m\u001b[0;34m\u001b[0m\u001b[0;34m\u001b[0m\u001b[0m\n\u001b[0m\u001b[1;32m     55\u001b[0m \u001b[0;34m\u001b[0m\u001b[0m\n\u001b[1;32m     56\u001b[0m     \u001b[0;31m#Closed Loop\u001b[0m\u001b[0;34m\u001b[0m\u001b[0;34m\u001b[0m\u001b[0;34m\u001b[0m\u001b[0m\n",
      "\u001b[0;32m~/code/python/imaka/imaka/reduce/reduce_fli.py\u001b[0m in \u001b[0;36mfind_stars\u001b[0;34m(img_files, fwhm, threshold, N_passes, plot_psf_compare, mask_flat, flat_file, mask_min, mask_max, left_slice, right_slice, top_slice, bottom_slice)\u001b[0m\n\u001b[1;32m    264\u001b[0m             \u001b[0mtheta\u001b[0m \u001b[0;34m=\u001b[0m \u001b[0mnp\u001b[0m\u001b[0;34m.\u001b[0m\u001b[0mzeros\u001b[0m\u001b[0;34m(\u001b[0m\u001b[0mlen\u001b[0m\u001b[0;34m(\u001b[0m\u001b[0msources\u001b[0m\u001b[0;34m)\u001b[0m\u001b[0;34m,\u001b[0m \u001b[0mdtype\u001b[0m\u001b[0;34m=\u001b[0m\u001b[0mint\u001b[0m\u001b[0;34m)\u001b[0m\u001b[0;34m\u001b[0m\u001b[0;34m\u001b[0m\u001b[0m\n\u001b[1;32m    265\u001b[0m \u001b[0;34m\u001b[0m\u001b[0m\n\u001b[0;32m--> 266\u001b[0;31m             \u001b[0mcutout_half_size\u001b[0m \u001b[0;34m=\u001b[0m \u001b[0mint\u001b[0m\u001b[0;34m(\u001b[0m\u001b[0mround\u001b[0m\u001b[0;34m(\u001b[0m\u001b[0mfwhm_curr\u001b[0m \u001b[0;34m*\u001b[0m \u001b[0;36m3\u001b[0m\u001b[0;34m)\u001b[0m\u001b[0;34m)\u001b[0m\u001b[0;34m\u001b[0m\u001b[0;34m\u001b[0m\u001b[0m\n\u001b[0m\u001b[1;32m    267\u001b[0m             \u001b[0mcutout_size\u001b[0m \u001b[0;34m=\u001b[0m \u001b[0;36m2\u001b[0m \u001b[0;34m*\u001b[0m \u001b[0mcutout_half_size\u001b[0m\u001b[0;34m\u001b[0m\u001b[0;34m\u001b[0m\u001b[0m\n\u001b[1;32m    268\u001b[0m \u001b[0;34m\u001b[0m\u001b[0m\n",
      "\u001b[0;31mValueError\u001b[0m: cannot convert float NaN to integer"
     ]
    }
   ],
   "source": [
    "\"\"\"Set the appropriate root directory for your machine\"\"\"\n",
    "redu.root_dir = root_dir\n",
    "\n",
    "\"\"\"\"Make sky and flat images and use them to reduce science images\"\"\"\n",
    "#redu.make_sky()\n",
    "#redu.make_flat()  # Manually copy over flat from 20180302/\n",
    "#redu.reduce_FLD2()\n",
    "\n",
    "\"\"\"\"Find stars in clean images and calculate stats\"\"\"\n",
    "redu.find_stars_FLD2()\n",
    "#redu.calc_star_stats()\n",
    "\n",
    "\"\"\"\"Make a stack of images for each mode and analyze stacks\"\"\"\n",
    "#redu.stack_FLD2()\n",
    "#redu.analyze_stacks()"
   ]
  },
  {
   "cell_type": "markdown",
   "metadata": {},
   "source": [
    "# Generate Plots"
   ]
  },
  {
   "cell_type": "markdown",
   "metadata": {},
   "source": [
    "# FWHM and Seeing\n",
    "\n",
    "Towards the end of the night, it got pretty cloudy and the performance (of both 'imaka and the MASS/DIMM) likely suffered."
   ]
  },
  {
   "cell_type": "code",
   "execution_count": null,
   "metadata": {
    "scrolled": true
   },
   "outputs": [],
   "source": [
    "open_file = stats_dir +\"stats_open_mdp.fits\"\n",
    "closed_file1 = stats_dir+ \"stats_closed_3WFS_S_mdp.fits\"\n",
    "plot_stats.plot_fwhmvt_nomatch(open_file, closed_file1, 'emp_fwhm', \"2018-05-26: FWHM and Seeing over time with 3WFS_S\", plots_dir)"
   ]
  },
  {
   "cell_type": "code",
   "execution_count": null,
   "metadata": {},
   "outputs": [],
   "source": [
    "open_file = stats_dir +\"stats_open_mdp.fits\"\n",
    "closed_file2 = stats_dir+ \"stats_closed_3WFS_L_mdp.fits\"\n",
    "plot_stats.plot_fwhmvt_nomatch(open_file, closed_file1, 'emp_fwhm', \"2018-05-26: FWHM and Seeing over time with 3WFS_L\", plots_dir)"
   ]
  },
  {
   "cell_type": "code",
   "execution_count": null,
   "metadata": {},
   "outputs": [],
   "source": [
    "open_file = stats_dir +\"stats_open_mdp.fits\"\n",
    "closed_file3 = stats_dir+ \"stats_closed_4WFS_mdp.fits\"\n",
    "plot_stats.plot_fwhmvt_nomatch(open_file, closed_file1, 'emp_fwhm', \"2018-05-26: FWHM and Seeing over time with 4WFS\", plots_dir)"
   ]
  },
  {
   "cell_type": "markdown",
   "metadata": {},
   "source": [
    "# PSF Comparisons\n"
   ]
  },
  {
   "cell_type": "code",
   "execution_count": null,
   "metadata": {},
   "outputs": [],
   "source": [
    "files = [open_file, closed_file1, closed_file2, closed_file3]\n",
    "labels = ['Open', '3WFS_S', '3WFS_L', '4WFS']\n",
    "colors = ['k', 'g', 'b', 'purple']\n",
    "plot_stats.comp_cdf(files, labels, colors);"
   ]
  },
  {
   "cell_type": "markdown",
   "metadata": {},
   "source": [
    "# PSF Variability over Field of View\n",
    "\n",
    "Right panel shows the FWHM of sources as a function of position on image.  Sources on right have outliers removed by sigma clipping, with both the original and clipped data sets shown on the left panel."
   ]
  },
  {
   "cell_type": "code",
   "execution_count": null,
   "metadata": {},
   "outputs": [],
   "source": [
    "img_file = stack_dir + \"FLD2_stack_closed_3S_30.fits\"\n",
    "starlist = stack_dir + \"FLD2_stack_closed_3S_30_stars.txt\"\n",
    "plot_stats.plot_var(img_file, starlist, \"3S WFS - 30 Sec\")"
   ]
  },
  {
   "cell_type": "code",
   "execution_count": null,
   "metadata": {},
   "outputs": [],
   "source": [
    "img_file = stack_dir + \"FLD2_stack_closed_3L_30.fits\"\n",
    "starlist = stack_dir + \"FLD2_stack_closed_3L_30_stars.txt\"\n",
    "plot_stats.plot_var(img_file, starlist, \"3L WFS - 30 Sec\")"
   ]
  },
  {
   "cell_type": "code",
   "execution_count": null,
   "metadata": {},
   "outputs": [],
   "source": [
    "img_file = stack_dir + \"FLD2_stack_closed_4_30.fits\"\n",
    "starlist = stack_dir + \"FLD2_stack_closed_4_30_stars.txt\"\n",
    "plot_stats.plot_var(img_file, starlist, \"4 WFS - 30 Sec\")"
   ]
  },
  {
   "cell_type": "code",
   "execution_count": null,
   "metadata": {},
   "outputs": [],
   "source": [
    "img_file = stack_dir + \"FLD2_stack_closed_3S_60.fits\"\n",
    "starlist = stack_dir + \"FLD2_stack_closed_3S_60_stars.txt\"\n",
    "plot_stats.plot_var(img_file, starlist, \"3S WFS - 60 Sec\")"
   ]
  },
  {
   "cell_type": "code",
   "execution_count": null,
   "metadata": {},
   "outputs": [],
   "source": [
    "img_file = stack_dir + \"FLD2_stack_closed_3L_60.fits\"\n",
    "starlist = stack_dir + \"FLD2_stack_closed_3L_60_stars.txt\"\n",
    "plot_stats.plot_var(img_file, starlist, \"3L WFS - 60 Sec\")"
   ]
  },
  {
   "cell_type": "code",
   "execution_count": null,
   "metadata": {},
   "outputs": [],
   "source": [
    "img_file = stack_dir + \"FLD2_stack_closed_4_60.fits\"\n",
    "starlist = stack_dir + \"FLD2_stack_closed_4_60_stars.txt\"\n",
    "plot_stats.plot_var(img_file, starlist, \"4 WFS - 60 Sec\")"
   ]
  },
  {
   "cell_type": "code",
   "execution_count": null,
   "metadata": {
    "collapsed": true
   },
   "outputs": [],
   "source": []
  }
 ],
 "metadata": {
  "kernelspec": {
   "display_name": "Python 3",
   "language": "python",
   "name": "python3"
  },
  "language_info": {
   "codemirror_mode": {
    "name": "ipython",
    "version": 3
   },
   "file_extension": ".py",
   "mimetype": "text/x-python",
   "name": "python",
   "nbconvert_exporter": "python",
   "pygments_lexer": "ipython3",
   "version": "3.6.9"
  }
 },
 "nbformat": 4,
 "nbformat_minor": 2
}
