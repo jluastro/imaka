{
 "cells": [
  {
   "cell_type": "code",
   "execution_count": 1,
   "metadata": {
    "collapsed": false
   },
   "outputs": [],
   "source": [
    "from astropy.io import fits\n",
    "from photutils.detection import DAOStarFinder, IRAFStarFinder\n",
    "from photutils.psf import DAOGroup\n",
    "from photutils.psf import IntegratedGaussianPRF\n",
    "from photutils.background import MMMBackground\n",
    "from photutils.background import MADStdBackgroundRMS\n",
    "from astropy.modeling.fitting import LevMarLSQFitter\n",
    "from astropy.stats import gaussian_sigma_to_fwhm\n",
    "import reduce_20161118 as red\n",
    "\n",
    "\n",
    "sigma_psf = 2.0 #not sure what to use for this...\n",
    "image = fits.getdata(\"open_red/obj_135_red.fits\", header=False)\n",
    "\n",
    "bkgrms = MADStdBackgroundRMS()\n",
    "\n",
    "std = bkgrms(image)\n",
    "\n",
    "iraffind = IRAFStarFinder(threshold = 3.5*std, fwhm=sigma_psf*gaussian_sigma_to_fwhm, minsep_fwhm=0.01, roundhi=5.0, roundlo=-5.0, sharplo=0.0, sharphi=2.0)\n",
    "daogroup = DAOGroup(2.0*sigma_psf*gaussian_sigma_to_fwhm)\n",
    "\n",
    "mmm_bkg = MMMBackground()\n",
    "\n",
    "psf_model = IntegratedGaussianPRF(sigma=sigma_psf)\n",
    "\n",
    "fitter = LevMarLSQFitter()"
   ]
  },
  {
   "cell_type": "code",
   "execution_count": null,
   "metadata": {
    "collapsed": false
   },
   "outputs": [],
   "source": [
    "image_bin = red.rebin(image, 10)\n",
    "\n",
    "from photutils.psf import IterativelySubtractedPSFPhotometry\n",
    "\n",
    "photometry = IterativelySubtractedPSFPhotometry(finder=iraffind, group_maker=daogroup, bkg_estimator=mmm_bkg, psf_model=psf_model, fitter=LevMarLSQFitter(),niters=2, fitshape=(11,11))\n",
    "\n",
    "result_tab = photometry(image_bin)\n",
    "residual_image = photometry.get_residual_image()"
   ]
  },
  {
   "cell_type": "code",
   "execution_count": 21,
   "metadata": {
    "collapsed": false
   },
   "outputs": [
    {
     "data": {
      "text/html": [
       "&lt;Table length=335&gt;\n",
       "<table id=\"table4665421440\" class=\"table-striped table-bordered table-condensed\">\n",
       "<thead><tr><th>x_0</th><th>y_0</th><th>flux_0</th><th>id</th><th>group_id</th><th>iter_detected</th><th>x_fit</th><th>y_fit</th><th>flux_fit</th></tr></thead>\n",
       "<thead><tr><th>float64</th><th>float64</th><th>float64</th><th>int32</th><th>int32</th><th>int64</th><th>float64</th><th>float64</th><th>float64</th></tr></thead>\n",
       "<tr><td>193.196111423</td><td>168.816439906</td><td>-354871.183991</td><td>156</td><td>18</td><td>2</td><td>186.946287437</td><td>169.089727624</td><td>53240.9986647</td></tr>\n",
       "<tr><td>187.945585191</td><td>166.561537972</td><td>-198342.115161</td><td>147</td><td>18</td><td>2</td><td>205.90355333</td><td>173.681530281</td><td>-29783.4946447</td></tr>\n",
       "<tr><td>188.019061707</td><td>171.497657048</td><td>-190325.780515</td><td>167</td><td>18</td><td>2</td><td>193.938584854</td><td>171.844790114</td><td>-158285.543807</td></tr>\n",
       "<tr><td>190.480856932</td><td>173.985215981</td><td>-188857.357509</td><td>145</td><td>20</td><td>2</td><td>265.143350311</td><td>151.768066545</td><td>-15086.066421</td></tr>\n",
       "<tr><td>194.139741158</td><td>162.979026679</td><td>-178885.306726</td><td>137</td><td>17</td><td>2</td><td>156.527406658</td><td>148.644089473</td><td>-7323.61575388</td></tr>\n",
       "<tr><td>198.966591489</td><td>170.196605014</td><td>-175365.836076</td><td>157</td><td>18</td><td>2</td><td>193.543693232</td><td>169.034803089</td><td>750000.147836</td></tr>\n",
       "<tr><td>192.973133352</td><td>174.977825896</td><td>-155988.53145</td><td>161</td><td>22</td><td>2</td><td>45.6131875125</td><td>168.315335334</td><td>-1844.67092476</td></tr>\n",
       "<tr><td>187.027720071</td><td>169.021231932</td><td>-154665.973203</td><td>154</td><td>18</td><td>2</td><td>191.313456353</td><td>167.700424473</td><td>-266781.51275</td></tr>\n",
       "<tr><td>78.5998056228</td><td>50.9878991139</td><td>-37993.2574433</td><td>128</td><td>1</td><td>2</td><td>0.593166955143</td><td>141.375109029</td><td>247.39434352</td></tr>\n",
       "<tr><td>267.328006482</td><td>179.347256048</td><td>-32840.3713212</td><td>128</td><td>23</td><td>1</td><td>104.317402665</td><td>154.245362524</td><td>718.379741944</td></tr>\n",
       "<tr><td>...</td><td>...</td><td>...</td><td>...</td><td>...</td><td>...</td><td>...</td><td>...</td><td>...</td></tr>\n",
       "<tr><td>4.61640909873</td><td>0.00046153349122</td><td>9688.62782005</td><td>1</td><td>1</td><td>1</td><td>4.61640909873</td><td>0.00046153349122</td><td>9688.62782005</td></tr>\n",
       "<tr><td>107.959882354</td><td>1.4960212325</td><td>9815.76834081</td><td>84</td><td>1</td><td>2</td><td>0.935632527718</td><td>36.9356325277</td><td>-993.560176254</td></tr>\n",
       "<tr><td>106.395748689</td><td>1.52091507649</td><td>9981.74274501</td><td>67</td><td>1</td><td>2</td><td>128.004860711</td><td>2.99579551669</td><td>-104.350242207</td></tr>\n",
       "<tr><td>4.18346884595</td><td>167.782799604</td><td>10248.9301838</td><td>151</td><td>18</td><td>2</td><td>194.404643371</td><td>166.215323479</td><td>-303498.781514</td></tr>\n",
       "<tr><td>109.267584927</td><td>1.09676650326</td><td>10876.0931818</td><td>68</td><td>1</td><td>2</td><td>174.040449755</td><td>2.08089951078</td><td>377.885221325</td></tr>\n",
       "<tr><td>10.6857044095</td><td>0.0254122356339</td><td>10886.767314</td><td>2</td><td>1</td><td>1</td><td>10.6857044095</td><td>0.0254122356339</td><td>10886.767314</td></tr>\n",
       "<tr><td>238.194939967</td><td>17.9890637304</td><td>17921.0179792</td><td>95</td><td>1</td><td>1</td><td>1.08025897363</td><td>72.5796461412</td><td>-1351.42633081</td></tr>\n",
       "<tr><td>72.1301532717</td><td>153.00354943</td><td>18729.7351108</td><td>86</td><td>7</td><td>1</td><td>78.5953386032</td><td>50.9831309922</td><td>107307.837991</td></tr>\n",
       "<tr><td>78.5992331456</td><td>50.9839072405</td><td>61827.6984389</td><td>117</td><td>1</td><td>1</td><td>0.649581798576</td><td>141.208298572</td><td>3015.47517521</td></tr>\n",
       "<tr><td>193.184909284</td><td>168.825541865</td><td>499812.24369</td><td>122</td><td>16</td><td>1</td><td>175.38216482</td><td>143.022329627</td><td>-51664.6313088</td></tr>\n",
       "</table>"
      ],
      "text/plain": [
       "<Table length=335>\n",
       "     x_0            y_0        ...      y_fit          flux_fit   \n",
       "   float64        float64      ...     float64         float64    \n",
       "------------- ---------------- ... ---------------- --------------\n",
       "193.196111423    168.816439906 ...    169.089727624  53240.9986647\n",
       "187.945585191    166.561537972 ...    173.681530281 -29783.4946447\n",
       "188.019061707    171.497657048 ...    171.844790114 -158285.543807\n",
       "190.480856932    173.985215981 ...    151.768066545  -15086.066421\n",
       "194.139741158    162.979026679 ...    148.644089473 -7323.61575388\n",
       "198.966591489    170.196605014 ...    169.034803089  750000.147836\n",
       "192.973133352    174.977825896 ...    168.315335334 -1844.67092476\n",
       "187.027720071    169.021231932 ...    167.700424473  -266781.51275\n",
       "78.5998056228    50.9878991139 ...    141.375109029   247.39434352\n",
       "267.328006482    179.347256048 ...    154.245362524  718.379741944\n",
       "          ...              ... ...              ...            ...\n",
       "4.61640909873 0.00046153349122 ... 0.00046153349122  9688.62782005\n",
       "107.959882354     1.4960212325 ...    36.9356325277 -993.560176254\n",
       "106.395748689    1.52091507649 ...    2.99579551669 -104.350242207\n",
       "4.18346884595    167.782799604 ...    166.215323479 -303498.781514\n",
       "109.267584927    1.09676650326 ...    2.08089951078  377.885221325\n",
       "10.6857044095  0.0254122356339 ...  0.0254122356339   10886.767314\n",
       "238.194939967    17.9890637304 ...    72.5796461412 -1351.42633081\n",
       "72.1301532717     153.00354943 ...    50.9831309922  107307.837991\n",
       "78.5992331456    50.9839072405 ...    141.208298572  3015.47517521\n",
       "193.184909284    168.825541865 ...    143.022329627 -51664.6313088"
      ]
     },
     "execution_count": 21,
     "metadata": {},
     "output_type": "execute_result"
    }
   ],
   "source": [
    "result_tab.sort('flux_0')\n",
    "result_tab"
   ]
  },
  {
   "cell_type": "code",
   "execution_count": null,
   "metadata": {
    "collapsed": false
   },
   "outputs": [],
   "source": []
  },
  {
   "cell_type": "code",
   "execution_count": 10,
   "metadata": {
    "collapsed": true
   },
   "outputs": [],
   "source": [
    "original_plate_scale = 23.0 #mas/pixel\n",
    "plate_scale_arcsec = original_plate_scale * 3 * 10 * 1e-3 #as/pix, (binned twice)"
   ]
  },
  {
   "cell_type": "code",
   "execution_count": 2,
   "metadata": {
    "collapsed": false
   },
   "outputs": [],
   "source": [
    "from photutils import CircularAperture\n",
    "from photutils import aperture_photometry\n",
    "\n",
    "radius_arcsec = 0.4\n",
    "radius_pixel = radius_arcsec / plate_scale_arcsec\n",
    "positions = [(result_tab[-1][0], (result_tab[-1][1]))]\n",
    "apertures = CircularAperture(positions, r=radius_pixel)\n",
    "\n",
    "data = image\n",
    "\n",
    "phot_table = aperture_photometry(data, apertures)\n",
    "print(phot_table)"
   ]
  },
  {
   "cell_type": "code",
   "execution_count": null,
   "metadata": {
    "collapsed": false
   },
   "outputs": [],
   "source": []
  },
  {
   "cell_type": "code",
   "execution_count": null,
   "metadata": {
    "collapsed": true
   },
   "outputs": [],
   "source": []
  },
  {
   "cell_type": "code",
   "execution_count": null,
   "metadata": {
    "collapsed": false
   },
   "outputs": [],
   "source": []
  },
  {
   "cell_type": "code",
   "execution_count": null,
   "metadata": {
    "collapsed": false
   },
   "outputs": [],
   "source": []
  },
  {
   "cell_type": "code",
   "execution_count": null,
   "metadata": {
    "collapsed": true
   },
   "outputs": [],
   "source": []
  }
 ],
 "metadata": {
  "anaconda-cloud": {},
  "kernelspec": {
   "display_name": "Python [astroconda]",
   "language": "python",
   "name": "Python [astroconda]"
  },
  "language_info": {
   "codemirror_mode": {
    "name": "ipython",
    "version": 3
   },
   "file_extension": ".py",
   "mimetype": "text/x-python",
   "name": "python",
   "nbconvert_exporter": "python",
   "pygments_lexer": "ipython3",
   "version": "3.5.2"
  }
 },
 "nbformat": 4,
 "nbformat_minor": 1
}
