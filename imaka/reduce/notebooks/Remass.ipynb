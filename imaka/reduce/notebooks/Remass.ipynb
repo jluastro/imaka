{
 "cells": [
  {
   "cell_type": "markdown",
   "metadata": {},
   "source": [
    "# Remass"
   ]
  },
  {
   "cell_type": "code",
   "execution_count": null,
   "metadata": {
    "collapsed": true
   },
   "outputs": [],
   "source": [
    "## For appending remass files to previous stats fits tables and saving them as a new stats table. "
   ]
  },
  {
   "cell_type": "code",
   "execution_count": 1,
   "metadata": {
    "collapsed": false
   },
   "outputs": [],
   "source": [
    "import os\n",
    "from imaka.reduce import massdimm"
   ]
  },
  {
   "cell_type": "code",
   "execution_count": 2,
   "metadata": {
    "collapsed": true
   },
   "outputs": [],
   "source": [
    "remassdir = '/Users/dorafohring/Desktop/imaka/remass/'\n",
    "stats_dir = '/Users/dorafohring/Desktop/imaka/data/'"
   ]
  },
  {
   "cell_type": "markdown",
   "metadata": {},
   "source": [
    "Get remass files from onaga"
   ]
  },
  {
   "cell_type": "code",
   "execution_count": 3,
   "metadata": {
    "collapsed": false
   },
   "outputs": [],
   "source": [
    "# massdimm.fetch_massdimm_from_onaga(remassdir) ## Don't need this if data is not on onaga"
   ]
  },
  {
   "cell_type": "code",
   "execution_count": null,
   "metadata": {
    "collapsed": true
   },
   "outputs": [],
   "source": [
    "## Append columns. Filenames get extracted automatically.\n",
    "## 1. Look for every date for which there is a stats folder"
   ]
  },
  {
   "cell_type": "code",
   "execution_count": 3,
   "metadata": {
    "collapsed": false
   },
   "outputs": [],
   "source": [
    "dates = next(os.walk(stats_dir))[1]"
   ]
  },
  {
   "cell_type": "code",
   "execution_count": 4,
   "metadata": {
    "collapsed": false
   },
   "outputs": [
    {
     "name": "stdout",
     "output_type": "stream",
     "text": [
      "/Users/dorafohring/Desktop/imaka/data/20170109/fli/reduce/stats/stats_closed.fits\n",
      "/Users/dorafohring/Desktop/imaka/data/20170109/fli/reduce/stats/stats_open.fits\n",
      "/Users/dorafohring/Desktop/imaka/data/20170110/fli/reduce/stats/stats_closed.fits\n",
      "/Users/dorafohring/Desktop/imaka/data/20170110/fli/reduce/stats/stats_open.fits\n",
      "/Users/dorafohring/Desktop/imaka/data/20170111/fli/reduce/stats/stats_closed.fits\n",
      "/Users/dorafohring/Desktop/imaka/data/20170111/fli/reduce/stats/stats_open.fits\n",
      "/Users/dorafohring/Desktop/imaka/data/20170111/fli/reduce/stats/stats_tt.fits\n",
      "/Users/dorafohring/Desktop/imaka/data/20170111/fli/reduce/stats/stats_ttf.fits\n",
      "/Users/dorafohring/Desktop/imaka/data/20170113/fli/reduce/stats/stats_closed1.fits\n",
      "/Users/dorafohring/Desktop/imaka/data/20170113/fli/reduce/stats/stats_closed2.fits\n",
      "/Users/dorafohring/Desktop/imaka/data/20170113/fli/reduce/stats/stats_open1.fits\n",
      "/Users/dorafohring/Desktop/imaka/data/20170113/fli/reduce/stats/stats_open2.fits\n",
      "/Users/dorafohring/Desktop/imaka/data/20170113/fli/reduce/stats/stats_ttf1.fits\n",
      "/Users/dorafohring/Desktop/imaka/data/20170113/fli/reduce/stats/stats_ttf2.fits\n",
      "/Users/dorafohring/Desktop/imaka/data/20170214/fli/reduce/stats/stats_closed.fits\n",
      "/Users/dorafohring/Desktop/imaka/data/20170214/fli/reduce/stats/stats_open.fits\n",
      "/Users/dorafohring/Desktop/imaka/data/20170214/fli/reduce/stats/stats_tt.fits\n",
      "/Users/dorafohring/Desktop/imaka/data/20170215/fli/reduce/stats/stats_closed.fits\n",
      "/Users/dorafohring/Desktop/imaka/data/20170215/fli/reduce/stats/stats_open.fits\n",
      "/Users/dorafohring/Desktop/imaka/data/20170215/fli/reduce/stats/stats_tt.fits\n",
      "/Users/dorafohring/Desktop/imaka/data/20170216/fli/reduce/stats/stats_closeda.fits\n",
      "/Users/dorafohring/Desktop/imaka/data/20170216/fli/reduce/stats/stats_closedb.fits\n",
      "/Users/dorafohring/Desktop/imaka/data/20170216/fli/reduce/stats/stats_closedc.fits\n",
      "/Users/dorafohring/Desktop/imaka/data/20170216/fli/reduce/stats/stats_closedd.fits\n",
      "/Users/dorafohring/Desktop/imaka/data/20170216/fli/reduce/stats/stats_closede.fits\n",
      "/Users/dorafohring/Desktop/imaka/data/20170216/fli/reduce/stats/stats_closedf.fits\n",
      "/Users/dorafohring/Desktop/imaka/data/20170216/fli/reduce/stats/stats_closedg.fits\n",
      "/Users/dorafohring/Desktop/imaka/data/20170216/fli/reduce/stats/stats_closedh.fits\n",
      "/Users/dorafohring/Desktop/imaka/data/20170216/fli/reduce/stats/stats_closedi.fits\n",
      "/Users/dorafohring/Desktop/imaka/data/20170216/fli/reduce/stats/stats_open.fits\n",
      "/Users/dorafohring/Desktop/imaka/data/20170216/fli/reduce/stats/stats_tt.fits\n",
      "/Users/dorafohring/Desktop/imaka/data/20170217/fli/reduce/stats/stats_closeda.fits\n",
      "/Users/dorafohring/Desktop/imaka/data/20170217/fli/reduce/stats/stats_closedb.fits\n",
      "/Users/dorafohring/Desktop/imaka/data/20170217/fli/reduce/stats/stats_closedc.fits\n",
      "/Users/dorafohring/Desktop/imaka/data/20170217/fli/reduce/stats/stats_closedd.fits\n",
      "/Users/dorafohring/Desktop/imaka/data/20170217/fli/reduce/stats/stats_closedf.fits\n",
      "/Users/dorafohring/Desktop/imaka/data/20170217/fli/reduce/stats/stats_open.fits\n",
      "/Users/dorafohring/Desktop/imaka/data/20170517/fli/reduce/stats/stats_closed.fits\n",
      "/Users/dorafohring/Desktop/imaka/data/20170517/fli/reduce/stats/stats_closedA.fits\n",
      "/Users/dorafohring/Desktop/imaka/data/20170517/fli/reduce/stats/stats_closedB.fits\n",
      "/Users/dorafohring/Desktop/imaka/data/20170517/fli/reduce/stats/stats_open.fits\n",
      "/Users/dorafohring/Desktop/imaka/data/20170517/fli/reduce/stats/stats_stacks.fits\n",
      "/Users/dorafohring/Desktop/imaka/data/20170518/fli/reduce/stats/stats_closed.fits\n",
      "/Users/dorafohring/Desktop/imaka/data/20170518/fli/reduce/stats/stats_closedA.fits\n",
      "/Users/dorafohring/Desktop/imaka/data/20170518/fli/reduce/stats/stats_closedB.fits\n",
      "/Users/dorafohring/Desktop/imaka/data/20170518/fli/reduce/stats/stats_open.fits\n",
      "/Users/dorafohring/Desktop/imaka/data/20170518/fli/reduce/stats/stats_stacks.fits\n",
      "/Users/dorafohring/Desktop/imaka/data/20170519/fli/reduce/stats/stats_closed.fits\n",
      "/Users/dorafohring/Desktop/imaka/data/20170519/fli/reduce/stats/stats_closedA.fits\n",
      "/Users/dorafohring/Desktop/imaka/data/20170519/fli/reduce/stats/stats_closedB.fits\n",
      "/Users/dorafohring/Desktop/imaka/data/20170519/fli/reduce/stats/stats_open.fits\n",
      "/Users/dorafohring/Desktop/imaka/data/20170519/fli/reduce/stats/stats_stacks.fits\n",
      "/Users/dorafohring/Desktop/imaka/data/20170520/fli/reduce/stats/stats_closedA.fits\n",
      "/Users/dorafohring/Desktop/imaka/data/20170520/fli/reduce/stats/stats_closedD.fits\n",
      "/Users/dorafohring/Desktop/imaka/data/20170520/fli/reduce/stats/stats_open.fits\n",
      "/Users/dorafohring/Desktop/imaka/data/20170521/fli/reduce/stats/stats_closed.fits\n",
      "/Users/dorafohring/Desktop/imaka/data/20170521/fli/reduce/stats/stats_closedA.fits\n",
      "/Users/dorafohring/Desktop/imaka/data/20170521/fli/reduce/stats/stats_open.fits\n",
      "/Users/dorafohring/Desktop/imaka/data/20170521/fli/reduce/stats/stats_stacks.fits\n"
     ]
    }
   ],
   "source": [
    "## 2. Look for .fits files, but not mpd, alt or remass files\n",
    "matchers = ['.fits']\n",
    "excludes = ['alt', 'mdp', 'remass']\n",
    "for date in dates:\n",
    "    datedir = stats_dir + '{0}/fli/reduce/stats/'.format(date)\n",
    "    try:\n",
    "        filenames = os.listdir(datedir)\n",
    "    except:\n",
    "        print('passed')\n",
    "        continue\n",
    "    files = [s for s in filenames if any(xs in s for xs in matchers) and not any(xc in s for xc in excludes)]\n",
    "    for file in files:\n",
    "        ## 3. Append data\n",
    "        print(datedir+file)\n",
    "        massdimm.append2_mass_dimm(datedir+file, remassdir)"
   ]
  },
  {
   "cell_type": "code",
   "execution_count": 4,
   "metadata": {
    "collapsed": false
   },
   "outputs": [],
   "source": [
    "## Upload data\n",
    "for date in dates:\n",
    "    os.system(\"ls {0}{1}/fli/reduce/stats/*remass.fits\".format(stats_dir, date))\n",
    "    os.system(\"scp {0}{1}/fli/reduce/stats/*remass.fits \\\n",
    "    imaka@onaga:/Volumes/DATA4/imaka/{1}/fli/reduce/stats\".format(stats_dir, date))\n",
    "\n",
    "\n"
   ]
  },
  {
   "cell_type": "code",
   "execution_count": null,
   "metadata": {
    "collapsed": false
   },
   "outputs": [],
   "source": [
    "## Test data locally\n",
    "from astropy.table import Table\n",
    "st = Table.read(datedir+file)\n",
    "st.columns\n",
    "st['reCn2dh_160']\n",
    "st['DATE_UTC']"
   ]
  },
  {
   "cell_type": "code",
   "execution_count": null,
   "metadata": {
    "collapsed": true
   },
   "outputs": [],
   "source": []
  }
 ],
 "metadata": {
  "kernelspec": {
   "display_name": "Python 3",
   "language": "python",
   "name": "python3"
  },
  "language_info": {
   "codemirror_mode": {
    "name": "ipython",
    "version": 3
   },
   "file_extension": ".py",
   "mimetype": "text/x-python",
   "name": "python",
   "nbconvert_exporter": "python",
   "pygments_lexer": "ipython3",
   "version": "3.6.0"
  }
 },
 "nbformat": 4,
 "nbformat_minor": 2
}
