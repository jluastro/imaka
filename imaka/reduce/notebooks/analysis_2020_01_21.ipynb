{
 "cells": [
  {
   "cell_type": "markdown",
   "metadata": {},
   "source": [
    "# 2020-01-21 UT Preliminary Analysis"
   ]
  },
  {
   "cell_type": "code",
   "execution_count": 7,
   "metadata": {},
   "outputs": [
    {
     "name": "stdout",
     "output_type": "stream",
     "text": [
      "The autoreload extension is already loaded. To reload it, use:\n",
      "  %reload_ext autoreload\n",
      "Root directory: /g/lu/data/imaka/onaga/20200121/sta/\n"
     ]
    }
   ],
   "source": [
    "%load_ext autoreload\n",
    "%autoreload 2\n",
    "%matplotlib inline\n",
    "\n",
    "import matplotlib.pyplot as plt\n",
    "from imaka.analysis import plot_stats\n",
    "from astropy.table import Table\n",
    "import numpy as np\n",
    "from importlib import reload\n",
    "from imaka.reduce.nights import reduce_2020_01_21 as redu\n",
    "\n",
    "reload(redu)\n",
    "reload(plot_stats)\n",
    "\n",
    "root_dir = \"/g/lu/data/imaka/onaga/20200121/sta/\"\n",
    "print(\"Root directory:\",root_dir)\n",
    "stats_dir = root_dir + \"reduce/stats/\"\n",
    "plots_dir = root_dir + \"reduce/plots/\"\n",
    "stack_dir = root_dir + \"reduce/stacks/\""
   ]
  },
  {
   "cell_type": "markdown",
   "metadata": {},
   "source": [
    "# Data Reduction"
   ]
  },
  {
   "cell_type": "markdown",
   "metadata": {},
   "source": [
    "Fully reduce the data from 20200121 UT. Don't re-run this unless you really need to as it takes awhile. After you re-run the data reduction, please remember to load it back up to onaga."
   ]
  },
  {
   "cell_type": "code",
   "execution_count": 8,
   "metadata": {},
   "outputs": [
    {
     "name": "stdout",
     "output_type": "stream",
     "text": [
      "Working on file:  /g/lu/data/imaka/onaga/20200121/sta/twilights/twi_221.fits\n",
      "Scan wid: 86\n",
      "Data wid: 634\n",
      "Working on file:  /g/lu/data/imaka/onaga/20200121/sta/twilights/twi_222.fits\n",
      "Scan wid: 86\n",
      "Data wid: 634\n",
      "Working on file:  /g/lu/data/imaka/onaga/20200121/sta/twilights/twi_223.fits\n",
      "Scan wid: 86\n",
      "Data wid: 634\n",
      "Working on file:  /g/lu/data/imaka/onaga/20200121/sta/twilights/twi_224.fits\n",
      "Scan wid: 86\n",
      "Data wid: 634\n",
      "Working on file:  /g/lu/data/imaka/onaga/20200121/sta/twilights/twi_225.fits\n",
      "Scan wid: 86\n",
      "Data wid: 634\n",
      "Working on file:  /g/lu/data/imaka/onaga/20200121/sta/twilights/twi_226.fits\n",
      "Scan wid: 86\n",
      "Data wid: 634\n",
      "Working on file:  /g/lu/data/imaka/onaga/20200121/sta/twilights/twi_227.fits\n",
      "Scan wid: 86\n",
      "Data wid: 634\n",
      "Working on file:  /g/lu/data/imaka/onaga/20200121/sta/twilights/twi_228.fits\n",
      "Scan wid: 86\n",
      "Data wid: 634\n",
      "Working on file:  /g/lu/data/imaka/onaga/20200121/sta/twilights/twi_229.fits\n",
      "Scan wid: 86\n",
      "Data wid: 634\n",
      "Working on file:  /g/lu/data/imaka/onaga/20200121/sta/twilights/twi_230.fits\n",
      "Scan wid: 86\n",
      "Data wid: 634\n",
      "\n",
      "REDUCE_FLI: makeflat():\n",
      "  Reading in dark files...\n",
      "  Reading in flat files...\n",
      "  Subtracting darks from flats...\n",
      "  Normalizing each flat...\n"
     ]
    },
    {
     "name": "stderr",
     "output_type": "stream",
     "text": [
      "WARNING: AstropyDeprecationWarning: \"iters\" was deprecated in version 3.1 and will be removed in a future version. Use argument \"maxiters\" instead. [imaka.reduce.calib]\n",
      "WARNING: AstropyDeprecationWarning: \"iters\" was deprecated in version 3.1 and will be removed in a future version. Use argument \"maxiters\" instead. [imaka.reduce.calib]\n",
      "WARNING: AstropyDeprecationWarning: \"iters\" was deprecated in version 3.1 and will be removed in a future version. Use argument \"maxiters\" instead. [imaka.reduce.calib]\n",
      "WARNING: AstropyDeprecationWarning: \"iters\" was deprecated in version 3.1 and will be removed in a future version. Use argument \"maxiters\" instead. [imaka.reduce.calib]\n",
      "WARNING: AstropyDeprecationWarning: \"iters\" was deprecated in version 3.1 and will be removed in a future version. Use argument \"maxiters\" instead. [imaka.reduce.calib]\n",
      "WARNING: AstropyDeprecationWarning: \"iters\" was deprecated in version 3.1 and will be removed in a future version. Use argument \"maxiters\" instead. [imaka.reduce.calib]\n",
      "WARNING: AstropyDeprecationWarning: \"iters\" was deprecated in version 3.1 and will be removed in a future version. Use argument \"maxiters\" instead. [imaka.reduce.calib]\n",
      "WARNING: AstropyDeprecationWarning: \"iters\" was deprecated in version 3.1 and will be removed in a future version. Use argument \"maxiters\" instead. [imaka.reduce.calib]\n",
      "WARNING: AstropyDeprecationWarning: \"iters\" was deprecated in version 3.1 and will be removed in a future version. Use argument \"maxiters\" instead. [imaka.reduce.calib]\n",
      "WARNING: AstropyDeprecationWarning: \"iters\" was deprecated in version 3.1 and will be removed in a future version. Use argument \"maxiters\" instead. [imaka.reduce.calib]\n"
     ]
    },
    {
     "name": "stdout",
     "output_type": "stream",
     "text": [
      "  Sigma clipping (3 sigma, 2 iterations) about the median...\n"
     ]
    },
    {
     "name": "stderr",
     "output_type": "stream",
     "text": [
      "WARNING: AstropyDeprecationWarning: \"iters\" was deprecated in version 3.1 and will be removed in a future version. Use argument \"maxiters\" instead. [imaka.reduce.calib]\n"
     ]
    },
    {
     "name": "stdout",
     "output_type": "stream",
     "text": [
      "  Median combining all images...\n"
     ]
    },
    {
     "name": "stderr",
     "output_type": "stream",
     "text": [
      "WARNING: AstropyDeprecationWarning: \"clobber\" was deprecated in version 2.0 and will be removed in a future version. Use argument \"overwrite\" instead. [imaka.reduce.calib]\n"
     ]
    },
    {
     "data": {
      "text/plain": [
       "'\"Make a stack of images for each mode and analyze stacks'"
      ]
     },
     "execution_count": 8,
     "metadata": {},
     "output_type": "execute_result"
    }
   ],
   "source": [
    "\"\"\"Set the appropriate root directory for your machine\"\"\"\n",
    "redu.root_dir = root_dir\n",
    "\n",
    "\"\"\"\"Make sky and flat images and use them to reduce science images\"\"\"\n",
    "#redu.make_sky() #using sky img from 2020-01-22 run (60s exposure time)\n",
    "redu.make_flat()  # Using twilight images from 20200122 run\n",
    "#redu.reduce_FLD2()\n",
    "\n",
    "\"\"\"\"Find stars in clean images and calculate stats\"\"\"\n",
    "#redu.find_stars_FLD2()\n",
    "#redu.calc_star_stats()\n",
    "\n",
    "\"\"\"\"Make a stack of images for each mode and analyze stacks\"\"\"\n",
    "#redu.stack_FLD2()\n",
    "# redu.analyze_stacks()"
   ]
  },
  {
   "cell_type": "code",
   "execution_count": 9,
   "metadata": {},
   "outputs": [
    {
     "name": "stdout",
     "output_type": "stream",
     "text": [
      "> /u/caylananderson/code/python/imaka/imaka/reduce/reduce_fli.py(775)shift_and_add()\n",
      "-> shiftx = shift_trans[ii].px[0]\n",
      "(Pdb) type(shift_trans[ii])\n",
      "<class 'flystar.transforms.Shift'>\n",
      "(Pdb) shift_trans[ii]\n",
      "<flystar.transforms.Shift object at 0x7ff8c9e97e80>\n",
      "(Pdb) shift_trans[ii].px\n",
      "<Polynomial2D(1, c0_0=0.16359581, c1_0=1., c0_1=0.)>\n",
      "(Pdb) shift_trans[ii].px[0]\n",
      "*** TypeError: 'Polynomial2D' object is not subscriptable\n",
      "(Pdb) print(shift_trans[ii].px)\n",
      "Model: Polynomial2D\n",
      "Inputs: ('x', 'y')\n",
      "Outputs: ('z',)\n",
      "Model set size: 1\n",
      "Degree: 1\n",
      "Parameters:\n",
      "            c0_0        c1_0 c0_1\n",
      "    ------------------- ---- ----\n",
      "    0.16359581488525876  1.0  0.0\n",
      "(Pdb) shift_trans[ii].px(0)\n",
      "*** TypeError: __call__() missing 1 required positional argument: 'y'\n",
      "(Pdb) shift_trans[ii].px[:]\n",
      "*** TypeError: 'Polynomial2D' object is not subscriptable\n",
      "(Pdb) exit\n"
     ]
    }
   ],
   "source": [
    "import pdb\n",
    "pdb.pm()"
   ]
  },
  {
   "cell_type": "code",
   "execution_count": null,
   "metadata": {},
   "outputs": [],
   "source": []
  },
  {
   "cell_type": "code",
   "execution_count": null,
   "metadata": {},
   "outputs": [],
   "source": []
  },
  {
   "cell_type": "code",
   "execution_count": null,
   "metadata": {},
   "outputs": [],
   "source": []
  },
  {
   "cell_type": "code",
   "execution_count": null,
   "metadata": {},
   "outputs": [],
   "source": []
  },
  {
   "cell_type": "code",
   "execution_count": null,
   "metadata": {},
   "outputs": [],
   "source": []
  },
  {
   "cell_type": "code",
   "execution_count": null,
   "metadata": {
    "scrolled": false
   },
   "outputs": [],
   "source": []
  },
  {
   "cell_type": "code",
   "execution_count": null,
   "metadata": {},
   "outputs": [],
   "source": []
  },
  {
   "cell_type": "code",
   "execution_count": null,
   "metadata": {},
   "outputs": [],
   "source": []
  },
  {
   "cell_type": "code",
   "execution_count": null,
   "metadata": {},
   "outputs": [],
   "source": []
  },
  {
   "cell_type": "code",
   "execution_count": null,
   "metadata": {},
   "outputs": [],
   "source": []
  },
  {
   "cell_type": "code",
   "execution_count": null,
   "metadata": {},
   "outputs": [],
   "source": []
  },
  {
   "cell_type": "code",
   "execution_count": null,
   "metadata": {},
   "outputs": [],
   "source": []
  },
  {
   "cell_type": "code",
   "execution_count": null,
   "metadata": {},
   "outputs": [],
   "source": []
  },
  {
   "cell_type": "code",
   "execution_count": null,
   "metadata": {},
   "outputs": [],
   "source": []
  },
  {
   "cell_type": "code",
   "execution_count": null,
   "metadata": {},
   "outputs": [],
   "source": []
  }
 ],
 "metadata": {
  "kernelspec": {
   "display_name": "Python 3",
   "language": "python",
   "name": "python3"
  },
  "language_info": {
   "codemirror_mode": {
    "name": "ipython",
    "version": 3
   },
   "file_extension": ".py",
   "mimetype": "text/x-python",
   "name": "python",
   "nbconvert_exporter": "python",
   "pygments_lexer": "ipython3",
   "version": "3.7.3"
  }
 },
 "nbformat": 4,
 "nbformat_minor": 2
}
