{
 "cells": [
  {
   "cell_type": "markdown",
   "metadata": {},
   "source": [
    "# 2020-01-21 UT Preliminary Analysis"
   ]
  },
  {
   "cell_type": "code",
   "execution_count": 10,
   "metadata": {},
   "outputs": [
    {
     "name": "stdout",
     "output_type": "stream",
     "text": [
      "The autoreload extension is already loaded. To reload it, use:\n",
      "  %reload_ext autoreload\n",
      "Root directory: /g/lu/data/imaka/onaga/20200121/sta/\n"
     ]
    }
   ],
   "source": [
    "%load_ext autoreload\n",
    "%autoreload 2\n",
    "%matplotlib inline\n",
    "\n",
    "import matplotlib.pyplot as plt\n",
    "from imaka.analysis import plot_stats\n",
    "from astropy.table import Table\n",
    "import numpy as np\n",
    "from importlib import reload\n",
    "from imaka.reduce.nights import reduce_2020_01_21 as redu\n",
    "\n",
    "reload(redu)\n",
    "reload(plot_stats)\n",
    "\n",
    "root_dir = \"/g/lu/data/imaka/onaga/20200121/sta/\"\n",
    "print(\"Root directory:\",root_dir)\n",
    "stats_dir = root_dir + \"reduce/stats/\"\n",
    "plots_dir = root_dir + \"reduce/plots/\"\n",
    "stack_dir = root_dir + \"reduce/stacks/\""
   ]
  },
  {
   "cell_type": "markdown",
   "metadata": {},
   "source": [
    "# Data Reduction"
   ]
  },
  {
   "cell_type": "markdown",
   "metadata": {},
   "source": [
    "Fully reduce the data from 20200121 UT. Don't re-run this unless you really need to as it takes awhile. After you re-run the data reduction, please remember to load it back up to onaga."
   ]
  },
  {
   "cell_type": "code",
   "execution_count": 11,
   "metadata": {},
   "outputs": [
    {
     "name": "stdout",
     "output_type": "stream",
     "text": [
      "Working on file:  /g/lu/data/imaka/onaga/20200121/sta/Beehive-W/sta003_o.fits\n",
      "Working on file:  /g/lu/data/imaka/onaga/20200121/sta/Beehive-W/sta004_o.fits\n",
      "Working on file:  /g/lu/data/imaka/onaga/20200121/sta/Beehive-W/sta005_o.fits\n",
      "Working on file:  /g/lu/data/imaka/onaga/20200121/sta/Beehive-W/sta007_o.fits\n",
      "Working on file:  /g/lu/data/imaka/onaga/20200121/sta/Beehive-W/sta009_o.fits\n",
      "Working on file:  /g/lu/data/imaka/onaga/20200121/sta/Beehive-W/sta011_o.fits\n",
      "Working on file:  /g/lu/data/imaka/onaga/20200121/sta/Beehive-W/sta012_o.fits\n",
      "Working on file:  /g/lu/data/imaka/onaga/20200121/sta/Beehive-W/sta013_o.fits\n",
      "Working on file:  /g/lu/data/imaka/onaga/20200121/sta/Beehive-W/sta014_o.fits\n",
      "Working on file:  /g/lu/data/imaka/onaga/20200121/sta/Beehive-W/sta015_o.fits\n",
      "Working on file:  /g/lu/data/imaka/onaga/20200121/sta/Beehive-W/sta016_o.fits\n",
      "Working on file:  /g/lu/data/imaka/onaga/20200121/sta/Beehive-W/sta017_o.fits\n",
      "Working on file:  /g/lu/data/imaka/onaga/20200121/sta/Beehive-W/sta018_o.fits\n",
      "Working on file:  /g/lu/data/imaka/onaga/20200121/sta/Beehive-W/sta019_o.fits\n",
      "Working on file:  /g/lu/data/imaka/onaga/20200121/sta/Beehive-W/sta020_o.fits\n",
      "Working on file:  /g/lu/data/imaka/onaga/20200121/sta/Beehive-W/sta021_o.fits\n",
      "Working on file:  /g/lu/data/imaka/onaga/20200121/sta/Beehive-W/sta022_o.fits\n",
      "Working on file:  /g/lu/data/imaka/onaga/20200121/sta/Beehive-W/sta023_o.fits\n",
      "Working on file:  /g/lu/data/imaka/onaga/20200121/sta/Beehive-W/sta024_o.fits\n",
      "Working on file:  /g/lu/data/imaka/onaga/20200121/sta/Beehive-W/sta025_o.fits\n",
      "Working on file:  /g/lu/data/imaka/onaga/20200121/sta/Beehive-W/sta026_o.fits\n",
      "Working on file:  /g/lu/data/imaka/onaga/20200121/sta/Beehive-W/sta027_o.fits\n",
      "Working on file:  /g/lu/data/imaka/onaga/20200121/sta/Beehive-W/sta028_o.fits\n",
      "Working on file:  /g/lu/data/imaka/onaga/20200121/sta/Beehive-W/sta029_o.fits\n",
      "Working on file:  /g/lu/data/imaka/onaga/20200121/sta/Beehive-W/sta030_o.fits\n",
      "Working on file:  /g/lu/data/imaka/onaga/20200121/sta/Beehive-W/sta031_o.fits\n",
      "Working on file:  /g/lu/data/imaka/onaga/20200121/sta/Beehive-W/sta032_o.fits\n",
      "Working on file:  /g/lu/data/imaka/onaga/20200121/sta/Beehive-W/sta033_o.fits\n",
      "Working on file:  /g/lu/data/imaka/onaga/20200121/sta/Beehive-W/sta034_o.fits\n",
      "Working on file:  /g/lu/data/imaka/onaga/20200121/sta/Beehive-W/sta035_o.fits\n",
      "Working on file:  /g/lu/data/imaka/onaga/20200121/sta/Beehive-W/sta038_o.fits\n",
      "Working on file:  /g/lu/data/imaka/onaga/20200121/sta/Beehive-W/sta040_o.fits\n",
      "Working on file:  /g/lu/data/imaka/onaga/20200121/sta/Beehive-W/sta042_o.fits\n",
      "Working on file:  /g/lu/data/imaka/onaga/20200121/sta/Beehive-W/sta044_o.fits\n",
      "Working on file:  /g/lu/data/imaka/onaga/20200121/sta/Beehive-W/sta046_o.fits\n",
      "Working on file:  /g/lu/data/imaka/onaga/20200121/sta/Beehive-W/sta048_o.fits\n",
      "Working on file:  /g/lu/data/imaka/onaga/20200121/sta/Beehive-W/sta050_o.fits\n",
      "Working on file:  /g/lu/data/imaka/onaga/20200121/sta/Beehive-W/sta052_o.fits\n",
      "Working on file:  /g/lu/data/imaka/onaga/20200121/sta/Beehive-W/sta054_o.fits\n",
      "Working on file:  /g/lu/data/imaka/onaga/20200121/sta/Beehive-W/sta056_o.fits\n",
      "Working on file:  /g/lu/data/imaka/onaga/20200121/sta/Beehive-W/sta058_o.fits\n",
      "Working on file:  /g/lu/data/imaka/onaga/20200121/sta/Beehive-W/sta059_o.fits\n",
      "Working on file:  /g/lu/data/imaka/onaga/20200121/sta/Beehive-W/sta063_o.fits\n",
      "Working on file:  /g/lu/data/imaka/onaga/20200121/sta/Beehive-W/sta065_o.fits\n",
      "Working on file:  /g/lu/data/imaka/onaga/20200121/sta/Beehive-W/sta067_o.fits\n",
      "Working on file:  /g/lu/data/imaka/onaga/20200121/sta/Beehive-W/sta068_o.fits\n",
      "Working on file:  /g/lu/data/imaka/onaga/20200121/sta/Beehive-W/sta070_o.fits\n",
      "Working on file:  /g/lu/data/imaka/onaga/20200121/sta/Beehive-W/sta072_o.fits\n",
      "Working on file:  /g/lu/data/imaka/onaga/20200121/sta/Beehive-W/sta073_o.fits\n",
      "Working on file:  /g/lu/data/imaka/onaga/20200121/sta/Beehive-W/sta074_o.fits\n",
      "Working on file:  /g/lu/data/imaka/onaga/20200121/sta/Beehive-W/sta075_o.fits\n",
      "Working on file:  /g/lu/data/imaka/onaga/20200121/sta/Beehive-W/sta076_o.fits\n",
      "Working on file:  /g/lu/data/imaka/onaga/20200121/sta/Beehive-W/sta077_o.fits\n",
      "Working on file:  /g/lu/data/imaka/onaga/20200121/sta/Beehive-W/sta079_o.fits\n",
      "Working on file:  /g/lu/data/imaka/onaga/20200121/sta/Beehive-W/sta081_o.fits\n",
      "Working on file:  /g/lu/data/imaka/onaga/20200121/sta/Beehive-W/sta083_o.fits\n",
      "Working on file:  /g/lu/data/imaka/onaga/20200121/sta/Beehive-W/sta085_o.fits\n",
      "Working on file:  /g/lu/data/imaka/onaga/20200121/sta/Beehive-W/sta087_o.fits\n",
      "Working on file:  /g/lu/data/imaka/onaga/20200121/sta/Beehive-W/sta089_o.fits\n",
      "Working on file:  /g/lu/data/imaka/onaga/20200121/sta/Beehive-W/sta091_o.fits\n",
      "Working on file:  /g/lu/data/imaka/onaga/20200121/sta/Beehive-W/sta093_o.fits\n",
      "Working on file:  /g/lu/data/imaka/onaga/20200121/sta/Beehive-W/sta095_o.fits\n",
      "Working on file:  /g/lu/data/imaka/onaga/20200121/sta/Beehive-W/sta096_o.fits\n",
      "Working on file:  /g/lu/data/imaka/onaga/20200121/sta/Beehive-W/sta097_o.fits\n",
      "Working on file:  /g/lu/data/imaka/onaga/20200121/sta/Beehive-W/sta099_o.fits\n",
      "Working on file:  /g/lu/data/imaka/onaga/20200121/sta/Beehive-W/sta101_o.fits\n",
      "Working on file:  /g/lu/data/imaka/onaga/20200121/sta/Beehive-W/sta102_o.fits\n",
      "Working on file:  /g/lu/data/imaka/onaga/20200121/sta/Beehive-W/sta103_o.fits\n",
      "Working on file:  /g/lu/data/imaka/onaga/20200121/sta/Beehive-W/sta104_o.fits\n",
      "Working on file:  /g/lu/data/imaka/onaga/20200121/sta/Beehive-W/sta105_o.fits\n",
      "Working on file:  /g/lu/data/imaka/onaga/20200121/sta/Beehive-W/sta107_o.fits\n",
      "Working on file:  /g/lu/data/imaka/onaga/20200121/sta/Beehive-W/sta109_o.fits\n",
      "Working on file:  /g/lu/data/imaka/onaga/20200121/sta/Beehive-W/sta111_o.fits\n",
      "Working on file:  /g/lu/data/imaka/onaga/20200121/sta/Beehive-W/sta113_o.fits\n",
      "Working on file:  /g/lu/data/imaka/onaga/20200121/sta/Beehive-W/sta115_o.fits\n",
      "Working on file:  /g/lu/data/imaka/onaga/20200121/sta/Beehive-W/sta116_o.fits\n",
      "\n",
      "REDUCE_FLI: clean_images()\n",
      "  Working on image:  /g/lu/data/imaka/onaga/20200121/sta/Beehive-W/sta003_o_scan.fits\n",
      "\n",
      "Cleaning image\n",
      "\n",
      "  Dividing by flat\n"
     ]
    },
    {
     "ename": "ValueError",
     "evalue": "operands could not be broadcast together with shapes (5280,5072) (5280,5280) ",
     "output_type": "error",
     "traceback": [
      "\u001b[0;31m---------------------------------------------------------------------------\u001b[0m",
      "\u001b[0;31mValueError\u001b[0m                                Traceback (most recent call last)",
      "\u001b[0;32m<ipython-input-11-4ba13c169cfb>\u001b[0m in \u001b[0;36m<module>\u001b[0;34m\u001b[0m\n\u001b[1;32m      5\u001b[0m \u001b[0;31m#redu.make_sky() #using frames from HR2286 to make sky images\u001b[0m\u001b[0;34m\u001b[0m\u001b[0;34m\u001b[0m\u001b[0;34m\u001b[0m\u001b[0m\n\u001b[1;32m      6\u001b[0m \u001b[0;31m#redu.make_flat()  # Using flat from 20181223\u001b[0m\u001b[0;34m\u001b[0m\u001b[0;34m\u001b[0m\u001b[0;34m\u001b[0m\u001b[0m\n\u001b[0;32m----> 7\u001b[0;31m \u001b[0mredu\u001b[0m\u001b[0;34m.\u001b[0m\u001b[0mreduce_FLD2\u001b[0m\u001b[0;34m(\u001b[0m\u001b[0;34m)\u001b[0m\u001b[0;34m\u001b[0m\u001b[0;34m\u001b[0m\u001b[0m\n\u001b[0m\u001b[1;32m      8\u001b[0m \u001b[0;34m\u001b[0m\u001b[0m\n\u001b[1;32m      9\u001b[0m \u001b[0;31m# \"\"\"\"Find stars in clean images and calculate stats\"\"\"\u001b[0m\u001b[0;34m\u001b[0m\u001b[0;34m\u001b[0m\u001b[0;34m\u001b[0m\u001b[0m\n",
      "\u001b[0;32m~/code/python/imaka/imaka/reduce/nights/reduce_2020_01_21.py\u001b[0m in \u001b[0;36mreduce_FLD2\u001b[0;34m()\u001b[0m\n\u001b[1;32m     71\u001b[0m     \u001b[0mreduce_STA\u001b[0m\u001b[0;34m.\u001b[0m\u001b[0mtreat_overscan\u001b[0m\u001b[0;34m(\u001b[0m\u001b[0mimg_files\u001b[0m\u001b[0;34m)\u001b[0m\u001b[0;34m\u001b[0m\u001b[0;34m\u001b[0m\u001b[0m\n\u001b[1;32m     72\u001b[0m     \u001b[0mscan_img_files\u001b[0m \u001b[0;34m=\u001b[0m \u001b[0;34m[\u001b[0m\u001b[0mdata_dir\u001b[0m \u001b[0;34m+\u001b[0m \u001b[0;34m'sta{0:03d}_o_scan.fits'\u001b[0m\u001b[0;34m.\u001b[0m\u001b[0mformat\u001b[0m\u001b[0;34m(\u001b[0m\u001b[0mii\u001b[0m\u001b[0;34m)\u001b[0m \u001b[0;32mfor\u001b[0m \u001b[0mii\u001b[0m \u001b[0;32min\u001b[0m \u001b[0mfnum_o\u001b[0m\u001b[0;34m]\u001b[0m\u001b[0;34m\u001b[0m\u001b[0;34m\u001b[0m\u001b[0m\n\u001b[0;32m---> 73\u001b[0;31m     \u001b[0mreduce_fli\u001b[0m\u001b[0;34m.\u001b[0m\u001b[0mclean_images\u001b[0m\u001b[0;34m(\u001b[0m\u001b[0mscan_img_files\u001b[0m\u001b[0;34m,\u001b[0m \u001b[0mout_dir\u001b[0m\u001b[0;34m,\u001b[0m \u001b[0mrebin\u001b[0m\u001b[0;34m=\u001b[0m\u001b[0;36m1\u001b[0m\u001b[0;34m,\u001b[0m \u001b[0msky_frame\u001b[0m\u001b[0;34m=\u001b[0m\u001b[0msky_dir\u001b[0m \u001b[0;34m+\u001b[0m \u001b[0;34mF'{obs_obj}_sky.fits'\u001b[0m\u001b[0;34m,\u001b[0m \u001b[0mflat_frame\u001b[0m\u001b[0;34m=\u001b[0m\u001b[0mflat_dir\u001b[0m\u001b[0;34m+\u001b[0m\u001b[0;34m\"flat.fits\"\u001b[0m\u001b[0;34m)\u001b[0m\u001b[0;34m\u001b[0m\u001b[0;34m\u001b[0m\u001b[0m\n\u001b[0m\u001b[1;32m     74\u001b[0m \u001b[0;34m\u001b[0m\u001b[0m\n\u001b[1;32m     75\u001b[0m     \u001b[0;31m# Closed - x10LS5WFS\u001b[0m\u001b[0;34m\u001b[0m\u001b[0;34m\u001b[0m\u001b[0;34m\u001b[0m\u001b[0m\n",
      "\u001b[0;32m~/code/python/imaka/imaka/reduce/reduce_fli.py\u001b[0m in \u001b[0;36mclean_images\u001b[0;34m(img_files, out_dir, rebin, sky_frame, flat_frame, fix_bad_pixels)\u001b[0m\n\u001b[1;32m    119\u001b[0m         \u001b[0;31m# Clean it\u001b[0m\u001b[0;34m\u001b[0m\u001b[0;34m\u001b[0m\u001b[0;34m\u001b[0m\u001b[0m\n\u001b[1;32m    120\u001b[0m         \u001b[0mprint\u001b[0m\u001b[0;34m(\u001b[0m\u001b[0;34m'\\nCleaning image\\n'\u001b[0m\u001b[0;34m)\u001b[0m\u001b[0;34m\u001b[0m\u001b[0;34m\u001b[0m\u001b[0m\n\u001b[0;32m--> 121\u001b[0;31m         \u001b[0mimg_clean\u001b[0m\u001b[0;34m,\u001b[0m \u001b[0mbad_pixels\u001b[0m \u001b[0;34m=\u001b[0m \u001b[0mclean_single_image\u001b[0m\u001b[0;34m(\u001b[0m\u001b[0mimg\u001b[0m\u001b[0;34m,\u001b[0m \u001b[0msky\u001b[0m\u001b[0;34m=\u001b[0m\u001b[0msky\u001b[0m\u001b[0;34m,\u001b[0m \u001b[0mflat\u001b[0m\u001b[0;34m=\u001b[0m\u001b[0mflat\u001b[0m\u001b[0;34m,\u001b[0m \u001b[0mrebin\u001b[0m\u001b[0;34m=\u001b[0m\u001b[0mrebin\u001b[0m\u001b[0;34m,\u001b[0m \u001b[0mfix_bad_pixels\u001b[0m\u001b[0;34m=\u001b[0m\u001b[0mfix_bad_pixels\u001b[0m\u001b[0;34m)\u001b[0m\u001b[0;34m\u001b[0m\u001b[0;34m\u001b[0m\u001b[0m\n\u001b[0m\u001b[1;32m    122\u001b[0m \u001b[0;34m\u001b[0m\u001b[0m\n\u001b[1;32m    123\u001b[0m \u001b[0;34m\u001b[0m\u001b[0m\n",
      "\u001b[0;32m~/code/python/imaka/imaka/reduce/reduce_fli.py\u001b[0m in \u001b[0;36mclean_single_image\u001b[0;34m(img, sky, flat, rebin, fix_bad_pixels, verbose)\u001b[0m\n\u001b[1;32m    154\u001b[0m     \u001b[0;32mif\u001b[0m \u001b[0mflat\u001b[0m \u001b[0;32mis\u001b[0m \u001b[0;32mnot\u001b[0m \u001b[0;32mNone\u001b[0m\u001b[0;34m:\u001b[0m\u001b[0;34m\u001b[0m\u001b[0;34m\u001b[0m\u001b[0m\n\u001b[1;32m    155\u001b[0m         \u001b[0mprint\u001b[0m\u001b[0;34m(\u001b[0m\u001b[0;34m'  Dividing by flat'\u001b[0m\u001b[0;34m)\u001b[0m\u001b[0;34m\u001b[0m\u001b[0;34m\u001b[0m\u001b[0m\n\u001b[0;32m--> 156\u001b[0;31m         \u001b[0mimg\u001b[0m \u001b[0;34m=\u001b[0m \u001b[0mimg\u001b[0m \u001b[0;34m/\u001b[0m \u001b[0mflat\u001b[0m\u001b[0;34m\u001b[0m\u001b[0;34m\u001b[0m\u001b[0m\n\u001b[0m\u001b[1;32m    157\u001b[0m \u001b[0;34m\u001b[0m\u001b[0m\n\u001b[1;32m    158\u001b[0m     \u001b[0;31m# Fix hot and dead pixels\u001b[0m\u001b[0;34m\u001b[0m\u001b[0;34m\u001b[0m\u001b[0;34m\u001b[0m\u001b[0m\n",
      "\u001b[0;31mValueError\u001b[0m: operands could not be broadcast together with shapes (5280,5072) (5280,5280) "
     ]
    }
   ],
   "source": [
    "\"\"\"Set the appropriate root directory for your machine\"\"\"\n",
    "redu.root_dir = root_dir\n",
    "\n",
    "\"\"\"\"Make sky and flat images and use them to reduce science images\"\"\"\n",
    "#redu.make_sky() #using frames from HR2286 to make sky images\n",
    "#redu.make_flat()  # Using flat from 20181223\n",
    "redu.reduce_FLD2()\n",
    "\n",
    "# \"\"\"\"Find stars in clean images and calculate stats\"\"\"\n",
    "# redu.find_stars_FLD2()\n",
    "# redu.calc_star_stats()\n",
    "\n",
    "# \"\"\"\"Make a stack of images for each mode and analyze stacks\"\"\"\n",
    "# redu.stack_FLD2()\n",
    "# redu.analyze_stacks()"
   ]
  },
  {
   "cell_type": "code",
   "execution_count": 12,
   "metadata": {},
   "outputs": [
    {
     "name": "stdout",
     "output_type": "stream",
     "text": [
      "> /u/caylananderson/code/python/imaka/imaka/reduce/reduce_fli.py(156)clean_single_image()\n",
      "-> img = img / flat\n",
      "(Pdb) print(np.shape(img))\n",
      "(5280, 5072)\n",
      "(Pdb) print(np.shape(flat))\n",
      "(5280, 5280)\n",
      "(Pdb) exit\n"
     ]
    }
   ],
   "source": [
    "import pdb\n",
    "pdb.pm()"
   ]
  },
  {
   "cell_type": "code",
   "execution_count": null,
   "metadata": {},
   "outputs": [],
   "source": []
  },
  {
   "cell_type": "code",
   "execution_count": null,
   "metadata": {},
   "outputs": [],
   "source": []
  },
  {
   "cell_type": "code",
   "execution_count": null,
   "metadata": {},
   "outputs": [],
   "source": []
  },
  {
   "cell_type": "code",
   "execution_count": null,
   "metadata": {},
   "outputs": [],
   "source": []
  },
  {
   "cell_type": "code",
   "execution_count": null,
   "metadata": {},
   "outputs": [],
   "source": []
  },
  {
   "cell_type": "code",
   "execution_count": null,
   "metadata": {},
   "outputs": [],
   "source": []
  },
  {
   "cell_type": "code",
   "execution_count": null,
   "metadata": {
    "scrolled": false
   },
   "outputs": [],
   "source": []
  },
  {
   "cell_type": "code",
   "execution_count": null,
   "metadata": {},
   "outputs": [],
   "source": []
  },
  {
   "cell_type": "code",
   "execution_count": null,
   "metadata": {},
   "outputs": [],
   "source": []
  },
  {
   "cell_type": "code",
   "execution_count": null,
   "metadata": {},
   "outputs": [],
   "source": []
  },
  {
   "cell_type": "code",
   "execution_count": null,
   "metadata": {},
   "outputs": [],
   "source": []
  },
  {
   "cell_type": "code",
   "execution_count": null,
   "metadata": {},
   "outputs": [],
   "source": []
  },
  {
   "cell_type": "code",
   "execution_count": null,
   "metadata": {},
   "outputs": [],
   "source": []
  },
  {
   "cell_type": "markdown",
   "metadata": {},
   "source": []
  },
  {
   "cell_type": "code",
   "execution_count": null,
   "metadata": {},
   "outputs": [],
   "source": []
  },
  {
   "cell_type": "code",
   "execution_count": null,
   "metadata": {},
   "outputs": [],
   "source": []
  }
 ],
 "metadata": {
  "kernelspec": {
   "display_name": "Python 3",
   "language": "python",
   "name": "python3"
  },
  "language_info": {
   "codemirror_mode": {
    "name": "ipython",
    "version": 3
   },
   "file_extension": ".py",
   "mimetype": "text/x-python",
   "name": "python",
   "nbconvert_exporter": "python",
   "pygments_lexer": "ipython3",
   "version": "3.7.3"
  }
 },
 "nbformat": 4,
 "nbformat_minor": 2
}
