{
 "cells": [
  {
   "cell_type": "markdown",
   "metadata": {},
   "source": [
    "# 2020-01-21 UT Preliminary Analysis"
   ]
  },
  {
   "cell_type": "code",
   "execution_count": 1,
   "metadata": {},
   "outputs": [
    {
     "name": "stdout",
     "output_type": "stream",
     "text": [
      "Root directory: /g/lu/data/imaka/onaga/20200121/sta/\n"
     ]
    }
   ],
   "source": [
    "%reload_ext autoreload\n",
    "%autoreload 2\n",
    "%matplotlib inline\n",
    "\n",
    "import matplotlib.pyplot as plt\n",
    "from imaka.analysis import plot_stats\n",
    "from astropy.table import Table\n",
    "import numpy as np\n",
    "from importlib import reload\n",
    "from imaka.reduce.nights import reduce_2020_01_21 as redu\n",
    "\n",
    "reload(redu)\n",
    "reload(plot_stats)\n",
    "\n",
    "root_dir = \"/g/lu/data/imaka/onaga/20200121/sta/\"\n",
    "print(\"Root directory:\",root_dir)\n",
    "stats_dir = root_dir + \"reduce/stats/\"\n",
    "plots_dir = root_dir + \"reduce/plots/\"\n",
    "stack_dir = root_dir + \"reduce/stacks/\""
   ]
  },
  {
   "cell_type": "markdown",
   "metadata": {},
   "source": [
    "# Data Reduction"
   ]
  },
  {
   "cell_type": "markdown",
   "metadata": {},
   "source": [
    "Fully reduce the data from 20200121 UT. Don't re-run this unless you really need to as it takes awhile. After you re-run the data reduction, please remember to load it back up to onaga."
   ]
  },
  {
   "cell_type": "code",
   "execution_count": 2,
   "metadata": {},
   "outputs": [
    {
     "name": "stdout",
     "output_type": "stream",
     "text": [
      "\n",
      "REDUCE_STA: find_stars()\n",
      "  Working on image:  /g/lu/data/imaka/onaga/20200121/sta/reduce/Beehive-W/sta003_o_scan_clean.fits\n",
      "    Calculating background\n",
      "     Bkg = -21.87 +/- 5.72\n",
      "     Bkg Threshold = 28.59\n",
      "     Detecting Stars\n",
      "     Pass 0 assuming FWHM = 8.0\n",
      "191 sources found\n"
     ]
    },
    {
     "name": "stderr",
     "output_type": "stream",
     "text": [
      "/opt/anaconda3/envs/astroconda/lib/python3.7/site-packages/astropy/modeling/functional_models.py:378: RuntimeWarning: divide by zero encountered in true_divide\n",
      "  a = 0.5 * ((cost2 / xstd2) + (sint2 / ystd2))\n",
      "/opt/anaconda3/envs/astroconda/lib/python3.7/site-packages/astropy/modeling/functional_models.py:379: RuntimeWarning: divide by zero encountered in true_divide\n",
      "  b = 0.5 * ((sin2t / xstd2) - (sin2t / ystd2))\n",
      "/opt/anaconda3/envs/astroconda/lib/python3.7/site-packages/astropy/modeling/functional_models.py:379: RuntimeWarning: invalid value encountered in subtract\n",
      "  b = 0.5 * ((sin2t / xstd2) - (sin2t / ystd2))\n",
      "/opt/anaconda3/envs/astroconda/lib/python3.7/site-packages/astropy/modeling/functional_models.py:380: RuntimeWarning: divide by zero encountered in true_divide\n",
      "  c = 0.5 * ((sint2 / xstd2) + (cost2 / ystd2))\n",
      "/opt/anaconda3/envs/astroconda/lib/python3.7/site-packages/astropy/modeling/functional_models.py:381: RuntimeWarning: invalid value encountered in add\n",
      "  return amplitude * np.exp(-((a * xdiff ** 2) + (b * xdiff * ydiff) +\n",
      "WARNING: The fit may be unsuccessful; check fit_info['message'] for more information. [astropy.modeling.fitting]\n"
     ]
    },
    {
     "name": "stdout",
     "output_type": "stream",
     "text": [
      "        Number of sources =  15\n",
      "        Median x_fwhm = 11.0 +/- 0.9\n",
      "        Median y_fwhm = 11.0 +/- 1.0\n",
      "     Pass 1 assuming FWHM = 11.0\n",
      "91 sources found\n"
     ]
    },
    {
     "name": "stderr",
     "output_type": "stream",
     "text": [
      "/opt/anaconda3/envs/astroconda/lib/python3.7/site-packages/astropy/modeling/functional_models.py:378: RuntimeWarning: divide by zero encountered in true_divide\n",
      "  a = 0.5 * ((cost2 / xstd2) + (sint2 / ystd2))\n",
      "/opt/anaconda3/envs/astroconda/lib/python3.7/site-packages/astropy/modeling/functional_models.py:379: RuntimeWarning: divide by zero encountered in true_divide\n",
      "  b = 0.5 * ((sin2t / xstd2) - (sin2t / ystd2))\n",
      "/opt/anaconda3/envs/astroconda/lib/python3.7/site-packages/astropy/modeling/functional_models.py:379: RuntimeWarning: invalid value encountered in subtract\n",
      "  b = 0.5 * ((sin2t / xstd2) - (sin2t / ystd2))\n",
      "/opt/anaconda3/envs/astroconda/lib/python3.7/site-packages/astropy/modeling/functional_models.py:380: RuntimeWarning: divide by zero encountered in true_divide\n",
      "  c = 0.5 * ((sint2 / xstd2) + (cost2 / ystd2))\n",
      "/opt/anaconda3/envs/astroconda/lib/python3.7/site-packages/astropy/modeling/functional_models.py:381: RuntimeWarning: invalid value encountered in add\n",
      "  return amplitude * np.exp(-((a * xdiff ** 2) + (b * xdiff * ydiff) +\n"
     ]
    },
    {
     "name": "stdout",
     "output_type": "stream",
     "text": [
      "        Number of sources =  16\n",
      "        Median x_fwhm = 11.0 +/- 1.2\n",
      "        Median y_fwhm = 11.0 +/- 1.3\n",
      "  Working on image:  /g/lu/data/imaka/onaga/20200121/sta/reduce/Beehive-W/sta004_o_scan_clean.fits\n",
      "    Calculating background\n",
      "     Bkg = -22.24 +/- 5.75\n",
      "     Bkg Threshold = 28.73\n",
      "     Detecting Stars\n",
      "     Pass 0 assuming FWHM = 8.0\n",
      "172 sources found\n"
     ]
    },
    {
     "name": "stderr",
     "output_type": "stream",
     "text": [
      "/opt/anaconda3/envs/astroconda/lib/python3.7/site-packages/astropy/modeling/functional_models.py:378: RuntimeWarning: divide by zero encountered in true_divide\n",
      "  a = 0.5 * ((cost2 / xstd2) + (sint2 / ystd2))\n",
      "/opt/anaconda3/envs/astroconda/lib/python3.7/site-packages/astropy/modeling/functional_models.py:379: RuntimeWarning: divide by zero encountered in true_divide\n",
      "  b = 0.5 * ((sin2t / xstd2) - (sin2t / ystd2))\n",
      "/opt/anaconda3/envs/astroconda/lib/python3.7/site-packages/astropy/modeling/functional_models.py:380: RuntimeWarning: divide by zero encountered in true_divide\n",
      "  c = 0.5 * ((sint2 / xstd2) + (cost2 / ystd2))\n",
      "/opt/anaconda3/envs/astroconda/lib/python3.7/site-packages/astropy/modeling/functional_models.py:381: RuntimeWarning: invalid value encountered in add\n",
      "  return amplitude * np.exp(-((a * xdiff ** 2) + (b * xdiff * ydiff) +\n",
      "/opt/anaconda3/envs/astroconda/lib/python3.7/site-packages/astropy/modeling/functional_models.py:379: RuntimeWarning: invalid value encountered in subtract\n",
      "  b = 0.5 * ((sin2t / xstd2) - (sin2t / ystd2))\n",
      "WARNING: The fit may be unsuccessful; check fit_info['message'] for more information. [astropy.modeling.fitting]\n"
     ]
    },
    {
     "name": "stdout",
     "output_type": "stream",
     "text": [
      "        Number of sources =  12\n",
      "        Median x_fwhm = 12.0 +/- 1.0\n",
      "        Median y_fwhm = 10.0 +/- 1.1\n",
      "     Pass 1 assuming FWHM = 11.0\n",
      "73 sources found\n"
     ]
    },
    {
     "name": "stderr",
     "output_type": "stream",
     "text": [
      "/opt/anaconda3/envs/astroconda/lib/python3.7/site-packages/astropy/modeling/functional_models.py:378: RuntimeWarning: divide by zero encountered in true_divide\n",
      "  a = 0.5 * ((cost2 / xstd2) + (sint2 / ystd2))\n",
      "/opt/anaconda3/envs/astroconda/lib/python3.7/site-packages/astropy/modeling/functional_models.py:379: RuntimeWarning: divide by zero encountered in true_divide\n",
      "  b = 0.5 * ((sin2t / xstd2) - (sin2t / ystd2))\n",
      "/opt/anaconda3/envs/astroconda/lib/python3.7/site-packages/astropy/modeling/functional_models.py:379: RuntimeWarning: invalid value encountered in subtract\n",
      "  b = 0.5 * ((sin2t / xstd2) - (sin2t / ystd2))\n",
      "/opt/anaconda3/envs/astroconda/lib/python3.7/site-packages/astropy/modeling/functional_models.py:380: RuntimeWarning: divide by zero encountered in true_divide\n",
      "  c = 0.5 * ((sint2 / xstd2) + (cost2 / ystd2))\n",
      "/opt/anaconda3/envs/astroconda/lib/python3.7/site-packages/astropy/modeling/functional_models.py:381: RuntimeWarning: invalid value encountered in add\n",
      "  return amplitude * np.exp(-((a * xdiff ** 2) + (b * xdiff * ydiff) +\n"
     ]
    },
    {
     "name": "stdout",
     "output_type": "stream",
     "text": [
      "        Number of sources =  12\n",
      "        Median x_fwhm = 12.0 +/- 2.1\n",
      "        Median y_fwhm = 10.0 +/- 1.0\n",
      "  Working on image:  /g/lu/data/imaka/onaga/20200121/sta/reduce/Beehive-W/sta035_o_scan_clean.fits\n",
      "    Calculating background\n",
      "     Bkg = -20.87 +/- 5.33\n",
      "     Bkg Threshold = 26.65\n",
      "     Detecting Stars\n",
      "     Pass 0 assuming FWHM = 8.0\n",
      "208 sources found\n"
     ]
    },
    {
     "name": "stderr",
     "output_type": "stream",
     "text": [
      "/opt/anaconda3/envs/astroconda/lib/python3.7/site-packages/astropy/modeling/functional_models.py:378: RuntimeWarning: divide by zero encountered in true_divide\n",
      "  a = 0.5 * ((cost2 / xstd2) + (sint2 / ystd2))\n",
      "/opt/anaconda3/envs/astroconda/lib/python3.7/site-packages/astropy/modeling/functional_models.py:379: RuntimeWarning: divide by zero encountered in true_divide\n",
      "  b = 0.5 * ((sin2t / xstd2) - (sin2t / ystd2))\n",
      "/opt/anaconda3/envs/astroconda/lib/python3.7/site-packages/astropy/modeling/functional_models.py:379: RuntimeWarning: invalid value encountered in subtract\n",
      "  b = 0.5 * ((sin2t / xstd2) - (sin2t / ystd2))\n",
      "/opt/anaconda3/envs/astroconda/lib/python3.7/site-packages/astropy/modeling/functional_models.py:380: RuntimeWarning: divide by zero encountered in true_divide\n",
      "  c = 0.5 * ((sint2 / xstd2) + (cost2 / ystd2))\n",
      "/opt/anaconda3/envs/astroconda/lib/python3.7/site-packages/astropy/modeling/functional_models.py:381: RuntimeWarning: invalid value encountered in add\n",
      "  return amplitude * np.exp(-((a * xdiff ** 2) + (b * xdiff * ydiff) +\n",
      "WARNING: The fit may be unsuccessful; check fit_info['message'] for more information. [astropy.modeling.fitting]\n"
     ]
    },
    {
     "name": "stdout",
     "output_type": "stream",
     "text": [
      "        Number of sources =  11\n",
      "        Median x_fwhm = 13.0 +/- 1.3\n",
      "        Median y_fwhm = 10.0 +/- 1.4\n",
      "     Pass 1 assuming FWHM = 11.5\n",
      "82 sources found\n"
     ]
    },
    {
     "name": "stderr",
     "output_type": "stream",
     "text": [
      "/opt/anaconda3/envs/astroconda/lib/python3.7/site-packages/astropy/modeling/functional_models.py:378: RuntimeWarning: divide by zero encountered in true_divide\n",
      "  a = 0.5 * ((cost2 / xstd2) + (sint2 / ystd2))\n",
      "/opt/anaconda3/envs/astroconda/lib/python3.7/site-packages/astropy/modeling/functional_models.py:379: RuntimeWarning: divide by zero encountered in true_divide\n",
      "  b = 0.5 * ((sin2t / xstd2) - (sin2t / ystd2))\n",
      "/opt/anaconda3/envs/astroconda/lib/python3.7/site-packages/astropy/modeling/functional_models.py:379: RuntimeWarning: invalid value encountered in subtract\n",
      "  b = 0.5 * ((sin2t / xstd2) - (sin2t / ystd2))\n",
      "/opt/anaconda3/envs/astroconda/lib/python3.7/site-packages/astropy/modeling/functional_models.py:380: RuntimeWarning: divide by zero encountered in true_divide\n",
      "  c = 0.5 * ((sint2 / xstd2) + (cost2 / ystd2))\n",
      "/opt/anaconda3/envs/astroconda/lib/python3.7/site-packages/astropy/modeling/functional_models.py:381: RuntimeWarning: invalid value encountered in add\n",
      "  return amplitude * np.exp(-((a * xdiff ** 2) + (b * xdiff * ydiff) +\n",
      "WARNING: The fit may be unsuccessful; check fit_info['message'] for more information. [astropy.modeling.fitting]\n"
     ]
    },
    {
     "name": "stdout",
     "output_type": "stream",
     "text": [
      "        Number of sources =  11\n",
      "        Median x_fwhm = 13.0 +/- 1.8\n",
      "        Median y_fwhm = 10.0 +/- 1.3\n",
      "  Working on image:  /g/lu/data/imaka/onaga/20200121/sta/reduce/Beehive-W/sta038_o_scan_clean.fits\n",
      "    Calculating background\n",
      "     Bkg = -13.59 +/- 3.68\n",
      "     Bkg Threshold = 18.39\n",
      "     Detecting Stars\n",
      "     Pass 0 assuming FWHM = 8.0\n",
      "780 sources found\n"
     ]
    },
    {
     "name": "stderr",
     "output_type": "stream",
     "text": [
      "/opt/anaconda3/envs/astroconda/lib/python3.7/site-packages/astropy/modeling/functional_models.py:378: RuntimeWarning: divide by zero encountered in true_divide\n",
      "  a = 0.5 * ((cost2 / xstd2) + (sint2 / ystd2))\n",
      "/opt/anaconda3/envs/astroconda/lib/python3.7/site-packages/astropy/modeling/functional_models.py:379: RuntimeWarning: divide by zero encountered in true_divide\n",
      "  b = 0.5 * ((sin2t / xstd2) - (sin2t / ystd2))\n",
      "/opt/anaconda3/envs/astroconda/lib/python3.7/site-packages/astropy/modeling/functional_models.py:379: RuntimeWarning: invalid value encountered in subtract\n",
      "  b = 0.5 * ((sin2t / xstd2) - (sin2t / ystd2))\n",
      "/opt/anaconda3/envs/astroconda/lib/python3.7/site-packages/astropy/modeling/functional_models.py:380: RuntimeWarning: divide by zero encountered in true_divide\n",
      "  c = 0.5 * ((sint2 / xstd2) + (cost2 / ystd2))\n",
      "/opt/anaconda3/envs/astroconda/lib/python3.7/site-packages/astropy/modeling/functional_models.py:381: RuntimeWarning: invalid value encountered in add\n",
      "  return amplitude * np.exp(-((a * xdiff ** 2) + (b * xdiff * ydiff) +\n"
     ]
    },
    {
     "name": "stdout",
     "output_type": "stream",
     "text": [
      "        Number of sources =  21\n",
      "        Median x_fwhm = 10.0 +/- 1.7\n",
      "        Median y_fwhm = 8.0 +/- 1.3\n",
      "     Pass 1 assuming FWHM = 9.0\n",
      "718 sources found\n"
     ]
    },
    {
     "name": "stderr",
     "output_type": "stream",
     "text": [
      "/opt/anaconda3/envs/astroconda/lib/python3.7/site-packages/astropy/modeling/functional_models.py:378: RuntimeWarning: divide by zero encountered in true_divide\n",
      "  a = 0.5 * ((cost2 / xstd2) + (sint2 / ystd2))\n",
      "/opt/anaconda3/envs/astroconda/lib/python3.7/site-packages/astropy/modeling/functional_models.py:379: RuntimeWarning: divide by zero encountered in true_divide\n",
      "  b = 0.5 * ((sin2t / xstd2) - (sin2t / ystd2))\n",
      "/opt/anaconda3/envs/astroconda/lib/python3.7/site-packages/astropy/modeling/functional_models.py:379: RuntimeWarning: invalid value encountered in subtract\n",
      "  b = 0.5 * ((sin2t / xstd2) - (sin2t / ystd2))\n",
      "/opt/anaconda3/envs/astroconda/lib/python3.7/site-packages/astropy/modeling/functional_models.py:380: RuntimeWarning: divide by zero encountered in true_divide\n",
      "  c = 0.5 * ((sint2 / xstd2) + (cost2 / ystd2))\n",
      "/opt/anaconda3/envs/astroconda/lib/python3.7/site-packages/astropy/modeling/functional_models.py:381: RuntimeWarning: invalid value encountered in add\n",
      "  return amplitude * np.exp(-((a * xdiff ** 2) + (b * xdiff * ydiff) +\n"
     ]
    },
    {
     "name": "stdout",
     "output_type": "stream",
     "text": [
      "        Number of sources =  23\n",
      "        Median x_fwhm = 9.0 +/- 1.9\n",
      "        Median y_fwhm = 8.0 +/- 1.6\n",
      "  Working on image:  /g/lu/data/imaka/onaga/20200121/sta/reduce/Beehive-W/sta040_o_scan_clean.fits\n",
      "    Calculating background\n",
      "     Bkg = -13.77 +/- 3.75\n",
      "     Bkg Threshold = 18.73\n",
      "     Detecting Stars\n",
      "     Pass 0 assuming FWHM = 8.0\n",
      "753 sources found\n"
     ]
    },
    {
     "name": "stderr",
     "output_type": "stream",
     "text": [
      "/opt/anaconda3/envs/astroconda/lib/python3.7/site-packages/astropy/modeling/functional_models.py:378: RuntimeWarning: divide by zero encountered in true_divide\n",
      "  a = 0.5 * ((cost2 / xstd2) + (sint2 / ystd2))\n",
      "/opt/anaconda3/envs/astroconda/lib/python3.7/site-packages/astropy/modeling/functional_models.py:379: RuntimeWarning: divide by zero encountered in true_divide\n",
      "  b = 0.5 * ((sin2t / xstd2) - (sin2t / ystd2))\n",
      "/opt/anaconda3/envs/astroconda/lib/python3.7/site-packages/astropy/modeling/functional_models.py:379: RuntimeWarning: invalid value encountered in subtract\n",
      "  b = 0.5 * ((sin2t / xstd2) - (sin2t / ystd2))\n",
      "/opt/anaconda3/envs/astroconda/lib/python3.7/site-packages/astropy/modeling/functional_models.py:380: RuntimeWarning: divide by zero encountered in true_divide\n",
      "  c = 0.5 * ((sint2 / xstd2) + (cost2 / ystd2))\n",
      "/opt/anaconda3/envs/astroconda/lib/python3.7/site-packages/astropy/modeling/functional_models.py:381: RuntimeWarning: invalid value encountered in add\n",
      "  return amplitude * np.exp(-((a * xdiff ** 2) + (b * xdiff * ydiff) +\n"
     ]
    },
    {
     "name": "stdout",
     "output_type": "stream",
     "text": [
      "        Number of sources =  23\n",
      "        Median x_fwhm = 10.0 +/- 1.4\n",
      "        Median y_fwhm = 8.0 +/- 1.7\n",
      "     Pass 1 assuming FWHM = 9.0\n",
      "675 sources found\n"
     ]
    },
    {
     "name": "stderr",
     "output_type": "stream",
     "text": [
      "/opt/anaconda3/envs/astroconda/lib/python3.7/site-packages/astropy/modeling/functional_models.py:378: RuntimeWarning: divide by zero encountered in true_divide\n",
      "  a = 0.5 * ((cost2 / xstd2) + (sint2 / ystd2))\n",
      "/opt/anaconda3/envs/astroconda/lib/python3.7/site-packages/astropy/modeling/functional_models.py:379: RuntimeWarning: divide by zero encountered in true_divide\n",
      "  b = 0.5 * ((sin2t / xstd2) - (sin2t / ystd2))\n",
      "/opt/anaconda3/envs/astroconda/lib/python3.7/site-packages/astropy/modeling/functional_models.py:379: RuntimeWarning: invalid value encountered in subtract\n",
      "  b = 0.5 * ((sin2t / xstd2) - (sin2t / ystd2))\n",
      "/opt/anaconda3/envs/astroconda/lib/python3.7/site-packages/astropy/modeling/functional_models.py:380: RuntimeWarning: divide by zero encountered in true_divide\n",
      "  c = 0.5 * ((sint2 / xstd2) + (cost2 / ystd2))\n",
      "/opt/anaconda3/envs/astroconda/lib/python3.7/site-packages/astropy/modeling/functional_models.py:381: RuntimeWarning: invalid value encountered in add\n",
      "  return amplitude * np.exp(-((a * xdiff ** 2) + (b * xdiff * ydiff) +\n"
     ]
    },
    {
     "name": "stdout",
     "output_type": "stream",
     "text": [
      "        Number of sources =  22\n",
      "        Median x_fwhm = 10.0 +/- 2.0\n",
      "        Median y_fwhm = 8.0 +/- 1.1\n",
      "  Working on image:  /g/lu/data/imaka/onaga/20200121/sta/reduce/Beehive-W/sta042_o_scan_clean.fits\n",
      "    Calculating background\n",
      "     Bkg = -13.62 +/- 3.73\n",
      "     Bkg Threshold = 18.64\n",
      "     Detecting Stars\n",
      "     Pass 0 assuming FWHM = 8.0\n",
      "736 sources found\n"
     ]
    },
    {
     "name": "stderr",
     "output_type": "stream",
     "text": [
      "/opt/anaconda3/envs/astroconda/lib/python3.7/site-packages/astropy/modeling/functional_models.py:378: RuntimeWarning: divide by zero encountered in true_divide\n",
      "  a = 0.5 * ((cost2 / xstd2) + (sint2 / ystd2))\n",
      "/opt/anaconda3/envs/astroconda/lib/python3.7/site-packages/astropy/modeling/functional_models.py:379: RuntimeWarning: divide by zero encountered in true_divide\n",
      "  b = 0.5 * ((sin2t / xstd2) - (sin2t / ystd2))\n",
      "/opt/anaconda3/envs/astroconda/lib/python3.7/site-packages/astropy/modeling/functional_models.py:379: RuntimeWarning: invalid value encountered in subtract\n",
      "  b = 0.5 * ((sin2t / xstd2) - (sin2t / ystd2))\n",
      "/opt/anaconda3/envs/astroconda/lib/python3.7/site-packages/astropy/modeling/functional_models.py:380: RuntimeWarning: divide by zero encountered in true_divide\n",
      "  c = 0.5 * ((sint2 / xstd2) + (cost2 / ystd2))\n",
      "/opt/anaconda3/envs/astroconda/lib/python3.7/site-packages/astropy/modeling/functional_models.py:381: RuntimeWarning: invalid value encountered in add\n",
      "  return amplitude * np.exp(-((a * xdiff ** 2) + (b * xdiff * ydiff) +\n"
     ]
    },
    {
     "name": "stdout",
     "output_type": "stream",
     "text": [
      "        Number of sources =  23\n",
      "        Median x_fwhm = 8.5 +/- 1.6\n",
      "        Median y_fwhm = 8.0 +/- 1.6\n",
      "     Pass 1 assuming FWHM = 8.2\n",
      "649 sources found\n"
     ]
    },
    {
     "name": "stderr",
     "output_type": "stream",
     "text": [
      "/opt/anaconda3/envs/astroconda/lib/python3.7/site-packages/astropy/modeling/functional_models.py:378: RuntimeWarning: divide by zero encountered in true_divide\n",
      "  a = 0.5 * ((cost2 / xstd2) + (sint2 / ystd2))\n",
      "/opt/anaconda3/envs/astroconda/lib/python3.7/site-packages/astropy/modeling/functional_models.py:379: RuntimeWarning: divide by zero encountered in true_divide\n",
      "  b = 0.5 * ((sin2t / xstd2) - (sin2t / ystd2))\n",
      "/opt/anaconda3/envs/astroconda/lib/python3.7/site-packages/astropy/modeling/functional_models.py:379: RuntimeWarning: invalid value encountered in subtract\n",
      "  b = 0.5 * ((sin2t / xstd2) - (sin2t / ystd2))\n",
      "/opt/anaconda3/envs/astroconda/lib/python3.7/site-packages/astropy/modeling/functional_models.py:380: RuntimeWarning: divide by zero encountered in true_divide\n",
      "  c = 0.5 * ((sint2 / xstd2) + (cost2 / ystd2))\n",
      "WARNING: The fit may be unsuccessful; check fit_info['message'] for more information. [astropy.modeling.fitting]\n",
      "/opt/anaconda3/envs/astroconda/lib/python3.7/site-packages/astropy/modeling/functional_models.py:381: RuntimeWarning: invalid value encountered in add\n",
      "  return amplitude * np.exp(-((a * xdiff ** 2) + (b * xdiff * ydiff) +\n"
     ]
    },
    {
     "name": "stdout",
     "output_type": "stream",
     "text": [
      "        Number of sources =  26\n",
      "        Median x_fwhm = 9.0 +/- 1.7\n",
      "        Median y_fwhm = 8.0 +/- 1.6\n",
      "  Working on image:  /g/lu/data/imaka/onaga/20200121/sta/reduce/Beehive-W/sta044_o_scan_clean.fits\n",
      "    Calculating background\n",
      "     Bkg = -13.60 +/- 3.75\n",
      "     Bkg Threshold = 18.75\n",
      "     Detecting Stars\n",
      "     Pass 0 assuming FWHM = 8.0\n",
      "766 sources found\n"
     ]
    },
    {
     "name": "stderr",
     "output_type": "stream",
     "text": [
      "/opt/anaconda3/envs/astroconda/lib/python3.7/site-packages/astropy/modeling/functional_models.py:378: RuntimeWarning: divide by zero encountered in true_divide\n",
      "  a = 0.5 * ((cost2 / xstd2) + (sint2 / ystd2))\n",
      "/opt/anaconda3/envs/astroconda/lib/python3.7/site-packages/astropy/modeling/functional_models.py:379: RuntimeWarning: divide by zero encountered in true_divide\n",
      "  b = 0.5 * ((sin2t / xstd2) - (sin2t / ystd2))\n",
      "/opt/anaconda3/envs/astroconda/lib/python3.7/site-packages/astropy/modeling/functional_models.py:379: RuntimeWarning: invalid value encountered in subtract\n",
      "  b = 0.5 * ((sin2t / xstd2) - (sin2t / ystd2))\n",
      "/opt/anaconda3/envs/astroconda/lib/python3.7/site-packages/astropy/modeling/functional_models.py:380: RuntimeWarning: divide by zero encountered in true_divide\n",
      "  c = 0.5 * ((sint2 / xstd2) + (cost2 / ystd2))\n",
      "/opt/anaconda3/envs/astroconda/lib/python3.7/site-packages/astropy/modeling/functional_models.py:381: RuntimeWarning: invalid value encountered in add\n",
      "  return amplitude * np.exp(-((a * xdiff ** 2) + (b * xdiff * ydiff) +\n"
     ]
    },
    {
     "name": "stdout",
     "output_type": "stream",
     "text": [
      "        Number of sources =  29\n",
      "        Median x_fwhm = 8.0 +/- 1.9\n",
      "        Median y_fwhm = 8.0 +/- 1.6\n",
      "     Pass 1 assuming FWHM = 8.0\n",
      "766 sources found\n"
     ]
    },
    {
     "name": "stderr",
     "output_type": "stream",
     "text": [
      "/opt/anaconda3/envs/astroconda/lib/python3.7/site-packages/astropy/modeling/functional_models.py:378: RuntimeWarning: divide by zero encountered in true_divide\n",
      "  a = 0.5 * ((cost2 / xstd2) + (sint2 / ystd2))\n",
      "/opt/anaconda3/envs/astroconda/lib/python3.7/site-packages/astropy/modeling/functional_models.py:379: RuntimeWarning: divide by zero encountered in true_divide\n",
      "  b = 0.5 * ((sin2t / xstd2) - (sin2t / ystd2))\n",
      "/opt/anaconda3/envs/astroconda/lib/python3.7/site-packages/astropy/modeling/functional_models.py:379: RuntimeWarning: invalid value encountered in subtract\n",
      "  b = 0.5 * ((sin2t / xstd2) - (sin2t / ystd2))\n",
      "/opt/anaconda3/envs/astroconda/lib/python3.7/site-packages/astropy/modeling/functional_models.py:380: RuntimeWarning: divide by zero encountered in true_divide\n",
      "  c = 0.5 * ((sint2 / xstd2) + (cost2 / ystd2))\n",
      "/opt/anaconda3/envs/astroconda/lib/python3.7/site-packages/astropy/modeling/functional_models.py:381: RuntimeWarning: invalid value encountered in add\n",
      "  return amplitude * np.exp(-((a * xdiff ** 2) + (b * xdiff * ydiff) +\n"
     ]
    },
    {
     "name": "stdout",
     "output_type": "stream",
     "text": [
      "        Number of sources =  29\n",
      "        Median x_fwhm = 8.0 +/- 1.9\n",
      "        Median y_fwhm = 8.0 +/- 1.6\n",
      "  Working on image:  /g/lu/data/imaka/onaga/20200121/sta/reduce/Beehive-W/sta046_o_scan_clean.fits\n",
      "    Calculating background\n",
      "     Bkg = -13.66 +/- 3.77\n",
      "     Bkg Threshold = 18.83\n",
      "     Detecting Stars\n",
      "     Pass 0 assuming FWHM = 8.0\n",
      "692 sources found\n"
     ]
    },
    {
     "name": "stderr",
     "output_type": "stream",
     "text": [
      "/opt/anaconda3/envs/astroconda/lib/python3.7/site-packages/astropy/modeling/functional_models.py:378: RuntimeWarning: divide by zero encountered in true_divide\n",
      "  a = 0.5 * ((cost2 / xstd2) + (sint2 / ystd2))\n",
      "/opt/anaconda3/envs/astroconda/lib/python3.7/site-packages/astropy/modeling/functional_models.py:379: RuntimeWarning: divide by zero encountered in true_divide\n",
      "  b = 0.5 * ((sin2t / xstd2) - (sin2t / ystd2))\n",
      "/opt/anaconda3/envs/astroconda/lib/python3.7/site-packages/astropy/modeling/functional_models.py:379: RuntimeWarning: invalid value encountered in subtract\n",
      "  b = 0.5 * ((sin2t / xstd2) - (sin2t / ystd2))\n",
      "/opt/anaconda3/envs/astroconda/lib/python3.7/site-packages/astropy/modeling/functional_models.py:380: RuntimeWarning: divide by zero encountered in true_divide\n",
      "  c = 0.5 * ((sint2 / xstd2) + (cost2 / ystd2))\n",
      "/opt/anaconda3/envs/astroconda/lib/python3.7/site-packages/astropy/modeling/functional_models.py:381: RuntimeWarning: invalid value encountered in add\n",
      "  return amplitude * np.exp(-((a * xdiff ** 2) + (b * xdiff * ydiff) +\n"
     ]
    },
    {
     "name": "stdout",
     "output_type": "stream",
     "text": [
      "        Number of sources =  19\n",
      "        Median x_fwhm = 10.0 +/- 1.4\n",
      "        Median y_fwhm = 9.0 +/- 1.5\n",
      "     Pass 1 assuming FWHM = 9.5\n",
      "565 sources found\n"
     ]
    },
    {
     "name": "stderr",
     "output_type": "stream",
     "text": [
      "/opt/anaconda3/envs/astroconda/lib/python3.7/site-packages/astropy/modeling/functional_models.py:378: RuntimeWarning: divide by zero encountered in true_divide\n",
      "  a = 0.5 * ((cost2 / xstd2) + (sint2 / ystd2))\n",
      "/opt/anaconda3/envs/astroconda/lib/python3.7/site-packages/astropy/modeling/functional_models.py:379: RuntimeWarning: divide by zero encountered in true_divide\n",
      "  b = 0.5 * ((sin2t / xstd2) - (sin2t / ystd2))\n",
      "/opt/anaconda3/envs/astroconda/lib/python3.7/site-packages/astropy/modeling/functional_models.py:379: RuntimeWarning: invalid value encountered in subtract\n",
      "  b = 0.5 * ((sin2t / xstd2) - (sin2t / ystd2))\n",
      "/opt/anaconda3/envs/astroconda/lib/python3.7/site-packages/astropy/modeling/functional_models.py:380: RuntimeWarning: divide by zero encountered in true_divide\n",
      "  c = 0.5 * ((sint2 / xstd2) + (cost2 / ystd2))\n",
      "/opt/anaconda3/envs/astroconda/lib/python3.7/site-packages/astropy/modeling/functional_models.py:381: RuntimeWarning: invalid value encountered in add\n",
      "  return amplitude * np.exp(-((a * xdiff ** 2) + (b * xdiff * ydiff) +\n"
     ]
    },
    {
     "name": "stdout",
     "output_type": "stream",
     "text": [
      "        Number of sources =  25\n",
      "        Median x_fwhm = 10.0 +/- 2.0\n",
      "        Median y_fwhm = 9.0 +/- 1.5\n",
      "  Working on image:  /g/lu/data/imaka/onaga/20200121/sta/reduce/Beehive-W/sta048_o_scan_clean.fits\n",
      "    Calculating background\n",
      "     Bkg = -3.43 +/- 2.30\n",
      "     Bkg Threshold = 11.50\n",
      "     Detecting Stars\n",
      "     Pass 0 assuming FWHM = 8.0\n",
      "9697 sources found\n"
     ]
    },
    {
     "name": "stderr",
     "output_type": "stream",
     "text": [
      "/opt/anaconda3/envs/astroconda/lib/python3.7/site-packages/astropy/modeling/functional_models.py:378: RuntimeWarning: divide by zero encountered in true_divide\n",
      "  a = 0.5 * ((cost2 / xstd2) + (sint2 / ystd2))\n",
      "/opt/anaconda3/envs/astroconda/lib/python3.7/site-packages/astropy/modeling/functional_models.py:379: RuntimeWarning: divide by zero encountered in true_divide\n",
      "  b = 0.5 * ((sin2t / xstd2) - (sin2t / ystd2))\n",
      "/opt/anaconda3/envs/astroconda/lib/python3.7/site-packages/astropy/modeling/functional_models.py:380: RuntimeWarning: divide by zero encountered in true_divide\n",
      "  c = 0.5 * ((sint2 / xstd2) + (cost2 / ystd2))\n",
      "/opt/anaconda3/envs/astroconda/lib/python3.7/site-packages/astropy/modeling/functional_models.py:381: RuntimeWarning: invalid value encountered in add\n",
      "  return amplitude * np.exp(-((a * xdiff ** 2) + (b * xdiff * ydiff) +\n",
      "/opt/anaconda3/envs/astroconda/lib/python3.7/site-packages/astropy/modeling/functional_models.py:379: RuntimeWarning: invalid value encountered in subtract\n",
      "  b = 0.5 * ((sin2t / xstd2) - (sin2t / ystd2))\n",
      "WARNING: The fit may be unsuccessful; check fit_info['message'] for more information. [astropy.modeling.fitting]\n",
      "/opt/anaconda3/envs/astroconda/lib/python3.7/site-packages/astropy/modeling/functional_models.py:378: RuntimeWarning: invalid value encountered in true_divide\n",
      "  a = 0.5 * ((cost2 / xstd2) + (sint2 / ystd2))\n",
      "/opt/anaconda3/envs/astroconda/lib/python3.7/site-packages/astropy/modeling/functional_models.py:379: RuntimeWarning: invalid value encountered in true_divide\n",
      "  b = 0.5 * ((sin2t / xstd2) - (sin2t / ystd2))\n",
      "/opt/anaconda3/envs/astroconda/lib/python3.7/site-packages/astropy/modeling/functional_models.py:380: RuntimeWarning: invalid value encountered in true_divide\n",
      "  c = 0.5 * ((sint2 / xstd2) + (cost2 / ystd2))\n"
     ]
    },
    {
     "name": "stdout",
     "output_type": "stream",
     "text": [
      "        Number of sources =  43\n",
      "        Median x_fwhm = 9.0 +/- 1.9\n",
      "        Median y_fwhm = 9.0 +/- 2.0\n",
      "     Pass 1 assuming FWHM = 9.0\n",
      "7793 sources found\n"
     ]
    },
    {
     "name": "stderr",
     "output_type": "stream",
     "text": [
      "/opt/anaconda3/envs/astroconda/lib/python3.7/site-packages/astropy/modeling/functional_models.py:378: RuntimeWarning: divide by zero encountered in true_divide\n",
      "  a = 0.5 * ((cost2 / xstd2) + (sint2 / ystd2))\n",
      "/opt/anaconda3/envs/astroconda/lib/python3.7/site-packages/astropy/modeling/functional_models.py:379: RuntimeWarning: divide by zero encountered in true_divide\n",
      "  b = 0.5 * ((sin2t / xstd2) - (sin2t / ystd2))\n",
      "/opt/anaconda3/envs/astroconda/lib/python3.7/site-packages/astropy/modeling/functional_models.py:379: RuntimeWarning: invalid value encountered in subtract\n",
      "  b = 0.5 * ((sin2t / xstd2) - (sin2t / ystd2))\n",
      "/opt/anaconda3/envs/astroconda/lib/python3.7/site-packages/astropy/modeling/functional_models.py:380: RuntimeWarning: divide by zero encountered in true_divide\n",
      "  c = 0.5 * ((sint2 / xstd2) + (cost2 / ystd2))\n",
      "WARNING: The fit may be unsuccessful; check fit_info['message'] for more information. [astropy.modeling.fitting]\n",
      "/opt/anaconda3/envs/astroconda/lib/python3.7/site-packages/astropy/modeling/functional_models.py:381: RuntimeWarning: invalid value encountered in add\n",
      "  return amplitude * np.exp(-((a * xdiff ** 2) + (b * xdiff * ydiff) +\n"
     ]
    },
    {
     "name": "stdout",
     "output_type": "stream",
     "text": [
      "        Number of sources =  42\n",
      "        Median x_fwhm = 9.0 +/- 2.0\n",
      "        Median y_fwhm = 8.0 +/- 1.5\n",
      "  Working on image:  /g/lu/data/imaka/onaga/20200121/sta/reduce/Beehive-W/sta050_o_scan_clean.fits\n",
      "    Calculating background\n",
      "     Bkg = 12.34 +/- 2.65\n",
      "     Bkg Threshold = 13.25\n",
      "     Detecting Stars\n",
      "     Pass 0 assuming FWHM = 8.0\n",
      "8662 sources found\n"
     ]
    },
    {
     "name": "stderr",
     "output_type": "stream",
     "text": [
      "/opt/anaconda3/envs/astroconda/lib/python3.7/site-packages/astropy/modeling/functional_models.py:378: RuntimeWarning: divide by zero encountered in true_divide\n",
      "  a = 0.5 * ((cost2 / xstd2) + (sint2 / ystd2))\n",
      "/opt/anaconda3/envs/astroconda/lib/python3.7/site-packages/astropy/modeling/functional_models.py:379: RuntimeWarning: divide by zero encountered in true_divide\n",
      "  b = 0.5 * ((sin2t / xstd2) - (sin2t / ystd2))\n",
      "/opt/anaconda3/envs/astroconda/lib/python3.7/site-packages/astropy/modeling/functional_models.py:380: RuntimeWarning: divide by zero encountered in true_divide\n",
      "  c = 0.5 * ((sint2 / xstd2) + (cost2 / ystd2))\n",
      "/opt/anaconda3/envs/astroconda/lib/python3.7/site-packages/astropy/modeling/functional_models.py:381: RuntimeWarning: invalid value encountered in add\n",
      "  return amplitude * np.exp(-((a * xdiff ** 2) + (b * xdiff * ydiff) +\n",
      "/opt/anaconda3/envs/astroconda/lib/python3.7/site-packages/astropy/modeling/functional_models.py:379: RuntimeWarning: invalid value encountered in subtract\n",
      "  b = 0.5 * ((sin2t / xstd2) - (sin2t / ystd2))\n",
      "WARNING: The fit may be unsuccessful; check fit_info['message'] for more information. [astropy.modeling.fitting]\n"
     ]
    },
    {
     "name": "stdout",
     "output_type": "stream",
     "text": [
      "        Number of sources =  37\n",
      "        Median x_fwhm = 13.0 +/- 7.6\n",
      "        Median y_fwhm = 10.5 +/- 7.9\n",
      "     Pass 1 assuming FWHM = 11.8\n",
      "4069 sources found\n"
     ]
    },
    {
     "name": "stderr",
     "output_type": "stream",
     "text": [
      "/opt/anaconda3/envs/astroconda/lib/python3.7/site-packages/astropy/modeling/functional_models.py:378: RuntimeWarning: divide by zero encountered in true_divide\n",
      "  a = 0.5 * ((cost2 / xstd2) + (sint2 / ystd2))\n",
      "/opt/anaconda3/envs/astroconda/lib/python3.7/site-packages/astropy/modeling/functional_models.py:379: RuntimeWarning: divide by zero encountered in true_divide\n",
      "  b = 0.5 * ((sin2t / xstd2) - (sin2t / ystd2))\n",
      "/opt/anaconda3/envs/astroconda/lib/python3.7/site-packages/astropy/modeling/functional_models.py:379: RuntimeWarning: invalid value encountered in subtract\n",
      "  b = 0.5 * ((sin2t / xstd2) - (sin2t / ystd2))\n",
      "/opt/anaconda3/envs/astroconda/lib/python3.7/site-packages/astropy/modeling/functional_models.py:380: RuntimeWarning: divide by zero encountered in true_divide\n",
      "  c = 0.5 * ((sint2 / xstd2) + (cost2 / ystd2))\n",
      "WARNING: The fit may be unsuccessful; check fit_info['message'] for more information. [astropy.modeling.fitting]\n",
      "/opt/anaconda3/envs/astroconda/lib/python3.7/site-packages/astropy/modeling/functional_models.py:381: RuntimeWarning: invalid value encountered in add\n",
      "  return amplitude * np.exp(-((a * xdiff ** 2) + (b * xdiff * ydiff) +\n"
     ]
    },
    {
     "name": "stdout",
     "output_type": "stream",
     "text": [
      "        Number of sources =  44\n",
      "        Median x_fwhm = 13.0 +/- 15.9\n",
      "        Median y_fwhm = 11.5 +/- 16.5\n",
      "  Working on image:  /g/lu/data/imaka/onaga/20200121/sta/reduce/Beehive-W/sta052_o_scan_clean.fits\n",
      "    Calculating background\n",
      "     Bkg = 4.57 +/- 2.37\n",
      "     Bkg Threshold = 11.86\n",
      "     Detecting Stars\n",
      "     Pass 0 assuming FWHM = 8.0\n",
      "10804 sources found\n"
     ]
    },
    {
     "name": "stderr",
     "output_type": "stream",
     "text": [
      "/opt/anaconda3/envs/astroconda/lib/python3.7/site-packages/astropy/modeling/functional_models.py:378: RuntimeWarning: divide by zero encountered in true_divide\n",
      "  a = 0.5 * ((cost2 / xstd2) + (sint2 / ystd2))\n",
      "/opt/anaconda3/envs/astroconda/lib/python3.7/site-packages/astropy/modeling/functional_models.py:379: RuntimeWarning: divide by zero encountered in true_divide\n",
      "  b = 0.5 * ((sin2t / xstd2) - (sin2t / ystd2))\n",
      "/opt/anaconda3/envs/astroconda/lib/python3.7/site-packages/astropy/modeling/functional_models.py:380: RuntimeWarning: divide by zero encountered in true_divide\n",
      "  c = 0.5 * ((sint2 / xstd2) + (cost2 / ystd2))\n",
      "/opt/anaconda3/envs/astroconda/lib/python3.7/site-packages/astropy/modeling/functional_models.py:381: RuntimeWarning: invalid value encountered in add\n",
      "  return amplitude * np.exp(-((a * xdiff ** 2) + (b * xdiff * ydiff) +\n",
      "/opt/anaconda3/envs/astroconda/lib/python3.7/site-packages/astropy/modeling/functional_models.py:379: RuntimeWarning: invalid value encountered in subtract\n",
      "  b = 0.5 * ((sin2t / xstd2) - (sin2t / ystd2))\n",
      "WARNING: The fit may be unsuccessful; check fit_info['message'] for more information. [astropy.modeling.fitting]\n"
     ]
    },
    {
     "name": "stdout",
     "output_type": "stream",
     "text": [
      "        Number of sources =  39\n",
      "        Median x_fwhm = 11.0 +/- 3.2\n",
      "        Median y_fwhm = 10.0 +/- 3.6\n",
      "     Pass 1 assuming FWHM = 10.5\n",
      "6632 sources found\n"
     ]
    },
    {
     "name": "stderr",
     "output_type": "stream",
     "text": [
      "/opt/anaconda3/envs/astroconda/lib/python3.7/site-packages/astropy/modeling/functional_models.py:378: RuntimeWarning: divide by zero encountered in true_divide\n",
      "  a = 0.5 * ((cost2 / xstd2) + (sint2 / ystd2))\n",
      "/opt/anaconda3/envs/astroconda/lib/python3.7/site-packages/astropy/modeling/functional_models.py:379: RuntimeWarning: divide by zero encountered in true_divide\n",
      "  b = 0.5 * ((sin2t / xstd2) - (sin2t / ystd2))\n",
      "/opt/anaconda3/envs/astroconda/lib/python3.7/site-packages/astropy/modeling/functional_models.py:380: RuntimeWarning: divide by zero encountered in true_divide\n",
      "  c = 0.5 * ((sint2 / xstd2) + (cost2 / ystd2))\n",
      "/opt/anaconda3/envs/astroconda/lib/python3.7/site-packages/astropy/modeling/functional_models.py:381: RuntimeWarning: invalid value encountered in add\n",
      "  return amplitude * np.exp(-((a * xdiff ** 2) + (b * xdiff * ydiff) +\n",
      "/opt/anaconda3/envs/astroconda/lib/python3.7/site-packages/astropy/modeling/functional_models.py:379: RuntimeWarning: invalid value encountered in subtract\n",
      "  b = 0.5 * ((sin2t / xstd2) - (sin2t / ystd2))\n",
      "WARNING: The fit may be unsuccessful; check fit_info['message'] for more information. [astropy.modeling.fitting]\n"
     ]
    },
    {
     "name": "stdout",
     "output_type": "stream",
     "text": [
      "        Number of sources =  43\n",
      "        Median x_fwhm = 11.0 +/- 10.5\n",
      "        Median y_fwhm = 10.0 +/- 10.9\n",
      "  Working on image:  /g/lu/data/imaka/onaga/20200121/sta/reduce/Beehive-W/sta054_o_scan_clean.fits\n",
      "    Calculating background\n",
      "     Bkg = -3.73 +/- 2.38\n",
      "     Bkg Threshold = 11.92\n",
      "     Detecting Stars\n",
      "     Pass 0 assuming FWHM = 8.0\n",
      "8793 sources found\n"
     ]
    },
    {
     "name": "stderr",
     "output_type": "stream",
     "text": [
      "/opt/anaconda3/envs/astroconda/lib/python3.7/site-packages/astropy/modeling/functional_models.py:378: RuntimeWarning: divide by zero encountered in true_divide\n",
      "  a = 0.5 * ((cost2 / xstd2) + (sint2 / ystd2))\n",
      "/opt/anaconda3/envs/astroconda/lib/python3.7/site-packages/astropy/modeling/functional_models.py:379: RuntimeWarning: divide by zero encountered in true_divide\n",
      "  b = 0.5 * ((sin2t / xstd2) - (sin2t / ystd2))\n",
      "/opt/anaconda3/envs/astroconda/lib/python3.7/site-packages/astropy/modeling/functional_models.py:379: RuntimeWarning: invalid value encountered in subtract\n",
      "  b = 0.5 * ((sin2t / xstd2) - (sin2t / ystd2))\n",
      "/opt/anaconda3/envs/astroconda/lib/python3.7/site-packages/astropy/modeling/functional_models.py:380: RuntimeWarning: divide by zero encountered in true_divide\n",
      "  c = 0.5 * ((sint2 / xstd2) + (cost2 / ystd2))\n",
      "WARNING: The fit may be unsuccessful; check fit_info['message'] for more information. [astropy.modeling.fitting]\n",
      "/opt/anaconda3/envs/astroconda/lib/python3.7/site-packages/astropy/modeling/functional_models.py:381: RuntimeWarning: invalid value encountered in add\n",
      "  return amplitude * np.exp(-((a * xdiff ** 2) + (b * xdiff * ydiff) +\n"
     ]
    },
    {
     "name": "stdout",
     "output_type": "stream",
     "text": [
      "        Number of sources =  42\n",
      "        Median x_fwhm = 9.0 +/- 1.6\n",
      "        Median y_fwhm = 9.0 +/- 1.8\n",
      "     Pass 1 assuming FWHM = 9.0\n",
      "7114 sources found\n"
     ]
    },
    {
     "name": "stderr",
     "output_type": "stream",
     "text": [
      "/opt/anaconda3/envs/astroconda/lib/python3.7/site-packages/astropy/modeling/functional_models.py:378: RuntimeWarning: divide by zero encountered in true_divide\n",
      "  a = 0.5 * ((cost2 / xstd2) + (sint2 / ystd2))\n",
      "/opt/anaconda3/envs/astroconda/lib/python3.7/site-packages/astropy/modeling/functional_models.py:379: RuntimeWarning: divide by zero encountered in true_divide\n",
      "  b = 0.5 * ((sin2t / xstd2) - (sin2t / ystd2))\n",
      "/opt/anaconda3/envs/astroconda/lib/python3.7/site-packages/astropy/modeling/functional_models.py:380: RuntimeWarning: divide by zero encountered in true_divide\n",
      "  c = 0.5 * ((sint2 / xstd2) + (cost2 / ystd2))\n",
      "/opt/anaconda3/envs/astroconda/lib/python3.7/site-packages/astropy/modeling/functional_models.py:381: RuntimeWarning: invalid value encountered in add\n",
      "  return amplitude * np.exp(-((a * xdiff ** 2) + (b * xdiff * ydiff) +\n",
      "/opt/anaconda3/envs/astroconda/lib/python3.7/site-packages/astropy/modeling/functional_models.py:379: RuntimeWarning: invalid value encountered in subtract\n",
      "  b = 0.5 * ((sin2t / xstd2) - (sin2t / ystd2))\n",
      "WARNING: The fit may be unsuccessful; check fit_info['message'] for more information. [astropy.modeling.fitting]\n"
     ]
    },
    {
     "name": "stdout",
     "output_type": "stream",
     "text": [
      "        Number of sources =  42\n",
      "        Median x_fwhm = 9.0 +/- 1.6\n",
      "        Median y_fwhm = 8.0 +/- 1.5\n",
      "  Working on image:  /g/lu/data/imaka/onaga/20200121/sta/reduce/Beehive-W/sta056_o_scan_clean.fits\n",
      "    Calculating background\n",
      "     Bkg = -3.72 +/- 2.38\n",
      "     Bkg Threshold = 11.91\n",
      "     Detecting Stars\n",
      "     Pass 0 assuming FWHM = 8.0\n",
      "8669 sources found\n"
     ]
    },
    {
     "name": "stderr",
     "output_type": "stream",
     "text": [
      "/opt/anaconda3/envs/astroconda/lib/python3.7/site-packages/astropy/modeling/functional_models.py:378: RuntimeWarning: divide by zero encountered in true_divide\n",
      "  a = 0.5 * ((cost2 / xstd2) + (sint2 / ystd2))\n",
      "/opt/anaconda3/envs/astroconda/lib/python3.7/site-packages/astropy/modeling/functional_models.py:379: RuntimeWarning: divide by zero encountered in true_divide\n",
      "  b = 0.5 * ((sin2t / xstd2) - (sin2t / ystd2))\n",
      "/opt/anaconda3/envs/astroconda/lib/python3.7/site-packages/astropy/modeling/functional_models.py:380: RuntimeWarning: divide by zero encountered in true_divide\n",
      "  c = 0.5 * ((sint2 / xstd2) + (cost2 / ystd2))\n",
      "/opt/anaconda3/envs/astroconda/lib/python3.7/site-packages/astropy/modeling/functional_models.py:381: RuntimeWarning: invalid value encountered in add\n",
      "  return amplitude * np.exp(-((a * xdiff ** 2) + (b * xdiff * ydiff) +\n",
      "WARNING: The fit may be unsuccessful; check fit_info['message'] for more information. [astropy.modeling.fitting]\n",
      "/opt/anaconda3/envs/astroconda/lib/python3.7/site-packages/astropy/modeling/functional_models.py:379: RuntimeWarning: invalid value encountered in subtract\n",
      "  b = 0.5 * ((sin2t / xstd2) - (sin2t / ystd2))\n",
      "/opt/anaconda3/envs/astroconda/lib/python3.7/site-packages/astropy/modeling/functional_models.py:379: RuntimeWarning: invalid value encountered in true_divide\n",
      "  b = 0.5 * ((sin2t / xstd2) - (sin2t / ystd2))\n",
      "/opt/anaconda3/envs/astroconda/lib/python3.7/site-packages/astropy/modeling/functional_models.py:380: RuntimeWarning: invalid value encountered in true_divide\n",
      "  c = 0.5 * ((sint2 / xstd2) + (cost2 / ystd2))\n",
      "/opt/anaconda3/envs/astroconda/lib/python3.7/site-packages/astropy/modeling/functional_models.py:378: RuntimeWarning: invalid value encountered in true_divide\n",
      "  a = 0.5 * ((cost2 / xstd2) + (sint2 / ystd2))\n"
     ]
    },
    {
     "name": "stdout",
     "output_type": "stream",
     "text": [
      "        Number of sources =  37\n",
      "        Median x_fwhm = 13.0 +/- 2.5\n",
      "        Median y_fwhm = 10.0 +/- 2.3\n",
      "     Pass 1 assuming FWHM = 11.5\n",
      "4088 sources found\n"
     ]
    },
    {
     "name": "stderr",
     "output_type": "stream",
     "text": [
      "/opt/anaconda3/envs/astroconda/lib/python3.7/site-packages/astropy/modeling/functional_models.py:378: RuntimeWarning: divide by zero encountered in true_divide\n",
      "  a = 0.5 * ((cost2 / xstd2) + (sint2 / ystd2))\n",
      "/opt/anaconda3/envs/astroconda/lib/python3.7/site-packages/astropy/modeling/functional_models.py:379: RuntimeWarning: divide by zero encountered in true_divide\n",
      "  b = 0.5 * ((sin2t / xstd2) - (sin2t / ystd2))\n",
      "/opt/anaconda3/envs/astroconda/lib/python3.7/site-packages/astropy/modeling/functional_models.py:379: RuntimeWarning: invalid value encountered in subtract\n",
      "  b = 0.5 * ((sin2t / xstd2) - (sin2t / ystd2))\n",
      "/opt/anaconda3/envs/astroconda/lib/python3.7/site-packages/astropy/modeling/functional_models.py:380: RuntimeWarning: divide by zero encountered in true_divide\n",
      "  c = 0.5 * ((sint2 / xstd2) + (cost2 / ystd2))\n",
      "/opt/anaconda3/envs/astroconda/lib/python3.7/site-packages/astropy/modeling/functional_models.py:381: RuntimeWarning: invalid value encountered in add\n",
      "  return amplitude * np.exp(-((a * xdiff ** 2) + (b * xdiff * ydiff) +\n",
      "WARNING: The fit may be unsuccessful; check fit_info['message'] for more information. [astropy.modeling.fitting]\n"
     ]
    },
    {
     "name": "stdout",
     "output_type": "stream",
     "text": [
      "        Number of sources =  41\n",
      "        Median x_fwhm = 13.0 +/- 1.7\n",
      "        Median y_fwhm = 8.0 +/- 1.6\n",
      "  Working on image:  /g/lu/data/imaka/onaga/20200121/sta/reduce/Beehive-W/sta058_o_scan_clean.fits\n",
      "    Calculating background\n",
      "     Bkg = -20.74 +/- 5.06\n",
      "     Bkg Threshold = 25.30\n",
      "     Detecting Stars\n",
      "     Pass 0 assuming FWHM = 8.0\n",
      "179 sources found\n"
     ]
    },
    {
     "name": "stderr",
     "output_type": "stream",
     "text": [
      "/opt/anaconda3/envs/astroconda/lib/python3.7/site-packages/astropy/modeling/functional_models.py:378: RuntimeWarning: divide by zero encountered in true_divide\n",
      "  a = 0.5 * ((cost2 / xstd2) + (sint2 / ystd2))\n",
      "/opt/anaconda3/envs/astroconda/lib/python3.7/site-packages/astropy/modeling/functional_models.py:379: RuntimeWarning: divide by zero encountered in true_divide\n",
      "  b = 0.5 * ((sin2t / xstd2) - (sin2t / ystd2))\n",
      "/opt/anaconda3/envs/astroconda/lib/python3.7/site-packages/astropy/modeling/functional_models.py:379: RuntimeWarning: invalid value encountered in subtract\n",
      "  b = 0.5 * ((sin2t / xstd2) - (sin2t / ystd2))\n",
      "/opt/anaconda3/envs/astroconda/lib/python3.7/site-packages/astropy/modeling/functional_models.py:380: RuntimeWarning: divide by zero encountered in true_divide\n",
      "  c = 0.5 * ((sint2 / xstd2) + (cost2 / ystd2))\n",
      "/opt/anaconda3/envs/astroconda/lib/python3.7/site-packages/astropy/modeling/functional_models.py:381: RuntimeWarning: invalid value encountered in add\n",
      "  return amplitude * np.exp(-((a * xdiff ** 2) + (b * xdiff * ydiff) +\n"
     ]
    },
    {
     "name": "stdout",
     "output_type": "stream",
     "text": [
      "        Number of sources =  6\n",
      "        Median x_fwhm = 15.0 +/- 2.1\n",
      "        Median y_fwhm = 12.0 +/- 2.2\n",
      "     Pass 1 assuming FWHM = 13.5\n",
      "52 sources found\n"
     ]
    },
    {
     "name": "stderr",
     "output_type": "stream",
     "text": [
      "/opt/anaconda3/envs/astroconda/lib/python3.7/site-packages/astropy/modeling/functional_models.py:378: RuntimeWarning: divide by zero encountered in true_divide\n",
      "  a = 0.5 * ((cost2 / xstd2) + (sint2 / ystd2))\n",
      "/opt/anaconda3/envs/astroconda/lib/python3.7/site-packages/astropy/modeling/functional_models.py:379: RuntimeWarning: divide by zero encountered in true_divide\n",
      "  b = 0.5 * ((sin2t / xstd2) - (sin2t / ystd2))\n",
      "/opt/anaconda3/envs/astroconda/lib/python3.7/site-packages/astropy/modeling/functional_models.py:380: RuntimeWarning: divide by zero encountered in true_divide\n",
      "  c = 0.5 * ((sint2 / xstd2) + (cost2 / ystd2))\n",
      "/opt/anaconda3/envs/astroconda/lib/python3.7/site-packages/astropy/modeling/functional_models.py:381: RuntimeWarning: invalid value encountered in add\n",
      "  return amplitude * np.exp(-((a * xdiff ** 2) + (b * xdiff * ydiff) +\n",
      "/opt/anaconda3/envs/astroconda/lib/python3.7/site-packages/astropy/modeling/functional_models.py:379: RuntimeWarning: invalid value encountered in subtract\n",
      "  b = 0.5 * ((sin2t / xstd2) - (sin2t / ystd2))\n"
     ]
    },
    {
     "name": "stdout",
     "output_type": "stream",
     "text": [
      "        Number of sources =  7\n",
      "        Median x_fwhm = 15.0 +/- 3.1\n",
      "        Median y_fwhm = 12.0 +/- 1.0\n",
      "  Working on image:  /g/lu/data/imaka/onaga/20200121/sta/reduce/Beehive-W/sta059_o_scan_clean.fits\n",
      "    Calculating background\n",
      "     Bkg = -20.77 +/- 5.04\n",
      "     Bkg Threshold = 25.20\n",
      "     Detecting Stars\n",
      "     Pass 0 assuming FWHM = 8.0\n",
      "187 sources found\n"
     ]
    },
    {
     "name": "stderr",
     "output_type": "stream",
     "text": [
      "/opt/anaconda3/envs/astroconda/lib/python3.7/site-packages/astropy/modeling/functional_models.py:378: RuntimeWarning: divide by zero encountered in true_divide\n",
      "  a = 0.5 * ((cost2 / xstd2) + (sint2 / ystd2))\n",
      "/opt/anaconda3/envs/astroconda/lib/python3.7/site-packages/astropy/modeling/functional_models.py:379: RuntimeWarning: divide by zero encountered in true_divide\n",
      "  b = 0.5 * ((sin2t / xstd2) - (sin2t / ystd2))\n",
      "/opt/anaconda3/envs/astroconda/lib/python3.7/site-packages/astropy/modeling/functional_models.py:379: RuntimeWarning: invalid value encountered in subtract\n",
      "  b = 0.5 * ((sin2t / xstd2) - (sin2t / ystd2))\n",
      "/opt/anaconda3/envs/astroconda/lib/python3.7/site-packages/astropy/modeling/functional_models.py:380: RuntimeWarning: divide by zero encountered in true_divide\n",
      "  c = 0.5 * ((sint2 / xstd2) + (cost2 / ystd2))\n",
      "/opt/anaconda3/envs/astroconda/lib/python3.7/site-packages/astropy/modeling/functional_models.py:381: RuntimeWarning: invalid value encountered in add\n",
      "  return amplitude * np.exp(-((a * xdiff ** 2) + (b * xdiff * ydiff) +\n"
     ]
    },
    {
     "name": "stdout",
     "output_type": "stream",
     "text": [
      "        Number of sources =  6\n",
      "        Median x_fwhm = 14.0 +/- 1.3\n",
      "        Median y_fwhm = 11.0 +/- 1.5\n",
      "     Pass 1 assuming FWHM = 12.5\n",
      "79 sources found\n"
     ]
    },
    {
     "name": "stderr",
     "output_type": "stream",
     "text": [
      "/opt/anaconda3/envs/astroconda/lib/python3.7/site-packages/astropy/modeling/functional_models.py:378: RuntimeWarning: divide by zero encountered in true_divide\n",
      "  a = 0.5 * ((cost2 / xstd2) + (sint2 / ystd2))\n",
      "/opt/anaconda3/envs/astroconda/lib/python3.7/site-packages/astropy/modeling/functional_models.py:379: RuntimeWarning: divide by zero encountered in true_divide\n",
      "  b = 0.5 * ((sin2t / xstd2) - (sin2t / ystd2))\n",
      "/opt/anaconda3/envs/astroconda/lib/python3.7/site-packages/astropy/modeling/functional_models.py:380: RuntimeWarning: divide by zero encountered in true_divide\n",
      "  c = 0.5 * ((sint2 / xstd2) + (cost2 / ystd2))\n",
      "/opt/anaconda3/envs/astroconda/lib/python3.7/site-packages/astropy/modeling/functional_models.py:381: RuntimeWarning: invalid value encountered in add\n",
      "  return amplitude * np.exp(-((a * xdiff ** 2) + (b * xdiff * ydiff) +\n",
      "/opt/anaconda3/envs/astroconda/lib/python3.7/site-packages/astropy/modeling/functional_models.py:379: RuntimeWarning: invalid value encountered in subtract\n",
      "  b = 0.5 * ((sin2t / xstd2) - (sin2t / ystd2))\n",
      "/opt/anaconda3/envs/astroconda/lib/python3.7/site-packages/astropy/modeling/functional_models.py:378: RuntimeWarning: invalid value encountered in true_divide\n",
      "  a = 0.5 * ((cost2 / xstd2) + (sint2 / ystd2))\n",
      "/opt/anaconda3/envs/astroconda/lib/python3.7/site-packages/astropy/modeling/functional_models.py:379: RuntimeWarning: invalid value encountered in true_divide\n",
      "  b = 0.5 * ((sin2t / xstd2) - (sin2t / ystd2))\n"
     ]
    },
    {
     "name": "stdout",
     "output_type": "stream",
     "text": [
      "        Number of sources =  7\n",
      "        Median x_fwhm = 14.0 +/- 1.2\n",
      "        Median y_fwhm = 11.0 +/- 1.5\n",
      "  Working on image:  /g/lu/data/imaka/onaga/20200121/sta/reduce/Beehive-W/sta063_o_scan_clean.fits\n",
      "    Calculating background\n",
      "     Bkg = -14.55 +/- 3.72\n",
      "     Bkg Threshold = 18.59\n",
      "     Detecting Stars\n",
      "     Pass 0 assuming FWHM = 8.0\n",
      "913 sources found\n"
     ]
    },
    {
     "name": "stderr",
     "output_type": "stream",
     "text": [
      "/opt/anaconda3/envs/astroconda/lib/python3.7/site-packages/astropy/modeling/functional_models.py:378: RuntimeWarning: divide by zero encountered in true_divide\n",
      "  a = 0.5 * ((cost2 / xstd2) + (sint2 / ystd2))\n",
      "/opt/anaconda3/envs/astroconda/lib/python3.7/site-packages/astropy/modeling/functional_models.py:379: RuntimeWarning: divide by zero encountered in true_divide\n",
      "  b = 0.5 * ((sin2t / xstd2) - (sin2t / ystd2))\n",
      "/opt/anaconda3/envs/astroconda/lib/python3.7/site-packages/astropy/modeling/functional_models.py:379: RuntimeWarning: invalid value encountered in subtract\n",
      "  b = 0.5 * ((sin2t / xstd2) - (sin2t / ystd2))\n",
      "/opt/anaconda3/envs/astroconda/lib/python3.7/site-packages/astropy/modeling/functional_models.py:380: RuntimeWarning: divide by zero encountered in true_divide\n",
      "  c = 0.5 * ((sint2 / xstd2) + (cost2 / ystd2))\n",
      "/opt/anaconda3/envs/astroconda/lib/python3.7/site-packages/astropy/modeling/functional_models.py:381: RuntimeWarning: invalid value encountered in add\n",
      "  return amplitude * np.exp(-((a * xdiff ** 2) + (b * xdiff * ydiff) +\n"
     ]
    },
    {
     "name": "stdout",
     "output_type": "stream",
     "text": [
      "        Number of sources =  16\n",
      "        Median x_fwhm = 14.0 +/- 2.7\n",
      "        Median y_fwhm = 12.0 +/- 2.8\n",
      "     Pass 1 assuming FWHM = 13.0\n",
      "442 sources found\n"
     ]
    },
    {
     "name": "stderr",
     "output_type": "stream",
     "text": [
      "/opt/anaconda3/envs/astroconda/lib/python3.7/site-packages/astropy/modeling/functional_models.py:378: RuntimeWarning: divide by zero encountered in true_divide\n",
      "  a = 0.5 * ((cost2 / xstd2) + (sint2 / ystd2))\n",
      "/opt/anaconda3/envs/astroconda/lib/python3.7/site-packages/astropy/modeling/functional_models.py:379: RuntimeWarning: divide by zero encountered in true_divide\n",
      "  b = 0.5 * ((sin2t / xstd2) - (sin2t / ystd2))\n",
      "/opt/anaconda3/envs/astroconda/lib/python3.7/site-packages/astropy/modeling/functional_models.py:379: RuntimeWarning: invalid value encountered in subtract\n",
      "  b = 0.5 * ((sin2t / xstd2) - (sin2t / ystd2))\n",
      "/opt/anaconda3/envs/astroconda/lib/python3.7/site-packages/astropy/modeling/functional_models.py:380: RuntimeWarning: divide by zero encountered in true_divide\n",
      "  c = 0.5 * ((sint2 / xstd2) + (cost2 / ystd2))\n",
      "/opt/anaconda3/envs/astroconda/lib/python3.7/site-packages/astropy/modeling/functional_models.py:381: RuntimeWarning: invalid value encountered in add\n",
      "  return amplitude * np.exp(-((a * xdiff ** 2) + (b * xdiff * ydiff) +\n"
     ]
    },
    {
     "name": "stdout",
     "output_type": "stream",
     "text": [
      "        Number of sources =  22\n",
      "        Median x_fwhm = 14.0 +/- 3.1\n",
      "        Median y_fwhm = 12.0 +/- 2.6\n",
      "  Working on image:  /g/lu/data/imaka/onaga/20200121/sta/reduce/Beehive-W/sta065_o_scan_clean.fits\n",
      "    Calculating background\n",
      "     Bkg = -14.77 +/- 3.79\n",
      "     Bkg Threshold = 18.94\n",
      "     Detecting Stars\n",
      "     Pass 0 assuming FWHM = 8.0\n",
      "919 sources found\n"
     ]
    },
    {
     "name": "stderr",
     "output_type": "stream",
     "text": [
      "/opt/anaconda3/envs/astroconda/lib/python3.7/site-packages/astropy/modeling/functional_models.py:378: RuntimeWarning: divide by zero encountered in true_divide\n",
      "  a = 0.5 * ((cost2 / xstd2) + (sint2 / ystd2))\n",
      "/opt/anaconda3/envs/astroconda/lib/python3.7/site-packages/astropy/modeling/functional_models.py:379: RuntimeWarning: divide by zero encountered in true_divide\n",
      "  b = 0.5 * ((sin2t / xstd2) - (sin2t / ystd2))\n",
      "/opt/anaconda3/envs/astroconda/lib/python3.7/site-packages/astropy/modeling/functional_models.py:379: RuntimeWarning: invalid value encountered in subtract\n",
      "  b = 0.5 * ((sin2t / xstd2) - (sin2t / ystd2))\n",
      "/opt/anaconda3/envs/astroconda/lib/python3.7/site-packages/astropy/modeling/functional_models.py:380: RuntimeWarning: divide by zero encountered in true_divide\n",
      "  c = 0.5 * ((sint2 / xstd2) + (cost2 / ystd2))\n",
      "/opt/anaconda3/envs/astroconda/lib/python3.7/site-packages/astropy/modeling/functional_models.py:381: RuntimeWarning: invalid value encountered in add\n",
      "  return amplitude * np.exp(-((a * xdiff ** 2) + (b * xdiff * ydiff) +\n"
     ]
    },
    {
     "name": "stdout",
     "output_type": "stream",
     "text": [
      "        Number of sources =  17\n",
      "        Median x_fwhm = 10.5 +/- 2.2\n",
      "        Median y_fwhm = 10.0 +/- 4.4\n",
      "     Pass 1 assuming FWHM = 10.2\n",
      "588 sources found\n"
     ]
    },
    {
     "name": "stderr",
     "output_type": "stream",
     "text": [
      "/opt/anaconda3/envs/astroconda/lib/python3.7/site-packages/astropy/modeling/functional_models.py:378: RuntimeWarning: divide by zero encountered in true_divide\n",
      "  a = 0.5 * ((cost2 / xstd2) + (sint2 / ystd2))\n",
      "/opt/anaconda3/envs/astroconda/lib/python3.7/site-packages/astropy/modeling/functional_models.py:379: RuntimeWarning: divide by zero encountered in true_divide\n",
      "  b = 0.5 * ((sin2t / xstd2) - (sin2t / ystd2))\n",
      "/opt/anaconda3/envs/astroconda/lib/python3.7/site-packages/astropy/modeling/functional_models.py:379: RuntimeWarning: invalid value encountered in subtract\n",
      "  b = 0.5 * ((sin2t / xstd2) - (sin2t / ystd2))\n",
      "/opt/anaconda3/envs/astroconda/lib/python3.7/site-packages/astropy/modeling/functional_models.py:380: RuntimeWarning: divide by zero encountered in true_divide\n",
      "  c = 0.5 * ((sint2 / xstd2) + (cost2 / ystd2))\n",
      "/opt/anaconda3/envs/astroconda/lib/python3.7/site-packages/astropy/modeling/functional_models.py:381: RuntimeWarning: invalid value encountered in add\n",
      "  return amplitude * np.exp(-((a * xdiff ** 2) + (b * xdiff * ydiff) +\n"
     ]
    },
    {
     "name": "stdout",
     "output_type": "stream",
     "text": [
      "        Number of sources =  25\n",
      "        Median x_fwhm = 11.0 +/- 2.4\n",
      "        Median y_fwhm = 10.0 +/- 4.3\n",
      "  Working on image:  /g/lu/data/imaka/onaga/20200121/sta/reduce/Beehive-W/sta067_o_scan_clean.fits\n",
      "    Calculating background\n",
      "     Bkg = -15.07 +/- 3.83\n",
      "     Bkg Threshold = 19.17\n",
      "     Detecting Stars\n",
      "     Pass 0 assuming FWHM = 8.0\n",
      "800 sources found\n"
     ]
    },
    {
     "name": "stderr",
     "output_type": "stream",
     "text": [
      "/opt/anaconda3/envs/astroconda/lib/python3.7/site-packages/astropy/modeling/functional_models.py:378: RuntimeWarning: divide by zero encountered in true_divide\n",
      "  a = 0.5 * ((cost2 / xstd2) + (sint2 / ystd2))\n",
      "/opt/anaconda3/envs/astroconda/lib/python3.7/site-packages/astropy/modeling/functional_models.py:379: RuntimeWarning: divide by zero encountered in true_divide\n",
      "  b = 0.5 * ((sin2t / xstd2) - (sin2t / ystd2))\n",
      "/opt/anaconda3/envs/astroconda/lib/python3.7/site-packages/astropy/modeling/functional_models.py:380: RuntimeWarning: divide by zero encountered in true_divide\n",
      "  c = 0.5 * ((sint2 / xstd2) + (cost2 / ystd2))\n",
      "/opt/anaconda3/envs/astroconda/lib/python3.7/site-packages/astropy/modeling/functional_models.py:381: RuntimeWarning: invalid value encountered in add\n",
      "  return amplitude * np.exp(-((a * xdiff ** 2) + (b * xdiff * ydiff) +\n",
      "/opt/anaconda3/envs/astroconda/lib/python3.7/site-packages/astropy/modeling/functional_models.py:379: RuntimeWarning: invalid value encountered in subtract\n",
      "  b = 0.5 * ((sin2t / xstd2) - (sin2t / ystd2))\n"
     ]
    },
    {
     "name": "stdout",
     "output_type": "stream",
     "text": [
      "        Number of sources =  16\n",
      "        Median x_fwhm = 12.5 +/- 2.1\n",
      "        Median y_fwhm = 11.0 +/- 3.5\n",
      "     Pass 1 assuming FWHM = 11.8\n",
      "434 sources found\n"
     ]
    },
    {
     "name": "stderr",
     "output_type": "stream",
     "text": [
      "/opt/anaconda3/envs/astroconda/lib/python3.7/site-packages/astropy/modeling/functional_models.py:378: RuntimeWarning: divide by zero encountered in true_divide\n",
      "  a = 0.5 * ((cost2 / xstd2) + (sint2 / ystd2))\n",
      "/opt/anaconda3/envs/astroconda/lib/python3.7/site-packages/astropy/modeling/functional_models.py:379: RuntimeWarning: divide by zero encountered in true_divide\n",
      "  b = 0.5 * ((sin2t / xstd2) - (sin2t / ystd2))\n",
      "/opt/anaconda3/envs/astroconda/lib/python3.7/site-packages/astropy/modeling/functional_models.py:379: RuntimeWarning: invalid value encountered in subtract\n",
      "  b = 0.5 * ((sin2t / xstd2) - (sin2t / ystd2))\n",
      "/opt/anaconda3/envs/astroconda/lib/python3.7/site-packages/astropy/modeling/functional_models.py:380: RuntimeWarning: divide by zero encountered in true_divide\n",
      "  c = 0.5 * ((sint2 / xstd2) + (cost2 / ystd2))\n",
      "/opt/anaconda3/envs/astroconda/lib/python3.7/site-packages/astropy/modeling/functional_models.py:381: RuntimeWarning: invalid value encountered in add\n",
      "  return amplitude * np.exp(-((a * xdiff ** 2) + (b * xdiff * ydiff) +\n"
     ]
    },
    {
     "name": "stdout",
     "output_type": "stream",
     "text": [
      "        Number of sources =  23\n",
      "        Median x_fwhm = 12.0 +/- 3.3\n",
      "        Median y_fwhm = 11.0 +/- 3.1\n",
      "  Working on image:  /g/lu/data/imaka/onaga/20200121/sta/reduce/Beehive-W/sta068_o_scan_clean.fits\n",
      "    Calculating background\n",
      "     Bkg = -21.81 +/- 5.45\n",
      "     Bkg Threshold = 27.24\n",
      "     Detecting Stars\n",
      "     Pass 0 assuming FWHM = 8.0\n",
      "166 sources found\n"
     ]
    },
    {
     "name": "stderr",
     "output_type": "stream",
     "text": [
      "/opt/anaconda3/envs/astroconda/lib/python3.7/site-packages/astropy/modeling/functional_models.py:378: RuntimeWarning: divide by zero encountered in true_divide\n",
      "  a = 0.5 * ((cost2 / xstd2) + (sint2 / ystd2))\n",
      "/opt/anaconda3/envs/astroconda/lib/python3.7/site-packages/astropy/modeling/functional_models.py:379: RuntimeWarning: divide by zero encountered in true_divide\n",
      "  b = 0.5 * ((sin2t / xstd2) - (sin2t / ystd2))\n",
      "/opt/anaconda3/envs/astroconda/lib/python3.7/site-packages/astropy/modeling/functional_models.py:379: RuntimeWarning: invalid value encountered in subtract\n",
      "  b = 0.5 * ((sin2t / xstd2) - (sin2t / ystd2))\n",
      "/opt/anaconda3/envs/astroconda/lib/python3.7/site-packages/astropy/modeling/functional_models.py:380: RuntimeWarning: divide by zero encountered in true_divide\n",
      "  c = 0.5 * ((sint2 / xstd2) + (cost2 / ystd2))\n",
      "/opt/anaconda3/envs/astroconda/lib/python3.7/site-packages/astropy/modeling/functional_models.py:381: RuntimeWarning: invalid value encountered in add\n",
      "  return amplitude * np.exp(-((a * xdiff ** 2) + (b * xdiff * ydiff) +\n"
     ]
    },
    {
     "name": "stdout",
     "output_type": "stream",
     "text": [
      "        Number of sources =  15\n",
      "        Median x_fwhm = 11.0 +/- 3.6\n",
      "        Median y_fwhm = 10.0 +/- 2.0\n",
      "     Pass 1 assuming FWHM = 10.5\n",
      "106 sources found\n"
     ]
    },
    {
     "name": "stderr",
     "output_type": "stream",
     "text": [
      "/opt/anaconda3/envs/astroconda/lib/python3.7/site-packages/astropy/modeling/functional_models.py:378: RuntimeWarning: divide by zero encountered in true_divide\n",
      "  a = 0.5 * ((cost2 / xstd2) + (sint2 / ystd2))\n",
      "/opt/anaconda3/envs/astroconda/lib/python3.7/site-packages/astropy/modeling/functional_models.py:379: RuntimeWarning: divide by zero encountered in true_divide\n",
      "  b = 0.5 * ((sin2t / xstd2) - (sin2t / ystd2))\n",
      "/opt/anaconda3/envs/astroconda/lib/python3.7/site-packages/astropy/modeling/functional_models.py:379: RuntimeWarning: invalid value encountered in subtract\n",
      "  b = 0.5 * ((sin2t / xstd2) - (sin2t / ystd2))\n",
      "/opt/anaconda3/envs/astroconda/lib/python3.7/site-packages/astropy/modeling/functional_models.py:380: RuntimeWarning: divide by zero encountered in true_divide\n",
      "  c = 0.5 * ((sint2 / xstd2) + (cost2 / ystd2))\n",
      "/opt/anaconda3/envs/astroconda/lib/python3.7/site-packages/astropy/modeling/functional_models.py:381: RuntimeWarning: invalid value encountered in add\n",
      "  return amplitude * np.exp(-((a * xdiff ** 2) + (b * xdiff * ydiff) +\n"
     ]
    },
    {
     "name": "stdout",
     "output_type": "stream",
     "text": [
      "        Number of sources =  15\n",
      "        Median x_fwhm = 11.0 +/- 9.1\n",
      "        Median y_fwhm = 10.0 +/- 10.6\n",
      "  Working on image:  /g/lu/data/imaka/onaga/20200121/sta/reduce/Beehive-W/sta070_o_scan_clean.fits\n",
      "    Calculating background\n",
      "     Bkg = -15.04 +/- 3.83\n",
      "     Bkg Threshold = 19.15\n",
      "     Detecting Stars\n",
      "     Pass 0 assuming FWHM = 8.0\n",
      "815 sources found\n"
     ]
    },
    {
     "name": "stderr",
     "output_type": "stream",
     "text": [
      "/opt/anaconda3/envs/astroconda/lib/python3.7/site-packages/astropy/modeling/functional_models.py:378: RuntimeWarning: divide by zero encountered in true_divide\n",
      "  a = 0.5 * ((cost2 / xstd2) + (sint2 / ystd2))\n",
      "/opt/anaconda3/envs/astroconda/lib/python3.7/site-packages/astropy/modeling/functional_models.py:379: RuntimeWarning: divide by zero encountered in true_divide\n",
      "  b = 0.5 * ((sin2t / xstd2) - (sin2t / ystd2))\n",
      "/opt/anaconda3/envs/astroconda/lib/python3.7/site-packages/astropy/modeling/functional_models.py:379: RuntimeWarning: invalid value encountered in subtract\n",
      "  b = 0.5 * ((sin2t / xstd2) - (sin2t / ystd2))\n",
      "/opt/anaconda3/envs/astroconda/lib/python3.7/site-packages/astropy/modeling/functional_models.py:380: RuntimeWarning: divide by zero encountered in true_divide\n",
      "  c = 0.5 * ((sint2 / xstd2) + (cost2 / ystd2))\n",
      "/opt/anaconda3/envs/astroconda/lib/python3.7/site-packages/astropy/modeling/functional_models.py:381: RuntimeWarning: invalid value encountered in add\n",
      "  return amplitude * np.exp(-((a * xdiff ** 2) + (b * xdiff * ydiff) +\n"
     ]
    },
    {
     "name": "stdout",
     "output_type": "stream",
     "text": [
      "        Number of sources =  18\n",
      "        Median x_fwhm = 11.0 +/- 3.3\n",
      "        Median y_fwhm = 10.0 +/- 3.2\n",
      "     Pass 1 assuming FWHM = 10.5\n",
      "570 sources found\n"
     ]
    },
    {
     "name": "stderr",
     "output_type": "stream",
     "text": [
      "/opt/anaconda3/envs/astroconda/lib/python3.7/site-packages/astropy/modeling/functional_models.py:378: RuntimeWarning: divide by zero encountered in true_divide\n",
      "  a = 0.5 * ((cost2 / xstd2) + (sint2 / ystd2))\n",
      "/opt/anaconda3/envs/astroconda/lib/python3.7/site-packages/astropy/modeling/functional_models.py:379: RuntimeWarning: divide by zero encountered in true_divide\n",
      "  b = 0.5 * ((sin2t / xstd2) - (sin2t / ystd2))\n",
      "/opt/anaconda3/envs/astroconda/lib/python3.7/site-packages/astropy/modeling/functional_models.py:379: RuntimeWarning: invalid value encountered in subtract\n",
      "  b = 0.5 * ((sin2t / xstd2) - (sin2t / ystd2))\n",
      "/opt/anaconda3/envs/astroconda/lib/python3.7/site-packages/astropy/modeling/functional_models.py:380: RuntimeWarning: divide by zero encountered in true_divide\n",
      "  c = 0.5 * ((sint2 / xstd2) + (cost2 / ystd2))\n",
      "/opt/anaconda3/envs/astroconda/lib/python3.7/site-packages/astropy/modeling/functional_models.py:381: RuntimeWarning: invalid value encountered in add\n",
      "  return amplitude * np.exp(-((a * xdiff ** 2) + (b * xdiff * ydiff) +\n"
     ]
    },
    {
     "name": "stdout",
     "output_type": "stream",
     "text": [
      "        Number of sources =  26\n",
      "        Median x_fwhm = 10.5 +/- 3.0\n",
      "        Median y_fwhm = 9.5 +/- 3.0\n",
      "  Working on image:  /g/lu/data/imaka/onaga/20200121/sta/reduce/Beehive-W/sta072_o_scan_clean.fits\n",
      "    Calculating background\n",
      "     Bkg = -14.66 +/- 3.86\n",
      "     Bkg Threshold = 19.31\n",
      "     Detecting Stars\n",
      "     Pass 0 assuming FWHM = 8.0\n",
      "1131 sources found\n"
     ]
    },
    {
     "name": "stderr",
     "output_type": "stream",
     "text": [
      "/opt/anaconda3/envs/astroconda/lib/python3.7/site-packages/astropy/modeling/functional_models.py:378: RuntimeWarning: divide by zero encountered in true_divide\n",
      "  a = 0.5 * ((cost2 / xstd2) + (sint2 / ystd2))\n",
      "/opt/anaconda3/envs/astroconda/lib/python3.7/site-packages/astropy/modeling/functional_models.py:379: RuntimeWarning: divide by zero encountered in true_divide\n",
      "  b = 0.5 * ((sin2t / xstd2) - (sin2t / ystd2))\n",
      "/opt/anaconda3/envs/astroconda/lib/python3.7/site-packages/astropy/modeling/functional_models.py:379: RuntimeWarning: invalid value encountered in subtract\n",
      "  b = 0.5 * ((sin2t / xstd2) - (sin2t / ystd2))\n",
      "/opt/anaconda3/envs/astroconda/lib/python3.7/site-packages/astropy/modeling/functional_models.py:380: RuntimeWarning: divide by zero encountered in true_divide\n",
      "  c = 0.5 * ((sint2 / xstd2) + (cost2 / ystd2))\n",
      "/opt/anaconda3/envs/astroconda/lib/python3.7/site-packages/astropy/modeling/functional_models.py:381: RuntimeWarning: invalid value encountered in add\n",
      "  return amplitude * np.exp(-((a * xdiff ** 2) + (b * xdiff * ydiff) +\n",
      "WARNING: The fit may be unsuccessful; check fit_info['message'] for more information. [astropy.modeling.fitting]\n"
     ]
    },
    {
     "name": "stdout",
     "output_type": "stream",
     "text": [
      "        Number of sources =  50\n",
      "        Median x_fwhm = 32.0 +/- 10.1\n",
      "        Median y_fwhm = 32.0 +/- 10.6\n",
      "     Pass 1 assuming FWHM = 32.0\n",
      "125 sources found\n"
     ]
    },
    {
     "name": "stderr",
     "output_type": "stream",
     "text": [
      "/opt/anaconda3/envs/astroconda/lib/python3.7/site-packages/astropy/modeling/functional_models.py:378: RuntimeWarning: divide by zero encountered in true_divide\n",
      "  a = 0.5 * ((cost2 / xstd2) + (sint2 / ystd2))\n",
      "/opt/anaconda3/envs/astroconda/lib/python3.7/site-packages/astropy/modeling/functional_models.py:379: RuntimeWarning: divide by zero encountered in true_divide\n",
      "  b = 0.5 * ((sin2t / xstd2) - (sin2t / ystd2))\n",
      "/opt/anaconda3/envs/astroconda/lib/python3.7/site-packages/astropy/modeling/functional_models.py:380: RuntimeWarning: divide by zero encountered in true_divide\n",
      "  c = 0.5 * ((sint2 / xstd2) + (cost2 / ystd2))\n",
      "/opt/anaconda3/envs/astroconda/lib/python3.7/site-packages/astropy/modeling/functional_models.py:381: RuntimeWarning: invalid value encountered in add\n",
      "  return amplitude * np.exp(-((a * xdiff ** 2) + (b * xdiff * ydiff) +\n",
      "/opt/anaconda3/envs/astroconda/lib/python3.7/site-packages/astropy/modeling/functional_models.py:379: RuntimeWarning: invalid value encountered in subtract\n",
      "  b = 0.5 * ((sin2t / xstd2) - (sin2t / ystd2))\n"
     ]
    },
    {
     "name": "stdout",
     "output_type": "stream",
     "text": [
      "        Number of sources =  23\n",
      "        Median x_fwhm = 33.0 +/- 9.7\n",
      "        Median y_fwhm = 47.0 +/- 13.1\n",
      "  Working on image:  /g/lu/data/imaka/onaga/20200121/sta/reduce/Beehive-W/sta073_o_scan_clean.fits\n",
      "    Calculating background\n",
      "     Bkg = -21.62 +/- 5.47\n",
      "     Bkg Threshold = 27.36\n",
      "     Detecting Stars\n",
      "     Pass 0 assuming FWHM = 8.0\n",
      "188 sources found\n"
     ]
    },
    {
     "name": "stderr",
     "output_type": "stream",
     "text": [
      "/opt/anaconda3/envs/astroconda/lib/python3.7/site-packages/astropy/modeling/functional_models.py:378: RuntimeWarning: divide by zero encountered in true_divide\n",
      "  a = 0.5 * ((cost2 / xstd2) + (sint2 / ystd2))\n",
      "/opt/anaconda3/envs/astroconda/lib/python3.7/site-packages/astropy/modeling/functional_models.py:379: RuntimeWarning: divide by zero encountered in true_divide\n",
      "  b = 0.5 * ((sin2t / xstd2) - (sin2t / ystd2))\n",
      "/opt/anaconda3/envs/astroconda/lib/python3.7/site-packages/astropy/modeling/functional_models.py:379: RuntimeWarning: invalid value encountered in subtract\n",
      "  b = 0.5 * ((sin2t / xstd2) - (sin2t / ystd2))\n",
      "/opt/anaconda3/envs/astroconda/lib/python3.7/site-packages/astropy/modeling/functional_models.py:380: RuntimeWarning: divide by zero encountered in true_divide\n",
      "  c = 0.5 * ((sint2 / xstd2) + (cost2 / ystd2))\n",
      "/opt/anaconda3/envs/astroconda/lib/python3.7/site-packages/astropy/modeling/functional_models.py:381: RuntimeWarning: invalid value encountered in add\n",
      "  return amplitude * np.exp(-((a * xdiff ** 2) + (b * xdiff * ydiff) +\n"
     ]
    },
    {
     "name": "stdout",
     "output_type": "stream",
     "text": [
      "        Number of sources =  19\n",
      "        Median x_fwhm = 12.0 +/- 4.2\n",
      "        Median y_fwhm = 11.0 +/- 4.2\n",
      "     Pass 1 assuming FWHM = 11.5\n",
      "81 sources found\n"
     ]
    },
    {
     "name": "stderr",
     "output_type": "stream",
     "text": [
      "/opt/anaconda3/envs/astroconda/lib/python3.7/site-packages/astropy/modeling/functional_models.py:378: RuntimeWarning: divide by zero encountered in true_divide\n",
      "  a = 0.5 * ((cost2 / xstd2) + (sint2 / ystd2))\n",
      "/opt/anaconda3/envs/astroconda/lib/python3.7/site-packages/astropy/modeling/functional_models.py:379: RuntimeWarning: divide by zero encountered in true_divide\n",
      "  b = 0.5 * ((sin2t / xstd2) - (sin2t / ystd2))\n",
      "/opt/anaconda3/envs/astroconda/lib/python3.7/site-packages/astropy/modeling/functional_models.py:379: RuntimeWarning: invalid value encountered in subtract\n",
      "  b = 0.5 * ((sin2t / xstd2) - (sin2t / ystd2))\n",
      "/opt/anaconda3/envs/astroconda/lib/python3.7/site-packages/astropy/modeling/functional_models.py:380: RuntimeWarning: divide by zero encountered in true_divide\n",
      "  c = 0.5 * ((sint2 / xstd2) + (cost2 / ystd2))\n"
     ]
    },
    {
     "name": "stdout",
     "output_type": "stream",
     "text": [
      "        Number of sources =  22\n",
      "        Median x_fwhm = 11.0 +/- 3.3\n",
      "        Median y_fwhm = 12.0 +/- 9.3\n",
      "  Working on image:  /g/lu/data/imaka/onaga/20200121/sta/reduce/Beehive-W/sta074_o_scan_clean.fits\n",
      "    Calculating background\n",
      "     Bkg = -21.43 +/- 5.41\n",
      "     Bkg Threshold = 27.04\n",
      "     Detecting Stars\n",
      "     Pass 0 assuming FWHM = 8.0\n",
      "170 sources found\n"
     ]
    },
    {
     "name": "stderr",
     "output_type": "stream",
     "text": [
      "/opt/anaconda3/envs/astroconda/lib/python3.7/site-packages/astropy/modeling/functional_models.py:378: RuntimeWarning: divide by zero encountered in true_divide\n",
      "  a = 0.5 * ((cost2 / xstd2) + (sint2 / ystd2))\n",
      "/opt/anaconda3/envs/astroconda/lib/python3.7/site-packages/astropy/modeling/functional_models.py:379: RuntimeWarning: divide by zero encountered in true_divide\n",
      "  b = 0.5 * ((sin2t / xstd2) - (sin2t / ystd2))\n",
      "/opt/anaconda3/envs/astroconda/lib/python3.7/site-packages/astropy/modeling/functional_models.py:379: RuntimeWarning: invalid value encountered in subtract\n",
      "  b = 0.5 * ((sin2t / xstd2) - (sin2t / ystd2))\n",
      "/opt/anaconda3/envs/astroconda/lib/python3.7/site-packages/astropy/modeling/functional_models.py:380: RuntimeWarning: divide by zero encountered in true_divide\n",
      "  c = 0.5 * ((sint2 / xstd2) + (cost2 / ystd2))\n",
      "/opt/anaconda3/envs/astroconda/lib/python3.7/site-packages/astropy/modeling/functional_models.py:381: RuntimeWarning: invalid value encountered in add\n",
      "  return amplitude * np.exp(-((a * xdiff ** 2) + (b * xdiff * ydiff) +\n"
     ]
    },
    {
     "name": "stdout",
     "output_type": "stream",
     "text": [
      "        Number of sources =  18\n",
      "        Median x_fwhm = 12.0 +/- 3.1\n",
      "        Median y_fwhm = 10.0 +/- 5.5\n",
      "     Pass 1 assuming FWHM = 11.0\n",
      "91 sources found\n"
     ]
    },
    {
     "name": "stderr",
     "output_type": "stream",
     "text": [
      "/opt/anaconda3/envs/astroconda/lib/python3.7/site-packages/astropy/modeling/functional_models.py:378: RuntimeWarning: divide by zero encountered in true_divide\n",
      "  a = 0.5 * ((cost2 / xstd2) + (sint2 / ystd2))\n",
      "/opt/anaconda3/envs/astroconda/lib/python3.7/site-packages/astropy/modeling/functional_models.py:379: RuntimeWarning: divide by zero encountered in true_divide\n",
      "  b = 0.5 * ((sin2t / xstd2) - (sin2t / ystd2))\n",
      "/opt/anaconda3/envs/astroconda/lib/python3.7/site-packages/astropy/modeling/functional_models.py:379: RuntimeWarning: invalid value encountered in subtract\n",
      "  b = 0.5 * ((sin2t / xstd2) - (sin2t / ystd2))\n",
      "/opt/anaconda3/envs/astroconda/lib/python3.7/site-packages/astropy/modeling/functional_models.py:380: RuntimeWarning: divide by zero encountered in true_divide\n",
      "  c = 0.5 * ((sint2 / xstd2) + (cost2 / ystd2))\n",
      "/opt/anaconda3/envs/astroconda/lib/python3.7/site-packages/astropy/modeling/functional_models.py:381: RuntimeWarning: invalid value encountered in add\n",
      "  return amplitude * np.exp(-((a * xdiff ** 2) + (b * xdiff * ydiff) +\n"
     ]
    },
    {
     "name": "stdout",
     "output_type": "stream",
     "text": [
      "        Number of sources =  20\n",
      "        Median x_fwhm = 12.0 +/- 2.6\n",
      "        Median y_fwhm = 10.0 +/- 9.6\n",
      "  Working on image:  /g/lu/data/imaka/onaga/20200121/sta/reduce/Beehive-W/sta075_o_scan_clean.fits\n",
      "    Calculating background\n",
      "     Bkg = -21.37 +/- 5.46\n",
      "     Bkg Threshold = 27.32\n",
      "     Detecting Stars\n",
      "     Pass 0 assuming FWHM = 8.0\n",
      "174 sources found\n"
     ]
    },
    {
     "name": "stderr",
     "output_type": "stream",
     "text": [
      "/opt/anaconda3/envs/astroconda/lib/python3.7/site-packages/astropy/modeling/functional_models.py:378: RuntimeWarning: divide by zero encountered in true_divide\n",
      "  a = 0.5 * ((cost2 / xstd2) + (sint2 / ystd2))\n",
      "/opt/anaconda3/envs/astroconda/lib/python3.7/site-packages/astropy/modeling/functional_models.py:379: RuntimeWarning: divide by zero encountered in true_divide\n",
      "  b = 0.5 * ((sin2t / xstd2) - (sin2t / ystd2))\n",
      "/opt/anaconda3/envs/astroconda/lib/python3.7/site-packages/astropy/modeling/functional_models.py:379: RuntimeWarning: invalid value encountered in subtract\n",
      "  b = 0.5 * ((sin2t / xstd2) - (sin2t / ystd2))\n",
      "/opt/anaconda3/envs/astroconda/lib/python3.7/site-packages/astropy/modeling/functional_models.py:380: RuntimeWarning: divide by zero encountered in true_divide\n",
      "  c = 0.5 * ((sint2 / xstd2) + (cost2 / ystd2))\n",
      "/opt/anaconda3/envs/astroconda/lib/python3.7/site-packages/astropy/modeling/functional_models.py:381: RuntimeWarning: invalid value encountered in add\n",
      "  return amplitude * np.exp(-((a * xdiff ** 2) + (b * xdiff * ydiff) +\n"
     ]
    },
    {
     "name": "stdout",
     "output_type": "stream",
     "text": [
      "        Number of sources =  16\n",
      "        Median x_fwhm = 11.0 +/- 2.1\n",
      "        Median y_fwhm = 12.0 +/- 5.7\n",
      "     Pass 1 assuming FWHM = 11.5\n",
      "86 sources found\n"
     ]
    },
    {
     "name": "stderr",
     "output_type": "stream",
     "text": [
      "/opt/anaconda3/envs/astroconda/lib/python3.7/site-packages/astropy/modeling/functional_models.py:378: RuntimeWarning: divide by zero encountered in true_divide\n",
      "  a = 0.5 * ((cost2 / xstd2) + (sint2 / ystd2))\n",
      "/opt/anaconda3/envs/astroconda/lib/python3.7/site-packages/astropy/modeling/functional_models.py:379: RuntimeWarning: divide by zero encountered in true_divide\n",
      "  b = 0.5 * ((sin2t / xstd2) - (sin2t / ystd2))\n",
      "/opt/anaconda3/envs/astroconda/lib/python3.7/site-packages/astropy/modeling/functional_models.py:379: RuntimeWarning: invalid value encountered in subtract\n",
      "  b = 0.5 * ((sin2t / xstd2) - (sin2t / ystd2))\n",
      "/opt/anaconda3/envs/astroconda/lib/python3.7/site-packages/astropy/modeling/functional_models.py:380: RuntimeWarning: divide by zero encountered in true_divide\n",
      "  c = 0.5 * ((sint2 / xstd2) + (cost2 / ystd2))\n",
      "/opt/anaconda3/envs/astroconda/lib/python3.7/site-packages/astropy/modeling/functional_models.py:381: RuntimeWarning: invalid value encountered in add\n",
      "  return amplitude * np.exp(-((a * xdiff ** 2) + (b * xdiff * ydiff) +\n"
     ]
    },
    {
     "name": "stdout",
     "output_type": "stream",
     "text": [
      "        Number of sources =  21\n",
      "        Median x_fwhm = 12.0 +/- 3.4\n",
      "        Median y_fwhm = 10.0 +/- 9.9\n",
      "  Working on image:  /g/lu/data/imaka/onaga/20200121/sta/reduce/Beehive-W/sta076_o_scan_clean.fits\n",
      "    Calculating background\n",
      "     Bkg = -21.38 +/- 5.45\n",
      "     Bkg Threshold = 27.23\n",
      "     Detecting Stars\n",
      "     Pass 0 assuming FWHM = 8.0\n",
      "189 sources found\n"
     ]
    },
    {
     "name": "stderr",
     "output_type": "stream",
     "text": [
      "/opt/anaconda3/envs/astroconda/lib/python3.7/site-packages/astropy/modeling/functional_models.py:378: RuntimeWarning: divide by zero encountered in true_divide\n",
      "  a = 0.5 * ((cost2 / xstd2) + (sint2 / ystd2))\n",
      "/opt/anaconda3/envs/astroconda/lib/python3.7/site-packages/astropy/modeling/functional_models.py:379: RuntimeWarning: divide by zero encountered in true_divide\n",
      "  b = 0.5 * ((sin2t / xstd2) - (sin2t / ystd2))\n",
      "/opt/anaconda3/envs/astroconda/lib/python3.7/site-packages/astropy/modeling/functional_models.py:379: RuntimeWarning: invalid value encountered in subtract\n",
      "  b = 0.5 * ((sin2t / xstd2) - (sin2t / ystd2))\n",
      "/opt/anaconda3/envs/astroconda/lib/python3.7/site-packages/astropy/modeling/functional_models.py:380: RuntimeWarning: divide by zero encountered in true_divide\n",
      "  c = 0.5 * ((sint2 / xstd2) + (cost2 / ystd2))\n",
      "/opt/anaconda3/envs/astroconda/lib/python3.7/site-packages/astropy/modeling/functional_models.py:381: RuntimeWarning: invalid value encountered in add\n",
      "  return amplitude * np.exp(-((a * xdiff ** 2) + (b * xdiff * ydiff) +\n",
      "WARNING: The fit may be unsuccessful; check fit_info['message'] for more information. [astropy.modeling.fitting]\n"
     ]
    },
    {
     "name": "stdout",
     "output_type": "stream",
     "text": [
      "        Number of sources =  19\n",
      "        Median x_fwhm = 11.0 +/- 4.4\n",
      "        Median y_fwhm = 10.0 +/- 5.4\n",
      "     Pass 1 assuming FWHM = 10.5\n",
      "111 sources found\n"
     ]
    },
    {
     "name": "stderr",
     "output_type": "stream",
     "text": [
      "/opt/anaconda3/envs/astroconda/lib/python3.7/site-packages/astropy/modeling/functional_models.py:378: RuntimeWarning: divide by zero encountered in true_divide\n",
      "  a = 0.5 * ((cost2 / xstd2) + (sint2 / ystd2))\n",
      "/opt/anaconda3/envs/astroconda/lib/python3.7/site-packages/astropy/modeling/functional_models.py:379: RuntimeWarning: divide by zero encountered in true_divide\n",
      "  b = 0.5 * ((sin2t / xstd2) - (sin2t / ystd2))\n",
      "/opt/anaconda3/envs/astroconda/lib/python3.7/site-packages/astropy/modeling/functional_models.py:379: RuntimeWarning: invalid value encountered in subtract\n",
      "  b = 0.5 * ((sin2t / xstd2) - (sin2t / ystd2))\n",
      "/opt/anaconda3/envs/astroconda/lib/python3.7/site-packages/astropy/modeling/functional_models.py:380: RuntimeWarning: divide by zero encountered in true_divide\n",
      "  c = 0.5 * ((sint2 / xstd2) + (cost2 / ystd2))\n",
      "/opt/anaconda3/envs/astroconda/lib/python3.7/site-packages/astropy/modeling/functional_models.py:381: RuntimeWarning: invalid value encountered in add\n",
      "  return amplitude * np.exp(-((a * xdiff ** 2) + (b * xdiff * ydiff) +\n"
     ]
    },
    {
     "name": "stdout",
     "output_type": "stream",
     "text": [
      "        Number of sources =  20\n",
      "        Median x_fwhm = 11.0 +/- 2.1\n",
      "        Median y_fwhm = 9.0 +/- 8.8\n",
      "  Working on image:  /g/lu/data/imaka/onaga/20200121/sta/reduce/Beehive-W/sta077_o_scan_clean.fits\n",
      "    Calculating background\n",
      "     Bkg = -21.57 +/- 5.45\n",
      "     Bkg Threshold = 27.26\n",
      "     Detecting Stars\n",
      "     Pass 0 assuming FWHM = 8.0\n",
      "167 sources found\n"
     ]
    },
    {
     "name": "stderr",
     "output_type": "stream",
     "text": [
      "/opt/anaconda3/envs/astroconda/lib/python3.7/site-packages/astropy/modeling/functional_models.py:378: RuntimeWarning: divide by zero encountered in true_divide\n",
      "  a = 0.5 * ((cost2 / xstd2) + (sint2 / ystd2))\n",
      "/opt/anaconda3/envs/astroconda/lib/python3.7/site-packages/astropy/modeling/functional_models.py:379: RuntimeWarning: divide by zero encountered in true_divide\n",
      "  b = 0.5 * ((sin2t / xstd2) - (sin2t / ystd2))\n",
      "/opt/anaconda3/envs/astroconda/lib/python3.7/site-packages/astropy/modeling/functional_models.py:379: RuntimeWarning: invalid value encountered in subtract\n",
      "  b = 0.5 * ((sin2t / xstd2) - (sin2t / ystd2))\n",
      "/opt/anaconda3/envs/astroconda/lib/python3.7/site-packages/astropy/modeling/functional_models.py:380: RuntimeWarning: divide by zero encountered in true_divide\n",
      "  c = 0.5 * ((sint2 / xstd2) + (cost2 / ystd2))\n",
      "/opt/anaconda3/envs/astroconda/lib/python3.7/site-packages/astropy/modeling/functional_models.py:381: RuntimeWarning: invalid value encountered in add\n",
      "  return amplitude * np.exp(-((a * xdiff ** 2) + (b * xdiff * ydiff) +\n"
     ]
    },
    {
     "name": "stdout",
     "output_type": "stream",
     "text": [
      "        Number of sources =  10\n",
      "        Median x_fwhm = 12.0 +/- 1.4\n",
      "        Median y_fwhm = 11.0 +/- 0.5\n",
      "     Pass 1 assuming FWHM = 11.5\n",
      "68 sources found\n"
     ]
    },
    {
     "name": "stderr",
     "output_type": "stream",
     "text": [
      "/opt/anaconda3/envs/astroconda/lib/python3.7/site-packages/astropy/modeling/functional_models.py:378: RuntimeWarning: divide by zero encountered in true_divide\n",
      "  a = 0.5 * ((cost2 / xstd2) + (sint2 / ystd2))\n",
      "/opt/anaconda3/envs/astroconda/lib/python3.7/site-packages/astropy/modeling/functional_models.py:379: RuntimeWarning: divide by zero encountered in true_divide\n",
      "  b = 0.5 * ((sin2t / xstd2) - (sin2t / ystd2))\n",
      "/opt/anaconda3/envs/astroconda/lib/python3.7/site-packages/astropy/modeling/functional_models.py:379: RuntimeWarning: invalid value encountered in subtract\n",
      "  b = 0.5 * ((sin2t / xstd2) - (sin2t / ystd2))\n",
      "/opt/anaconda3/envs/astroconda/lib/python3.7/site-packages/astropy/modeling/functional_models.py:380: RuntimeWarning: divide by zero encountered in true_divide\n",
      "  c = 0.5 * ((sint2 / xstd2) + (cost2 / ystd2))\n"
     ]
    },
    {
     "name": "stdout",
     "output_type": "stream",
     "text": [
      "        Number of sources =  11\n",
      "        Median x_fwhm = 12.0 +/- 1.3\n",
      "        Median y_fwhm = 11.0 +/- 1.5\n",
      "  Working on image:  /g/lu/data/imaka/onaga/20200121/sta/reduce/Beehive-W/sta079_o_scan_clean.fits\n",
      "    Calculating background\n",
      "     Bkg = -15.01 +/- 3.87\n",
      "     Bkg Threshold = 19.36\n",
      "     Detecting Stars\n",
      "     Pass 0 assuming FWHM = 8.0\n",
      "756 sources found\n"
     ]
    },
    {
     "name": "stderr",
     "output_type": "stream",
     "text": [
      "/opt/anaconda3/envs/astroconda/lib/python3.7/site-packages/astropy/modeling/functional_models.py:378: RuntimeWarning: divide by zero encountered in true_divide\n",
      "  a = 0.5 * ((cost2 / xstd2) + (sint2 / ystd2))\n",
      "/opt/anaconda3/envs/astroconda/lib/python3.7/site-packages/astropy/modeling/functional_models.py:379: RuntimeWarning: divide by zero encountered in true_divide\n",
      "  b = 0.5 * ((sin2t / xstd2) - (sin2t / ystd2))\n",
      "/opt/anaconda3/envs/astroconda/lib/python3.7/site-packages/astropy/modeling/functional_models.py:380: RuntimeWarning: divide by zero encountered in true_divide\n",
      "  c = 0.5 * ((sint2 / xstd2) + (cost2 / ystd2))\n",
      "/opt/anaconda3/envs/astroconda/lib/python3.7/site-packages/astropy/modeling/functional_models.py:381: RuntimeWarning: invalid value encountered in add\n",
      "  return amplitude * np.exp(-((a * xdiff ** 2) + (b * xdiff * ydiff) +\n",
      "/opt/anaconda3/envs/astroconda/lib/python3.7/site-packages/astropy/modeling/functional_models.py:379: RuntimeWarning: invalid value encountered in subtract\n",
      "  b = 0.5 * ((sin2t / xstd2) - (sin2t / ystd2))\n",
      "WARNING: The fit may be unsuccessful; check fit_info['message'] for more information. [astropy.modeling.fitting]\n"
     ]
    },
    {
     "name": "stdout",
     "output_type": "stream",
     "text": [
      "        Number of sources =  17\n",
      "        Median x_fwhm = 10.0 +/- 3.3\n",
      "        Median y_fwhm = 10.0 +/- 3.7\n",
      "     Pass 1 assuming FWHM = 10.0\n",
      "519 sources found\n"
     ]
    },
    {
     "name": "stderr",
     "output_type": "stream",
     "text": [
      "/opt/anaconda3/envs/astroconda/lib/python3.7/site-packages/astropy/modeling/functional_models.py:378: RuntimeWarning: divide by zero encountered in true_divide\n",
      "  a = 0.5 * ((cost2 / xstd2) + (sint2 / ystd2))\n",
      "/opt/anaconda3/envs/astroconda/lib/python3.7/site-packages/astropy/modeling/functional_models.py:379: RuntimeWarning: divide by zero encountered in true_divide\n",
      "  b = 0.5 * ((sin2t / xstd2) - (sin2t / ystd2))\n",
      "/opt/anaconda3/envs/astroconda/lib/python3.7/site-packages/astropy/modeling/functional_models.py:379: RuntimeWarning: invalid value encountered in subtract\n",
      "  b = 0.5 * ((sin2t / xstd2) - (sin2t / ystd2))\n",
      "/opt/anaconda3/envs/astroconda/lib/python3.7/site-packages/astropy/modeling/functional_models.py:380: RuntimeWarning: divide by zero encountered in true_divide\n",
      "  c = 0.5 * ((sint2 / xstd2) + (cost2 / ystd2))\n",
      "/opt/anaconda3/envs/astroconda/lib/python3.7/site-packages/astropy/modeling/functional_models.py:381: RuntimeWarning: invalid value encountered in add\n",
      "  return amplitude * np.exp(-((a * xdiff ** 2) + (b * xdiff * ydiff) +\n"
     ]
    },
    {
     "name": "stdout",
     "output_type": "stream",
     "text": [
      "        Number of sources =  27\n",
      "        Median x_fwhm = 10.0 +/- 3.1\n",
      "        Median y_fwhm = 9.0 +/- 4.0\n",
      "  Working on image:  /g/lu/data/imaka/onaga/20200121/sta/reduce/Beehive-W/sta081_o_scan_clean.fits\n",
      "    Calculating background\n",
      "     Bkg = -15.45 +/- 3.98\n",
      "     Bkg Threshold = 19.90\n",
      "     Detecting Stars\n",
      "     Pass 0 assuming FWHM = 8.0\n",
      "679 sources found\n"
     ]
    },
    {
     "name": "stderr",
     "output_type": "stream",
     "text": [
      "/opt/anaconda3/envs/astroconda/lib/python3.7/site-packages/astropy/modeling/functional_models.py:378: RuntimeWarning: divide by zero encountered in true_divide\n",
      "  a = 0.5 * ((cost2 / xstd2) + (sint2 / ystd2))\n",
      "/opt/anaconda3/envs/astroconda/lib/python3.7/site-packages/astropy/modeling/functional_models.py:379: RuntimeWarning: divide by zero encountered in true_divide\n",
      "  b = 0.5 * ((sin2t / xstd2) - (sin2t / ystd2))\n",
      "/opt/anaconda3/envs/astroconda/lib/python3.7/site-packages/astropy/modeling/functional_models.py:379: RuntimeWarning: invalid value encountered in subtract\n",
      "  b = 0.5 * ((sin2t / xstd2) - (sin2t / ystd2))\n",
      "/opt/anaconda3/envs/astroconda/lib/python3.7/site-packages/astropy/modeling/functional_models.py:380: RuntimeWarning: divide by zero encountered in true_divide\n",
      "  c = 0.5 * ((sint2 / xstd2) + (cost2 / ystd2))\n",
      "/opt/anaconda3/envs/astroconda/lib/python3.7/site-packages/astropy/modeling/functional_models.py:381: RuntimeWarning: invalid value encountered in add\n",
      "  return amplitude * np.exp(-((a * xdiff ** 2) + (b * xdiff * ydiff) +\n"
     ]
    },
    {
     "name": "stdout",
     "output_type": "stream",
     "text": [
      "        Number of sources =  18\n",
      "        Median x_fwhm = 11.0 +/- 3.3\n",
      "        Median y_fwhm = 10.0 +/- 3.7\n",
      "     Pass 1 assuming FWHM = 10.5\n",
      "504 sources found\n"
     ]
    },
    {
     "name": "stderr",
     "output_type": "stream",
     "text": [
      "/opt/anaconda3/envs/astroconda/lib/python3.7/site-packages/astropy/modeling/functional_models.py:378: RuntimeWarning: divide by zero encountered in true_divide\n",
      "  a = 0.5 * ((cost2 / xstd2) + (sint2 / ystd2))\n",
      "/opt/anaconda3/envs/astroconda/lib/python3.7/site-packages/astropy/modeling/functional_models.py:379: RuntimeWarning: divide by zero encountered in true_divide\n",
      "  b = 0.5 * ((sin2t / xstd2) - (sin2t / ystd2))\n",
      "/opt/anaconda3/envs/astroconda/lib/python3.7/site-packages/astropy/modeling/functional_models.py:379: RuntimeWarning: invalid value encountered in subtract\n",
      "  b = 0.5 * ((sin2t / xstd2) - (sin2t / ystd2))\n",
      "/opt/anaconda3/envs/astroconda/lib/python3.7/site-packages/astropy/modeling/functional_models.py:380: RuntimeWarning: divide by zero encountered in true_divide\n",
      "  c = 0.5 * ((sint2 / xstd2) + (cost2 / ystd2))\n",
      "/opt/anaconda3/envs/astroconda/lib/python3.7/site-packages/astropy/modeling/functional_models.py:381: RuntimeWarning: invalid value encountered in add\n",
      "  return amplitude * np.exp(-((a * xdiff ** 2) + (b * xdiff * ydiff) +\n"
     ]
    },
    {
     "name": "stdout",
     "output_type": "stream",
     "text": [
      "        Number of sources =  26\n",
      "        Median x_fwhm = 11.0 +/- 2.3\n",
      "        Median y_fwhm = 9.0 +/- 3.6\n",
      "  Working on image:  /g/lu/data/imaka/onaga/20200121/sta/reduce/Beehive-W/sta083_o_scan_clean.fits\n",
      "    Calculating background\n",
      "     Bkg = -15.04 +/- 3.69\n",
      "     Bkg Threshold = 18.45\n",
      "     Detecting Stars\n",
      "     Pass 0 assuming FWHM = 8.0\n",
      "979 sources found\n"
     ]
    },
    {
     "name": "stderr",
     "output_type": "stream",
     "text": [
      "/opt/anaconda3/envs/astroconda/lib/python3.7/site-packages/astropy/modeling/functional_models.py:378: RuntimeWarning: divide by zero encountered in true_divide\n",
      "  a = 0.5 * ((cost2 / xstd2) + (sint2 / ystd2))\n",
      "/opt/anaconda3/envs/astroconda/lib/python3.7/site-packages/astropy/modeling/functional_models.py:379: RuntimeWarning: divide by zero encountered in true_divide\n",
      "  b = 0.5 * ((sin2t / xstd2) - (sin2t / ystd2))\n",
      "/opt/anaconda3/envs/astroconda/lib/python3.7/site-packages/astropy/modeling/functional_models.py:379: RuntimeWarning: invalid value encountered in subtract\n",
      "  b = 0.5 * ((sin2t / xstd2) - (sin2t / ystd2))\n",
      "/opt/anaconda3/envs/astroconda/lib/python3.7/site-packages/astropy/modeling/functional_models.py:380: RuntimeWarning: divide by zero encountered in true_divide\n",
      "  c = 0.5 * ((sint2 / xstd2) + (cost2 / ystd2))\n",
      "/opt/anaconda3/envs/astroconda/lib/python3.7/site-packages/astropy/modeling/functional_models.py:381: RuntimeWarning: invalid value encountered in add\n",
      "  return amplitude * np.exp(-((a * xdiff ** 2) + (b * xdiff * ydiff) +\n"
     ]
    },
    {
     "name": "stdout",
     "output_type": "stream",
     "text": [
      "        Number of sources =  17\n",
      "        Median x_fwhm = 11.0 +/- 1.5\n",
      "        Median y_fwhm = 11.0 +/- 2.3\n",
      "     Pass 1 assuming FWHM = 11.0\n",
      "727 sources found\n"
     ]
    },
    {
     "name": "stderr",
     "output_type": "stream",
     "text": [
      "/opt/anaconda3/envs/astroconda/lib/python3.7/site-packages/astropy/modeling/functional_models.py:378: RuntimeWarning: divide by zero encountered in true_divide\n",
      "  a = 0.5 * ((cost2 / xstd2) + (sint2 / ystd2))\n",
      "/opt/anaconda3/envs/astroconda/lib/python3.7/site-packages/astropy/modeling/functional_models.py:379: RuntimeWarning: divide by zero encountered in true_divide\n",
      "  b = 0.5 * ((sin2t / xstd2) - (sin2t / ystd2))\n",
      "/opt/anaconda3/envs/astroconda/lib/python3.7/site-packages/astropy/modeling/functional_models.py:379: RuntimeWarning: invalid value encountered in subtract\n",
      "  b = 0.5 * ((sin2t / xstd2) - (sin2t / ystd2))\n",
      "/opt/anaconda3/envs/astroconda/lib/python3.7/site-packages/astropy/modeling/functional_models.py:380: RuntimeWarning: divide by zero encountered in true_divide\n",
      "  c = 0.5 * ((sint2 / xstd2) + (cost2 / ystd2))\n",
      "/opt/anaconda3/envs/astroconda/lib/python3.7/site-packages/astropy/modeling/functional_models.py:381: RuntimeWarning: invalid value encountered in add\n",
      "  return amplitude * np.exp(-((a * xdiff ** 2) + (b * xdiff * ydiff) +\n",
      "WARNING: The fit may be unsuccessful; check fit_info['message'] for more information. [astropy.modeling.fitting]\n"
     ]
    },
    {
     "name": "stdout",
     "output_type": "stream",
     "text": [
      "        Number of sources =  20\n",
      "        Median x_fwhm = 11.0 +/- 2.1\n",
      "        Median y_fwhm = 8.0 +/- 2.0\n",
      "  Working on image:  /g/lu/data/imaka/onaga/20200121/sta/reduce/Beehive-W/sta085_o_scan_clean.fits\n",
      "    Calculating background\n",
      "     Bkg = -15.55 +/- 3.83\n",
      "     Bkg Threshold = 19.13\n",
      "     Detecting Stars\n",
      "     Pass 0 assuming FWHM = 8.0\n",
      "872 sources found\n"
     ]
    },
    {
     "name": "stderr",
     "output_type": "stream",
     "text": [
      "/opt/anaconda3/envs/astroconda/lib/python3.7/site-packages/astropy/modeling/functional_models.py:378: RuntimeWarning: divide by zero encountered in true_divide\n",
      "  a = 0.5 * ((cost2 / xstd2) + (sint2 / ystd2))\n",
      "/opt/anaconda3/envs/astroconda/lib/python3.7/site-packages/astropy/modeling/functional_models.py:379: RuntimeWarning: divide by zero encountered in true_divide\n",
      "  b = 0.5 * ((sin2t / xstd2) - (sin2t / ystd2))\n",
      "/opt/anaconda3/envs/astroconda/lib/python3.7/site-packages/astropy/modeling/functional_models.py:379: RuntimeWarning: invalid value encountered in subtract\n",
      "  b = 0.5 * ((sin2t / xstd2) - (sin2t / ystd2))\n",
      "/opt/anaconda3/envs/astroconda/lib/python3.7/site-packages/astropy/modeling/functional_models.py:380: RuntimeWarning: divide by zero encountered in true_divide\n",
      "  c = 0.5 * ((sint2 / xstd2) + (cost2 / ystd2))\n",
      "/opt/anaconda3/envs/astroconda/lib/python3.7/site-packages/astropy/modeling/functional_models.py:381: RuntimeWarning: invalid value encountered in add\n",
      "  return amplitude * np.exp(-((a * xdiff ** 2) + (b * xdiff * ydiff) +\n",
      "WARNING: The fit may be unsuccessful; check fit_info['message'] for more information. [astropy.modeling.fitting]\n"
     ]
    },
    {
     "name": "stdout",
     "output_type": "stream",
     "text": [
      "        Number of sources =  16\n",
      "        Median x_fwhm = 11.0 +/- 1.3\n",
      "        Median y_fwhm = 11.0 +/- 1.4\n",
      "     Pass 1 assuming FWHM = 11.0\n",
      "569 sources found\n"
     ]
    },
    {
     "name": "stderr",
     "output_type": "stream",
     "text": [
      "/opt/anaconda3/envs/astroconda/lib/python3.7/site-packages/astropy/modeling/functional_models.py:378: RuntimeWarning: divide by zero encountered in true_divide\n",
      "  a = 0.5 * ((cost2 / xstd2) + (sint2 / ystd2))\n",
      "/opt/anaconda3/envs/astroconda/lib/python3.7/site-packages/astropy/modeling/functional_models.py:379: RuntimeWarning: divide by zero encountered in true_divide\n",
      "  b = 0.5 * ((sin2t / xstd2) - (sin2t / ystd2))\n",
      "/opt/anaconda3/envs/astroconda/lib/python3.7/site-packages/astropy/modeling/functional_models.py:379: RuntimeWarning: invalid value encountered in subtract\n",
      "  b = 0.5 * ((sin2t / xstd2) - (sin2t / ystd2))\n",
      "/opt/anaconda3/envs/astroconda/lib/python3.7/site-packages/astropy/modeling/functional_models.py:380: RuntimeWarning: divide by zero encountered in true_divide\n",
      "  c = 0.5 * ((sint2 / xstd2) + (cost2 / ystd2))\n",
      "/opt/anaconda3/envs/astroconda/lib/python3.7/site-packages/astropy/modeling/functional_models.py:381: RuntimeWarning: invalid value encountered in add\n",
      "  return amplitude * np.exp(-((a * xdiff ** 2) + (b * xdiff * ydiff) +\n"
     ]
    },
    {
     "name": "stdout",
     "output_type": "stream",
     "text": [
      "        Number of sources =  17\n",
      "        Median x_fwhm = 10.0 +/- 1.8\n",
      "        Median y_fwhm = 10.0 +/- 1.7\n",
      "  Working on image:  /g/lu/data/imaka/onaga/20200121/sta/reduce/Beehive-W/sta087_o_scan_clean.fits\n",
      "    Calculating background\n",
      "     Bkg = -15.90 +/- 3.93\n",
      "     Bkg Threshold = 19.63\n",
      "     Detecting Stars\n",
      "     Pass 0 assuming FWHM = 8.0\n",
      "756 sources found\n"
     ]
    },
    {
     "name": "stderr",
     "output_type": "stream",
     "text": [
      "/opt/anaconda3/envs/astroconda/lib/python3.7/site-packages/astropy/modeling/functional_models.py:378: RuntimeWarning: divide by zero encountered in true_divide\n",
      "  a = 0.5 * ((cost2 / xstd2) + (sint2 / ystd2))\n",
      "/opt/anaconda3/envs/astroconda/lib/python3.7/site-packages/astropy/modeling/functional_models.py:379: RuntimeWarning: divide by zero encountered in true_divide\n",
      "  b = 0.5 * ((sin2t / xstd2) - (sin2t / ystd2))\n",
      "/opt/anaconda3/envs/astroconda/lib/python3.7/site-packages/astropy/modeling/functional_models.py:379: RuntimeWarning: invalid value encountered in subtract\n",
      "  b = 0.5 * ((sin2t / xstd2) - (sin2t / ystd2))\n",
      "/opt/anaconda3/envs/astroconda/lib/python3.7/site-packages/astropy/modeling/functional_models.py:380: RuntimeWarning: divide by zero encountered in true_divide\n",
      "  c = 0.5 * ((sint2 / xstd2) + (cost2 / ystd2))\n",
      "WARNING: The fit may be unsuccessful; check fit_info['message'] for more information. [astropy.modeling.fitting]\n",
      "/opt/anaconda3/envs/astroconda/lib/python3.7/site-packages/astropy/modeling/functional_models.py:381: RuntimeWarning: invalid value encountered in add\n",
      "  return amplitude * np.exp(-((a * xdiff ** 2) + (b * xdiff * ydiff) +\n"
     ]
    },
    {
     "name": "stdout",
     "output_type": "stream",
     "text": [
      "        Number of sources =  14\n",
      "        Median x_fwhm = 11.0 +/- 1.4\n",
      "        Median y_fwhm = 11.0 +/- 1.4\n",
      "     Pass 1 assuming FWHM = 11.0\n",
      "485 sources found\n"
     ]
    },
    {
     "name": "stderr",
     "output_type": "stream",
     "text": [
      "/opt/anaconda3/envs/astroconda/lib/python3.7/site-packages/astropy/modeling/functional_models.py:378: RuntimeWarning: divide by zero encountered in true_divide\n",
      "  a = 0.5 * ((cost2 / xstd2) + (sint2 / ystd2))\n",
      "/opt/anaconda3/envs/astroconda/lib/python3.7/site-packages/astropy/modeling/functional_models.py:379: RuntimeWarning: divide by zero encountered in true_divide\n",
      "  b = 0.5 * ((sin2t / xstd2) - (sin2t / ystd2))\n",
      "/opt/anaconda3/envs/astroconda/lib/python3.7/site-packages/astropy/modeling/functional_models.py:379: RuntimeWarning: invalid value encountered in subtract\n",
      "  b = 0.5 * ((sin2t / xstd2) - (sin2t / ystd2))\n",
      "/opt/anaconda3/envs/astroconda/lib/python3.7/site-packages/astropy/modeling/functional_models.py:380: RuntimeWarning: divide by zero encountered in true_divide\n",
      "  c = 0.5 * ((sint2 / xstd2) + (cost2 / ystd2))\n",
      "/opt/anaconda3/envs/astroconda/lib/python3.7/site-packages/astropy/modeling/functional_models.py:381: RuntimeWarning: invalid value encountered in add\n",
      "  return amplitude * np.exp(-((a * xdiff ** 2) + (b * xdiff * ydiff) +\n"
     ]
    },
    {
     "name": "stdout",
     "output_type": "stream",
     "text": [
      "        Number of sources =  17\n",
      "        Median x_fwhm = 10.0 +/- 1.7\n",
      "        Median y_fwhm = 10.0 +/- 1.8\n",
      "  Working on image:  /g/lu/data/imaka/onaga/20200121/sta/reduce/Beehive-W/sta089_o_scan_clean.fits\n",
      "    Calculating background\n",
      "     Bkg = -15.71 +/- 3.90\n",
      "     Bkg Threshold = 19.51\n",
      "     Detecting Stars\n",
      "     Pass 0 assuming FWHM = 8.0\n",
      "807 sources found\n"
     ]
    },
    {
     "name": "stderr",
     "output_type": "stream",
     "text": [
      "/opt/anaconda3/envs/astroconda/lib/python3.7/site-packages/astropy/modeling/functional_models.py:378: RuntimeWarning: divide by zero encountered in true_divide\n",
      "  a = 0.5 * ((cost2 / xstd2) + (sint2 / ystd2))\n",
      "/opt/anaconda3/envs/astroconda/lib/python3.7/site-packages/astropy/modeling/functional_models.py:379: RuntimeWarning: divide by zero encountered in true_divide\n",
      "  b = 0.5 * ((sin2t / xstd2) - (sin2t / ystd2))\n",
      "/opt/anaconda3/envs/astroconda/lib/python3.7/site-packages/astropy/modeling/functional_models.py:379: RuntimeWarning: invalid value encountered in subtract\n",
      "  b = 0.5 * ((sin2t / xstd2) - (sin2t / ystd2))\n",
      "/opt/anaconda3/envs/astroconda/lib/python3.7/site-packages/astropy/modeling/functional_models.py:380: RuntimeWarning: divide by zero encountered in true_divide\n",
      "  c = 0.5 * ((sint2 / xstd2) + (cost2 / ystd2))\n",
      "/opt/anaconda3/envs/astroconda/lib/python3.7/site-packages/astropy/modeling/functional_models.py:381: RuntimeWarning: invalid value encountered in add\n",
      "  return amplitude * np.exp(-((a * xdiff ** 2) + (b * xdiff * ydiff) +\n"
     ]
    },
    {
     "name": "stdout",
     "output_type": "stream",
     "text": [
      "        Number of sources =  16\n",
      "        Median x_fwhm = 11.0 +/- 1.8\n",
      "        Median y_fwhm = 10.5 +/- 1.3\n",
      "     Pass 1 assuming FWHM = 10.8\n",
      "519 sources found\n"
     ]
    },
    {
     "name": "stderr",
     "output_type": "stream",
     "text": [
      "/opt/anaconda3/envs/astroconda/lib/python3.7/site-packages/astropy/modeling/functional_models.py:378: RuntimeWarning: divide by zero encountered in true_divide\n",
      "  a = 0.5 * ((cost2 / xstd2) + (sint2 / ystd2))\n",
      "/opt/anaconda3/envs/astroconda/lib/python3.7/site-packages/astropy/modeling/functional_models.py:379: RuntimeWarning: divide by zero encountered in true_divide\n",
      "  b = 0.5 * ((sin2t / xstd2) - (sin2t / ystd2))\n",
      "/opt/anaconda3/envs/astroconda/lib/python3.7/site-packages/astropy/modeling/functional_models.py:379: RuntimeWarning: invalid value encountered in subtract\n",
      "  b = 0.5 * ((sin2t / xstd2) - (sin2t / ystd2))\n",
      "/opt/anaconda3/envs/astroconda/lib/python3.7/site-packages/astropy/modeling/functional_models.py:380: RuntimeWarning: divide by zero encountered in true_divide\n",
      "  c = 0.5 * ((sint2 / xstd2) + (cost2 / ystd2))\n",
      "/opt/anaconda3/envs/astroconda/lib/python3.7/site-packages/astropy/modeling/functional_models.py:381: RuntimeWarning: invalid value encountered in add\n",
      "  return amplitude * np.exp(-((a * xdiff ** 2) + (b * xdiff * ydiff) +\n"
     ]
    },
    {
     "name": "stdout",
     "output_type": "stream",
     "text": [
      "        Number of sources =  18\n",
      "        Median x_fwhm = 10.5 +/- 1.7\n",
      "        Median y_fwhm = 9.0 +/- 1.6\n",
      "  Working on image:  /g/lu/data/imaka/onaga/20200121/sta/reduce/Beehive-W/sta091_o_scan_clean.fits\n",
      "    Calculating background\n",
      "     Bkg = -16.10 +/- 3.98\n",
      "     Bkg Threshold = 19.90\n",
      "     Detecting Stars\n",
      "     Pass 0 assuming FWHM = 8.0\n",
      "674 sources found\n"
     ]
    },
    {
     "name": "stderr",
     "output_type": "stream",
     "text": [
      "/opt/anaconda3/envs/astroconda/lib/python3.7/site-packages/astropy/modeling/functional_models.py:378: RuntimeWarning: divide by zero encountered in true_divide\n",
      "  a = 0.5 * ((cost2 / xstd2) + (sint2 / ystd2))\n",
      "/opt/anaconda3/envs/astroconda/lib/python3.7/site-packages/astropy/modeling/functional_models.py:379: RuntimeWarning: divide by zero encountered in true_divide\n",
      "  b = 0.5 * ((sin2t / xstd2) - (sin2t / ystd2))\n",
      "/opt/anaconda3/envs/astroconda/lib/python3.7/site-packages/astropy/modeling/functional_models.py:379: RuntimeWarning: invalid value encountered in subtract\n",
      "  b = 0.5 * ((sin2t / xstd2) - (sin2t / ystd2))\n",
      "/opt/anaconda3/envs/astroconda/lib/python3.7/site-packages/astropy/modeling/functional_models.py:380: RuntimeWarning: divide by zero encountered in true_divide\n",
      "  c = 0.5 * ((sint2 / xstd2) + (cost2 / ystd2))\n",
      "/opt/anaconda3/envs/astroconda/lib/python3.7/site-packages/astropy/modeling/functional_models.py:381: RuntimeWarning: invalid value encountered in add\n",
      "  return amplitude * np.exp(-((a * xdiff ** 2) + (b * xdiff * ydiff) +\n"
     ]
    },
    {
     "name": "stdout",
     "output_type": "stream",
     "text": [
      "        Number of sources =  17\n",
      "        Median x_fwhm = 11.0 +/- 1.7\n",
      "        Median y_fwhm = 10.0 +/- 1.5\n",
      "     Pass 1 assuming FWHM = 10.5\n",
      "516 sources found\n"
     ]
    },
    {
     "name": "stderr",
     "output_type": "stream",
     "text": [
      "/opt/anaconda3/envs/astroconda/lib/python3.7/site-packages/astropy/modeling/functional_models.py:378: RuntimeWarning: divide by zero encountered in true_divide\n",
      "  a = 0.5 * ((cost2 / xstd2) + (sint2 / ystd2))\n",
      "/opt/anaconda3/envs/astroconda/lib/python3.7/site-packages/astropy/modeling/functional_models.py:379: RuntimeWarning: divide by zero encountered in true_divide\n",
      "  b = 0.5 * ((sin2t / xstd2) - (sin2t / ystd2))\n",
      "/opt/anaconda3/envs/astroconda/lib/python3.7/site-packages/astropy/modeling/functional_models.py:379: RuntimeWarning: invalid value encountered in subtract\n",
      "  b = 0.5 * ((sin2t / xstd2) - (sin2t / ystd2))\n",
      "/opt/anaconda3/envs/astroconda/lib/python3.7/site-packages/astropy/modeling/functional_models.py:380: RuntimeWarning: divide by zero encountered in true_divide\n",
      "  c = 0.5 * ((sint2 / xstd2) + (cost2 / ystd2))\n",
      "/opt/anaconda3/envs/astroconda/lib/python3.7/site-packages/astropy/modeling/functional_models.py:381: RuntimeWarning: invalid value encountered in add\n",
      "  return amplitude * np.exp(-((a * xdiff ** 2) + (b * xdiff * ydiff) +\n"
     ]
    },
    {
     "name": "stdout",
     "output_type": "stream",
     "text": [
      "        Number of sources =  18\n",
      "        Median x_fwhm = 10.0 +/- 2.1\n",
      "        Median y_fwhm = 10.0 +/- 2.0\n",
      "  Working on image:  /g/lu/data/imaka/onaga/20200121/sta/reduce/Beehive-W/sta093_o_scan_clean.fits\n",
      "    Calculating background\n",
      "     Bkg = -16.38 +/- 4.06\n",
      "     Bkg Threshold = 20.29\n",
      "     Detecting Stars\n",
      "     Pass 0 assuming FWHM = 8.0\n",
      "625 sources found\n"
     ]
    },
    {
     "name": "stderr",
     "output_type": "stream",
     "text": [
      "/opt/anaconda3/envs/astroconda/lib/python3.7/site-packages/astropy/modeling/functional_models.py:378: RuntimeWarning: divide by zero encountered in true_divide\n",
      "  a = 0.5 * ((cost2 / xstd2) + (sint2 / ystd2))\n",
      "/opt/anaconda3/envs/astroconda/lib/python3.7/site-packages/astropy/modeling/functional_models.py:379: RuntimeWarning: divide by zero encountered in true_divide\n",
      "  b = 0.5 * ((sin2t / xstd2) - (sin2t / ystd2))\n",
      "/opt/anaconda3/envs/astroconda/lib/python3.7/site-packages/astropy/modeling/functional_models.py:379: RuntimeWarning: invalid value encountered in subtract\n",
      "  b = 0.5 * ((sin2t / xstd2) - (sin2t / ystd2))\n",
      "/opt/anaconda3/envs/astroconda/lib/python3.7/site-packages/astropy/modeling/functional_models.py:380: RuntimeWarning: divide by zero encountered in true_divide\n",
      "  c = 0.5 * ((sint2 / xstd2) + (cost2 / ystd2))\n",
      "/opt/anaconda3/envs/astroconda/lib/python3.7/site-packages/astropy/modeling/functional_models.py:381: RuntimeWarning: invalid value encountered in add\n",
      "  return amplitude * np.exp(-((a * xdiff ** 2) + (b * xdiff * ydiff) +\n"
     ]
    },
    {
     "name": "stdout",
     "output_type": "stream",
     "text": [
      "        Number of sources =  16\n",
      "        Median x_fwhm = 11.0 +/- 1.3\n",
      "        Median y_fwhm = 11.0 +/- 1.2\n",
      "     Pass 1 assuming FWHM = 11.0\n",
      "397 sources found\n"
     ]
    },
    {
     "name": "stderr",
     "output_type": "stream",
     "text": [
      "/opt/anaconda3/envs/astroconda/lib/python3.7/site-packages/astropy/modeling/functional_models.py:378: RuntimeWarning: divide by zero encountered in true_divide\n",
      "  a = 0.5 * ((cost2 / xstd2) + (sint2 / ystd2))\n",
      "/opt/anaconda3/envs/astroconda/lib/python3.7/site-packages/astropy/modeling/functional_models.py:379: RuntimeWarning: divide by zero encountered in true_divide\n",
      "  b = 0.5 * ((sin2t / xstd2) - (sin2t / ystd2))\n",
      "/opt/anaconda3/envs/astroconda/lib/python3.7/site-packages/astropy/modeling/functional_models.py:379: RuntimeWarning: invalid value encountered in subtract\n",
      "  b = 0.5 * ((sin2t / xstd2) - (sin2t / ystd2))\n",
      "/opt/anaconda3/envs/astroconda/lib/python3.7/site-packages/astropy/modeling/functional_models.py:380: RuntimeWarning: divide by zero encountered in true_divide\n",
      "  c = 0.5 * ((sint2 / xstd2) + (cost2 / ystd2))\n",
      "/opt/anaconda3/envs/astroconda/lib/python3.7/site-packages/astropy/modeling/functional_models.py:381: RuntimeWarning: invalid value encountered in add\n",
      "  return amplitude * np.exp(-((a * xdiff ** 2) + (b * xdiff * ydiff) +\n"
     ]
    },
    {
     "name": "stdout",
     "output_type": "stream",
     "text": [
      "        Number of sources =  17\n",
      "        Median x_fwhm = 10.0 +/- 1.8\n",
      "        Median y_fwhm = 10.0 +/- 1.6\n",
      "  Working on image:  /g/lu/data/imaka/onaga/20200121/sta/reduce/Beehive-W/sta107_o_scan_clean.fits\n",
      "    Calculating background\n",
      "     Bkg = -14.02 +/- 4.10\n",
      "     Bkg Threshold = 20.50\n",
      "     Detecting Stars\n",
      "     Pass 0 assuming FWHM = 8.0\n",
      "772 sources found\n"
     ]
    },
    {
     "name": "stderr",
     "output_type": "stream",
     "text": [
      "/opt/anaconda3/envs/astroconda/lib/python3.7/site-packages/astropy/modeling/functional_models.py:378: RuntimeWarning: divide by zero encountered in true_divide\n",
      "  a = 0.5 * ((cost2 / xstd2) + (sint2 / ystd2))\n",
      "/opt/anaconda3/envs/astroconda/lib/python3.7/site-packages/astropy/modeling/functional_models.py:379: RuntimeWarning: divide by zero encountered in true_divide\n",
      "  b = 0.5 * ((sin2t / xstd2) - (sin2t / ystd2))\n",
      "/opt/anaconda3/envs/astroconda/lib/python3.7/site-packages/astropy/modeling/functional_models.py:379: RuntimeWarning: invalid value encountered in subtract\n",
      "  b = 0.5 * ((sin2t / xstd2) - (sin2t / ystd2))\n",
      "/opt/anaconda3/envs/astroconda/lib/python3.7/site-packages/astropy/modeling/functional_models.py:380: RuntimeWarning: divide by zero encountered in true_divide\n",
      "  c = 0.5 * ((sint2 / xstd2) + (cost2 / ystd2))\n",
      "/opt/anaconda3/envs/astroconda/lib/python3.7/site-packages/astropy/modeling/functional_models.py:381: RuntimeWarning: invalid value encountered in add\n",
      "  return amplitude * np.exp(-((a * xdiff ** 2) + (b * xdiff * ydiff) +\n",
      "WARNING: The fit may be unsuccessful; check fit_info['message'] for more information. [astropy.modeling.fitting]\n"
     ]
    },
    {
     "name": "stdout",
     "output_type": "stream",
     "text": [
      "        Number of sources =  12\n",
      "        Median x_fwhm = 14.5 +/- 2.1\n",
      "        Median y_fwhm = 14.5 +/- 2.4\n",
      "     Pass 1 assuming FWHM = 14.5\n",
      "313 sources found\n"
     ]
    },
    {
     "name": "stderr",
     "output_type": "stream",
     "text": [
      "/opt/anaconda3/envs/astroconda/lib/python3.7/site-packages/astropy/modeling/functional_models.py:378: RuntimeWarning: divide by zero encountered in true_divide\n",
      "  a = 0.5 * ((cost2 / xstd2) + (sint2 / ystd2))\n",
      "/opt/anaconda3/envs/astroconda/lib/python3.7/site-packages/astropy/modeling/functional_models.py:379: RuntimeWarning: divide by zero encountered in true_divide\n",
      "  b = 0.5 * ((sin2t / xstd2) - (sin2t / ystd2))\n",
      "/opt/anaconda3/envs/astroconda/lib/python3.7/site-packages/astropy/modeling/functional_models.py:379: RuntimeWarning: invalid value encountered in subtract\n",
      "  b = 0.5 * ((sin2t / xstd2) - (sin2t / ystd2))\n",
      "/opt/anaconda3/envs/astroconda/lib/python3.7/site-packages/astropy/modeling/functional_models.py:380: RuntimeWarning: divide by zero encountered in true_divide\n",
      "  c = 0.5 * ((sint2 / xstd2) + (cost2 / ystd2))\n",
      "/opt/anaconda3/envs/astroconda/lib/python3.7/site-packages/astropy/modeling/functional_models.py:381: RuntimeWarning: invalid value encountered in add\n",
      "  return amplitude * np.exp(-((a * xdiff ** 2) + (b * xdiff * ydiff) +\n"
     ]
    },
    {
     "name": "stdout",
     "output_type": "stream",
     "text": [
      "        Number of sources =  17\n",
      "        Median x_fwhm = 14.0 +/- 2.2\n",
      "        Median y_fwhm = 12.0 +/- 2.0\n",
      "  Working on image:  /g/lu/data/imaka/onaga/20200121/sta/reduce/Beehive-W/sta109_o_scan_clean.fits\n",
      "    Calculating background\n",
      "     Bkg = -14.29 +/- 4.17\n",
      "     Bkg Threshold = 20.87\n",
      "     Detecting Stars\n",
      "     Pass 0 assuming FWHM = 8.0\n",
      "714 sources found\n"
     ]
    },
    {
     "name": "stderr",
     "output_type": "stream",
     "text": [
      "/opt/anaconda3/envs/astroconda/lib/python3.7/site-packages/astropy/modeling/functional_models.py:378: RuntimeWarning: divide by zero encountered in true_divide\n",
      "  a = 0.5 * ((cost2 / xstd2) + (sint2 / ystd2))\n",
      "/opt/anaconda3/envs/astroconda/lib/python3.7/site-packages/astropy/modeling/functional_models.py:379: RuntimeWarning: divide by zero encountered in true_divide\n",
      "  b = 0.5 * ((sin2t / xstd2) - (sin2t / ystd2))\n",
      "/opt/anaconda3/envs/astroconda/lib/python3.7/site-packages/astropy/modeling/functional_models.py:379: RuntimeWarning: invalid value encountered in subtract\n",
      "  b = 0.5 * ((sin2t / xstd2) - (sin2t / ystd2))\n",
      "/opt/anaconda3/envs/astroconda/lib/python3.7/site-packages/astropy/modeling/functional_models.py:380: RuntimeWarning: divide by zero encountered in true_divide\n",
      "  c = 0.5 * ((sint2 / xstd2) + (cost2 / ystd2))\n",
      "/opt/anaconda3/envs/astroconda/lib/python3.7/site-packages/astropy/modeling/functional_models.py:381: RuntimeWarning: invalid value encountered in add\n",
      "  return amplitude * np.exp(-((a * xdiff ** 2) + (b * xdiff * ydiff) +\n"
     ]
    },
    {
     "name": "stdout",
     "output_type": "stream",
     "text": [
      "        Number of sources =  11\n",
      "        Median x_fwhm = 14.0 +/- 1.9\n",
      "        Median y_fwhm = 12.0 +/- 2.9\n",
      "     Pass 1 assuming FWHM = 13.0\n",
      "299 sources found\n"
     ]
    },
    {
     "name": "stderr",
     "output_type": "stream",
     "text": [
      "/opt/anaconda3/envs/astroconda/lib/python3.7/site-packages/astropy/modeling/functional_models.py:378: RuntimeWarning: divide by zero encountered in true_divide\n",
      "  a = 0.5 * ((cost2 / xstd2) + (sint2 / ystd2))\n",
      "/opt/anaconda3/envs/astroconda/lib/python3.7/site-packages/astropy/modeling/functional_models.py:379: RuntimeWarning: divide by zero encountered in true_divide\n",
      "  b = 0.5 * ((sin2t / xstd2) - (sin2t / ystd2))\n",
      "/opt/anaconda3/envs/astroconda/lib/python3.7/site-packages/astropy/modeling/functional_models.py:379: RuntimeWarning: invalid value encountered in subtract\n",
      "  b = 0.5 * ((sin2t / xstd2) - (sin2t / ystd2))\n",
      "/opt/anaconda3/envs/astroconda/lib/python3.7/site-packages/astropy/modeling/functional_models.py:380: RuntimeWarning: divide by zero encountered in true_divide\n",
      "  c = 0.5 * ((sint2 / xstd2) + (cost2 / ystd2))\n",
      "/opt/anaconda3/envs/astroconda/lib/python3.7/site-packages/astropy/modeling/functional_models.py:381: RuntimeWarning: invalid value encountered in add\n",
      "  return amplitude * np.exp(-((a * xdiff ** 2) + (b * xdiff * ydiff) +\n"
     ]
    },
    {
     "name": "stdout",
     "output_type": "stream",
     "text": [
      "        Number of sources =  18\n",
      "        Median x_fwhm = 13.0 +/- 2.9\n",
      "        Median y_fwhm = 11.5 +/- 2.3\n",
      "  Working on image:  /g/lu/data/imaka/onaga/20200121/sta/reduce/Beehive-W/sta111_o_scan_clean.fits\n",
      "    Calculating background\n",
      "     Bkg = -14.40 +/- 4.20\n",
      "     Bkg Threshold = 21.00\n",
      "     Detecting Stars\n",
      "     Pass 0 assuming FWHM = 8.0\n",
      "723 sources found\n"
     ]
    },
    {
     "name": "stderr",
     "output_type": "stream",
     "text": [
      "/opt/anaconda3/envs/astroconda/lib/python3.7/site-packages/astropy/modeling/functional_models.py:378: RuntimeWarning: divide by zero encountered in true_divide\n",
      "  a = 0.5 * ((cost2 / xstd2) + (sint2 / ystd2))\n",
      "/opt/anaconda3/envs/astroconda/lib/python3.7/site-packages/astropy/modeling/functional_models.py:379: RuntimeWarning: divide by zero encountered in true_divide\n",
      "  b = 0.5 * ((sin2t / xstd2) - (sin2t / ystd2))\n",
      "/opt/anaconda3/envs/astroconda/lib/python3.7/site-packages/astropy/modeling/functional_models.py:379: RuntimeWarning: invalid value encountered in subtract\n",
      "  b = 0.5 * ((sin2t / xstd2) - (sin2t / ystd2))\n",
      "/opt/anaconda3/envs/astroconda/lib/python3.7/site-packages/astropy/modeling/functional_models.py:380: RuntimeWarning: divide by zero encountered in true_divide\n",
      "  c = 0.5 * ((sint2 / xstd2) + (cost2 / ystd2))\n",
      "/opt/anaconda3/envs/astroconda/lib/python3.7/site-packages/astropy/modeling/functional_models.py:381: RuntimeWarning: invalid value encountered in add\n",
      "  return amplitude * np.exp(-((a * xdiff ** 2) + (b * xdiff * ydiff) +\n"
     ]
    },
    {
     "name": "stdout",
     "output_type": "stream",
     "text": [
      "        Number of sources =  13\n",
      "        Median x_fwhm = 14.5 +/- 3.1\n",
      "        Median y_fwhm = 13.5 +/- 2.2\n",
      "     Pass 1 assuming FWHM = 14.0\n",
      "320 sources found\n"
     ]
    },
    {
     "name": "stderr",
     "output_type": "stream",
     "text": [
      "/opt/anaconda3/envs/astroconda/lib/python3.7/site-packages/astropy/modeling/functional_models.py:378: RuntimeWarning: divide by zero encountered in true_divide\n",
      "  a = 0.5 * ((cost2 / xstd2) + (sint2 / ystd2))\n",
      "/opt/anaconda3/envs/astroconda/lib/python3.7/site-packages/astropy/modeling/functional_models.py:379: RuntimeWarning: divide by zero encountered in true_divide\n",
      "  b = 0.5 * ((sin2t / xstd2) - (sin2t / ystd2))\n",
      "/opt/anaconda3/envs/astroconda/lib/python3.7/site-packages/astropy/modeling/functional_models.py:379: RuntimeWarning: invalid value encountered in subtract\n",
      "  b = 0.5 * ((sin2t / xstd2) - (sin2t / ystd2))\n",
      "/opt/anaconda3/envs/astroconda/lib/python3.7/site-packages/astropy/modeling/functional_models.py:380: RuntimeWarning: divide by zero encountered in true_divide\n",
      "  c = 0.5 * ((sint2 / xstd2) + (cost2 / ystd2))\n",
      "/opt/anaconda3/envs/astroconda/lib/python3.7/site-packages/astropy/modeling/functional_models.py:381: RuntimeWarning: invalid value encountered in add\n",
      "  return amplitude * np.exp(-((a * xdiff ** 2) + (b * xdiff * ydiff) +\n"
     ]
    },
    {
     "name": "stdout",
     "output_type": "stream",
     "text": [
      "        Number of sources =  17\n",
      "        Median x_fwhm = 13.5 +/- 3.1\n",
      "        Median y_fwhm = 11.0 +/- 1.8\n",
      "  Working on image:  /g/lu/data/imaka/onaga/20200121/sta/reduce/Beehive-W/sta113_o_scan_clean.fits\n",
      "    Calculating background\n",
      "     Bkg = -14.52 +/- 4.21\n",
      "     Bkg Threshold = 21.06\n",
      "     Detecting Stars\n",
      "     Pass 0 assuming FWHM = 8.0\n",
      "648 sources found\n"
     ]
    },
    {
     "name": "stderr",
     "output_type": "stream",
     "text": [
      "/opt/anaconda3/envs/astroconda/lib/python3.7/site-packages/astropy/modeling/functional_models.py:378: RuntimeWarning: divide by zero encountered in true_divide\n",
      "  a = 0.5 * ((cost2 / xstd2) + (sint2 / ystd2))\n",
      "/opt/anaconda3/envs/astroconda/lib/python3.7/site-packages/astropy/modeling/functional_models.py:379: RuntimeWarning: divide by zero encountered in true_divide\n",
      "  b = 0.5 * ((sin2t / xstd2) - (sin2t / ystd2))\n",
      "/opt/anaconda3/envs/astroconda/lib/python3.7/site-packages/astropy/modeling/functional_models.py:379: RuntimeWarning: invalid value encountered in subtract\n",
      "  b = 0.5 * ((sin2t / xstd2) - (sin2t / ystd2))\n",
      "/opt/anaconda3/envs/astroconda/lib/python3.7/site-packages/astropy/modeling/functional_models.py:380: RuntimeWarning: divide by zero encountered in true_divide\n",
      "  c = 0.5 * ((sint2 / xstd2) + (cost2 / ystd2))\n",
      "/opt/anaconda3/envs/astroconda/lib/python3.7/site-packages/astropy/modeling/functional_models.py:381: RuntimeWarning: invalid value encountered in add\n",
      "  return amplitude * np.exp(-((a * xdiff ** 2) + (b * xdiff * ydiff) +\n"
     ]
    },
    {
     "name": "stdout",
     "output_type": "stream",
     "text": [
      "        Number of sources =  13\n",
      "        Median x_fwhm = 14.0 +/- 2.8\n",
      "        Median y_fwhm = 12.0 +/- 2.0\n",
      "     Pass 1 assuming FWHM = 13.0\n",
      "286 sources found\n"
     ]
    },
    {
     "name": "stderr",
     "output_type": "stream",
     "text": [
      "/opt/anaconda3/envs/astroconda/lib/python3.7/site-packages/astropy/modeling/functional_models.py:378: RuntimeWarning: divide by zero encountered in true_divide\n",
      "  a = 0.5 * ((cost2 / xstd2) + (sint2 / ystd2))\n",
      "/opt/anaconda3/envs/astroconda/lib/python3.7/site-packages/astropy/modeling/functional_models.py:379: RuntimeWarning: divide by zero encountered in true_divide\n",
      "  b = 0.5 * ((sin2t / xstd2) - (sin2t / ystd2))\n",
      "/opt/anaconda3/envs/astroconda/lib/python3.7/site-packages/astropy/modeling/functional_models.py:379: RuntimeWarning: invalid value encountered in subtract\n",
      "  b = 0.5 * ((sin2t / xstd2) - (sin2t / ystd2))\n",
      "/opt/anaconda3/envs/astroconda/lib/python3.7/site-packages/astropy/modeling/functional_models.py:380: RuntimeWarning: divide by zero encountered in true_divide\n",
      "  c = 0.5 * ((sint2 / xstd2) + (cost2 / ystd2))\n",
      "/opt/anaconda3/envs/astroconda/lib/python3.7/site-packages/astropy/modeling/functional_models.py:381: RuntimeWarning: invalid value encountered in add\n",
      "  return amplitude * np.exp(-((a * xdiff ** 2) + (b * xdiff * ydiff) +\n"
     ]
    },
    {
     "name": "stdout",
     "output_type": "stream",
     "text": [
      "        Number of sources =  19\n",
      "        Median x_fwhm = 13.0 +/- 3.0\n",
      "        Median y_fwhm = 11.0 +/- 2.0\n",
      "  Working on image:  /g/lu/data/imaka/onaga/20200121/sta/reduce/Beehive-W/sta115_o_scan_clean.fits\n",
      "    Calculating background\n",
      "     Bkg = -14.60 +/- 4.21\n",
      "     Bkg Threshold = 21.03\n",
      "     Detecting Stars\n",
      "     Pass 0 assuming FWHM = 8.0\n",
      "675 sources found\n"
     ]
    },
    {
     "name": "stderr",
     "output_type": "stream",
     "text": [
      "/opt/anaconda3/envs/astroconda/lib/python3.7/site-packages/astropy/modeling/functional_models.py:378: RuntimeWarning: divide by zero encountered in true_divide\n",
      "  a = 0.5 * ((cost2 / xstd2) + (sint2 / ystd2))\n",
      "/opt/anaconda3/envs/astroconda/lib/python3.7/site-packages/astropy/modeling/functional_models.py:379: RuntimeWarning: divide by zero encountered in true_divide\n",
      "  b = 0.5 * ((sin2t / xstd2) - (sin2t / ystd2))\n",
      "/opt/anaconda3/envs/astroconda/lib/python3.7/site-packages/astropy/modeling/functional_models.py:379: RuntimeWarning: invalid value encountered in subtract\n",
      "  b = 0.5 * ((sin2t / xstd2) - (sin2t / ystd2))\n",
      "/opt/anaconda3/envs/astroconda/lib/python3.7/site-packages/astropy/modeling/functional_models.py:380: RuntimeWarning: divide by zero encountered in true_divide\n",
      "  c = 0.5 * ((sint2 / xstd2) + (cost2 / ystd2))\n",
      "/opt/anaconda3/envs/astroconda/lib/python3.7/site-packages/astropy/modeling/functional_models.py:381: RuntimeWarning: invalid value encountered in add\n",
      "  return amplitude * np.exp(-((a * xdiff ** 2) + (b * xdiff * ydiff) +\n"
     ]
    },
    {
     "name": "stdout",
     "output_type": "stream",
     "text": [
      "        Number of sources =  13\n",
      "        Median x_fwhm = 14.0 +/- 2.6\n",
      "        Median y_fwhm = 13.0 +/- 2.1\n",
      "     Pass 1 assuming FWHM = 13.5\n",
      "303 sources found\n"
     ]
    },
    {
     "name": "stderr",
     "output_type": "stream",
     "text": [
      "/opt/anaconda3/envs/astroconda/lib/python3.7/site-packages/astropy/modeling/functional_models.py:378: RuntimeWarning: divide by zero encountered in true_divide\n",
      "  a = 0.5 * ((cost2 / xstd2) + (sint2 / ystd2))\n",
      "/opt/anaconda3/envs/astroconda/lib/python3.7/site-packages/astropy/modeling/functional_models.py:379: RuntimeWarning: divide by zero encountered in true_divide\n",
      "  b = 0.5 * ((sin2t / xstd2) - (sin2t / ystd2))\n",
      "/opt/anaconda3/envs/astroconda/lib/python3.7/site-packages/astropy/modeling/functional_models.py:379: RuntimeWarning: invalid value encountered in subtract\n",
      "  b = 0.5 * ((sin2t / xstd2) - (sin2t / ystd2))\n",
      "/opt/anaconda3/envs/astroconda/lib/python3.7/site-packages/astropy/modeling/functional_models.py:380: RuntimeWarning: divide by zero encountered in true_divide\n",
      "  c = 0.5 * ((sint2 / xstd2) + (cost2 / ystd2))\n",
      "/opt/anaconda3/envs/astroconda/lib/python3.7/site-packages/astropy/modeling/functional_models.py:381: RuntimeWarning: invalid value encountered in add\n",
      "  return amplitude * np.exp(-((a * xdiff ** 2) + (b * xdiff * ydiff) +\n"
     ]
    },
    {
     "name": "stdout",
     "output_type": "stream",
     "text": [
      "        Number of sources =  18\n",
      "        Median x_fwhm = 13.0 +/- 2.1\n",
      "        Median y_fwhm = 12.0 +/- 2.3\n",
      "\n",
      "REDUCE_STA: find_stars()\n",
      "  Working on image:  /g/lu/data/imaka/onaga/20200121/sta/reduce/Beehive-W/sta008x10LS5WFS_c_scan_clean.fits\n",
      "    Calculating background\n",
      "     Bkg = -7.45 +/- 2.72\n",
      "     Bkg Threshold = 27.20\n",
      "     Detecting Stars\n",
      "     Pass 0 assuming FWHM = 8.0\n",
      "431 sources found\n"
     ]
    },
    {
     "name": "stderr",
     "output_type": "stream",
     "text": [
      "/opt/anaconda3/envs/astroconda/lib/python3.7/site-packages/astropy/modeling/functional_models.py:378: RuntimeWarning: divide by zero encountered in true_divide\n",
      "  a = 0.5 * ((cost2 / xstd2) + (sint2 / ystd2))\n",
      "/opt/anaconda3/envs/astroconda/lib/python3.7/site-packages/astropy/modeling/functional_models.py:379: RuntimeWarning: divide by zero encountered in true_divide\n",
      "  b = 0.5 * ((sin2t / xstd2) - (sin2t / ystd2))\n",
      "/opt/anaconda3/envs/astroconda/lib/python3.7/site-packages/astropy/modeling/functional_models.py:379: RuntimeWarning: invalid value encountered in subtract\n",
      "  b = 0.5 * ((sin2t / xstd2) - (sin2t / ystd2))\n",
      "/opt/anaconda3/envs/astroconda/lib/python3.7/site-packages/astropy/modeling/functional_models.py:380: RuntimeWarning: divide by zero encountered in true_divide\n",
      "  c = 0.5 * ((sint2 / xstd2) + (cost2 / ystd2))\n",
      "/opt/anaconda3/envs/astroconda/lib/python3.7/site-packages/astropy/modeling/functional_models.py:381: RuntimeWarning: invalid value encountered in add\n",
      "  return amplitude * np.exp(-((a * xdiff ** 2) + (b * xdiff * ydiff) +\n"
     ]
    },
    {
     "name": "stdout",
     "output_type": "stream",
     "text": [
      "        Number of sources =  33\n",
      "        Median x_fwhm = 9.0 +/- 2.2\n",
      "        Median y_fwhm = 9.0 +/- 3.0\n",
      "     Pass 1 assuming FWHM = 9.0\n",
      "411 sources found\n"
     ]
    },
    {
     "name": "stderr",
     "output_type": "stream",
     "text": [
      "/opt/anaconda3/envs/astroconda/lib/python3.7/site-packages/astropy/modeling/functional_models.py:378: RuntimeWarning: divide by zero encountered in true_divide\n",
      "  a = 0.5 * ((cost2 / xstd2) + (sint2 / ystd2))\n",
      "/opt/anaconda3/envs/astroconda/lib/python3.7/site-packages/astropy/modeling/functional_models.py:379: RuntimeWarning: divide by zero encountered in true_divide\n",
      "  b = 0.5 * ((sin2t / xstd2) - (sin2t / ystd2))\n",
      "/opt/anaconda3/envs/astroconda/lib/python3.7/site-packages/astropy/modeling/functional_models.py:379: RuntimeWarning: invalid value encountered in subtract\n",
      "  b = 0.5 * ((sin2t / xstd2) - (sin2t / ystd2))\n",
      "/opt/anaconda3/envs/astroconda/lib/python3.7/site-packages/astropy/modeling/functional_models.py:380: RuntimeWarning: divide by zero encountered in true_divide\n",
      "  c = 0.5 * ((sint2 / xstd2) + (cost2 / ystd2))\n",
      "/opt/anaconda3/envs/astroconda/lib/python3.7/site-packages/astropy/modeling/functional_models.py:381: RuntimeWarning: invalid value encountered in add\n",
      "  return amplitude * np.exp(-((a * xdiff ** 2) + (b * xdiff * ydiff) +\n"
     ]
    },
    {
     "name": "stdout",
     "output_type": "stream",
     "text": [
      "        Number of sources =  30\n",
      "        Median x_fwhm = 6.0 +/- 2.9\n",
      "        Median y_fwhm = 6.0 +/- 2.3\n",
      "  Working on image:  /g/lu/data/imaka/onaga/20200121/sta/reduce/Beehive-W/sta036x10LS5WFS_c_scan_clean.fits\n",
      "    Calculating background\n",
      "     Bkg = -6.09 +/- 2.46\n",
      "     Bkg Threshold = 24.56\n",
      "     Detecting Stars\n",
      "     Pass 0 assuming FWHM = 8.0\n",
      "518 sources found\n"
     ]
    },
    {
     "name": "stderr",
     "output_type": "stream",
     "text": [
      "/opt/anaconda3/envs/astroconda/lib/python3.7/site-packages/astropy/modeling/functional_models.py:378: RuntimeWarning: divide by zero encountered in true_divide\n",
      "  a = 0.5 * ((cost2 / xstd2) + (sint2 / ystd2))\n",
      "/opt/anaconda3/envs/astroconda/lib/python3.7/site-packages/astropy/modeling/functional_models.py:379: RuntimeWarning: divide by zero encountered in true_divide\n",
      "  b = 0.5 * ((sin2t / xstd2) - (sin2t / ystd2))\n",
      "/opt/anaconda3/envs/astroconda/lib/python3.7/site-packages/astropy/modeling/functional_models.py:379: RuntimeWarning: invalid value encountered in subtract\n",
      "  b = 0.5 * ((sin2t / xstd2) - (sin2t / ystd2))\n",
      "/opt/anaconda3/envs/astroconda/lib/python3.7/site-packages/astropy/modeling/functional_models.py:380: RuntimeWarning: divide by zero encountered in true_divide\n",
      "  c = 0.5 * ((sint2 / xstd2) + (cost2 / ystd2))\n",
      "/opt/anaconda3/envs/astroconda/lib/python3.7/site-packages/astropy/modeling/functional_models.py:381: RuntimeWarning: invalid value encountered in add\n",
      "  return amplitude * np.exp(-((a * xdiff ** 2) + (b * xdiff * ydiff) +\n",
      "WARNING: The fit may be unsuccessful; check fit_info['message'] for more information. [astropy.modeling.fitting]\n"
     ]
    },
    {
     "name": "stdout",
     "output_type": "stream",
     "text": [
      "        Number of sources =  33\n",
      "        Median x_fwhm = 7.5 +/- 2.5\n",
      "        Median y_fwhm = 7.0 +/- 2.5\n",
      "     Pass 1 assuming FWHM = 7.2\n",
      "746 sources found\n"
     ]
    },
    {
     "name": "stderr",
     "output_type": "stream",
     "text": [
      "/opt/anaconda3/envs/astroconda/lib/python3.7/site-packages/astropy/modeling/functional_models.py:378: RuntimeWarning: divide by zero encountered in true_divide\n",
      "  a = 0.5 * ((cost2 / xstd2) + (sint2 / ystd2))\n",
      "/opt/anaconda3/envs/astroconda/lib/python3.7/site-packages/astropy/modeling/functional_models.py:379: RuntimeWarning: divide by zero encountered in true_divide\n",
      "  b = 0.5 * ((sin2t / xstd2) - (sin2t / ystd2))\n",
      "/opt/anaconda3/envs/astroconda/lib/python3.7/site-packages/astropy/modeling/functional_models.py:379: RuntimeWarning: invalid value encountered in subtract\n",
      "  b = 0.5 * ((sin2t / xstd2) - (sin2t / ystd2))\n",
      "/opt/anaconda3/envs/astroconda/lib/python3.7/site-packages/astropy/modeling/functional_models.py:380: RuntimeWarning: divide by zero encountered in true_divide\n",
      "  c = 0.5 * ((sint2 / xstd2) + (cost2 / ystd2))\n",
      "/opt/anaconda3/envs/astroconda/lib/python3.7/site-packages/astropy/modeling/functional_models.py:381: RuntimeWarning: invalid value encountered in add\n",
      "  return amplitude * np.exp(-((a * xdiff ** 2) + (b * xdiff * ydiff) +\n",
      "WARNING: The fit may be unsuccessful; check fit_info['message'] for more information. [astropy.modeling.fitting]\n"
     ]
    },
    {
     "name": "stdout",
     "output_type": "stream",
     "text": [
      "        Number of sources =  36\n",
      "        Median x_fwhm = 8.0 +/- 2.6\n",
      "        Median y_fwhm = 8.0 +/- 3.1\n",
      "  Working on image:  /g/lu/data/imaka/onaga/20200121/sta/reduce/Beehive-W/sta037x10LS5WFS_c_scan_clean.fits\n",
      "    Calculating background\n",
      "     Bkg = -13.58 +/- 3.71\n",
      "     Bkg Threshold = 37.09\n",
      "     Detecting Stars\n",
      "     Pass 0 assuming FWHM = 8.0\n",
      "235 sources found\n"
     ]
    },
    {
     "name": "stderr",
     "output_type": "stream",
     "text": [
      "/opt/anaconda3/envs/astroconda/lib/python3.7/site-packages/astropy/modeling/functional_models.py:378: RuntimeWarning: divide by zero encountered in true_divide\n",
      "  a = 0.5 * ((cost2 / xstd2) + (sint2 / ystd2))\n",
      "/opt/anaconda3/envs/astroconda/lib/python3.7/site-packages/astropy/modeling/functional_models.py:379: RuntimeWarning: divide by zero encountered in true_divide\n",
      "  b = 0.5 * ((sin2t / xstd2) - (sin2t / ystd2))\n",
      "/opt/anaconda3/envs/astroconda/lib/python3.7/site-packages/astropy/modeling/functional_models.py:380: RuntimeWarning: divide by zero encountered in true_divide\n",
      "  c = 0.5 * ((sint2 / xstd2) + (cost2 / ystd2))\n",
      "/opt/anaconda3/envs/astroconda/lib/python3.7/site-packages/astropy/modeling/functional_models.py:381: RuntimeWarning: invalid value encountered in add\n",
      "  return amplitude * np.exp(-((a * xdiff ** 2) + (b * xdiff * ydiff) +\n",
      "/opt/anaconda3/envs/astroconda/lib/python3.7/site-packages/astropy/modeling/functional_models.py:379: RuntimeWarning: invalid value encountered in subtract\n",
      "  b = 0.5 * ((sin2t / xstd2) - (sin2t / ystd2))\n"
     ]
    },
    {
     "name": "stdout",
     "output_type": "stream",
     "text": [
      "        Number of sources =  19\n",
      "        Median x_fwhm = 9.0 +/- 2.4\n",
      "        Median y_fwhm = 8.0 +/- 2.7\n",
      "     Pass 1 assuming FWHM = 8.5\n",
      "219 sources found\n"
     ]
    },
    {
     "name": "stderr",
     "output_type": "stream",
     "text": [
      "/opt/anaconda3/envs/astroconda/lib/python3.7/site-packages/astropy/modeling/functional_models.py:378: RuntimeWarning: divide by zero encountered in true_divide\n",
      "  a = 0.5 * ((cost2 / xstd2) + (sint2 / ystd2))\n",
      "/opt/anaconda3/envs/astroconda/lib/python3.7/site-packages/astropy/modeling/functional_models.py:379: RuntimeWarning: divide by zero encountered in true_divide\n",
      "  b = 0.5 * ((sin2t / xstd2) - (sin2t / ystd2))\n",
      "/opt/anaconda3/envs/astroconda/lib/python3.7/site-packages/astropy/modeling/functional_models.py:379: RuntimeWarning: invalid value encountered in subtract\n",
      "  b = 0.5 * ((sin2t / xstd2) - (sin2t / ystd2))\n",
      "/opt/anaconda3/envs/astroconda/lib/python3.7/site-packages/astropy/modeling/functional_models.py:380: RuntimeWarning: divide by zero encountered in true_divide\n",
      "  c = 0.5 * ((sint2 / xstd2) + (cost2 / ystd2))\n",
      "/opt/anaconda3/envs/astroconda/lib/python3.7/site-packages/astropy/modeling/functional_models.py:381: RuntimeWarning: invalid value encountered in add\n",
      "  return amplitude * np.exp(-((a * xdiff ** 2) + (b * xdiff * ydiff) +\n"
     ]
    },
    {
     "name": "stdout",
     "output_type": "stream",
     "text": [
      "        Number of sources =  21\n",
      "        Median x_fwhm = 9.0 +/- 2.5\n",
      "        Median y_fwhm = 8.5 +/- 2.7\n",
      "  Working on image:  /g/lu/data/imaka/onaga/20200121/sta/reduce/Beehive-W/sta039x10LS5WFS_c_scan_clean.fits\n",
      "    Calculating background\n",
      "     Bkg = -13.63 +/- 3.70\n",
      "     Bkg Threshold = 37.04\n",
      "     Detecting Stars\n",
      "     Pass 0 assuming FWHM = 8.0\n",
      "235 sources found\n"
     ]
    },
    {
     "name": "stderr",
     "output_type": "stream",
     "text": [
      "/opt/anaconda3/envs/astroconda/lib/python3.7/site-packages/astropy/modeling/functional_models.py:378: RuntimeWarning: divide by zero encountered in true_divide\n",
      "  a = 0.5 * ((cost2 / xstd2) + (sint2 / ystd2))\n",
      "/opt/anaconda3/envs/astroconda/lib/python3.7/site-packages/astropy/modeling/functional_models.py:379: RuntimeWarning: divide by zero encountered in true_divide\n",
      "  b = 0.5 * ((sin2t / xstd2) - (sin2t / ystd2))\n",
      "/opt/anaconda3/envs/astroconda/lib/python3.7/site-packages/astropy/modeling/functional_models.py:379: RuntimeWarning: invalid value encountered in subtract\n",
      "  b = 0.5 * ((sin2t / xstd2) - (sin2t / ystd2))\n",
      "/opt/anaconda3/envs/astroconda/lib/python3.7/site-packages/astropy/modeling/functional_models.py:380: RuntimeWarning: divide by zero encountered in true_divide\n",
      "  c = 0.5 * ((sint2 / xstd2) + (cost2 / ystd2))\n",
      "/opt/anaconda3/envs/astroconda/lib/python3.7/site-packages/astropy/modeling/functional_models.py:381: RuntimeWarning: invalid value encountered in add\n",
      "  return amplitude * np.exp(-((a * xdiff ** 2) + (b * xdiff * ydiff) +\n"
     ]
    },
    {
     "name": "stdout",
     "output_type": "stream",
     "text": [
      "        Number of sources =  15\n",
      "        Median x_fwhm = 9.0 +/- 2.0\n",
      "        Median y_fwhm = 9.0 +/- 2.1\n",
      "     Pass 1 assuming FWHM = 9.0\n",
      "231 sources found\n"
     ]
    },
    {
     "name": "stderr",
     "output_type": "stream",
     "text": [
      "/opt/anaconda3/envs/astroconda/lib/python3.7/site-packages/astropy/modeling/functional_models.py:378: RuntimeWarning: divide by zero encountered in true_divide\n",
      "  a = 0.5 * ((cost2 / xstd2) + (sint2 / ystd2))\n",
      "/opt/anaconda3/envs/astroconda/lib/python3.7/site-packages/astropy/modeling/functional_models.py:379: RuntimeWarning: divide by zero encountered in true_divide\n",
      "  b = 0.5 * ((sin2t / xstd2) - (sin2t / ystd2))\n",
      "/opt/anaconda3/envs/astroconda/lib/python3.7/site-packages/astropy/modeling/functional_models.py:379: RuntimeWarning: invalid value encountered in subtract\n",
      "  b = 0.5 * ((sin2t / xstd2) - (sin2t / ystd2))\n",
      "/opt/anaconda3/envs/astroconda/lib/python3.7/site-packages/astropy/modeling/functional_models.py:380: RuntimeWarning: divide by zero encountered in true_divide\n",
      "  c = 0.5 * ((sint2 / xstd2) + (cost2 / ystd2))\n",
      "/opt/anaconda3/envs/astroconda/lib/python3.7/site-packages/astropy/modeling/functional_models.py:381: RuntimeWarning: invalid value encountered in add\n",
      "  return amplitude * np.exp(-((a * xdiff ** 2) + (b * xdiff * ydiff) +\n"
     ]
    },
    {
     "name": "stdout",
     "output_type": "stream",
     "text": [
      "        Number of sources =  19\n",
      "        Median x_fwhm = 9.0 +/- 2.3\n",
      "        Median y_fwhm = 8.5 +/- 2.3\n",
      "  Working on image:  /g/lu/data/imaka/onaga/20200121/sta/reduce/Beehive-W/sta041x10LS5WFS_c_scan_clean.fits\n",
      "    Calculating background\n",
      "     Bkg = -13.87 +/- 3.75\n",
      "     Bkg Threshold = 37.51\n",
      "     Detecting Stars\n",
      "     Pass 0 assuming FWHM = 8.0\n",
      "224 sources found\n"
     ]
    },
    {
     "name": "stderr",
     "output_type": "stream",
     "text": [
      "/opt/anaconda3/envs/astroconda/lib/python3.7/site-packages/astropy/modeling/functional_models.py:378: RuntimeWarning: divide by zero encountered in true_divide\n",
      "  a = 0.5 * ((cost2 / xstd2) + (sint2 / ystd2))\n",
      "/opt/anaconda3/envs/astroconda/lib/python3.7/site-packages/astropy/modeling/functional_models.py:379: RuntimeWarning: divide by zero encountered in true_divide\n",
      "  b = 0.5 * ((sin2t / xstd2) - (sin2t / ystd2))\n",
      "/opt/anaconda3/envs/astroconda/lib/python3.7/site-packages/astropy/modeling/functional_models.py:379: RuntimeWarning: invalid value encountered in subtract\n",
      "  b = 0.5 * ((sin2t / xstd2) - (sin2t / ystd2))\n",
      "/opt/anaconda3/envs/astroconda/lib/python3.7/site-packages/astropy/modeling/functional_models.py:380: RuntimeWarning: divide by zero encountered in true_divide\n",
      "  c = 0.5 * ((sint2 / xstd2) + (cost2 / ystd2))\n",
      "/opt/anaconda3/envs/astroconda/lib/python3.7/site-packages/astropy/modeling/functional_models.py:381: RuntimeWarning: invalid value encountered in add\n",
      "  return amplitude * np.exp(-((a * xdiff ** 2) + (b * xdiff * ydiff) +\n"
     ]
    },
    {
     "name": "stdout",
     "output_type": "stream",
     "text": [
      "        Number of sources =  21\n",
      "        Median x_fwhm = 8.0 +/- 2.5\n",
      "        Median y_fwhm = 8.0 +/- 2.5\n",
      "     Pass 1 assuming FWHM = 8.0\n",
      "224 sources found\n"
     ]
    },
    {
     "name": "stderr",
     "output_type": "stream",
     "text": [
      "/opt/anaconda3/envs/astroconda/lib/python3.7/site-packages/astropy/modeling/functional_models.py:378: RuntimeWarning: divide by zero encountered in true_divide\n",
      "  a = 0.5 * ((cost2 / xstd2) + (sint2 / ystd2))\n",
      "/opt/anaconda3/envs/astroconda/lib/python3.7/site-packages/astropy/modeling/functional_models.py:379: RuntimeWarning: divide by zero encountered in true_divide\n",
      "  b = 0.5 * ((sin2t / xstd2) - (sin2t / ystd2))\n",
      "/opt/anaconda3/envs/astroconda/lib/python3.7/site-packages/astropy/modeling/functional_models.py:379: RuntimeWarning: invalid value encountered in subtract\n",
      "  b = 0.5 * ((sin2t / xstd2) - (sin2t / ystd2))\n",
      "/opt/anaconda3/envs/astroconda/lib/python3.7/site-packages/astropy/modeling/functional_models.py:380: RuntimeWarning: divide by zero encountered in true_divide\n",
      "  c = 0.5 * ((sint2 / xstd2) + (cost2 / ystd2))\n",
      "/opt/anaconda3/envs/astroconda/lib/python3.7/site-packages/astropy/modeling/functional_models.py:381: RuntimeWarning: invalid value encountered in add\n",
      "  return amplitude * np.exp(-((a * xdiff ** 2) + (b * xdiff * ydiff) +\n"
     ]
    },
    {
     "name": "stdout",
     "output_type": "stream",
     "text": [
      "        Number of sources =  21\n",
      "        Median x_fwhm = 8.0 +/- 2.5\n",
      "        Median y_fwhm = 8.0 +/- 2.5\n",
      "  Working on image:  /g/lu/data/imaka/onaga/20200121/sta/reduce/Beehive-W/sta043x10LS5WFS_c_scan_clean.fits\n",
      "    Calculating background\n",
      "     Bkg = -13.64 +/- 3.77\n",
      "     Bkg Threshold = 37.68\n",
      "     Detecting Stars\n",
      "     Pass 0 assuming FWHM = 8.0\n",
      "272 sources found\n"
     ]
    },
    {
     "name": "stderr",
     "output_type": "stream",
     "text": [
      "/opt/anaconda3/envs/astroconda/lib/python3.7/site-packages/astropy/modeling/functional_models.py:378: RuntimeWarning: divide by zero encountered in true_divide\n",
      "  a = 0.5 * ((cost2 / xstd2) + (sint2 / ystd2))\n",
      "/opt/anaconda3/envs/astroconda/lib/python3.7/site-packages/astropy/modeling/functional_models.py:379: RuntimeWarning: divide by zero encountered in true_divide\n",
      "  b = 0.5 * ((sin2t / xstd2) - (sin2t / ystd2))\n",
      "/opt/anaconda3/envs/astroconda/lib/python3.7/site-packages/astropy/modeling/functional_models.py:379: RuntimeWarning: invalid value encountered in subtract\n",
      "  b = 0.5 * ((sin2t / xstd2) - (sin2t / ystd2))\n",
      "/opt/anaconda3/envs/astroconda/lib/python3.7/site-packages/astropy/modeling/functional_models.py:380: RuntimeWarning: divide by zero encountered in true_divide\n",
      "  c = 0.5 * ((sint2 / xstd2) + (cost2 / ystd2))\n",
      "/opt/anaconda3/envs/astroconda/lib/python3.7/site-packages/astropy/modeling/functional_models.py:381: RuntimeWarning: invalid value encountered in add\n",
      "  return amplitude * np.exp(-((a * xdiff ** 2) + (b * xdiff * ydiff) +\n",
      "WARNING: The fit may be unsuccessful; check fit_info['message'] for more information. [astropy.modeling.fitting]\n"
     ]
    },
    {
     "name": "stdout",
     "output_type": "stream",
     "text": [
      "        Number of sources =  21\n",
      "        Median x_fwhm = 8.0 +/- 2.2\n",
      "        Median y_fwhm = 8.0 +/- 2.7\n",
      "     Pass 1 assuming FWHM = 8.0\n",
      "272 sources found\n"
     ]
    },
    {
     "name": "stderr",
     "output_type": "stream",
     "text": [
      "/opt/anaconda3/envs/astroconda/lib/python3.7/site-packages/astropy/modeling/functional_models.py:378: RuntimeWarning: divide by zero encountered in true_divide\n",
      "  a = 0.5 * ((cost2 / xstd2) + (sint2 / ystd2))\n",
      "/opt/anaconda3/envs/astroconda/lib/python3.7/site-packages/astropy/modeling/functional_models.py:379: RuntimeWarning: divide by zero encountered in true_divide\n",
      "  b = 0.5 * ((sin2t / xstd2) - (sin2t / ystd2))\n",
      "/opt/anaconda3/envs/astroconda/lib/python3.7/site-packages/astropy/modeling/functional_models.py:379: RuntimeWarning: invalid value encountered in subtract\n",
      "  b = 0.5 * ((sin2t / xstd2) - (sin2t / ystd2))\n",
      "/opt/anaconda3/envs/astroconda/lib/python3.7/site-packages/astropy/modeling/functional_models.py:380: RuntimeWarning: divide by zero encountered in true_divide\n",
      "  c = 0.5 * ((sint2 / xstd2) + (cost2 / ystd2))\n",
      "/opt/anaconda3/envs/astroconda/lib/python3.7/site-packages/astropy/modeling/functional_models.py:381: RuntimeWarning: invalid value encountered in add\n",
      "  return amplitude * np.exp(-((a * xdiff ** 2) + (b * xdiff * ydiff) +\n",
      "WARNING: The fit may be unsuccessful; check fit_info['message'] for more information. [astropy.modeling.fitting]\n"
     ]
    },
    {
     "name": "stdout",
     "output_type": "stream",
     "text": [
      "        Number of sources =  21\n",
      "        Median x_fwhm = 8.0 +/- 2.2\n",
      "        Median y_fwhm = 8.0 +/- 2.7\n",
      "  Working on image:  /g/lu/data/imaka/onaga/20200121/sta/reduce/Beehive-W/sta045x10LS5WFS_c_scan_clean.fits\n",
      "    Calculating background\n",
      "     Bkg = -13.59 +/- 3.75\n",
      "     Bkg Threshold = 37.53\n",
      "     Detecting Stars\n",
      "     Pass 0 assuming FWHM = 8.0\n",
      "232 sources found\n"
     ]
    },
    {
     "name": "stderr",
     "output_type": "stream",
     "text": [
      "WARNING: The fit may be unsuccessful; check fit_info['message'] for more information. [astropy.modeling.fitting]\n",
      "/opt/anaconda3/envs/astroconda/lib/python3.7/site-packages/astropy/modeling/functional_models.py:378: RuntimeWarning: divide by zero encountered in true_divide\n",
      "  a = 0.5 * ((cost2 / xstd2) + (sint2 / ystd2))\n",
      "/opt/anaconda3/envs/astroconda/lib/python3.7/site-packages/astropy/modeling/functional_models.py:379: RuntimeWarning: divide by zero encountered in true_divide\n",
      "  b = 0.5 * ((sin2t / xstd2) - (sin2t / ystd2))\n",
      "/opt/anaconda3/envs/astroconda/lib/python3.7/site-packages/astropy/modeling/functional_models.py:379: RuntimeWarning: invalid value encountered in subtract\n",
      "  b = 0.5 * ((sin2t / xstd2) - (sin2t / ystd2))\n",
      "/opt/anaconda3/envs/astroconda/lib/python3.7/site-packages/astropy/modeling/functional_models.py:380: RuntimeWarning: divide by zero encountered in true_divide\n",
      "  c = 0.5 * ((sint2 / xstd2) + (cost2 / ystd2))\n",
      "/opt/anaconda3/envs/astroconda/lib/python3.7/site-packages/astropy/modeling/functional_models.py:381: RuntimeWarning: invalid value encountered in add\n",
      "  return amplitude * np.exp(-((a * xdiff ** 2) + (b * xdiff * ydiff) +\n"
     ]
    },
    {
     "name": "stdout",
     "output_type": "stream",
     "text": [
      "        Number of sources =  14\n",
      "        Median x_fwhm = 9.0 +/- 1.7\n",
      "        Median y_fwhm = 8.0 +/- 1.7\n",
      "     Pass 1 assuming FWHM = 8.5\n",
      "232 sources found\n"
     ]
    },
    {
     "name": "stderr",
     "output_type": "stream",
     "text": [
      "/opt/anaconda3/envs/astroconda/lib/python3.7/site-packages/astropy/modeling/functional_models.py:378: RuntimeWarning: divide by zero encountered in true_divide\n",
      "  a = 0.5 * ((cost2 / xstd2) + (sint2 / ystd2))\n",
      "/opt/anaconda3/envs/astroconda/lib/python3.7/site-packages/astropy/modeling/functional_models.py:379: RuntimeWarning: divide by zero encountered in true_divide\n",
      "  b = 0.5 * ((sin2t / xstd2) - (sin2t / ystd2))\n",
      "/opt/anaconda3/envs/astroconda/lib/python3.7/site-packages/astropy/modeling/functional_models.py:379: RuntimeWarning: invalid value encountered in subtract\n",
      "  b = 0.5 * ((sin2t / xstd2) - (sin2t / ystd2))\n",
      "/opt/anaconda3/envs/astroconda/lib/python3.7/site-packages/astropy/modeling/functional_models.py:380: RuntimeWarning: divide by zero encountered in true_divide\n",
      "  c = 0.5 * ((sint2 / xstd2) + (cost2 / ystd2))\n",
      "/opt/anaconda3/envs/astroconda/lib/python3.7/site-packages/astropy/modeling/functional_models.py:381: RuntimeWarning: invalid value encountered in add\n",
      "  return amplitude * np.exp(-((a * xdiff ** 2) + (b * xdiff * ydiff) +\n"
     ]
    },
    {
     "name": "stdout",
     "output_type": "stream",
     "text": [
      "        Number of sources =  18\n",
      "        Median x_fwhm = 9.0 +/- 1.9\n",
      "        Median y_fwhm = 8.0 +/- 1.9\n",
      "  Working on image:  /g/lu/data/imaka/onaga/20200121/sta/reduce/Beehive-W/sta047x10LS5WFS_c_scan_clean.fits\n",
      "    Calculating background\n",
      "     Bkg = -3.40 +/- 2.29\n",
      "     Bkg Threshold = 22.88\n",
      "     Detecting Stars\n",
      "     Pass 0 assuming FWHM = 8.0\n",
      "644 sources found\n"
     ]
    },
    {
     "name": "stderr",
     "output_type": "stream",
     "text": [
      "/opt/anaconda3/envs/astroconda/lib/python3.7/site-packages/astropy/modeling/functional_models.py:378: RuntimeWarning: divide by zero encountered in true_divide\n",
      "  a = 0.5 * ((cost2 / xstd2) + (sint2 / ystd2))\n",
      "/opt/anaconda3/envs/astroconda/lib/python3.7/site-packages/astropy/modeling/functional_models.py:379: RuntimeWarning: divide by zero encountered in true_divide\n",
      "  b = 0.5 * ((sin2t / xstd2) - (sin2t / ystd2))\n",
      "/opt/anaconda3/envs/astroconda/lib/python3.7/site-packages/astropy/modeling/functional_models.py:379: RuntimeWarning: invalid value encountered in subtract\n",
      "  b = 0.5 * ((sin2t / xstd2) - (sin2t / ystd2))\n",
      "/opt/anaconda3/envs/astroconda/lib/python3.7/site-packages/astropy/modeling/functional_models.py:380: RuntimeWarning: divide by zero encountered in true_divide\n",
      "  c = 0.5 * ((sint2 / xstd2) + (cost2 / ystd2))\n",
      "WARNING: The fit may be unsuccessful; check fit_info['message'] for more information. [astropy.modeling.fitting]\n",
      "/opt/anaconda3/envs/astroconda/lib/python3.7/site-packages/astropy/modeling/functional_models.py:381: RuntimeWarning: invalid value encountered in add\n",
      "  return amplitude * np.exp(-((a * xdiff ** 2) + (b * xdiff * ydiff) +\n"
     ]
    },
    {
     "name": "stdout",
     "output_type": "stream",
     "text": [
      "        Number of sources =  33\n",
      "        Median x_fwhm = 6.5 +/- 2.4\n",
      "        Median y_fwhm = 6.5 +/- 3.2\n",
      "     Pass 1 assuming FWHM = 6.5\n",
      "869 sources found\n"
     ]
    },
    {
     "name": "stderr",
     "output_type": "stream",
     "text": [
      "/opt/anaconda3/envs/astroconda/lib/python3.7/site-packages/astropy/modeling/functional_models.py:378: RuntimeWarning: divide by zero encountered in true_divide\n",
      "  a = 0.5 * ((cost2 / xstd2) + (sint2 / ystd2))\n",
      "/opt/anaconda3/envs/astroconda/lib/python3.7/site-packages/astropy/modeling/functional_models.py:379: RuntimeWarning: divide by zero encountered in true_divide\n",
      "  b = 0.5 * ((sin2t / xstd2) - (sin2t / ystd2))\n",
      "/opt/anaconda3/envs/astroconda/lib/python3.7/site-packages/astropy/modeling/functional_models.py:380: RuntimeWarning: divide by zero encountered in true_divide\n",
      "  c = 0.5 * ((sint2 / xstd2) + (cost2 / ystd2))\n",
      "/opt/anaconda3/envs/astroconda/lib/python3.7/site-packages/astropy/modeling/functional_models.py:381: RuntimeWarning: invalid value encountered in add\n",
      "  return amplitude * np.exp(-((a * xdiff ** 2) + (b * xdiff * ydiff) +\n",
      "/opt/anaconda3/envs/astroconda/lib/python3.7/site-packages/astropy/modeling/functional_models.py:379: RuntimeWarning: invalid value encountered in subtract\n",
      "  b = 0.5 * ((sin2t / xstd2) - (sin2t / ystd2))\n",
      "WARNING: The fit may be unsuccessful; check fit_info['message'] for more information. [astropy.modeling.fitting]\n",
      "/opt/anaconda3/envs/astroconda/lib/python3.7/site-packages/astropy/modeling/functional_models.py:378: RuntimeWarning: invalid value encountered in true_divide\n",
      "  a = 0.5 * ((cost2 / xstd2) + (sint2 / ystd2))\n",
      "/opt/anaconda3/envs/astroconda/lib/python3.7/site-packages/astropy/modeling/functional_models.py:379: RuntimeWarning: invalid value encountered in true_divide\n",
      "  b = 0.5 * ((sin2t / xstd2) - (sin2t / ystd2))\n",
      "/opt/anaconda3/envs/astroconda/lib/python3.7/site-packages/astropy/modeling/functional_models.py:380: RuntimeWarning: invalid value encountered in true_divide\n",
      "  c = 0.5 * ((sint2 / xstd2) + (cost2 / ystd2))\n"
     ]
    },
    {
     "name": "stdout",
     "output_type": "stream",
     "text": [
      "        Number of sources =  38\n",
      "        Median x_fwhm = 8.0 +/- 2.6\n",
      "        Median y_fwhm = 7.5 +/- 2.9\n",
      "  Working on image:  /g/lu/data/imaka/onaga/20200121/sta/reduce/Beehive-W/sta049x10LS5WFS_c_scan_clean.fits\n",
      "    Calculating background\n",
      "     Bkg = -3.46 +/- 2.31\n",
      "     Bkg Threshold = 23.11\n",
      "     Detecting Stars\n",
      "     Pass 0 assuming FWHM = 8.0\n",
      "602 sources found\n"
     ]
    },
    {
     "name": "stderr",
     "output_type": "stream",
     "text": [
      "/opt/anaconda3/envs/astroconda/lib/python3.7/site-packages/astropy/modeling/functional_models.py:378: RuntimeWarning: divide by zero encountered in true_divide\n",
      "  a = 0.5 * ((cost2 / xstd2) + (sint2 / ystd2))\n",
      "/opt/anaconda3/envs/astroconda/lib/python3.7/site-packages/astropy/modeling/functional_models.py:379: RuntimeWarning: divide by zero encountered in true_divide\n",
      "  b = 0.5 * ((sin2t / xstd2) - (sin2t / ystd2))\n",
      "/opt/anaconda3/envs/astroconda/lib/python3.7/site-packages/astropy/modeling/functional_models.py:379: RuntimeWarning: invalid value encountered in subtract\n",
      "  b = 0.5 * ((sin2t / xstd2) - (sin2t / ystd2))\n",
      "/opt/anaconda3/envs/astroconda/lib/python3.7/site-packages/astropy/modeling/functional_models.py:380: RuntimeWarning: divide by zero encountered in true_divide\n",
      "  c = 0.5 * ((sint2 / xstd2) + (cost2 / ystd2))\n",
      "/opt/anaconda3/envs/astroconda/lib/python3.7/site-packages/astropy/modeling/functional_models.py:381: RuntimeWarning: invalid value encountered in add\n",
      "  return amplitude * np.exp(-((a * xdiff ** 2) + (b * xdiff * ydiff) +\n"
     ]
    },
    {
     "name": "stdout",
     "output_type": "stream",
     "text": [
      "        Number of sources =  33\n",
      "        Median x_fwhm = 7.5 +/- 2.8\n",
      "        Median y_fwhm = 8.0 +/- 2.8\n",
      "     Pass 1 assuming FWHM = 7.8\n",
      "881 sources found\n"
     ]
    },
    {
     "name": "stderr",
     "output_type": "stream",
     "text": [
      "/opt/anaconda3/envs/astroconda/lib/python3.7/site-packages/astropy/modeling/functional_models.py:378: RuntimeWarning: divide by zero encountered in true_divide\n",
      "  a = 0.5 * ((cost2 / xstd2) + (sint2 / ystd2))\n",
      "/opt/anaconda3/envs/astroconda/lib/python3.7/site-packages/astropy/modeling/functional_models.py:379: RuntimeWarning: divide by zero encountered in true_divide\n",
      "  b = 0.5 * ((sin2t / xstd2) - (sin2t / ystd2))\n",
      "/opt/anaconda3/envs/astroconda/lib/python3.7/site-packages/astropy/modeling/functional_models.py:379: RuntimeWarning: invalid value encountered in subtract\n",
      "  b = 0.5 * ((sin2t / xstd2) - (sin2t / ystd2))\n",
      "/opt/anaconda3/envs/astroconda/lib/python3.7/site-packages/astropy/modeling/functional_models.py:380: RuntimeWarning: divide by zero encountered in true_divide\n",
      "  c = 0.5 * ((sint2 / xstd2) + (cost2 / ystd2))\n",
      "/opt/anaconda3/envs/astroconda/lib/python3.7/site-packages/astropy/modeling/functional_models.py:381: RuntimeWarning: invalid value encountered in add\n",
      "  return amplitude * np.exp(-((a * xdiff ** 2) + (b * xdiff * ydiff) +\n"
     ]
    },
    {
     "name": "stdout",
     "output_type": "stream",
     "text": [
      "        Number of sources =  34\n",
      "        Median x_fwhm = 8.0 +/- 2.2\n",
      "        Median y_fwhm = 8.0 +/- 3.2\n",
      "  Working on image:  /g/lu/data/imaka/onaga/20200121/sta/reduce/Beehive-W/sta051x10LS5WFS_c_scan_clean.fits\n",
      "    Calculating background\n",
      "     Bkg = 19.49 +/- 3.05\n",
      "     Bkg Threshold = 30.54\n",
      "     Detecting Stars\n",
      "     Pass 0 assuming FWHM = 8.0\n",
      "408 sources found\n"
     ]
    },
    {
     "name": "stderr",
     "output_type": "stream",
     "text": [
      "/opt/anaconda3/envs/astroconda/lib/python3.7/site-packages/astropy/modeling/functional_models.py:378: RuntimeWarning: divide by zero encountered in true_divide\n",
      "  a = 0.5 * ((cost2 / xstd2) + (sint2 / ystd2))\n",
      "/opt/anaconda3/envs/astroconda/lib/python3.7/site-packages/astropy/modeling/functional_models.py:379: RuntimeWarning: divide by zero encountered in true_divide\n",
      "  b = 0.5 * ((sin2t / xstd2) - (sin2t / ystd2))\n",
      "/opt/anaconda3/envs/astroconda/lib/python3.7/site-packages/astropy/modeling/functional_models.py:379: RuntimeWarning: invalid value encountered in subtract\n",
      "  b = 0.5 * ((sin2t / xstd2) - (sin2t / ystd2))\n",
      "/opt/anaconda3/envs/astroconda/lib/python3.7/site-packages/astropy/modeling/functional_models.py:380: RuntimeWarning: divide by zero encountered in true_divide\n",
      "  c = 0.5 * ((sint2 / xstd2) + (cost2 / ystd2))\n",
      "/opt/anaconda3/envs/astroconda/lib/python3.7/site-packages/astropy/modeling/functional_models.py:381: RuntimeWarning: invalid value encountered in add\n",
      "  return amplitude * np.exp(-((a * xdiff ** 2) + (b * xdiff * ydiff) +\n"
     ]
    },
    {
     "name": "stdout",
     "output_type": "stream",
     "text": [
      "        Number of sources =  26\n",
      "        Median x_fwhm = 10.0 +/- 15.6\n",
      "        Median y_fwhm = 9.0 +/- 15.7\n",
      "     Pass 1 assuming FWHM = 9.5\n",
      "306 sources found\n"
     ]
    },
    {
     "name": "stderr",
     "output_type": "stream",
     "text": [
      "/opt/anaconda3/envs/astroconda/lib/python3.7/site-packages/astropy/modeling/functional_models.py:378: RuntimeWarning: divide by zero encountered in true_divide\n",
      "  a = 0.5 * ((cost2 / xstd2) + (sint2 / ystd2))\n",
      "/opt/anaconda3/envs/astroconda/lib/python3.7/site-packages/astropy/modeling/functional_models.py:379: RuntimeWarning: divide by zero encountered in true_divide\n",
      "  b = 0.5 * ((sin2t / xstd2) - (sin2t / ystd2))\n",
      "/opt/anaconda3/envs/astroconda/lib/python3.7/site-packages/astropy/modeling/functional_models.py:379: RuntimeWarning: invalid value encountered in subtract\n",
      "  b = 0.5 * ((sin2t / xstd2) - (sin2t / ystd2))\n",
      "/opt/anaconda3/envs/astroconda/lib/python3.7/site-packages/astropy/modeling/functional_models.py:380: RuntimeWarning: divide by zero encountered in true_divide\n",
      "  c = 0.5 * ((sint2 / xstd2) + (cost2 / ystd2))\n"
     ]
    },
    {
     "name": "stdout",
     "output_type": "stream",
     "text": [
      "        Number of sources =  26\n",
      "        Median x_fwhm = 9.0 +/- 17.2\n",
      "        Median y_fwhm = 10.0 +/- 17.2\n",
      "  Working on image:  /g/lu/data/imaka/onaga/20200121/sta/reduce/Beehive-W/sta053x10LS5WFS_c_scan_clean.fits\n",
      "    Calculating background\n",
      "     Bkg = -3.60 +/- 2.35\n",
      "     Bkg Threshold = 23.50\n",
      "     Detecting Stars\n",
      "     Pass 0 assuming FWHM = 8.0\n",
      "595 sources found\n"
     ]
    },
    {
     "name": "stderr",
     "output_type": "stream",
     "text": [
      "/opt/anaconda3/envs/astroconda/lib/python3.7/site-packages/astropy/modeling/functional_models.py:378: RuntimeWarning: divide by zero encountered in true_divide\n",
      "  a = 0.5 * ((cost2 / xstd2) + (sint2 / ystd2))\n",
      "/opt/anaconda3/envs/astroconda/lib/python3.7/site-packages/astropy/modeling/functional_models.py:379: RuntimeWarning: divide by zero encountered in true_divide\n",
      "  b = 0.5 * ((sin2t / xstd2) - (sin2t / ystd2))\n",
      "/opt/anaconda3/envs/astroconda/lib/python3.7/site-packages/astropy/modeling/functional_models.py:379: RuntimeWarning: invalid value encountered in subtract\n",
      "  b = 0.5 * ((sin2t / xstd2) - (sin2t / ystd2))\n",
      "/opt/anaconda3/envs/astroconda/lib/python3.7/site-packages/astropy/modeling/functional_models.py:380: RuntimeWarning: divide by zero encountered in true_divide\n",
      "  c = 0.5 * ((sint2 / xstd2) + (cost2 / ystd2))\n",
      "/opt/anaconda3/envs/astroconda/lib/python3.7/site-packages/astropy/modeling/functional_models.py:381: RuntimeWarning: invalid value encountered in add\n",
      "  return amplitude * np.exp(-((a * xdiff ** 2) + (b * xdiff * ydiff) +\n"
     ]
    },
    {
     "name": "stdout",
     "output_type": "stream",
     "text": [
      "        Number of sources =  32\n",
      "        Median x_fwhm = 6.0 +/- 2.7\n",
      "        Median y_fwhm = 6.0 +/- 2.6\n",
      "     Pass 1 assuming FWHM = 6.0\n",
      "1548 sources found\n"
     ]
    },
    {
     "name": "stderr",
     "output_type": "stream",
     "text": [
      "/opt/anaconda3/envs/astroconda/lib/python3.7/site-packages/astropy/modeling/functional_models.py:378: RuntimeWarning: divide by zero encountered in true_divide\n",
      "  a = 0.5 * ((cost2 / xstd2) + (sint2 / ystd2))\n",
      "/opt/anaconda3/envs/astroconda/lib/python3.7/site-packages/astropy/modeling/functional_models.py:379: RuntimeWarning: divide by zero encountered in true_divide\n",
      "  b = 0.5 * ((sin2t / xstd2) - (sin2t / ystd2))\n",
      "/opt/anaconda3/envs/astroconda/lib/python3.7/site-packages/astropy/modeling/functional_models.py:380: RuntimeWarning: divide by zero encountered in true_divide\n",
      "  c = 0.5 * ((sint2 / xstd2) + (cost2 / ystd2))\n",
      "/opt/anaconda3/envs/astroconda/lib/python3.7/site-packages/astropy/modeling/functional_models.py:381: RuntimeWarning: invalid value encountered in add\n",
      "  return amplitude * np.exp(-((a * xdiff ** 2) + (b * xdiff * ydiff) +\n",
      "/opt/anaconda3/envs/astroconda/lib/python3.7/site-packages/astropy/modeling/functional_models.py:379: RuntimeWarning: invalid value encountered in subtract\n",
      "  b = 0.5 * ((sin2t / xstd2) - (sin2t / ystd2))\n",
      "WARNING: The fit may be unsuccessful; check fit_info['message'] for more information. [astropy.modeling.fitting]\n"
     ]
    },
    {
     "name": "stdout",
     "output_type": "stream",
     "text": [
      "        Number of sources =  45\n",
      "        Median x_fwhm = 8.0 +/- 2.5\n",
      "        Median y_fwhm = 8.0 +/- 2.6\n",
      "  Working on image:  /g/lu/data/imaka/onaga/20200121/sta/reduce/Beehive-W/sta057x10LS5WFS_c_scan_clean.fits\n",
      "    Calculating background\n",
      "     Bkg = -13.56 +/- 3.49\n",
      "     Bkg Threshold = 34.86\n",
      "     Detecting Stars\n",
      "     Pass 0 assuming FWHM = 8.0\n",
      "236 sources found\n"
     ]
    },
    {
     "name": "stderr",
     "output_type": "stream",
     "text": [
      "/opt/anaconda3/envs/astroconda/lib/python3.7/site-packages/astropy/modeling/functional_models.py:378: RuntimeWarning: divide by zero encountered in true_divide\n",
      "  a = 0.5 * ((cost2 / xstd2) + (sint2 / ystd2))\n",
      "/opt/anaconda3/envs/astroconda/lib/python3.7/site-packages/astropy/modeling/functional_models.py:379: RuntimeWarning: divide by zero encountered in true_divide\n",
      "  b = 0.5 * ((sin2t / xstd2) - (sin2t / ystd2))\n",
      "/opt/anaconda3/envs/astroconda/lib/python3.7/site-packages/astropy/modeling/functional_models.py:379: RuntimeWarning: invalid value encountered in subtract\n",
      "  b = 0.5 * ((sin2t / xstd2) - (sin2t / ystd2))\n",
      "/opt/anaconda3/envs/astroconda/lib/python3.7/site-packages/astropy/modeling/functional_models.py:380: RuntimeWarning: divide by zero encountered in true_divide\n",
      "  c = 0.5 * ((sint2 / xstd2) + (cost2 / ystd2))\n",
      "/opt/anaconda3/envs/astroconda/lib/python3.7/site-packages/astropy/modeling/functional_models.py:381: RuntimeWarning: invalid value encountered in add\n",
      "  return amplitude * np.exp(-((a * xdiff ** 2) + (b * xdiff * ydiff) +\n"
     ]
    },
    {
     "name": "stdout",
     "output_type": "stream",
     "text": [
      "        Number of sources =  16\n",
      "        Median x_fwhm = 10.0 +/- 3.7\n",
      "        Median y_fwhm = 9.0 +/- 3.8\n",
      "     Pass 1 assuming FWHM = 9.5\n",
      "179 sources found\n"
     ]
    },
    {
     "name": "stderr",
     "output_type": "stream",
     "text": [
      "/opt/anaconda3/envs/astroconda/lib/python3.7/site-packages/astropy/modeling/functional_models.py:378: RuntimeWarning: divide by zero encountered in true_divide\n",
      "  a = 0.5 * ((cost2 / xstd2) + (sint2 / ystd2))\n",
      "/opt/anaconda3/envs/astroconda/lib/python3.7/site-packages/astropy/modeling/functional_models.py:379: RuntimeWarning: divide by zero encountered in true_divide\n",
      "  b = 0.5 * ((sin2t / xstd2) - (sin2t / ystd2))\n",
      "/opt/anaconda3/envs/astroconda/lib/python3.7/site-packages/astropy/modeling/functional_models.py:379: RuntimeWarning: invalid value encountered in subtract\n",
      "  b = 0.5 * ((sin2t / xstd2) - (sin2t / ystd2))\n",
      "/opt/anaconda3/envs/astroconda/lib/python3.7/site-packages/astropy/modeling/functional_models.py:380: RuntimeWarning: divide by zero encountered in true_divide\n",
      "  c = 0.5 * ((sint2 / xstd2) + (cost2 / ystd2))\n",
      "/opt/anaconda3/envs/astroconda/lib/python3.7/site-packages/astropy/modeling/functional_models.py:381: RuntimeWarning: invalid value encountered in add\n",
      "  return amplitude * np.exp(-((a * xdiff ** 2) + (b * xdiff * ydiff) +\n"
     ]
    },
    {
     "name": "stdout",
     "output_type": "stream",
     "text": [
      "        Number of sources =  17\n",
      "        Median x_fwhm = 9.5 +/- 4.6\n",
      "        Median y_fwhm = 9.0 +/- 8.9\n",
      "  Working on image:  /g/lu/data/imaka/onaga/20200121/sta/reduce/Beehive-W/sta060x10LS5WFS_c_scan_clean.fits\n",
      "    Calculating background\n",
      "     Bkg = -14.03 +/- 3.63\n",
      "     Bkg Threshold = 36.31\n",
      "     Detecting Stars\n",
      "     Pass 0 assuming FWHM = 8.0\n",
      "274 sources found\n"
     ]
    },
    {
     "name": "stderr",
     "output_type": "stream",
     "text": [
      "/opt/anaconda3/envs/astroconda/lib/python3.7/site-packages/astropy/modeling/functional_models.py:378: RuntimeWarning: divide by zero encountered in true_divide\n",
      "  a = 0.5 * ((cost2 / xstd2) + (sint2 / ystd2))\n",
      "/opt/anaconda3/envs/astroconda/lib/python3.7/site-packages/astropy/modeling/functional_models.py:379: RuntimeWarning: divide by zero encountered in true_divide\n",
      "  b = 0.5 * ((sin2t / xstd2) - (sin2t / ystd2))\n",
      "/opt/anaconda3/envs/astroconda/lib/python3.7/site-packages/astropy/modeling/functional_models.py:379: RuntimeWarning: invalid value encountered in subtract\n",
      "  b = 0.5 * ((sin2t / xstd2) - (sin2t / ystd2))\n",
      "/opt/anaconda3/envs/astroconda/lib/python3.7/site-packages/astropy/modeling/functional_models.py:380: RuntimeWarning: divide by zero encountered in true_divide\n",
      "  c = 0.5 * ((sint2 / xstd2) + (cost2 / ystd2))\n",
      "/opt/anaconda3/envs/astroconda/lib/python3.7/site-packages/astropy/modeling/functional_models.py:381: RuntimeWarning: invalid value encountered in add\n",
      "  return amplitude * np.exp(-((a * xdiff ** 2) + (b * xdiff * ydiff) +\n",
      "/opt/anaconda3/envs/astroconda/lib/python3.7/site-packages/astropy/modeling/functional_models.py:379: RuntimeWarning: invalid value encountered in true_divide\n",
      "  b = 0.5 * ((sin2t / xstd2) - (sin2t / ystd2))\n",
      "/opt/anaconda3/envs/astroconda/lib/python3.7/site-packages/astropy/modeling/functional_models.py:380: RuntimeWarning: invalid value encountered in true_divide\n",
      "  c = 0.5 * ((sint2 / xstd2) + (cost2 / ystd2))\n",
      "WARNING: The fit may be unsuccessful; check fit_info['message'] for more information. [astropy.modeling.fitting]\n"
     ]
    },
    {
     "name": "stdout",
     "output_type": "stream",
     "text": [
      "        Number of sources =  18\n",
      "        Median x_fwhm = 13.0 +/- 13.6\n",
      "        Median y_fwhm = 12.0 +/- 6.7\n",
      "     Pass 1 assuming FWHM = 12.5\n",
      "130 sources found\n"
     ]
    },
    {
     "name": "stderr",
     "output_type": "stream",
     "text": [
      "/opt/anaconda3/envs/astroconda/lib/python3.7/site-packages/astropy/modeling/functional_models.py:378: RuntimeWarning: divide by zero encountered in true_divide\n",
      "  a = 0.5 * ((cost2 / xstd2) + (sint2 / ystd2))\n",
      "/opt/anaconda3/envs/astroconda/lib/python3.7/site-packages/astropy/modeling/functional_models.py:379: RuntimeWarning: divide by zero encountered in true_divide\n",
      "  b = 0.5 * ((sin2t / xstd2) - (sin2t / ystd2))\n",
      "/opt/anaconda3/envs/astroconda/lib/python3.7/site-packages/astropy/modeling/functional_models.py:379: RuntimeWarning: invalid value encountered in subtract\n",
      "  b = 0.5 * ((sin2t / xstd2) - (sin2t / ystd2))\n",
      "/opt/anaconda3/envs/astroconda/lib/python3.7/site-packages/astropy/modeling/functional_models.py:380: RuntimeWarning: divide by zero encountered in true_divide\n",
      "  c = 0.5 * ((sint2 / xstd2) + (cost2 / ystd2))\n",
      "/opt/anaconda3/envs/astroconda/lib/python3.7/site-packages/astropy/modeling/functional_models.py:381: RuntimeWarning: invalid value encountered in add\n",
      "  return amplitude * np.exp(-((a * xdiff ** 2) + (b * xdiff * ydiff) +\n"
     ]
    },
    {
     "name": "stdout",
     "output_type": "stream",
     "text": [
      "        Number of sources =  21\n",
      "        Median x_fwhm = 13.0 +/- 14.4\n",
      "        Median y_fwhm = 10.0 +/- 4.0\n",
      "  Working on image:  /g/lu/data/imaka/onaga/20200121/sta/reduce/Beehive-W/sta061x10LS5WFS_c_scan_clean.fits\n",
      "    Calculating background\n",
      "     Bkg = -14.20 +/- 3.67\n",
      "     Bkg Threshold = 36.75\n",
      "     Detecting Stars\n",
      "     Pass 0 assuming FWHM = 8.0\n",
      "222 sources found\n"
     ]
    },
    {
     "name": "stderr",
     "output_type": "stream",
     "text": [
      "/opt/anaconda3/envs/astroconda/lib/python3.7/site-packages/astropy/modeling/functional_models.py:378: RuntimeWarning: divide by zero encountered in true_divide\n",
      "  a = 0.5 * ((cost2 / xstd2) + (sint2 / ystd2))\n",
      "/opt/anaconda3/envs/astroconda/lib/python3.7/site-packages/astropy/modeling/functional_models.py:379: RuntimeWarning: divide by zero encountered in true_divide\n",
      "  b = 0.5 * ((sin2t / xstd2) - (sin2t / ystd2))\n",
      "/opt/anaconda3/envs/astroconda/lib/python3.7/site-packages/astropy/modeling/functional_models.py:379: RuntimeWarning: invalid value encountered in subtract\n",
      "  b = 0.5 * ((sin2t / xstd2) - (sin2t / ystd2))\n",
      "/opt/anaconda3/envs/astroconda/lib/python3.7/site-packages/astropy/modeling/functional_models.py:380: RuntimeWarning: divide by zero encountered in true_divide\n",
      "  c = 0.5 * ((sint2 / xstd2) + (cost2 / ystd2))\n",
      "/opt/anaconda3/envs/astroconda/lib/python3.7/site-packages/astropy/modeling/functional_models.py:381: RuntimeWarning: invalid value encountered in add\n",
      "  return amplitude * np.exp(-((a * xdiff ** 2) + (b * xdiff * ydiff) +\n"
     ]
    },
    {
     "name": "stdout",
     "output_type": "stream",
     "text": [
      "        Number of sources =  20\n",
      "        Median x_fwhm = 9.5 +/- 5.7\n",
      "        Median y_fwhm = 9.0 +/- 2.8\n",
      "     Pass 1 assuming FWHM = 9.2\n",
      "204 sources found\n"
     ]
    },
    {
     "name": "stderr",
     "output_type": "stream",
     "text": [
      "/opt/anaconda3/envs/astroconda/lib/python3.7/site-packages/astropy/modeling/functional_models.py:378: RuntimeWarning: divide by zero encountered in true_divide\n",
      "  a = 0.5 * ((cost2 / xstd2) + (sint2 / ystd2))\n",
      "/opt/anaconda3/envs/astroconda/lib/python3.7/site-packages/astropy/modeling/functional_models.py:379: RuntimeWarning: divide by zero encountered in true_divide\n",
      "  b = 0.5 * ((sin2t / xstd2) - (sin2t / ystd2))\n",
      "/opt/anaconda3/envs/astroconda/lib/python3.7/site-packages/astropy/modeling/functional_models.py:379: RuntimeWarning: invalid value encountered in subtract\n",
      "  b = 0.5 * ((sin2t / xstd2) - (sin2t / ystd2))\n",
      "/opt/anaconda3/envs/astroconda/lib/python3.7/site-packages/astropy/modeling/functional_models.py:380: RuntimeWarning: divide by zero encountered in true_divide\n",
      "  c = 0.5 * ((sint2 / xstd2) + (cost2 / ystd2))\n",
      "/opt/anaconda3/envs/astroconda/lib/python3.7/site-packages/astropy/modeling/functional_models.py:381: RuntimeWarning: invalid value encountered in add\n",
      "  return amplitude * np.exp(-((a * xdiff ** 2) + (b * xdiff * ydiff) +\n"
     ]
    },
    {
     "name": "stdout",
     "output_type": "stream",
     "text": [
      "        Number of sources =  22\n",
      "        Median x_fwhm = 10.0 +/- 4.8\n",
      "        Median y_fwhm = 9.0 +/- 4.3\n",
      "  Working on image:  /g/lu/data/imaka/onaga/20200121/sta/reduce/Beehive-W/sta062x10LS5WFS_c_scan_clean.fits\n",
      "    Calculating background\n",
      "     Bkg = -14.34 +/- 3.71\n",
      "     Bkg Threshold = 37.11\n",
      "     Detecting Stars\n",
      "     Pass 0 assuming FWHM = 8.0\n",
      "194 sources found\n"
     ]
    },
    {
     "name": "stderr",
     "output_type": "stream",
     "text": [
      "/opt/anaconda3/envs/astroconda/lib/python3.7/site-packages/astropy/modeling/functional_models.py:378: RuntimeWarning: divide by zero encountered in true_divide\n",
      "  a = 0.5 * ((cost2 / xstd2) + (sint2 / ystd2))\n",
      "/opt/anaconda3/envs/astroconda/lib/python3.7/site-packages/astropy/modeling/functional_models.py:379: RuntimeWarning: divide by zero encountered in true_divide\n",
      "  b = 0.5 * ((sin2t / xstd2) - (sin2t / ystd2))\n",
      "/opt/anaconda3/envs/astroconda/lib/python3.7/site-packages/astropy/modeling/functional_models.py:379: RuntimeWarning: invalid value encountered in subtract\n",
      "  b = 0.5 * ((sin2t / xstd2) - (sin2t / ystd2))\n",
      "/opt/anaconda3/envs/astroconda/lib/python3.7/site-packages/astropy/modeling/functional_models.py:380: RuntimeWarning: divide by zero encountered in true_divide\n",
      "  c = 0.5 * ((sint2 / xstd2) + (cost2 / ystd2))\n",
      "/opt/anaconda3/envs/astroconda/lib/python3.7/site-packages/astropy/modeling/functional_models.py:381: RuntimeWarning: invalid value encountered in add\n",
      "  return amplitude * np.exp(-((a * xdiff ** 2) + (b * xdiff * ydiff) +\n",
      "WARNING: The fit may be unsuccessful; check fit_info['message'] for more information. [astropy.modeling.fitting]\n"
     ]
    },
    {
     "name": "stdout",
     "output_type": "stream",
     "text": [
      "        Number of sources =  16\n",
      "        Median x_fwhm = 10.0 +/- 4.1\n",
      "        Median y_fwhm = 10.0 +/- 3.7\n",
      "     Pass 1 assuming FWHM = 10.0\n",
      "124 sources found\n"
     ]
    },
    {
     "name": "stderr",
     "output_type": "stream",
     "text": [
      "/opt/anaconda3/envs/astroconda/lib/python3.7/site-packages/astropy/modeling/functional_models.py:378: RuntimeWarning: divide by zero encountered in true_divide\n",
      "  a = 0.5 * ((cost2 / xstd2) + (sint2 / ystd2))\n",
      "/opt/anaconda3/envs/astroconda/lib/python3.7/site-packages/astropy/modeling/functional_models.py:379: RuntimeWarning: divide by zero encountered in true_divide\n",
      "  b = 0.5 * ((sin2t / xstd2) - (sin2t / ystd2))\n",
      "/opt/anaconda3/envs/astroconda/lib/python3.7/site-packages/astropy/modeling/functional_models.py:379: RuntimeWarning: invalid value encountered in subtract\n",
      "  b = 0.5 * ((sin2t / xstd2) - (sin2t / ystd2))\n",
      "/opt/anaconda3/envs/astroconda/lib/python3.7/site-packages/astropy/modeling/functional_models.py:380: RuntimeWarning: divide by zero encountered in true_divide\n",
      "  c = 0.5 * ((sint2 / xstd2) + (cost2 / ystd2))\n",
      "/opt/anaconda3/envs/astroconda/lib/python3.7/site-packages/astropy/modeling/functional_models.py:381: RuntimeWarning: invalid value encountered in add\n",
      "  return amplitude * np.exp(-((a * xdiff ** 2) + (b * xdiff * ydiff) +\n"
     ]
    },
    {
     "name": "stdout",
     "output_type": "stream",
     "text": [
      "        Number of sources =  16\n",
      "        Median x_fwhm = 10.0 +/- 3.6\n",
      "        Median y_fwhm = 9.5 +/- 3.6\n",
      "  Working on image:  /g/lu/data/imaka/onaga/20200121/sta/reduce/Beehive-W/sta064x10LS5WFS_c_scan_clean.fits\n",
      "    Calculating background\n",
      "     Bkg = -14.70 +/- 3.77\n",
      "     Bkg Threshold = 37.71\n",
      "     Detecting Stars\n",
      "     Pass 0 assuming FWHM = 8.0\n",
      "214 sources found\n"
     ]
    },
    {
     "name": "stderr",
     "output_type": "stream",
     "text": [
      "/opt/anaconda3/envs/astroconda/lib/python3.7/site-packages/astropy/modeling/functional_models.py:378: RuntimeWarning: divide by zero encountered in true_divide\n",
      "  a = 0.5 * ((cost2 / xstd2) + (sint2 / ystd2))\n",
      "/opt/anaconda3/envs/astroconda/lib/python3.7/site-packages/astropy/modeling/functional_models.py:379: RuntimeWarning: divide by zero encountered in true_divide\n",
      "  b = 0.5 * ((sin2t / xstd2) - (sin2t / ystd2))\n",
      "/opt/anaconda3/envs/astroconda/lib/python3.7/site-packages/astropy/modeling/functional_models.py:379: RuntimeWarning: invalid value encountered in subtract\n",
      "  b = 0.5 * ((sin2t / xstd2) - (sin2t / ystd2))\n",
      "/opt/anaconda3/envs/astroconda/lib/python3.7/site-packages/astropy/modeling/functional_models.py:380: RuntimeWarning: divide by zero encountered in true_divide\n",
      "  c = 0.5 * ((sint2 / xstd2) + (cost2 / ystd2))\n",
      "/opt/anaconda3/envs/astroconda/lib/python3.7/site-packages/astropy/modeling/functional_models.py:381: RuntimeWarning: invalid value encountered in add\n",
      "  return amplitude * np.exp(-((a * xdiff ** 2) + (b * xdiff * ydiff) +\n"
     ]
    },
    {
     "name": "stdout",
     "output_type": "stream",
     "text": [
      "        Number of sources =  15\n",
      "        Median x_fwhm = 10.5 +/- 4.7\n",
      "        Median y_fwhm = 10.0 +/- 4.8\n",
      "     Pass 1 assuming FWHM = 10.2\n",
      "138 sources found\n"
     ]
    },
    {
     "name": "stderr",
     "output_type": "stream",
     "text": [
      "/opt/anaconda3/envs/astroconda/lib/python3.7/site-packages/astropy/modeling/functional_models.py:378: RuntimeWarning: divide by zero encountered in true_divide\n",
      "  a = 0.5 * ((cost2 / xstd2) + (sint2 / ystd2))\n",
      "/opt/anaconda3/envs/astroconda/lib/python3.7/site-packages/astropy/modeling/functional_models.py:379: RuntimeWarning: divide by zero encountered in true_divide\n",
      "  b = 0.5 * ((sin2t / xstd2) - (sin2t / ystd2))\n",
      "/opt/anaconda3/envs/astroconda/lib/python3.7/site-packages/astropy/modeling/functional_models.py:379: RuntimeWarning: invalid value encountered in subtract\n",
      "  b = 0.5 * ((sin2t / xstd2) - (sin2t / ystd2))\n",
      "/opt/anaconda3/envs/astroconda/lib/python3.7/site-packages/astropy/modeling/functional_models.py:380: RuntimeWarning: divide by zero encountered in true_divide\n",
      "  c = 0.5 * ((sint2 / xstd2) + (cost2 / ystd2))\n",
      "/opt/anaconda3/envs/astroconda/lib/python3.7/site-packages/astropy/modeling/functional_models.py:381: RuntimeWarning: invalid value encountered in add\n",
      "  return amplitude * np.exp(-((a * xdiff ** 2) + (b * xdiff * ydiff) +\n"
     ]
    },
    {
     "name": "stdout",
     "output_type": "stream",
     "text": [
      "        Number of sources =  18\n",
      "        Median x_fwhm = 11.0 +/- 3.1\n",
      "        Median y_fwhm = 9.0 +/- 4.3\n",
      "  Working on image:  /g/lu/data/imaka/onaga/20200121/sta/reduce/Beehive-W/sta066x10LS5WFS_c_scan_clean.fits\n",
      "    Calculating background\n",
      "     Bkg = -14.97 +/- 3.82\n",
      "     Bkg Threshold = 38.18\n",
      "     Detecting Stars\n",
      "     Pass 0 assuming FWHM = 8.0\n",
      "249 sources found\n"
     ]
    },
    {
     "name": "stderr",
     "output_type": "stream",
     "text": [
      "/opt/anaconda3/envs/astroconda/lib/python3.7/site-packages/astropy/modeling/functional_models.py:378: RuntimeWarning: divide by zero encountered in true_divide\n",
      "  a = 0.5 * ((cost2 / xstd2) + (sint2 / ystd2))\n",
      "/opt/anaconda3/envs/astroconda/lib/python3.7/site-packages/astropy/modeling/functional_models.py:379: RuntimeWarning: divide by zero encountered in true_divide\n",
      "  b = 0.5 * ((sin2t / xstd2) - (sin2t / ystd2))\n",
      "/opt/anaconda3/envs/astroconda/lib/python3.7/site-packages/astropy/modeling/functional_models.py:380: RuntimeWarning: divide by zero encountered in true_divide\n",
      "  c = 0.5 * ((sint2 / xstd2) + (cost2 / ystd2))\n",
      "/opt/anaconda3/envs/astroconda/lib/python3.7/site-packages/astropy/modeling/functional_models.py:381: RuntimeWarning: invalid value encountered in add\n",
      "  return amplitude * np.exp(-((a * xdiff ** 2) + (b * xdiff * ydiff) +\n",
      "/opt/anaconda3/envs/astroconda/lib/python3.7/site-packages/astropy/modeling/functional_models.py:379: RuntimeWarning: invalid value encountered in subtract\n",
      "  b = 0.5 * ((sin2t / xstd2) - (sin2t / ystd2))\n"
     ]
    },
    {
     "name": "stdout",
     "output_type": "stream",
     "text": [
      "        Number of sources =  18\n",
      "        Median x_fwhm = 11.0 +/- 6.0\n",
      "        Median y_fwhm = 9.0 +/- 2.7\n",
      "     Pass 1 assuming FWHM = 10.0\n",
      "148 sources found\n"
     ]
    },
    {
     "name": "stderr",
     "output_type": "stream",
     "text": [
      "/opt/anaconda3/envs/astroconda/lib/python3.7/site-packages/astropy/modeling/functional_models.py:378: RuntimeWarning: divide by zero encountered in true_divide\n",
      "  a = 0.5 * ((cost2 / xstd2) + (sint2 / ystd2))\n",
      "/opt/anaconda3/envs/astroconda/lib/python3.7/site-packages/astropy/modeling/functional_models.py:379: RuntimeWarning: divide by zero encountered in true_divide\n",
      "  b = 0.5 * ((sin2t / xstd2) - (sin2t / ystd2))\n",
      "/opt/anaconda3/envs/astroconda/lib/python3.7/site-packages/astropy/modeling/functional_models.py:379: RuntimeWarning: invalid value encountered in subtract\n",
      "  b = 0.5 * ((sin2t / xstd2) - (sin2t / ystd2))\n",
      "/opt/anaconda3/envs/astroconda/lib/python3.7/site-packages/astropy/modeling/functional_models.py:380: RuntimeWarning: divide by zero encountered in true_divide\n",
      "  c = 0.5 * ((sint2 / xstd2) + (cost2 / ystd2))\n",
      "WARNING: The fit may be unsuccessful; check fit_info['message'] for more information. [astropy.modeling.fitting]\n",
      "/opt/anaconda3/envs/astroconda/lib/python3.7/site-packages/astropy/modeling/functional_models.py:381: RuntimeWarning: invalid value encountered in add\n",
      "  return amplitude * np.exp(-((a * xdiff ** 2) + (b * xdiff * ydiff) +\n"
     ]
    },
    {
     "name": "stdout",
     "output_type": "stream",
     "text": [
      "        Number of sources =  20\n",
      "        Median x_fwhm = 9.0 +/- 2.6\n",
      "        Median y_fwhm = 9.0 +/- 4.7\n",
      "  Working on image:  /g/lu/data/imaka/onaga/20200121/sta/reduce/Beehive-W/sta069x10LS5WFS_c_scan_clean.fits\n",
      "    Calculating background\n",
      "     Bkg = -14.91 +/- 3.83\n",
      "     Bkg Threshold = 38.25\n",
      "     Detecting Stars\n",
      "     Pass 0 assuming FWHM = 8.0\n",
      "195 sources found\n"
     ]
    },
    {
     "name": "stderr",
     "output_type": "stream",
     "text": [
      "/opt/anaconda3/envs/astroconda/lib/python3.7/site-packages/astropy/modeling/functional_models.py:378: RuntimeWarning: divide by zero encountered in true_divide\n",
      "  a = 0.5 * ((cost2 / xstd2) + (sint2 / ystd2))\n",
      "/opt/anaconda3/envs/astroconda/lib/python3.7/site-packages/astropy/modeling/functional_models.py:379: RuntimeWarning: divide by zero encountered in true_divide\n",
      "  b = 0.5 * ((sin2t / xstd2) - (sin2t / ystd2))\n",
      "/opt/anaconda3/envs/astroconda/lib/python3.7/site-packages/astropy/modeling/functional_models.py:380: RuntimeWarning: divide by zero encountered in true_divide\n",
      "  c = 0.5 * ((sint2 / xstd2) + (cost2 / ystd2))\n",
      "/opt/anaconda3/envs/astroconda/lib/python3.7/site-packages/astropy/modeling/functional_models.py:381: RuntimeWarning: invalid value encountered in add\n",
      "  return amplitude * np.exp(-((a * xdiff ** 2) + (b * xdiff * ydiff) +\n",
      "/opt/anaconda3/envs/astroconda/lib/python3.7/site-packages/astropy/modeling/functional_models.py:379: RuntimeWarning: invalid value encountered in subtract\n",
      "  b = 0.5 * ((sin2t / xstd2) - (sin2t / ystd2))\n",
      "WARNING: The fit may be unsuccessful; check fit_info['message'] for more information. [astropy.modeling.fitting]\n"
     ]
    },
    {
     "name": "stdout",
     "output_type": "stream",
     "text": [
      "        Number of sources =  13\n",
      "        Median x_fwhm = 11.0 +/- 4.5\n",
      "        Median y_fwhm = 10.0 +/- 4.3\n",
      "     Pass 1 assuming FWHM = 10.5\n",
      "136 sources found\n"
     ]
    },
    {
     "name": "stderr",
     "output_type": "stream",
     "text": [
      "/opt/anaconda3/envs/astroconda/lib/python3.7/site-packages/astropy/modeling/functional_models.py:378: RuntimeWarning: divide by zero encountered in true_divide\n",
      "  a = 0.5 * ((cost2 / xstd2) + (sint2 / ystd2))\n",
      "/opt/anaconda3/envs/astroconda/lib/python3.7/site-packages/astropy/modeling/functional_models.py:379: RuntimeWarning: divide by zero encountered in true_divide\n",
      "  b = 0.5 * ((sin2t / xstd2) - (sin2t / ystd2))\n",
      "/opt/anaconda3/envs/astroconda/lib/python3.7/site-packages/astropy/modeling/functional_models.py:379: RuntimeWarning: invalid value encountered in subtract\n",
      "  b = 0.5 * ((sin2t / xstd2) - (sin2t / ystd2))\n",
      "/opt/anaconda3/envs/astroconda/lib/python3.7/site-packages/astropy/modeling/functional_models.py:380: RuntimeWarning: divide by zero encountered in true_divide\n",
      "  c = 0.5 * ((sint2 / xstd2) + (cost2 / ystd2))\n",
      "/opt/anaconda3/envs/astroconda/lib/python3.7/site-packages/astropy/modeling/functional_models.py:381: RuntimeWarning: invalid value encountered in add\n",
      "  return amplitude * np.exp(-((a * xdiff ** 2) + (b * xdiff * ydiff) +\n"
     ]
    },
    {
     "name": "stdout",
     "output_type": "stream",
     "text": [
      "        Number of sources =  19\n",
      "        Median x_fwhm = 11.0 +/- 4.2\n",
      "        Median y_fwhm = 10.0 +/- 4.4\n",
      "  Working on image:  /g/lu/data/imaka/onaga/20200121/sta/reduce/Beehive-W/sta071x10LS5WFS_c_scan_clean.fits\n",
      "    Calculating background\n",
      "     Bkg = -14.96 +/- 3.87\n",
      "     Bkg Threshold = 38.65\n",
      "     Detecting Stars\n",
      "     Pass 0 assuming FWHM = 8.0\n",
      "282 sources found\n"
     ]
    },
    {
     "name": "stderr",
     "output_type": "stream",
     "text": [
      "/opt/anaconda3/envs/astroconda/lib/python3.7/site-packages/astropy/modeling/functional_models.py:378: RuntimeWarning: divide by zero encountered in true_divide\n",
      "  a = 0.5 * ((cost2 / xstd2) + (sint2 / ystd2))\n",
      "/opt/anaconda3/envs/astroconda/lib/python3.7/site-packages/astropy/modeling/functional_models.py:379: RuntimeWarning: divide by zero encountered in true_divide\n",
      "  b = 0.5 * ((sin2t / xstd2) - (sin2t / ystd2))\n",
      "/opt/anaconda3/envs/astroconda/lib/python3.7/site-packages/astropy/modeling/functional_models.py:379: RuntimeWarning: invalid value encountered in subtract\n",
      "  b = 0.5 * ((sin2t / xstd2) - (sin2t / ystd2))\n",
      "/opt/anaconda3/envs/astroconda/lib/python3.7/site-packages/astropy/modeling/functional_models.py:380: RuntimeWarning: divide by zero encountered in true_divide\n",
      "  c = 0.5 * ((sint2 / xstd2) + (cost2 / ystd2))\n",
      "/opt/anaconda3/envs/astroconda/lib/python3.7/site-packages/astropy/modeling/functional_models.py:381: RuntimeWarning: invalid value encountered in add\n",
      "  return amplitude * np.exp(-((a * xdiff ** 2) + (b * xdiff * ydiff) +\n",
      "WARNING: The fit may be unsuccessful; check fit_info['message'] for more information. [astropy.modeling.fitting]\n"
     ]
    },
    {
     "name": "stdout",
     "output_type": "stream",
     "text": [
      "        Number of sources =  16\n",
      "        Median x_fwhm = 11.0 +/- 7.7\n",
      "        Median y_fwhm = 10.0 +/- 11.5\n",
      "     Pass 1 assuming FWHM = 10.5\n",
      "176 sources found\n"
     ]
    },
    {
     "name": "stderr",
     "output_type": "stream",
     "text": [
      "/opt/anaconda3/envs/astroconda/lib/python3.7/site-packages/astropy/modeling/functional_models.py:378: RuntimeWarning: divide by zero encountered in true_divide\n",
      "  a = 0.5 * ((cost2 / xstd2) + (sint2 / ystd2))\n",
      "/opt/anaconda3/envs/astroconda/lib/python3.7/site-packages/astropy/modeling/functional_models.py:379: RuntimeWarning: divide by zero encountered in true_divide\n",
      "  b = 0.5 * ((sin2t / xstd2) - (sin2t / ystd2))\n",
      "/opt/anaconda3/envs/astroconda/lib/python3.7/site-packages/astropy/modeling/functional_models.py:379: RuntimeWarning: invalid value encountered in subtract\n",
      "  b = 0.5 * ((sin2t / xstd2) - (sin2t / ystd2))\n",
      "/opt/anaconda3/envs/astroconda/lib/python3.7/site-packages/astropy/modeling/functional_models.py:380: RuntimeWarning: divide by zero encountered in true_divide\n",
      "  c = 0.5 * ((sint2 / xstd2) + (cost2 / ystd2))\n",
      "/opt/anaconda3/envs/astroconda/lib/python3.7/site-packages/astropy/modeling/functional_models.py:381: RuntimeWarning: invalid value encountered in add\n",
      "  return amplitude * np.exp(-((a * xdiff ** 2) + (b * xdiff * ydiff) +\n"
     ]
    },
    {
     "name": "stdout",
     "output_type": "stream",
     "text": [
      "        Number of sources =  25\n",
      "        Median x_fwhm = 11.0 +/- 12.0\n",
      "        Median y_fwhm = 9.5 +/- 16.1\n",
      "  Working on image:  /g/lu/data/imaka/onaga/20200121/sta/reduce/Beehive-W/sta078x10LS5WFS_c_scan_clean.fits\n",
      "    Calculating background\n",
      "     Bkg = -14.96 +/- 3.87\n",
      "     Bkg Threshold = 38.66\n",
      "     Detecting Stars\n",
      "     Pass 0 assuming FWHM = 8.0\n",
      "212 sources found\n"
     ]
    },
    {
     "name": "stderr",
     "output_type": "stream",
     "text": [
      "/opt/anaconda3/envs/astroconda/lib/python3.7/site-packages/astropy/modeling/functional_models.py:378: RuntimeWarning: divide by zero encountered in true_divide\n",
      "  a = 0.5 * ((cost2 / xstd2) + (sint2 / ystd2))\n",
      "/opt/anaconda3/envs/astroconda/lib/python3.7/site-packages/astropy/modeling/functional_models.py:379: RuntimeWarning: divide by zero encountered in true_divide\n",
      "  b = 0.5 * ((sin2t / xstd2) - (sin2t / ystd2))\n",
      "/opt/anaconda3/envs/astroconda/lib/python3.7/site-packages/astropy/modeling/functional_models.py:379: RuntimeWarning: invalid value encountered in subtract\n",
      "  b = 0.5 * ((sin2t / xstd2) - (sin2t / ystd2))\n",
      "/opt/anaconda3/envs/astroconda/lib/python3.7/site-packages/astropy/modeling/functional_models.py:380: RuntimeWarning: divide by zero encountered in true_divide\n",
      "  c = 0.5 * ((sint2 / xstd2) + (cost2 / ystd2))\n",
      "/opt/anaconda3/envs/astroconda/lib/python3.7/site-packages/astropy/modeling/functional_models.py:381: RuntimeWarning: invalid value encountered in add\n",
      "  return amplitude * np.exp(-((a * xdiff ** 2) + (b * xdiff * ydiff) +\n"
     ]
    },
    {
     "name": "stdout",
     "output_type": "stream",
     "text": [
      "        Number of sources =  17\n",
      "        Median x_fwhm = 10.0 +/- 2.5\n",
      "        Median y_fwhm = 10.0 +/- 6.0\n",
      "     Pass 1 assuming FWHM = 10.0\n",
      "154 sources found\n"
     ]
    },
    {
     "name": "stderr",
     "output_type": "stream",
     "text": [
      "/opt/anaconda3/envs/astroconda/lib/python3.7/site-packages/astropy/modeling/functional_models.py:378: RuntimeWarning: divide by zero encountered in true_divide\n",
      "  a = 0.5 * ((cost2 / xstd2) + (sint2 / ystd2))\n",
      "/opt/anaconda3/envs/astroconda/lib/python3.7/site-packages/astropy/modeling/functional_models.py:379: RuntimeWarning: divide by zero encountered in true_divide\n",
      "  b = 0.5 * ((sin2t / xstd2) - (sin2t / ystd2))\n",
      "/opt/anaconda3/envs/astroconda/lib/python3.7/site-packages/astropy/modeling/functional_models.py:379: RuntimeWarning: invalid value encountered in subtract\n",
      "  b = 0.5 * ((sin2t / xstd2) - (sin2t / ystd2))\n",
      "/opt/anaconda3/envs/astroconda/lib/python3.7/site-packages/astropy/modeling/functional_models.py:380: RuntimeWarning: divide by zero encountered in true_divide\n",
      "  c = 0.5 * ((sint2 / xstd2) + (cost2 / ystd2))\n",
      "/opt/anaconda3/envs/astroconda/lib/python3.7/site-packages/astropy/modeling/functional_models.py:381: RuntimeWarning: invalid value encountered in add\n",
      "  return amplitude * np.exp(-((a * xdiff ** 2) + (b * xdiff * ydiff) +\n"
     ]
    },
    {
     "name": "stdout",
     "output_type": "stream",
     "text": [
      "        Number of sources =  18\n",
      "        Median x_fwhm = 10.0 +/- 2.5\n",
      "        Median y_fwhm = 10.0 +/- 4.6\n",
      "  Working on image:  /g/lu/data/imaka/onaga/20200121/sta/reduce/Beehive-W/sta080x10LS5WFS_c_scan_clean.fits\n",
      "    Calculating background\n",
      "     Bkg = -15.21 +/- 3.94\n",
      "     Bkg Threshold = 39.38\n",
      "     Detecting Stars\n",
      "     Pass 0 assuming FWHM = 8.0\n",
      "223 sources found\n"
     ]
    },
    {
     "name": "stderr",
     "output_type": "stream",
     "text": [
      "/opt/anaconda3/envs/astroconda/lib/python3.7/site-packages/astropy/modeling/functional_models.py:378: RuntimeWarning: divide by zero encountered in true_divide\n",
      "  a = 0.5 * ((cost2 / xstd2) + (sint2 / ystd2))\n",
      "/opt/anaconda3/envs/astroconda/lib/python3.7/site-packages/astropy/modeling/functional_models.py:379: RuntimeWarning: divide by zero encountered in true_divide\n",
      "  b = 0.5 * ((sin2t / xstd2) - (sin2t / ystd2))\n",
      "/opt/anaconda3/envs/astroconda/lib/python3.7/site-packages/astropy/modeling/functional_models.py:379: RuntimeWarning: invalid value encountered in subtract\n",
      "  b = 0.5 * ((sin2t / xstd2) - (sin2t / ystd2))\n",
      "/opt/anaconda3/envs/astroconda/lib/python3.7/site-packages/astropy/modeling/functional_models.py:380: RuntimeWarning: divide by zero encountered in true_divide\n",
      "  c = 0.5 * ((sint2 / xstd2) + (cost2 / ystd2))\n",
      "/opt/anaconda3/envs/astroconda/lib/python3.7/site-packages/astropy/modeling/functional_models.py:381: RuntimeWarning: invalid value encountered in add\n",
      "  return amplitude * np.exp(-((a * xdiff ** 2) + (b * xdiff * ydiff) +\n"
     ]
    },
    {
     "name": "stdout",
     "output_type": "stream",
     "text": [
      "        Number of sources =  17\n",
      "        Median x_fwhm = 10.0 +/- 2.7\n",
      "        Median y_fwhm = 10.0 +/- 6.0\n",
      "     Pass 1 assuming FWHM = 10.0\n",
      "134 sources found\n"
     ]
    },
    {
     "name": "stderr",
     "output_type": "stream",
     "text": [
      "/opt/anaconda3/envs/astroconda/lib/python3.7/site-packages/astropy/modeling/functional_models.py:378: RuntimeWarning: divide by zero encountered in true_divide\n",
      "  a = 0.5 * ((cost2 / xstd2) + (sint2 / ystd2))\n",
      "/opt/anaconda3/envs/astroconda/lib/python3.7/site-packages/astropy/modeling/functional_models.py:379: RuntimeWarning: divide by zero encountered in true_divide\n",
      "  b = 0.5 * ((sin2t / xstd2) - (sin2t / ystd2))\n",
      "/opt/anaconda3/envs/astroconda/lib/python3.7/site-packages/astropy/modeling/functional_models.py:379: RuntimeWarning: invalid value encountered in subtract\n",
      "  b = 0.5 * ((sin2t / xstd2) - (sin2t / ystd2))\n",
      "/opt/anaconda3/envs/astroconda/lib/python3.7/site-packages/astropy/modeling/functional_models.py:380: RuntimeWarning: divide by zero encountered in true_divide\n",
      "  c = 0.5 * ((sint2 / xstd2) + (cost2 / ystd2))\n",
      "/opt/anaconda3/envs/astroconda/lib/python3.7/site-packages/astropy/modeling/functional_models.py:381: RuntimeWarning: invalid value encountered in add\n",
      "  return amplitude * np.exp(-((a * xdiff ** 2) + (b * xdiff * ydiff) +\n"
     ]
    },
    {
     "name": "stdout",
     "output_type": "stream",
     "text": [
      "        Number of sources =  18\n",
      "        Median x_fwhm = 10.0 +/- 2.8\n",
      "        Median y_fwhm = 9.0 +/- 4.6\n",
      "  Working on image:  /g/lu/data/imaka/onaga/20200121/sta/reduce/Beehive-W/sta082x10LS5WFS_c_scan_clean.fits\n",
      "    Calculating background\n",
      "     Bkg = -14.93 +/- 3.70\n",
      "     Bkg Threshold = 36.99\n",
      "     Detecting Stars\n",
      "     Pass 0 assuming FWHM = 8.0\n",
      "262 sources found\n"
     ]
    },
    {
     "name": "stderr",
     "output_type": "stream",
     "text": [
      "/opt/anaconda3/envs/astroconda/lib/python3.7/site-packages/astropy/modeling/functional_models.py:378: RuntimeWarning: divide by zero encountered in true_divide\n",
      "  a = 0.5 * ((cost2 / xstd2) + (sint2 / ystd2))\n",
      "/opt/anaconda3/envs/astroconda/lib/python3.7/site-packages/astropy/modeling/functional_models.py:379: RuntimeWarning: divide by zero encountered in true_divide\n",
      "  b = 0.5 * ((sin2t / xstd2) - (sin2t / ystd2))\n",
      "/opt/anaconda3/envs/astroconda/lib/python3.7/site-packages/astropy/modeling/functional_models.py:379: RuntimeWarning: invalid value encountered in subtract\n",
      "  b = 0.5 * ((sin2t / xstd2) - (sin2t / ystd2))\n",
      "/opt/anaconda3/envs/astroconda/lib/python3.7/site-packages/astropy/modeling/functional_models.py:380: RuntimeWarning: divide by zero encountered in true_divide\n",
      "  c = 0.5 * ((sint2 / xstd2) + (cost2 / ystd2))\n",
      "WARNING: The fit may be unsuccessful; check fit_info['message'] for more information. [astropy.modeling.fitting]\n",
      "/opt/anaconda3/envs/astroconda/lib/python3.7/site-packages/astropy/modeling/functional_models.py:381: RuntimeWarning: invalid value encountered in add\n",
      "  return amplitude * np.exp(-((a * xdiff ** 2) + (b * xdiff * ydiff) +\n"
     ]
    },
    {
     "name": "stdout",
     "output_type": "stream",
     "text": [
      "        Number of sources =  12\n",
      "        Median x_fwhm = 9.0 +/- 1.8\n",
      "        Median y_fwhm = 9.0 +/- 2.8\n",
      "     Pass 1 assuming FWHM = 9.0\n",
      "228 sources found\n"
     ]
    },
    {
     "name": "stderr",
     "output_type": "stream",
     "text": [
      "/opt/anaconda3/envs/astroconda/lib/python3.7/site-packages/astropy/modeling/functional_models.py:378: RuntimeWarning: divide by zero encountered in true_divide\n",
      "  a = 0.5 * ((cost2 / xstd2) + (sint2 / ystd2))\n",
      "/opt/anaconda3/envs/astroconda/lib/python3.7/site-packages/astropy/modeling/functional_models.py:379: RuntimeWarning: divide by zero encountered in true_divide\n",
      "  b = 0.5 * ((sin2t / xstd2) - (sin2t / ystd2))\n",
      "/opt/anaconda3/envs/astroconda/lib/python3.7/site-packages/astropy/modeling/functional_models.py:379: RuntimeWarning: invalid value encountered in subtract\n",
      "  b = 0.5 * ((sin2t / xstd2) - (sin2t / ystd2))\n",
      "/opt/anaconda3/envs/astroconda/lib/python3.7/site-packages/astropy/modeling/functional_models.py:380: RuntimeWarning: divide by zero encountered in true_divide\n",
      "  c = 0.5 * ((sint2 / xstd2) + (cost2 / ystd2))\n",
      "/opt/anaconda3/envs/astroconda/lib/python3.7/site-packages/astropy/modeling/functional_models.py:381: RuntimeWarning: invalid value encountered in add\n",
      "  return amplitude * np.exp(-((a * xdiff ** 2) + (b * xdiff * ydiff) +\n"
     ]
    },
    {
     "name": "stdout",
     "output_type": "stream",
     "text": [
      "        Number of sources =  13\n",
      "        Median x_fwhm = 9.5 +/- 2.7\n",
      "        Median y_fwhm = 9.0 +/- 2.4\n",
      "  Working on image:  /g/lu/data/imaka/onaga/20200121/sta/reduce/Beehive-W/sta084x10LS5WFS_c_scan_clean.fits\n",
      "    Calculating background\n",
      "     Bkg = -15.30 +/- 3.75\n",
      "     Bkg Threshold = 37.52\n",
      "     Detecting Stars\n",
      "     Pass 0 assuming FWHM = 8.0\n",
      "223 sources found\n"
     ]
    },
    {
     "name": "stderr",
     "output_type": "stream",
     "text": [
      "/opt/anaconda3/envs/astroconda/lib/python3.7/site-packages/astropy/modeling/functional_models.py:378: RuntimeWarning: divide by zero encountered in true_divide\n",
      "  a = 0.5 * ((cost2 / xstd2) + (sint2 / ystd2))\n",
      "/opt/anaconda3/envs/astroconda/lib/python3.7/site-packages/astropy/modeling/functional_models.py:379: RuntimeWarning: divide by zero encountered in true_divide\n",
      "  b = 0.5 * ((sin2t / xstd2) - (sin2t / ystd2))\n",
      "/opt/anaconda3/envs/astroconda/lib/python3.7/site-packages/astropy/modeling/functional_models.py:379: RuntimeWarning: invalid value encountered in subtract\n",
      "  b = 0.5 * ((sin2t / xstd2) - (sin2t / ystd2))\n",
      "/opt/anaconda3/envs/astroconda/lib/python3.7/site-packages/astropy/modeling/functional_models.py:380: RuntimeWarning: divide by zero encountered in true_divide\n",
      "  c = 0.5 * ((sint2 / xstd2) + (cost2 / ystd2))\n",
      "/opt/anaconda3/envs/astroconda/lib/python3.7/site-packages/astropy/modeling/functional_models.py:381: RuntimeWarning: invalid value encountered in add\n",
      "  return amplitude * np.exp(-((a * xdiff ** 2) + (b * xdiff * ydiff) +\n"
     ]
    },
    {
     "name": "stdout",
     "output_type": "stream",
     "text": [
      "        Number of sources =  13\n",
      "        Median x_fwhm = 10.0 +/- 2.2\n",
      "        Median y_fwhm = 9.0 +/- 2.1\n",
      "     Pass 1 assuming FWHM = 9.5\n",
      "165 sources found\n"
     ]
    },
    {
     "name": "stderr",
     "output_type": "stream",
     "text": [
      "/opt/anaconda3/envs/astroconda/lib/python3.7/site-packages/astropy/modeling/functional_models.py:378: RuntimeWarning: divide by zero encountered in true_divide\n",
      "  a = 0.5 * ((cost2 / xstd2) + (sint2 / ystd2))\n",
      "/opt/anaconda3/envs/astroconda/lib/python3.7/site-packages/astropy/modeling/functional_models.py:379: RuntimeWarning: divide by zero encountered in true_divide\n",
      "  b = 0.5 * ((sin2t / xstd2) - (sin2t / ystd2))\n",
      "/opt/anaconda3/envs/astroconda/lib/python3.7/site-packages/astropy/modeling/functional_models.py:379: RuntimeWarning: invalid value encountered in subtract\n",
      "  b = 0.5 * ((sin2t / xstd2) - (sin2t / ystd2))\n",
      "/opt/anaconda3/envs/astroconda/lib/python3.7/site-packages/astropy/modeling/functional_models.py:380: RuntimeWarning: divide by zero encountered in true_divide\n",
      "  c = 0.5 * ((sint2 / xstd2) + (cost2 / ystd2))\n",
      "/opt/anaconda3/envs/astroconda/lib/python3.7/site-packages/astropy/modeling/functional_models.py:381: RuntimeWarning: invalid value encountered in add\n",
      "  return amplitude * np.exp(-((a * xdiff ** 2) + (b * xdiff * ydiff) +\n"
     ]
    },
    {
     "name": "stdout",
     "output_type": "stream",
     "text": [
      "        Number of sources =  13\n",
      "        Median x_fwhm = 9.0 +/- 1.8\n",
      "        Median y_fwhm = 9.5 +/- 2.4\n",
      "  Working on image:  /g/lu/data/imaka/onaga/20200121/sta/reduce/Beehive-W/sta086x10LS5WFS_c_scan_clean.fits\n",
      "    Calculating background\n",
      "     Bkg = -15.77 +/- 3.89\n",
      "     Bkg Threshold = 38.90\n",
      "     Detecting Stars\n",
      "     Pass 0 assuming FWHM = 8.0\n",
      "224 sources found\n"
     ]
    },
    {
     "name": "stderr",
     "output_type": "stream",
     "text": [
      "/opt/anaconda3/envs/astroconda/lib/python3.7/site-packages/astropy/modeling/functional_models.py:378: RuntimeWarning: divide by zero encountered in true_divide\n",
      "  a = 0.5 * ((cost2 / xstd2) + (sint2 / ystd2))\n",
      "/opt/anaconda3/envs/astroconda/lib/python3.7/site-packages/astropy/modeling/functional_models.py:379: RuntimeWarning: divide by zero encountered in true_divide\n",
      "  b = 0.5 * ((sin2t / xstd2) - (sin2t / ystd2))\n",
      "/opt/anaconda3/envs/astroconda/lib/python3.7/site-packages/astropy/modeling/functional_models.py:380: RuntimeWarning: divide by zero encountered in true_divide\n",
      "  c = 0.5 * ((sint2 / xstd2) + (cost2 / ystd2))\n",
      "/opt/anaconda3/envs/astroconda/lib/python3.7/site-packages/astropy/modeling/functional_models.py:381: RuntimeWarning: invalid value encountered in add\n",
      "  return amplitude * np.exp(-((a * xdiff ** 2) + (b * xdiff * ydiff) +\n",
      "/opt/anaconda3/envs/astroconda/lib/python3.7/site-packages/astropy/modeling/functional_models.py:379: RuntimeWarning: invalid value encountered in subtract\n",
      "  b = 0.5 * ((sin2t / xstd2) - (sin2t / ystd2))\n",
      "WARNING: The fit may be unsuccessful; check fit_info['message'] for more information. [astropy.modeling.fitting]\n"
     ]
    },
    {
     "name": "stdout",
     "output_type": "stream",
     "text": [
      "        Number of sources =  13\n",
      "        Median x_fwhm = 10.0 +/- 1.9\n",
      "        Median y_fwhm = 10.0 +/- 1.7\n",
      "     Pass 1 assuming FWHM = 10.0\n",
      "152 sources found\n"
     ]
    },
    {
     "name": "stderr",
     "output_type": "stream",
     "text": [
      "/opt/anaconda3/envs/astroconda/lib/python3.7/site-packages/astropy/modeling/functional_models.py:378: RuntimeWarning: divide by zero encountered in true_divide\n",
      "  a = 0.5 * ((cost2 / xstd2) + (sint2 / ystd2))\n",
      "/opt/anaconda3/envs/astroconda/lib/python3.7/site-packages/astropy/modeling/functional_models.py:379: RuntimeWarning: divide by zero encountered in true_divide\n",
      "  b = 0.5 * ((sin2t / xstd2) - (sin2t / ystd2))\n",
      "/opt/anaconda3/envs/astroconda/lib/python3.7/site-packages/astropy/modeling/functional_models.py:379: RuntimeWarning: invalid value encountered in subtract\n",
      "  b = 0.5 * ((sin2t / xstd2) - (sin2t / ystd2))\n",
      "/opt/anaconda3/envs/astroconda/lib/python3.7/site-packages/astropy/modeling/functional_models.py:380: RuntimeWarning: divide by zero encountered in true_divide\n",
      "  c = 0.5 * ((sint2 / xstd2) + (cost2 / ystd2))\n",
      "/opt/anaconda3/envs/astroconda/lib/python3.7/site-packages/astropy/modeling/functional_models.py:381: RuntimeWarning: invalid value encountered in add\n",
      "  return amplitude * np.exp(-((a * xdiff ** 2) + (b * xdiff * ydiff) +\n"
     ]
    },
    {
     "name": "stdout",
     "output_type": "stream",
     "text": [
      "        Number of sources =  12\n",
      "        Median x_fwhm = 10.0 +/- 2.4\n",
      "        Median y_fwhm = 9.0 +/- 2.1\n",
      "  Working on image:  /g/lu/data/imaka/onaga/20200121/sta/reduce/Beehive-W/sta088x10LS5WFS_c_scan_clean.fits\n",
      "    Calculating background\n",
      "     Bkg = -15.67 +/- 3.95\n",
      "     Bkg Threshold = 39.45\n",
      "     Detecting Stars\n",
      "     Pass 0 assuming FWHM = 8.0\n",
      "221 sources found\n"
     ]
    },
    {
     "name": "stderr",
     "output_type": "stream",
     "text": [
      "/opt/anaconda3/envs/astroconda/lib/python3.7/site-packages/astropy/modeling/functional_models.py:378: RuntimeWarning: divide by zero encountered in true_divide\n",
      "  a = 0.5 * ((cost2 / xstd2) + (sint2 / ystd2))\n",
      "/opt/anaconda3/envs/astroconda/lib/python3.7/site-packages/astropy/modeling/functional_models.py:379: RuntimeWarning: divide by zero encountered in true_divide\n",
      "  b = 0.5 * ((sin2t / xstd2) - (sin2t / ystd2))\n",
      "/opt/anaconda3/envs/astroconda/lib/python3.7/site-packages/astropy/modeling/functional_models.py:379: RuntimeWarning: invalid value encountered in subtract\n",
      "  b = 0.5 * ((sin2t / xstd2) - (sin2t / ystd2))\n",
      "/opt/anaconda3/envs/astroconda/lib/python3.7/site-packages/astropy/modeling/functional_models.py:380: RuntimeWarning: divide by zero encountered in true_divide\n",
      "  c = 0.5 * ((sint2 / xstd2) + (cost2 / ystd2))\n",
      "/opt/anaconda3/envs/astroconda/lib/python3.7/site-packages/astropy/modeling/functional_models.py:381: RuntimeWarning: invalid value encountered in add\n",
      "  return amplitude * np.exp(-((a * xdiff ** 2) + (b * xdiff * ydiff) +\n"
     ]
    },
    {
     "name": "stdout",
     "output_type": "stream",
     "text": [
      "        Number of sources =  13\n",
      "        Median x_fwhm = 10.0 +/- 1.6\n",
      "        Median y_fwhm = 9.0 +/- 2.1\n",
      "     Pass 1 assuming FWHM = 9.5\n",
      "146 sources found\n"
     ]
    },
    {
     "name": "stderr",
     "output_type": "stream",
     "text": [
      "/opt/anaconda3/envs/astroconda/lib/python3.7/site-packages/astropy/modeling/functional_models.py:378: RuntimeWarning: divide by zero encountered in true_divide\n",
      "  a = 0.5 * ((cost2 / xstd2) + (sint2 / ystd2))\n",
      "/opt/anaconda3/envs/astroconda/lib/python3.7/site-packages/astropy/modeling/functional_models.py:379: RuntimeWarning: divide by zero encountered in true_divide\n",
      "  b = 0.5 * ((sin2t / xstd2) - (sin2t / ystd2))\n",
      "/opt/anaconda3/envs/astroconda/lib/python3.7/site-packages/astropy/modeling/functional_models.py:379: RuntimeWarning: invalid value encountered in subtract\n",
      "  b = 0.5 * ((sin2t / xstd2) - (sin2t / ystd2))\n",
      "/opt/anaconda3/envs/astroconda/lib/python3.7/site-packages/astropy/modeling/functional_models.py:380: RuntimeWarning: divide by zero encountered in true_divide\n",
      "  c = 0.5 * ((sint2 / xstd2) + (cost2 / ystd2))\n",
      "/opt/anaconda3/envs/astroconda/lib/python3.7/site-packages/astropy/modeling/functional_models.py:381: RuntimeWarning: invalid value encountered in add\n",
      "  return amplitude * np.exp(-((a * xdiff ** 2) + (b * xdiff * ydiff) +\n"
     ]
    },
    {
     "name": "stdout",
     "output_type": "stream",
     "text": [
      "        Number of sources =  12\n",
      "        Median x_fwhm = 9.0 +/- 2.6\n",
      "        Median y_fwhm = 10.0 +/- 2.0\n",
      "  Working on image:  /g/lu/data/imaka/onaga/20200121/sta/reduce/Beehive-W/sta090x10LS5WFS_c_scan_clean.fits\n",
      "    Calculating background\n",
      "     Bkg = -15.90 +/- 3.93\n",
      "     Bkg Threshold = 39.32\n",
      "     Detecting Stars\n",
      "     Pass 0 assuming FWHM = 8.0\n",
      "203 sources found\n"
     ]
    },
    {
     "name": "stderr",
     "output_type": "stream",
     "text": [
      "/opt/anaconda3/envs/astroconda/lib/python3.7/site-packages/astropy/modeling/functional_models.py:378: RuntimeWarning: divide by zero encountered in true_divide\n",
      "  a = 0.5 * ((cost2 / xstd2) + (sint2 / ystd2))\n",
      "/opt/anaconda3/envs/astroconda/lib/python3.7/site-packages/astropy/modeling/functional_models.py:379: RuntimeWarning: divide by zero encountered in true_divide\n",
      "  b = 0.5 * ((sin2t / xstd2) - (sin2t / ystd2))\n",
      "/opt/anaconda3/envs/astroconda/lib/python3.7/site-packages/astropy/modeling/functional_models.py:379: RuntimeWarning: invalid value encountered in subtract\n",
      "  b = 0.5 * ((sin2t / xstd2) - (sin2t / ystd2))\n",
      "/opt/anaconda3/envs/astroconda/lib/python3.7/site-packages/astropy/modeling/functional_models.py:380: RuntimeWarning: divide by zero encountered in true_divide\n",
      "  c = 0.5 * ((sint2 / xstd2) + (cost2 / ystd2))\n",
      "/opt/anaconda3/envs/astroconda/lib/python3.7/site-packages/astropy/modeling/functional_models.py:381: RuntimeWarning: invalid value encountered in add\n",
      "  return amplitude * np.exp(-((a * xdiff ** 2) + (b * xdiff * ydiff) +\n"
     ]
    },
    {
     "name": "stdout",
     "output_type": "stream",
     "text": [
      "        Number of sources =  13\n",
      "        Median x_fwhm = 9.5 +/- 1.9\n",
      "        Median y_fwhm = 9.5 +/- 2.5\n",
      "     Pass 1 assuming FWHM = 9.5\n",
      "143 sources found\n"
     ]
    },
    {
     "name": "stderr",
     "output_type": "stream",
     "text": [
      "/opt/anaconda3/envs/astroconda/lib/python3.7/site-packages/astropy/modeling/functional_models.py:378: RuntimeWarning: divide by zero encountered in true_divide\n",
      "  a = 0.5 * ((cost2 / xstd2) + (sint2 / ystd2))\n",
      "/opt/anaconda3/envs/astroconda/lib/python3.7/site-packages/astropy/modeling/functional_models.py:379: RuntimeWarning: divide by zero encountered in true_divide\n",
      "  b = 0.5 * ((sin2t / xstd2) - (sin2t / ystd2))\n",
      "/opt/anaconda3/envs/astroconda/lib/python3.7/site-packages/astropy/modeling/functional_models.py:379: RuntimeWarning: invalid value encountered in subtract\n",
      "  b = 0.5 * ((sin2t / xstd2) - (sin2t / ystd2))\n",
      "/opt/anaconda3/envs/astroconda/lib/python3.7/site-packages/astropy/modeling/functional_models.py:380: RuntimeWarning: divide by zero encountered in true_divide\n",
      "  c = 0.5 * ((sint2 / xstd2) + (cost2 / ystd2))\n",
      "/opt/anaconda3/envs/astroconda/lib/python3.7/site-packages/astropy/modeling/functional_models.py:381: RuntimeWarning: invalid value encountered in add\n",
      "  return amplitude * np.exp(-((a * xdiff ** 2) + (b * xdiff * ydiff) +\n"
     ]
    },
    {
     "name": "stdout",
     "output_type": "stream",
     "text": [
      "        Number of sources =  12\n",
      "        Median x_fwhm = 9.0 +/- 2.6\n",
      "        Median y_fwhm = 9.0 +/- 2.0\n",
      "  Working on image:  /g/lu/data/imaka/onaga/20200121/sta/reduce/Beehive-W/sta092x10LS5WFS_c_scan_clean.fits\n",
      "    Calculating background\n",
      "     Bkg = -16.21 +/- 4.02\n",
      "     Bkg Threshold = 40.20\n",
      "     Detecting Stars\n",
      "     Pass 0 assuming FWHM = 8.0\n",
      "195 sources found\n"
     ]
    },
    {
     "name": "stderr",
     "output_type": "stream",
     "text": [
      "/opt/anaconda3/envs/astroconda/lib/python3.7/site-packages/astropy/modeling/functional_models.py:378: RuntimeWarning: divide by zero encountered in true_divide\n",
      "  a = 0.5 * ((cost2 / xstd2) + (sint2 / ystd2))\n",
      "/opt/anaconda3/envs/astroconda/lib/python3.7/site-packages/astropy/modeling/functional_models.py:379: RuntimeWarning: divide by zero encountered in true_divide\n",
      "  b = 0.5 * ((sin2t / xstd2) - (sin2t / ystd2))\n",
      "/opt/anaconda3/envs/astroconda/lib/python3.7/site-packages/astropy/modeling/functional_models.py:379: RuntimeWarning: invalid value encountered in subtract\n",
      "  b = 0.5 * ((sin2t / xstd2) - (sin2t / ystd2))\n",
      "/opt/anaconda3/envs/astroconda/lib/python3.7/site-packages/astropy/modeling/functional_models.py:380: RuntimeWarning: divide by zero encountered in true_divide\n",
      "  c = 0.5 * ((sint2 / xstd2) + (cost2 / ystd2))\n",
      "/opt/anaconda3/envs/astroconda/lib/python3.7/site-packages/astropy/modeling/functional_models.py:381: RuntimeWarning: invalid value encountered in add\n",
      "  return amplitude * np.exp(-((a * xdiff ** 2) + (b * xdiff * ydiff) +\n"
     ]
    },
    {
     "name": "stdout",
     "output_type": "stream",
     "text": [
      "        Number of sources =  11\n",
      "        Median x_fwhm = 10.0 +/- 2.8\n",
      "        Median y_fwhm = 9.0 +/- 2.0\n",
      "     Pass 1 assuming FWHM = 9.5\n",
      "138 sources found\n"
     ]
    },
    {
     "name": "stderr",
     "output_type": "stream",
     "text": [
      "/opt/anaconda3/envs/astroconda/lib/python3.7/site-packages/astropy/modeling/functional_models.py:378: RuntimeWarning: divide by zero encountered in true_divide\n",
      "  a = 0.5 * ((cost2 / xstd2) + (sint2 / ystd2))\n",
      "/opt/anaconda3/envs/astroconda/lib/python3.7/site-packages/astropy/modeling/functional_models.py:379: RuntimeWarning: divide by zero encountered in true_divide\n",
      "  b = 0.5 * ((sin2t / xstd2) - (sin2t / ystd2))\n",
      "/opt/anaconda3/envs/astroconda/lib/python3.7/site-packages/astropy/modeling/functional_models.py:379: RuntimeWarning: invalid value encountered in subtract\n",
      "  b = 0.5 * ((sin2t / xstd2) - (sin2t / ystd2))\n",
      "/opt/anaconda3/envs/astroconda/lib/python3.7/site-packages/astropy/modeling/functional_models.py:380: RuntimeWarning: divide by zero encountered in true_divide\n",
      "  c = 0.5 * ((sint2 / xstd2) + (cost2 / ystd2))\n",
      "/opt/anaconda3/envs/astroconda/lib/python3.7/site-packages/astropy/modeling/functional_models.py:381: RuntimeWarning: invalid value encountered in add\n",
      "  return amplitude * np.exp(-((a * xdiff ** 2) + (b * xdiff * ydiff) +\n"
     ]
    },
    {
     "name": "stdout",
     "output_type": "stream",
     "text": [
      "        Number of sources =  12\n",
      "        Median x_fwhm = 9.0 +/- 1.8\n",
      "        Median y_fwhm = 10.0 +/- 2.8\n",
      "  Working on image:  /g/lu/data/imaka/onaga/20200121/sta/reduce/Beehive-W/sta106x10LS5WFS_c_scan_clean.fits\n",
      "    Calculating background\n",
      "     Bkg = -13.90 +/- 4.07\n",
      "     Bkg Threshold = 40.75\n",
      "     Detecting Stars\n",
      "     Pass 0 assuming FWHM = 8.0\n",
      "208 sources found\n"
     ]
    },
    {
     "name": "stderr",
     "output_type": "stream",
     "text": [
      "/opt/anaconda3/envs/astroconda/lib/python3.7/site-packages/astropy/modeling/functional_models.py:378: RuntimeWarning: divide by zero encountered in true_divide\n",
      "  a = 0.5 * ((cost2 / xstd2) + (sint2 / ystd2))\n",
      "/opt/anaconda3/envs/astroconda/lib/python3.7/site-packages/astropy/modeling/functional_models.py:379: RuntimeWarning: divide by zero encountered in true_divide\n",
      "  b = 0.5 * ((sin2t / xstd2) - (sin2t / ystd2))\n",
      "/opt/anaconda3/envs/astroconda/lib/python3.7/site-packages/astropy/modeling/functional_models.py:379: RuntimeWarning: invalid value encountered in subtract\n",
      "  b = 0.5 * ((sin2t / xstd2) - (sin2t / ystd2))\n",
      "/opt/anaconda3/envs/astroconda/lib/python3.7/site-packages/astropy/modeling/functional_models.py:380: RuntimeWarning: divide by zero encountered in true_divide\n",
      "  c = 0.5 * ((sint2 / xstd2) + (cost2 / ystd2))\n",
      "/opt/anaconda3/envs/astroconda/lib/python3.7/site-packages/astropy/modeling/functional_models.py:381: RuntimeWarning: invalid value encountered in add\n",
      "  return amplitude * np.exp(-((a * xdiff ** 2) + (b * xdiff * ydiff) +\n"
     ]
    },
    {
     "name": "stdout",
     "output_type": "stream",
     "text": [
      "        Number of sources =  12\n",
      "        Median x_fwhm = 11.0 +/- 2.8\n",
      "        Median y_fwhm = 10.0 +/- 3.1\n",
      "     Pass 1 assuming FWHM = 10.5\n",
      "156 sources found\n"
     ]
    },
    {
     "name": "stderr",
     "output_type": "stream",
     "text": [
      "/opt/anaconda3/envs/astroconda/lib/python3.7/site-packages/astropy/modeling/functional_models.py:378: RuntimeWarning: divide by zero encountered in true_divide\n",
      "  a = 0.5 * ((cost2 / xstd2) + (sint2 / ystd2))\n",
      "/opt/anaconda3/envs/astroconda/lib/python3.7/site-packages/astropy/modeling/functional_models.py:379: RuntimeWarning: divide by zero encountered in true_divide\n",
      "  b = 0.5 * ((sin2t / xstd2) - (sin2t / ystd2))\n",
      "/opt/anaconda3/envs/astroconda/lib/python3.7/site-packages/astropy/modeling/functional_models.py:379: RuntimeWarning: invalid value encountered in subtract\n",
      "  b = 0.5 * ((sin2t / xstd2) - (sin2t / ystd2))\n",
      "/opt/anaconda3/envs/astroconda/lib/python3.7/site-packages/astropy/modeling/functional_models.py:380: RuntimeWarning: divide by zero encountered in true_divide\n",
      "  c = 0.5 * ((sint2 / xstd2) + (cost2 / ystd2))\n",
      "/opt/anaconda3/envs/astroconda/lib/python3.7/site-packages/astropy/modeling/functional_models.py:381: RuntimeWarning: invalid value encountered in add\n",
      "  return amplitude * np.exp(-((a * xdiff ** 2) + (b * xdiff * ydiff) +\n"
     ]
    },
    {
     "name": "stdout",
     "output_type": "stream",
     "text": [
      "        Number of sources =  14\n",
      "        Median x_fwhm = 11.0 +/- 3.5\n",
      "        Median y_fwhm = 10.0 +/- 2.3\n",
      "  Working on image:  /g/lu/data/imaka/onaga/20200121/sta/reduce/Beehive-W/sta108x10LS5WFS_c_scan_clean.fits\n",
      "    Calculating background\n",
      "     Bkg = -14.17 +/- 4.13\n",
      "     Bkg Threshold = 41.27\n",
      "     Detecting Stars\n",
      "     Pass 0 assuming FWHM = 8.0\n",
      "240 sources found\n"
     ]
    },
    {
     "name": "stderr",
     "output_type": "stream",
     "text": [
      "/opt/anaconda3/envs/astroconda/lib/python3.7/site-packages/astropy/modeling/functional_models.py:378: RuntimeWarning: divide by zero encountered in true_divide\n",
      "  a = 0.5 * ((cost2 / xstd2) + (sint2 / ystd2))\n",
      "/opt/anaconda3/envs/astroconda/lib/python3.7/site-packages/astropy/modeling/functional_models.py:379: RuntimeWarning: divide by zero encountered in true_divide\n",
      "  b = 0.5 * ((sin2t / xstd2) - (sin2t / ystd2))\n",
      "/opt/anaconda3/envs/astroconda/lib/python3.7/site-packages/astropy/modeling/functional_models.py:379: RuntimeWarning: invalid value encountered in subtract\n",
      "  b = 0.5 * ((sin2t / xstd2) - (sin2t / ystd2))\n",
      "/opt/anaconda3/envs/astroconda/lib/python3.7/site-packages/astropy/modeling/functional_models.py:380: RuntimeWarning: divide by zero encountered in true_divide\n",
      "  c = 0.5 * ((sint2 / xstd2) + (cost2 / ystd2))\n",
      "/opt/anaconda3/envs/astroconda/lib/python3.7/site-packages/astropy/modeling/functional_models.py:381: RuntimeWarning: invalid value encountered in add\n",
      "  return amplitude * np.exp(-((a * xdiff ** 2) + (b * xdiff * ydiff) +\n"
     ]
    },
    {
     "name": "stdout",
     "output_type": "stream",
     "text": [
      "        Number of sources =  11\n",
      "        Median x_fwhm = 10.5 +/- 2.1\n",
      "        Median y_fwhm = 10.5 +/- 3.7\n",
      "     Pass 1 assuming FWHM = 10.5\n",
      "137 sources found\n"
     ]
    },
    {
     "name": "stderr",
     "output_type": "stream",
     "text": [
      "/opt/anaconda3/envs/astroconda/lib/python3.7/site-packages/astropy/modeling/functional_models.py:378: RuntimeWarning: divide by zero encountered in true_divide\n",
      "  a = 0.5 * ((cost2 / xstd2) + (sint2 / ystd2))\n",
      "/opt/anaconda3/envs/astroconda/lib/python3.7/site-packages/astropy/modeling/functional_models.py:379: RuntimeWarning: divide by zero encountered in true_divide\n",
      "  b = 0.5 * ((sin2t / xstd2) - (sin2t / ystd2))\n",
      "/opt/anaconda3/envs/astroconda/lib/python3.7/site-packages/astropy/modeling/functional_models.py:379: RuntimeWarning: invalid value encountered in subtract\n",
      "  b = 0.5 * ((sin2t / xstd2) - (sin2t / ystd2))\n",
      "/opt/anaconda3/envs/astroconda/lib/python3.7/site-packages/astropy/modeling/functional_models.py:380: RuntimeWarning: divide by zero encountered in true_divide\n",
      "  c = 0.5 * ((sint2 / xstd2) + (cost2 / ystd2))\n",
      "/opt/anaconda3/envs/astroconda/lib/python3.7/site-packages/astropy/modeling/functional_models.py:381: RuntimeWarning: invalid value encountered in add\n",
      "  return amplitude * np.exp(-((a * xdiff ** 2) + (b * xdiff * ydiff) +\n"
     ]
    },
    {
     "name": "stdout",
     "output_type": "stream",
     "text": [
      "        Number of sources =  14\n",
      "        Median x_fwhm = 11.0 +/- 2.9\n",
      "        Median y_fwhm = 10.0 +/- 3.4\n",
      "  Working on image:  /g/lu/data/imaka/onaga/20200121/sta/reduce/Beehive-W/sta110x10LS5WFS_c_scan_clean.fits\n",
      "    Calculating background\n",
      "     Bkg = -14.31 +/- 4.18\n",
      "     Bkg Threshold = 41.83\n",
      "     Detecting Stars\n",
      "     Pass 0 assuming FWHM = 8.0\n",
      "203 sources found\n"
     ]
    },
    {
     "name": "stderr",
     "output_type": "stream",
     "text": [
      "/opt/anaconda3/envs/astroconda/lib/python3.7/site-packages/astropy/modeling/functional_models.py:378: RuntimeWarning: divide by zero encountered in true_divide\n",
      "  a = 0.5 * ((cost2 / xstd2) + (sint2 / ystd2))\n",
      "/opt/anaconda3/envs/astroconda/lib/python3.7/site-packages/astropy/modeling/functional_models.py:379: RuntimeWarning: divide by zero encountered in true_divide\n",
      "  b = 0.5 * ((sin2t / xstd2) - (sin2t / ystd2))\n",
      "/opt/anaconda3/envs/astroconda/lib/python3.7/site-packages/astropy/modeling/functional_models.py:379: RuntimeWarning: invalid value encountered in subtract\n",
      "  b = 0.5 * ((sin2t / xstd2) - (sin2t / ystd2))\n",
      "/opt/anaconda3/envs/astroconda/lib/python3.7/site-packages/astropy/modeling/functional_models.py:380: RuntimeWarning: divide by zero encountered in true_divide\n",
      "  c = 0.5 * ((sint2 / xstd2) + (cost2 / ystd2))\n",
      "/opt/anaconda3/envs/astroconda/lib/python3.7/site-packages/astropy/modeling/functional_models.py:381: RuntimeWarning: invalid value encountered in add\n",
      "  return amplitude * np.exp(-((a * xdiff ** 2) + (b * xdiff * ydiff) +\n"
     ]
    },
    {
     "name": "stdout",
     "output_type": "stream",
     "text": [
      "        Number of sources =  11\n",
      "        Median x_fwhm = 12.0 +/- 2.3\n",
      "        Median y_fwhm = 11.0 +/- 3.1\n",
      "     Pass 1 assuming FWHM = 11.5\n",
      "101 sources found\n"
     ]
    },
    {
     "name": "stderr",
     "output_type": "stream",
     "text": [
      "/opt/anaconda3/envs/astroconda/lib/python3.7/site-packages/astropy/modeling/functional_models.py:378: RuntimeWarning: divide by zero encountered in true_divide\n",
      "  a = 0.5 * ((cost2 / xstd2) + (sint2 / ystd2))\n",
      "/opt/anaconda3/envs/astroconda/lib/python3.7/site-packages/astropy/modeling/functional_models.py:379: RuntimeWarning: divide by zero encountered in true_divide\n",
      "  b = 0.5 * ((sin2t / xstd2) - (sin2t / ystd2))\n",
      "/opt/anaconda3/envs/astroconda/lib/python3.7/site-packages/astropy/modeling/functional_models.py:379: RuntimeWarning: invalid value encountered in subtract\n",
      "  b = 0.5 * ((sin2t / xstd2) - (sin2t / ystd2))\n",
      "/opt/anaconda3/envs/astroconda/lib/python3.7/site-packages/astropy/modeling/functional_models.py:380: RuntimeWarning: divide by zero encountered in true_divide\n",
      "  c = 0.5 * ((sint2 / xstd2) + (cost2 / ystd2))\n",
      "/opt/anaconda3/envs/astroconda/lib/python3.7/site-packages/astropy/modeling/functional_models.py:381: RuntimeWarning: invalid value encountered in add\n",
      "  return amplitude * np.exp(-((a * xdiff ** 2) + (b * xdiff * ydiff) +\n"
     ]
    },
    {
     "name": "stdout",
     "output_type": "stream",
     "text": [
      "        Number of sources =  15\n",
      "        Median x_fwhm = 10.5 +/- 2.9\n",
      "        Median y_fwhm = 11.5 +/- 3.3\n",
      "  Working on image:  /g/lu/data/imaka/onaga/20200121/sta/reduce/Beehive-W/sta112x10LS5WFS_c_scan_clean.fits\n",
      "    Calculating background\n",
      "     Bkg = -14.44 +/- 4.20\n",
      "     Bkg Threshold = 42.03\n",
      "     Detecting Stars\n",
      "     Pass 0 assuming FWHM = 8.0\n",
      "219 sources found\n"
     ]
    },
    {
     "name": "stderr",
     "output_type": "stream",
     "text": [
      "/opt/anaconda3/envs/astroconda/lib/python3.7/site-packages/astropy/modeling/functional_models.py:378: RuntimeWarning: divide by zero encountered in true_divide\n",
      "  a = 0.5 * ((cost2 / xstd2) + (sint2 / ystd2))\n",
      "/opt/anaconda3/envs/astroconda/lib/python3.7/site-packages/astropy/modeling/functional_models.py:379: RuntimeWarning: divide by zero encountered in true_divide\n",
      "  b = 0.5 * ((sin2t / xstd2) - (sin2t / ystd2))\n",
      "/opt/anaconda3/envs/astroconda/lib/python3.7/site-packages/astropy/modeling/functional_models.py:379: RuntimeWarning: invalid value encountered in subtract\n",
      "  b = 0.5 * ((sin2t / xstd2) - (sin2t / ystd2))\n",
      "/opt/anaconda3/envs/astroconda/lib/python3.7/site-packages/astropy/modeling/functional_models.py:380: RuntimeWarning: divide by zero encountered in true_divide\n",
      "  c = 0.5 * ((sint2 / xstd2) + (cost2 / ystd2))\n",
      "/opt/anaconda3/envs/astroconda/lib/python3.7/site-packages/astropy/modeling/functional_models.py:381: RuntimeWarning: invalid value encountered in add\n",
      "  return amplitude * np.exp(-((a * xdiff ** 2) + (b * xdiff * ydiff) +\n"
     ]
    },
    {
     "name": "stdout",
     "output_type": "stream",
     "text": [
      "        Number of sources =  13\n",
      "        Median x_fwhm = 10.0 +/- 3.2\n",
      "        Median y_fwhm = 9.0 +/- 3.6\n",
      "     Pass 1 assuming FWHM = 9.5\n",
      "146 sources found\n"
     ]
    },
    {
     "name": "stderr",
     "output_type": "stream",
     "text": [
      "/opt/anaconda3/envs/astroconda/lib/python3.7/site-packages/astropy/modeling/functional_models.py:378: RuntimeWarning: divide by zero encountered in true_divide\n",
      "  a = 0.5 * ((cost2 / xstd2) + (sint2 / ystd2))\n",
      "/opt/anaconda3/envs/astroconda/lib/python3.7/site-packages/astropy/modeling/functional_models.py:379: RuntimeWarning: divide by zero encountered in true_divide\n",
      "  b = 0.5 * ((sin2t / xstd2) - (sin2t / ystd2))\n",
      "/opt/anaconda3/envs/astroconda/lib/python3.7/site-packages/astropy/modeling/functional_models.py:379: RuntimeWarning: invalid value encountered in subtract\n",
      "  b = 0.5 * ((sin2t / xstd2) - (sin2t / ystd2))\n",
      "/opt/anaconda3/envs/astroconda/lib/python3.7/site-packages/astropy/modeling/functional_models.py:380: RuntimeWarning: divide by zero encountered in true_divide\n",
      "  c = 0.5 * ((sint2 / xstd2) + (cost2 / ystd2))\n",
      "/opt/anaconda3/envs/astroconda/lib/python3.7/site-packages/astropy/modeling/functional_models.py:381: RuntimeWarning: invalid value encountered in add\n",
      "  return amplitude * np.exp(-((a * xdiff ** 2) + (b * xdiff * ydiff) +\n",
      "WARNING: The fit may be unsuccessful; check fit_info['message'] for more information. [astropy.modeling.fitting]\n"
     ]
    },
    {
     "name": "stdout",
     "output_type": "stream",
     "text": [
      "        Number of sources =  17\n",
      "        Median x_fwhm = 10.0 +/- 2.2\n",
      "        Median y_fwhm = 10.0 +/- 4.8\n",
      "  Working on image:  /g/lu/data/imaka/onaga/20200121/sta/reduce/Beehive-W/sta114x10LS5WFS_c_scan_clean.fits\n",
      "    Calculating background\n",
      "     Bkg = -14.56 +/- 4.21\n",
      "     Bkg Threshold = 42.07\n",
      "     Detecting Stars\n",
      "     Pass 0 assuming FWHM = 8.0\n",
      "200 sources found\n"
     ]
    },
    {
     "name": "stderr",
     "output_type": "stream",
     "text": [
      "/opt/anaconda3/envs/astroconda/lib/python3.7/site-packages/astropy/modeling/functional_models.py:378: RuntimeWarning: divide by zero encountered in true_divide\n",
      "  a = 0.5 * ((cost2 / xstd2) + (sint2 / ystd2))\n",
      "/opt/anaconda3/envs/astroconda/lib/python3.7/site-packages/astropy/modeling/functional_models.py:379: RuntimeWarning: divide by zero encountered in true_divide\n",
      "  b = 0.5 * ((sin2t / xstd2) - (sin2t / ystd2))\n",
      "/opt/anaconda3/envs/astroconda/lib/python3.7/site-packages/astropy/modeling/functional_models.py:379: RuntimeWarning: invalid value encountered in subtract\n",
      "  b = 0.5 * ((sin2t / xstd2) - (sin2t / ystd2))\n",
      "/opt/anaconda3/envs/astroconda/lib/python3.7/site-packages/astropy/modeling/functional_models.py:380: RuntimeWarning: divide by zero encountered in true_divide\n",
      "  c = 0.5 * ((sint2 / xstd2) + (cost2 / ystd2))\n",
      "/opt/anaconda3/envs/astroconda/lib/python3.7/site-packages/astropy/modeling/functional_models.py:381: RuntimeWarning: invalid value encountered in add\n",
      "  return amplitude * np.exp(-((a * xdiff ** 2) + (b * xdiff * ydiff) +\n"
     ]
    },
    {
     "name": "stdout",
     "output_type": "stream",
     "text": [
      "        Number of sources =  13\n",
      "        Median x_fwhm = 11.0 +/- 2.7\n",
      "        Median y_fwhm = 10.0 +/- 3.4\n",
      "     Pass 1 assuming FWHM = 10.5\n",
      "130 sources found\n"
     ]
    },
    {
     "name": "stderr",
     "output_type": "stream",
     "text": [
      "/opt/anaconda3/envs/astroconda/lib/python3.7/site-packages/astropy/modeling/functional_models.py:378: RuntimeWarning: divide by zero encountered in true_divide\n",
      "  a = 0.5 * ((cost2 / xstd2) + (sint2 / ystd2))\n",
      "/opt/anaconda3/envs/astroconda/lib/python3.7/site-packages/astropy/modeling/functional_models.py:379: RuntimeWarning: divide by zero encountered in true_divide\n",
      "  b = 0.5 * ((sin2t / xstd2) - (sin2t / ystd2))\n",
      "/opt/anaconda3/envs/astroconda/lib/python3.7/site-packages/astropy/modeling/functional_models.py:379: RuntimeWarning: invalid value encountered in subtract\n",
      "  b = 0.5 * ((sin2t / xstd2) - (sin2t / ystd2))\n",
      "/opt/anaconda3/envs/astroconda/lib/python3.7/site-packages/astropy/modeling/functional_models.py:380: RuntimeWarning: divide by zero encountered in true_divide\n",
      "  c = 0.5 * ((sint2 / xstd2) + (cost2 / ystd2))\n",
      "/opt/anaconda3/envs/astroconda/lib/python3.7/site-packages/astropy/modeling/functional_models.py:381: RuntimeWarning: invalid value encountered in add\n",
      "  return amplitude * np.exp(-((a * xdiff ** 2) + (b * xdiff * ydiff) +\n"
     ]
    },
    {
     "name": "stdout",
     "output_type": "stream",
     "text": [
      "        Number of sources =  15\n",
      "        Median x_fwhm = 11.0 +/- 2.8\n",
      "        Median y_fwhm = 10.0 +/- 3.5\n",
      "Working on image:  /g/lu/data/imaka/onaga/20200121/sta/reduce/Beehive-W/sta003_o_scan_clean.fits\n"
     ]
    },
    {
     "name": "stderr",
     "output_type": "stream",
     "text": [
      "WARNING: AstropyDeprecationWarning: Inputing positions shaped as 2xN is deprecated and will be removed in v0.8.  Positions should be a (x, y) pixel position or a list or array of (x, y) pixel positions, e.g. [(x1, y1), (x2, y2), (x3, y3)]. [photutils.aperture.attributes]\n"
     ]
    },
    {
     "name": "stdout",
     "output_type": "stream",
     "text": [
      "Working on image:  /g/lu/data/imaka/onaga/20200121/sta/reduce/Beehive-W/sta004_o_scan_clean.fits\n",
      "Working on image:  /g/lu/data/imaka/onaga/20200121/sta/reduce/Beehive-W/sta035_o_scan_clean.fits\n",
      "Working on image:  /g/lu/data/imaka/onaga/20200121/sta/reduce/Beehive-W/sta038_o_scan_clean.fits\n",
      "Working on image:  /g/lu/data/imaka/onaga/20200121/sta/reduce/Beehive-W/sta040_o_scan_clean.fits\n",
      "Working on image:  /g/lu/data/imaka/onaga/20200121/sta/reduce/Beehive-W/sta042_o_scan_clean.fits\n",
      "Working on image:  /g/lu/data/imaka/onaga/20200121/sta/reduce/Beehive-W/sta044_o_scan_clean.fits\n",
      "Working on image:  /g/lu/data/imaka/onaga/20200121/sta/reduce/Beehive-W/sta046_o_scan_clean.fits\n",
      "Working on image:  /g/lu/data/imaka/onaga/20200121/sta/reduce/Beehive-W/sta048_o_scan_clean.fits\n",
      "Working on image:  /g/lu/data/imaka/onaga/20200121/sta/reduce/Beehive-W/sta050_o_scan_clean.fits\n",
      "Working on image:  /g/lu/data/imaka/onaga/20200121/sta/reduce/Beehive-W/sta052_o_scan_clean.fits\n",
      "Working on image:  /g/lu/data/imaka/onaga/20200121/sta/reduce/Beehive-W/sta054_o_scan_clean.fits\n",
      "Working on image:  /g/lu/data/imaka/onaga/20200121/sta/reduce/Beehive-W/sta056_o_scan_clean.fits\n",
      "Working on image:  /g/lu/data/imaka/onaga/20200121/sta/reduce/Beehive-W/sta058_o_scan_clean.fits\n",
      "Working on image:  /g/lu/data/imaka/onaga/20200121/sta/reduce/Beehive-W/sta059_o_scan_clean.fits\n",
      "Working on image:  /g/lu/data/imaka/onaga/20200121/sta/reduce/Beehive-W/sta063_o_scan_clean.fits\n",
      "Working on image:  /g/lu/data/imaka/onaga/20200121/sta/reduce/Beehive-W/sta065_o_scan_clean.fits\n",
      "Working on image:  /g/lu/data/imaka/onaga/20200121/sta/reduce/Beehive-W/sta067_o_scan_clean.fits\n",
      "Working on image:  /g/lu/data/imaka/onaga/20200121/sta/reduce/Beehive-W/sta068_o_scan_clean.fits\n",
      "Working on image:  /g/lu/data/imaka/onaga/20200121/sta/reduce/Beehive-W/sta070_o_scan_clean.fits\n",
      "Working on image:  /g/lu/data/imaka/onaga/20200121/sta/reduce/Beehive-W/sta072_o_scan_clean.fits\n",
      "Working on image:  /g/lu/data/imaka/onaga/20200121/sta/reduce/Beehive-W/sta073_o_scan_clean.fits\n",
      "Working on image:  /g/lu/data/imaka/onaga/20200121/sta/reduce/Beehive-W/sta074_o_scan_clean.fits\n",
      "Working on image:  /g/lu/data/imaka/onaga/20200121/sta/reduce/Beehive-W/sta075_o_scan_clean.fits\n",
      "Working on image:  /g/lu/data/imaka/onaga/20200121/sta/reduce/Beehive-W/sta076_o_scan_clean.fits\n",
      "Working on image:  /g/lu/data/imaka/onaga/20200121/sta/reduce/Beehive-W/sta077_o_scan_clean.fits\n",
      "Working on image:  /g/lu/data/imaka/onaga/20200121/sta/reduce/Beehive-W/sta079_o_scan_clean.fits\n",
      "Working on image:  /g/lu/data/imaka/onaga/20200121/sta/reduce/Beehive-W/sta081_o_scan_clean.fits\n",
      "Working on image:  /g/lu/data/imaka/onaga/20200121/sta/reduce/Beehive-W/sta083_o_scan_clean.fits\n",
      "Working on image:  /g/lu/data/imaka/onaga/20200121/sta/reduce/Beehive-W/sta085_o_scan_clean.fits\n",
      "Working on image:  /g/lu/data/imaka/onaga/20200121/sta/reduce/Beehive-W/sta087_o_scan_clean.fits\n",
      "Working on image:  /g/lu/data/imaka/onaga/20200121/sta/reduce/Beehive-W/sta089_o_scan_clean.fits\n",
      "Working on image:  /g/lu/data/imaka/onaga/20200121/sta/reduce/Beehive-W/sta091_o_scan_clean.fits\n",
      "Working on image:  /g/lu/data/imaka/onaga/20200121/sta/reduce/Beehive-W/sta093_o_scan_clean.fits\n",
      "Working on image:  /g/lu/data/imaka/onaga/20200121/sta/reduce/Beehive-W/sta107_o_scan_clean.fits\n",
      "Working on image:  /g/lu/data/imaka/onaga/20200121/sta/reduce/Beehive-W/sta109_o_scan_clean.fits\n",
      "Working on image:  /g/lu/data/imaka/onaga/20200121/sta/reduce/Beehive-W/sta111_o_scan_clean.fits\n",
      "Working on image:  /g/lu/data/imaka/onaga/20200121/sta/reduce/Beehive-W/sta113_o_scan_clean.fits\n",
      "Working on image:  /g/lu/data/imaka/onaga/20200121/sta/reduce/Beehive-W/sta115_o_scan_clean.fits\n",
      "Working on image 0 of 39 : /g/lu/data/imaka/onaga/20200121/sta/reduce/Beehive-W/sta003_o_scan_clean.fits\n",
      "Less than two bright stars found.  Using all stars.\n"
     ]
    },
    {
     "name": "stderr",
     "output_type": "stream",
     "text": [
      "WARNING: The fit may be unsuccessful; check fit_info['message'] for more information. [astropy.modeling.fitting]\n"
     ]
    },
    {
     "name": "stdout",
     "output_type": "stream",
     "text": [
      "Working on image 1 of 39 : /g/lu/data/imaka/onaga/20200121/sta/reduce/Beehive-W/sta004_o_scan_clean.fits\n",
      "Less than two bright stars found.  Using all stars.\n",
      "Working on image 2 of 39 : /g/lu/data/imaka/onaga/20200121/sta/reduce/Beehive-W/sta035_o_scan_clean.fits\n",
      "Less than two bright stars found.  Using all stars.\n",
      "Working on image 3 of 39 : /g/lu/data/imaka/onaga/20200121/sta/reduce/Beehive-W/sta038_o_scan_clean.fits\n",
      "Less than two bright stars found.  Using all stars.\n",
      "Working on image 4 of 39 : /g/lu/data/imaka/onaga/20200121/sta/reduce/Beehive-W/sta040_o_scan_clean.fits\n",
      "Less than two bright stars found.  Using all stars.\n",
      "Working on image 5 of 39 : /g/lu/data/imaka/onaga/20200121/sta/reduce/Beehive-W/sta042_o_scan_clean.fits\n",
      "Less than two bright stars found.  Using all stars.\n",
      "Working on image 6 of 39 : /g/lu/data/imaka/onaga/20200121/sta/reduce/Beehive-W/sta044_o_scan_clean.fits\n",
      "Less than two bright stars found.  Using all stars.\n",
      "Working on image 7 of 39 : /g/lu/data/imaka/onaga/20200121/sta/reduce/Beehive-W/sta046_o_scan_clean.fits\n",
      "Less than two bright stars found.  Using all stars.\n",
      "Working on image 8 of 39 : /g/lu/data/imaka/onaga/20200121/sta/reduce/Beehive-W/sta048_o_scan_clean.fits\n",
      "Less than two bright stars found.  Using all stars.\n",
      "Working on image 9 of 39 : /g/lu/data/imaka/onaga/20200121/sta/reduce/Beehive-W/sta050_o_scan_clean.fits\n",
      "Less than two bright stars found.  Using all stars.\n",
      "Working on image 10 of 39 : /g/lu/data/imaka/onaga/20200121/sta/reduce/Beehive-W/sta052_o_scan_clean.fits\n",
      "Less than two bright stars found.  Using all stars.\n",
      "Working on image 11 of 39 : /g/lu/data/imaka/onaga/20200121/sta/reduce/Beehive-W/sta054_o_scan_clean.fits\n",
      "Less than two bright stars found.  Using all stars.\n",
      "Working on image 12 of 39 : /g/lu/data/imaka/onaga/20200121/sta/reduce/Beehive-W/sta056_o_scan_clean.fits\n",
      "Working on image 13 of 39 : /g/lu/data/imaka/onaga/20200121/sta/reduce/Beehive-W/sta058_o_scan_clean.fits\n",
      "Less than two bright stars found.  Using all stars.\n",
      "Working on image 14 of 39 : /g/lu/data/imaka/onaga/20200121/sta/reduce/Beehive-W/sta059_o_scan_clean.fits\n",
      "Less than two bright stars found.  Using all stars.\n",
      "Working on image 15 of 39 : /g/lu/data/imaka/onaga/20200121/sta/reduce/Beehive-W/sta063_o_scan_clean.fits\n",
      "Less than two bright stars found.  Using all stars.\n",
      "Working on image 16 of 39 : /g/lu/data/imaka/onaga/20200121/sta/reduce/Beehive-W/sta065_o_scan_clean.fits\n",
      "Less than two bright stars found.  Using all stars.\n",
      "Working on image 17 of 39 : /g/lu/data/imaka/onaga/20200121/sta/reduce/Beehive-W/sta067_o_scan_clean.fits\n",
      "Less than two bright stars found.  Using all stars.\n",
      "Working on image 18 of 39 : /g/lu/data/imaka/onaga/20200121/sta/reduce/Beehive-W/sta068_o_scan_clean.fits\n",
      "Less than two bright stars found.  Using all stars.\n",
      "Working on image 19 of 39 : /g/lu/data/imaka/onaga/20200121/sta/reduce/Beehive-W/sta070_o_scan_clean.fits\n",
      "Less than two bright stars found.  Using all stars.\n",
      "Working on image 20 of 39 : /g/lu/data/imaka/onaga/20200121/sta/reduce/Beehive-W/sta072_o_scan_clean.fits\n",
      "Less than two bright stars found.  Using all stars.\n",
      "Working on image 21 of 39 : /g/lu/data/imaka/onaga/20200121/sta/reduce/Beehive-W/sta073_o_scan_clean.fits\n",
      "Less than two bright stars found.  Using all stars.\n",
      "Working on image 22 of 39 : /g/lu/data/imaka/onaga/20200121/sta/reduce/Beehive-W/sta074_o_scan_clean.fits\n",
      "Less than two bright stars found.  Using all stars.\n",
      "Working on image 23 of 39 : /g/lu/data/imaka/onaga/20200121/sta/reduce/Beehive-W/sta075_o_scan_clean.fits\n",
      "Less than two bright stars found.  Using all stars.\n",
      "Working on image 24 of 39 : /g/lu/data/imaka/onaga/20200121/sta/reduce/Beehive-W/sta076_o_scan_clean.fits\n",
      "Less than two bright stars found.  Using all stars.\n",
      "Working on image 25 of 39 : /g/lu/data/imaka/onaga/20200121/sta/reduce/Beehive-W/sta077_o_scan_clean.fits\n",
      "Less than two bright stars found.  Using all stars.\n",
      "Working on image 26 of 39 : /g/lu/data/imaka/onaga/20200121/sta/reduce/Beehive-W/sta079_o_scan_clean.fits\n",
      "Less than two bright stars found.  Using all stars.\n",
      "Working on image 27 of 39 : /g/lu/data/imaka/onaga/20200121/sta/reduce/Beehive-W/sta081_o_scan_clean.fits\n",
      "Less than two bright stars found.  Using all stars.\n",
      "Working on image 28 of 39 : /g/lu/data/imaka/onaga/20200121/sta/reduce/Beehive-W/sta083_o_scan_clean.fits\n",
      "Less than two bright stars found.  Using all stars.\n",
      "Working on image 29 of 39 : /g/lu/data/imaka/onaga/20200121/sta/reduce/Beehive-W/sta085_o_scan_clean.fits\n",
      "Less than two bright stars found.  Using all stars.\n",
      "Working on image 30 of 39 : /g/lu/data/imaka/onaga/20200121/sta/reduce/Beehive-W/sta087_o_scan_clean.fits\n",
      "Less than two bright stars found.  Using all stars.\n",
      "Working on image 31 of 39 : /g/lu/data/imaka/onaga/20200121/sta/reduce/Beehive-W/sta089_o_scan_clean.fits\n",
      "Less than two bright stars found.  Using all stars.\n",
      "Working on image 32 of 39 : /g/lu/data/imaka/onaga/20200121/sta/reduce/Beehive-W/sta091_o_scan_clean.fits\n",
      "Less than two bright stars found.  Using all stars.\n",
      "Working on image 33 of 39 : /g/lu/data/imaka/onaga/20200121/sta/reduce/Beehive-W/sta093_o_scan_clean.fits\n",
      "Less than two bright stars found.  Using all stars.\n",
      "Working on image 34 of 39 : /g/lu/data/imaka/onaga/20200121/sta/reduce/Beehive-W/sta107_o_scan_clean.fits\n",
      "Less than two bright stars found.  Using all stars.\n",
      "Working on image 35 of 39 : /g/lu/data/imaka/onaga/20200121/sta/reduce/Beehive-W/sta109_o_scan_clean.fits\n",
      "Less than two bright stars found.  Using all stars.\n",
      "Working on image 36 of 39 : /g/lu/data/imaka/onaga/20200121/sta/reduce/Beehive-W/sta111_o_scan_clean.fits\n",
      "Less than two bright stars found.  Using all stars.\n",
      "Working on image 37 of 39 : /g/lu/data/imaka/onaga/20200121/sta/reduce/Beehive-W/sta113_o_scan_clean.fits\n",
      "Less than two bright stars found.  Using all stars.\n",
      "Working on image 38 of 39 : /g/lu/data/imaka/onaga/20200121/sta/reduce/Beehive-W/sta115_o_scan_clean.fits\n",
      "Less than two bright stars found.  Using all stars.\n",
      "Working on image:  /g/lu/data/imaka/onaga/20200121/sta/reduce/Beehive-W/sta008x10LS5WFS_c_scan_clean.fits\n",
      "Working on image:  /g/lu/data/imaka/onaga/20200121/sta/reduce/Beehive-W/sta036x10LS5WFS_c_scan_clean.fits\n",
      "Working on image:  /g/lu/data/imaka/onaga/20200121/sta/reduce/Beehive-W/sta037x10LS5WFS_c_scan_clean.fits\n",
      "Working on image:  /g/lu/data/imaka/onaga/20200121/sta/reduce/Beehive-W/sta039x10LS5WFS_c_scan_clean.fits\n",
      "Working on image:  /g/lu/data/imaka/onaga/20200121/sta/reduce/Beehive-W/sta041x10LS5WFS_c_scan_clean.fits\n",
      "Working on image:  /g/lu/data/imaka/onaga/20200121/sta/reduce/Beehive-W/sta043x10LS5WFS_c_scan_clean.fits\n",
      "Working on image:  /g/lu/data/imaka/onaga/20200121/sta/reduce/Beehive-W/sta045x10LS5WFS_c_scan_clean.fits\n",
      "Working on image:  /g/lu/data/imaka/onaga/20200121/sta/reduce/Beehive-W/sta047x10LS5WFS_c_scan_clean.fits\n",
      "Working on image:  /g/lu/data/imaka/onaga/20200121/sta/reduce/Beehive-W/sta049x10LS5WFS_c_scan_clean.fits\n",
      "Working on image:  /g/lu/data/imaka/onaga/20200121/sta/reduce/Beehive-W/sta051x10LS5WFS_c_scan_clean.fits\n",
      "Working on image:  /g/lu/data/imaka/onaga/20200121/sta/reduce/Beehive-W/sta053x10LS5WFS_c_scan_clean.fits\n",
      "Working on image:  /g/lu/data/imaka/onaga/20200121/sta/reduce/Beehive-W/sta057x10LS5WFS_c_scan_clean.fits\n",
      "Working on image:  /g/lu/data/imaka/onaga/20200121/sta/reduce/Beehive-W/sta060x10LS5WFS_c_scan_clean.fits\n",
      "Working on image:  /g/lu/data/imaka/onaga/20200121/sta/reduce/Beehive-W/sta061x10LS5WFS_c_scan_clean.fits\n",
      "Working on image:  /g/lu/data/imaka/onaga/20200121/sta/reduce/Beehive-W/sta062x10LS5WFS_c_scan_clean.fits\n",
      "Working on image:  /g/lu/data/imaka/onaga/20200121/sta/reduce/Beehive-W/sta064x10LS5WFS_c_scan_clean.fits\n",
      "Working on image:  /g/lu/data/imaka/onaga/20200121/sta/reduce/Beehive-W/sta066x10LS5WFS_c_scan_clean.fits\n",
      "Working on image:  /g/lu/data/imaka/onaga/20200121/sta/reduce/Beehive-W/sta069x10LS5WFS_c_scan_clean.fits\n",
      "Working on image:  /g/lu/data/imaka/onaga/20200121/sta/reduce/Beehive-W/sta071x10LS5WFS_c_scan_clean.fits\n",
      "Working on image:  /g/lu/data/imaka/onaga/20200121/sta/reduce/Beehive-W/sta078x10LS5WFS_c_scan_clean.fits\n",
      "Working on image:  /g/lu/data/imaka/onaga/20200121/sta/reduce/Beehive-W/sta080x10LS5WFS_c_scan_clean.fits\n",
      "Working on image:  /g/lu/data/imaka/onaga/20200121/sta/reduce/Beehive-W/sta082x10LS5WFS_c_scan_clean.fits\n"
     ]
    },
    {
     "name": "stdout",
     "output_type": "stream",
     "text": [
      "Working on image:  /g/lu/data/imaka/onaga/20200121/sta/reduce/Beehive-W/sta084x10LS5WFS_c_scan_clean.fits\n",
      "Working on image:  /g/lu/data/imaka/onaga/20200121/sta/reduce/Beehive-W/sta086x10LS5WFS_c_scan_clean.fits\n",
      "Working on image:  /g/lu/data/imaka/onaga/20200121/sta/reduce/Beehive-W/sta088x10LS5WFS_c_scan_clean.fits\n",
      "Working on image:  /g/lu/data/imaka/onaga/20200121/sta/reduce/Beehive-W/sta090x10LS5WFS_c_scan_clean.fits\n",
      "Working on image:  /g/lu/data/imaka/onaga/20200121/sta/reduce/Beehive-W/sta092x10LS5WFS_c_scan_clean.fits\n",
      "Working on image:  /g/lu/data/imaka/onaga/20200121/sta/reduce/Beehive-W/sta106x10LS5WFS_c_scan_clean.fits\n",
      "Working on image:  /g/lu/data/imaka/onaga/20200121/sta/reduce/Beehive-W/sta108x10LS5WFS_c_scan_clean.fits\n",
      "Working on image:  /g/lu/data/imaka/onaga/20200121/sta/reduce/Beehive-W/sta110x10LS5WFS_c_scan_clean.fits\n",
      "Working on image:  /g/lu/data/imaka/onaga/20200121/sta/reduce/Beehive-W/sta112x10LS5WFS_c_scan_clean.fits\n",
      "Working on image:  /g/lu/data/imaka/onaga/20200121/sta/reduce/Beehive-W/sta114x10LS5WFS_c_scan_clean.fits\n",
      "Working on image 0 of 32 : /g/lu/data/imaka/onaga/20200121/sta/reduce/Beehive-W/sta008x10LS5WFS_c_scan_clean.fits\n",
      "Less than two bright stars found.  Using all stars.\n",
      "Working on image 1 of 32 : /g/lu/data/imaka/onaga/20200121/sta/reduce/Beehive-W/sta036x10LS5WFS_c_scan_clean.fits\n",
      "Less than two bright stars found.  Using all stars.\n",
      "Working on image 2 of 32 : /g/lu/data/imaka/onaga/20200121/sta/reduce/Beehive-W/sta037x10LS5WFS_c_scan_clean.fits\n",
      "Less than two bright stars found.  Using all stars.\n",
      "Working on image 3 of 32 : /g/lu/data/imaka/onaga/20200121/sta/reduce/Beehive-W/sta039x10LS5WFS_c_scan_clean.fits\n",
      "Less than two bright stars found.  Using all stars.\n",
      "Working on image 4 of 32 : /g/lu/data/imaka/onaga/20200121/sta/reduce/Beehive-W/sta041x10LS5WFS_c_scan_clean.fits\n",
      "Less than two bright stars found.  Using all stars.\n",
      "Working on image 5 of 32 : /g/lu/data/imaka/onaga/20200121/sta/reduce/Beehive-W/sta043x10LS5WFS_c_scan_clean.fits\n",
      "Less than two bright stars found.  Using all stars.\n",
      "Working on image 6 of 32 : /g/lu/data/imaka/onaga/20200121/sta/reduce/Beehive-W/sta045x10LS5WFS_c_scan_clean.fits\n",
      "Less than two bright stars found.  Using all stars.\n",
      "Working on image 7 of 32 : /g/lu/data/imaka/onaga/20200121/sta/reduce/Beehive-W/sta047x10LS5WFS_c_scan_clean.fits\n",
      "Less than two bright stars found.  Using all stars.\n",
      "Working on image 8 of 32 : /g/lu/data/imaka/onaga/20200121/sta/reduce/Beehive-W/sta049x10LS5WFS_c_scan_clean.fits\n",
      "Less than two bright stars found.  Using all stars.\n",
      "Working on image 9 of 32 : /g/lu/data/imaka/onaga/20200121/sta/reduce/Beehive-W/sta051x10LS5WFS_c_scan_clean.fits\n",
      "Less than two bright stars found.  Using all stars.\n",
      "Working on image 10 of 32 : /g/lu/data/imaka/onaga/20200121/sta/reduce/Beehive-W/sta053x10LS5WFS_c_scan_clean.fits\n",
      "Less than two bright stars found.  Using all stars.\n",
      "Working on image 11 of 32 : /g/lu/data/imaka/onaga/20200121/sta/reduce/Beehive-W/sta057x10LS5WFS_c_scan_clean.fits\n",
      "Less than two bright stars found.  Using all stars.\n",
      "Working on image 12 of 32 : /g/lu/data/imaka/onaga/20200121/sta/reduce/Beehive-W/sta060x10LS5WFS_c_scan_clean.fits\n",
      "Less than two bright stars found.  Using all stars.\n",
      "Working on image 13 of 32 : /g/lu/data/imaka/onaga/20200121/sta/reduce/Beehive-W/sta061x10LS5WFS_c_scan_clean.fits\n",
      "Less than two bright stars found.  Using all stars.\n",
      "Working on image 14 of 32 : /g/lu/data/imaka/onaga/20200121/sta/reduce/Beehive-W/sta062x10LS5WFS_c_scan_clean.fits\n",
      "Less than two bright stars found.  Using all stars.\n",
      "Working on image 15 of 32 : /g/lu/data/imaka/onaga/20200121/sta/reduce/Beehive-W/sta064x10LS5WFS_c_scan_clean.fits\n",
      "Less than two bright stars found.  Using all stars.\n",
      "Working on image 16 of 32 : /g/lu/data/imaka/onaga/20200121/sta/reduce/Beehive-W/sta066x10LS5WFS_c_scan_clean.fits\n",
      "Less than two bright stars found.  Using all stars.\n",
      "Working on image 17 of 32 : /g/lu/data/imaka/onaga/20200121/sta/reduce/Beehive-W/sta069x10LS5WFS_c_scan_clean.fits\n",
      "Less than two bright stars found.  Using all stars.\n",
      "Working on image 18 of 32 : /g/lu/data/imaka/onaga/20200121/sta/reduce/Beehive-W/sta071x10LS5WFS_c_scan_clean.fits\n",
      "Less than two bright stars found.  Using all stars.\n",
      "Working on image 19 of 32 : /g/lu/data/imaka/onaga/20200121/sta/reduce/Beehive-W/sta078x10LS5WFS_c_scan_clean.fits\n",
      "Less than two bright stars found.  Using all stars.\n",
      "Working on image 20 of 32 : /g/lu/data/imaka/onaga/20200121/sta/reduce/Beehive-W/sta080x10LS5WFS_c_scan_clean.fits\n",
      "Less than two bright stars found.  Using all stars.\n",
      "Working on image 21 of 32 : /g/lu/data/imaka/onaga/20200121/sta/reduce/Beehive-W/sta082x10LS5WFS_c_scan_clean.fits\n",
      "Less than two bright stars found.  Using all stars.\n",
      "Working on image 22 of 32 : /g/lu/data/imaka/onaga/20200121/sta/reduce/Beehive-W/sta084x10LS5WFS_c_scan_clean.fits\n",
      "Less than two bright stars found.  Using all stars.\n",
      "Working on image 23 of 32 : /g/lu/data/imaka/onaga/20200121/sta/reduce/Beehive-W/sta086x10LS5WFS_c_scan_clean.fits\n",
      "Less than two bright stars found.  Using all stars.\n",
      "Working on image 24 of 32 : /g/lu/data/imaka/onaga/20200121/sta/reduce/Beehive-W/sta088x10LS5WFS_c_scan_clean.fits\n",
      "Less than two bright stars found.  Using all stars.\n",
      "Working on image 25 of 32 : /g/lu/data/imaka/onaga/20200121/sta/reduce/Beehive-W/sta090x10LS5WFS_c_scan_clean.fits\n",
      "Less than two bright stars found.  Using all stars.\n",
      "Working on image 26 of 32 : /g/lu/data/imaka/onaga/20200121/sta/reduce/Beehive-W/sta092x10LS5WFS_c_scan_clean.fits\n",
      "Less than two bright stars found.  Using all stars.\n",
      "Working on image 27 of 32 : /g/lu/data/imaka/onaga/20200121/sta/reduce/Beehive-W/sta106x10LS5WFS_c_scan_clean.fits\n",
      "Less than two bright stars found.  Using all stars.\n",
      "Working on image 28 of 32 : /g/lu/data/imaka/onaga/20200121/sta/reduce/Beehive-W/sta108x10LS5WFS_c_scan_clean.fits\n",
      "Less than two bright stars found.  Using all stars.\n",
      "Working on image 29 of 32 : /g/lu/data/imaka/onaga/20200121/sta/reduce/Beehive-W/sta110x10LS5WFS_c_scan_clean.fits\n",
      "Less than two bright stars found.  Using all stars.\n",
      "Working on image 30 of 32 : /g/lu/data/imaka/onaga/20200121/sta/reduce/Beehive-W/sta112x10LS5WFS_c_scan_clean.fits\n",
      "Less than two bright stars found.  Using all stars.\n",
      "Working on image 31 of 32 : /g/lu/data/imaka/onaga/20200121/sta/reduce/Beehive-W/sta114x10LS5WFS_c_scan_clean.fits\n",
      "Less than two bright stars found.  Using all stars.\n",
      "Attempting match with 16 and 16 stars from starlist1 and starlist2\n",
      "Begin initial match\n",
      "7 stars matched between starlist1 and starlist2\n",
      "End initial match \n",
      "\n",
      "    Found 0 duplicates out of 16 matches\n",
      "16 of 16 stars matched\n",
      "16 stars used in transform\n",
      "\n",
      "    Found 0 duplicates out of 16 matches\n",
      "16 of 16 stars matched\n",
      "Attempting match with 12 and 16 stars from starlist1 and starlist2\n",
      "Begin initial match\n",
      "3 stars matched between starlist1 and starlist2\n",
      "End initial match \n",
      "\n",
      "    Found 0 duplicates out of 5 matches\n",
      "5 of 12 stars matched\n",
      "5 stars used in transform\n",
      "\n",
      "    Found 0 duplicates out of 7 matches\n",
      "7 of 12 stars matched\n",
      "Attempting match with 11 and 16 stars from starlist1 and starlist2\n",
      "Begin initial match\n",
      "3 stars matched between starlist1 and starlist2\n",
      "End initial match \n",
      "\n",
      "    Found 0 duplicates out of 3 matches\n",
      "3 of 11 stars matched\n",
      "3 stars used in transform\n",
      "\n",
      "    Found 0 duplicates out of 3 matches\n",
      "3 of 11 stars matched\n",
      "Attempting match with 23 and 16 stars from starlist1 and starlist2\n",
      "Begin initial match\n",
      "0 stars matched between starlist1 and starlist2\n",
      "End initial match \n",
      "\n",
      "    Found 0 duplicates out of 0 matches\n",
      "0 of 23 stars matched\n",
      "0 stars used in transform\n",
      "\n",
      "    Found 0 duplicates out of 0 matches\n",
      "0 of 23 stars matched\n",
      "Attempting match with 22 and 16 stars from starlist1 and starlist2\n",
      "Begin initial match\n",
      "0 stars matched between starlist1 and starlist2\n",
      "End initial match \n",
      "\n",
      "    Found 0 duplicates out of 0 matches\n",
      "0 of 22 stars matched\n",
      "0 stars used in transform\n",
      "\n",
      "    Found 0 duplicates out of 0 matches\n",
      "0 of 22 stars matched\n",
      "Attempting match with 26 and 16 stars from starlist1 and starlist2\n",
      "Begin initial match\n",
      "0 stars matched between starlist1 and starlist2\n",
      "End initial match \n",
      "\n",
      "    Found 0 duplicates out of 0 matches\n",
      "0 of 26 stars matched\n",
      "0 stars used in transform\n",
      "\n",
      "    Found 0 duplicates out of 0 matches\n",
      "0 of 26 stars matched\n",
      "Attempting match with 29 and 16 stars from starlist1 and starlist2\n",
      "Begin initial match\n",
      "0 stars matched between starlist1 and starlist2\n",
      "End initial match \n",
      "\n",
      "    Found 0 duplicates out of 0 matches\n",
      "0 of 29 stars matched\n",
      "0 stars used in transform\n",
      "\n",
      "    Found 0 duplicates out of 0 matches\n",
      "0 of 29 stars matched\n",
      "Attempting match with 25 and 16 stars from starlist1 and starlist2\n",
      "Begin initial match\n",
      "0 stars matched between starlist1 and starlist2\n",
      "End initial match \n",
      "\n",
      "    Found 0 duplicates out of 0 matches\n",
      "0 of 25 stars matched\n",
      "0 stars used in transform\n",
      "\n",
      "    Found 0 duplicates out of 0 matches\n",
      "0 of 25 stars matched\n",
      "Attempting match with 42 and 16 stars from starlist1 and starlist2\n",
      "Begin initial match\n",
      "0 stars matched between starlist1 and starlist2\n",
      "End initial match \n",
      "\n",
      "    Found 0 duplicates out of 0 matches\n",
      "0 of 42 stars matched\n",
      "0 stars used in transform\n",
      "\n",
      "    Found 0 duplicates out of 0 matches\n",
      "0 of 42 stars matched\n",
      "Attempting match with 44 and 16 stars from starlist1 and starlist2\n",
      "Begin initial match\n",
      "0 stars matched between starlist1 and starlist2\n",
      "End initial match \n",
      "\n",
      "    Found 0 duplicates out of 0 matches\n",
      "0 of 44 stars matched\n",
      "0 stars used in transform\n",
      "\n",
      "    Found 0 duplicates out of 0 matches\n",
      "0 of 44 stars matched\n",
      "Attempting match with 43 and 16 stars from starlist1 and starlist2\n",
      "Begin initial match\n",
      "0 stars matched between starlist1 and starlist2\n",
      "End initial match \n"
     ]
    },
    {
     "name": "stderr",
     "output_type": "stream",
     "text": [
      "/opt/anaconda3/envs/astroconda/lib/python3.7/site-packages/numpy/lib/function_base.py:390: RuntimeWarning: Mean of empty slice.\n",
      "  avg = a.mean(axis)\n",
      "/opt/anaconda3/envs/astroconda/lib/python3.7/site-packages/numpy/core/_methods.py:161: RuntimeWarning: invalid value encountered in double_scalars\n",
      "  ret = ret.dtype.type(ret / rcount)\n",
      "/opt/anaconda3/envs/astroconda/lib/python3.7/site-packages/numpy/core/_methods.py:217: RuntimeWarning: Degrees of freedom <= 0 for slice\n",
      "  keepdims=keepdims)\n",
      "/opt/anaconda3/envs/astroconda/lib/python3.7/site-packages/numpy/core/_methods.py:186: RuntimeWarning: invalid value encountered in true_divide\n",
      "  arrmean, rcount, out=arrmean, casting='unsafe', subok=False)\n",
      "/opt/anaconda3/envs/astroconda/lib/python3.7/site-packages/numpy/core/_methods.py:209: RuntimeWarning: invalid value encountered in double_scalars\n",
      "  ret = ret.dtype.type(ret / rcount)\n"
     ]
    },
    {
     "name": "stdout",
     "output_type": "stream",
     "text": [
      "\n",
      "    Found 0 duplicates out of 0 matches\n",
      "0 of 43 stars matched\n",
      "0 stars used in transform\n",
      "\n",
      "    Found 0 duplicates out of 0 matches\n",
      "0 of 43 stars matched\n",
      "Attempting match with 42 and 16 stars from starlist1 and starlist2\n",
      "Begin initial match\n",
      "0 stars matched between starlist1 and starlist2\n",
      "End initial match \n",
      "\n",
      "    Found 0 duplicates out of 0 matches\n",
      "0 of 42 stars matched\n",
      "0 stars used in transform\n",
      "\n",
      "    Found 0 duplicates out of 0 matches\n",
      "0 of 42 stars matched\n",
      "Attempting match with 41 and 16 stars from starlist1 and starlist2\n",
      "Begin initial match\n",
      "0 stars matched between starlist1 and starlist2\n",
      "End initial match \n",
      "\n",
      "    Found 0 duplicates out of 0 matches\n",
      "0 of 41 stars matched\n",
      "0 stars used in transform\n",
      "\n",
      "    Found 0 duplicates out of 0 matches\n",
      "0 of 41 stars matched\n",
      "Attempting match with 7 and 16 stars from starlist1 and starlist2\n",
      "Begin initial match\n",
      "0 stars matched between starlist1 and starlist2\n",
      "End initial match \n",
      "\n",
      "    Found 0 duplicates out of 0 matches\n",
      "0 of 7 stars matched\n",
      "0 stars used in transform\n",
      "\n",
      "    Found 0 duplicates out of 0 matches\n",
      "0 of 7 stars matched\n",
      "Attempting match with 7 and 16 stars from starlist1 and starlist2\n",
      "Begin initial match\n",
      "0 stars matched between starlist1 and starlist2\n",
      "End initial match \n",
      "\n",
      "    Found 0 duplicates out of 0 matches\n",
      "0 of 7 stars matched\n",
      "0 stars used in transform\n",
      "\n",
      "    Found 0 duplicates out of 0 matches\n",
      "0 of 7 stars matched\n",
      "Attempting match with 22 and 16 stars from starlist1 and starlist2\n",
      "Begin initial match\n",
      "0 stars matched between starlist1 and starlist2\n",
      "End initial match \n",
      "\n",
      "    Found 0 duplicates out of 0 matches\n",
      "0 of 22 stars matched\n",
      "0 stars used in transform\n",
      "\n",
      "    Found 0 duplicates out of 0 matches\n",
      "0 of 22 stars matched\n",
      "Attempting match with 25 and 16 stars from starlist1 and starlist2\n",
      "Begin initial match\n",
      "0 stars matched between starlist1 and starlist2\n",
      "End initial match \n",
      "\n",
      "    Found 0 duplicates out of 0 matches\n",
      "0 of 25 stars matched\n",
      "0 stars used in transform\n",
      "\n",
      "    Found 0 duplicates out of 0 matches\n",
      "0 of 25 stars matched\n",
      "Attempting match with 23 and 16 stars from starlist1 and starlist2\n",
      "Begin initial match\n",
      "0 stars matched between starlist1 and starlist2\n",
      "End initial match \n",
      "\n",
      "    Found 0 duplicates out of 0 matches\n",
      "0 of 23 stars matched\n",
      "0 stars used in transform\n",
      "\n",
      "    Found 0 duplicates out of 0 matches\n",
      "0 of 23 stars matched\n",
      "Attempting match with 15 and 16 stars from starlist1 and starlist2\n",
      "Begin initial match\n",
      "4 stars matched between starlist1 and starlist2\n",
      "End initial match \n",
      "\n",
      "    Found 0 duplicates out of 4 matches\n",
      "4 of 15 stars matched\n",
      "4 stars used in transform\n",
      "\n",
      "    Found 0 duplicates out of 4 matches\n",
      "4 of 15 stars matched\n",
      "Attempting match with 26 and 16 stars from starlist1 and starlist2\n",
      "Begin initial match\n",
      "3 stars matched between starlist1 and starlist2\n",
      "End initial match \n",
      "\n",
      "    Found 0 duplicates out of 0 matches\n",
      "0 of 26 stars matched\n",
      "0 stars used in transform\n",
      "\n",
      "    Found 0 duplicates out of 0 matches\n",
      "0 of 26 stars matched\n",
      "Attempting match with 23 and 16 stars from starlist1 and starlist2\n",
      "Begin initial match\n",
      "5 stars matched between starlist1 and starlist2\n",
      "End initial match \n",
      "\n",
      "    Found 0 duplicates out of 0 matches\n",
      "0 of 23 stars matched\n",
      "0 stars used in transform\n",
      "\n",
      "    Found 0 duplicates out of 0 matches\n",
      "0 of 23 stars matched\n",
      "Attempting match with 22 and 16 stars from starlist1 and starlist2\n",
      "Begin initial match\n",
      "5 stars matched between starlist1 and starlist2\n",
      "End initial match \n",
      "\n",
      "    Found 0 duplicates out of 7 matches\n",
      "7 of 22 stars matched\n",
      "7 stars used in transform\n",
      "\n",
      "    Found 0 duplicates out of 8 matches\n",
      "8 of 22 stars matched\n",
      "Attempting match with 20 and 16 stars from starlist1 and starlist2\n",
      "Begin initial match\n",
      "5 stars matched between starlist1 and starlist2\n",
      "End initial match \n",
      "\n",
      "    Found 0 duplicates out of 6 matches\n",
      "6 of 20 stars matched\n",
      "6 stars used in transform\n",
      "\n",
      "    Found 0 duplicates out of 7 matches\n",
      "7 of 20 stars matched\n",
      "Attempting match with 21 and 16 stars from starlist1 and starlist2\n",
      "Begin initial match\n",
      "5 stars matched between starlist1 and starlist2\n",
      "End initial match \n",
      "\n",
      "    Found 0 duplicates out of 2 matches\n",
      "2 of 21 stars matched\n",
      "2 stars used in transform\n",
      "\n",
      "    Found 0 duplicates out of 2 matches\n",
      "2 of 21 stars matched\n",
      "Attempting match with 20 and 16 stars from starlist1 and starlist2\n",
      "Begin initial match\n",
      "5 stars matched between starlist1 and starlist2\n",
      "End initial match \n",
      "\n",
      "    Found 0 duplicates out of 6 matches\n",
      "6 of 20 stars matched\n",
      "6 stars used in transform\n",
      "\n",
      "    Found 0 duplicates out of 5 matches\n",
      "5 of 20 stars matched\n",
      "Attempting match with 11 and 16 stars from starlist1 and starlist2\n",
      "Begin initial match\n",
      "3 stars matched between starlist1 and starlist2\n",
      "End initial match \n",
      "\n",
      "    Found 0 duplicates out of 3 matches\n",
      "3 of 11 stars matched\n",
      "3 stars used in transform\n",
      "\n",
      "    Found 0 duplicates out of 4 matches\n",
      "4 of 11 stars matched\n",
      "Attempting match with 27 and 16 stars from starlist1 and starlist2\n",
      "Begin initial match\n",
      "0 stars matched between starlist1 and starlist2\n",
      "End initial match \n",
      "\n",
      "    Found 0 duplicates out of 0 matches\n",
      "0 of 27 stars matched\n",
      "0 stars used in transform\n",
      "\n",
      "    Found 0 duplicates out of 0 matches\n",
      "0 of 27 stars matched\n",
      "Attempting match with 26 and 16 stars from starlist1 and starlist2\n",
      "Begin initial match\n",
      "3 stars matched between starlist1 and starlist2\n",
      "End initial match \n",
      "\n",
      "    Found 0 duplicates out of 0 matches\n",
      "0 of 26 stars matched\n",
      "0 stars used in transform\n",
      "\n",
      "    Found 0 duplicates out of 0 matches\n",
      "0 of 26 stars matched\n",
      "Attempting match with 20 and 16 stars from starlist1 and starlist2\n",
      "Begin initial match\n",
      "0 stars matched between starlist1 and starlist2\n",
      "End initial match \n",
      "\n",
      "    Found 0 duplicates out of 0 matches\n",
      "0 of 20 stars matched\n",
      "0 stars used in transform\n",
      "\n",
      "    Found 0 duplicates out of 0 matches\n",
      "0 of 20 stars matched\n",
      "Attempting match with 17 and 16 stars from starlist1 and starlist2\n",
      "Begin initial match\n",
      "0 stars matched between starlist1 and starlist2\n",
      "End initial match \n",
      "\n",
      "    Found 0 duplicates out of 0 matches\n",
      "0 of 17 stars matched\n",
      "0 stars used in transform\n",
      "\n",
      "    Found 0 duplicates out of 0 matches\n",
      "0 of 17 stars matched\n",
      "Attempting match with 17 and 16 stars from starlist1 and starlist2\n",
      "Begin initial match\n",
      "0 stars matched between starlist1 and starlist2\n",
      "End initial match \n",
      "\n",
      "    Found 0 duplicates out of 0 matches\n",
      "0 of 17 stars matched\n",
      "0 stars used in transform\n",
      "\n",
      "    Found 0 duplicates out of 0 matches\n",
      "0 of 17 stars matched\n",
      "Attempting match with 18 and 16 stars from starlist1 and starlist2\n",
      "Begin initial match\n",
      "0 stars matched between starlist1 and starlist2\n",
      "End initial match \n",
      "\n",
      "    Found 0 duplicates out of 0 matches\n",
      "0 of 18 stars matched\n",
      "0 stars used in transform\n",
      "\n",
      "    Found 0 duplicates out of 0 matches\n",
      "0 of 18 stars matched\n",
      "Attempting match with 18 and 16 stars from starlist1 and starlist2\n",
      "Begin initial match\n",
      "0 stars matched between starlist1 and starlist2\n",
      "End initial match \n",
      "\n",
      "    Found 0 duplicates out of 0 matches\n",
      "0 of 18 stars matched\n",
      "0 stars used in transform\n",
      "\n",
      "    Found 0 duplicates out of 0 matches\n",
      "0 of 18 stars matched\n",
      "Attempting match with 17 and 16 stars from starlist1 and starlist2\n",
      "Begin initial match\n",
      "0 stars matched between starlist1 and starlist2\n",
      "End initial match \n",
      "\n",
      "    Found 0 duplicates out of 0 matches\n",
      "0 of 17 stars matched\n",
      "0 stars used in transform\n",
      "\n",
      "    Found 0 duplicates out of 0 matches\n",
      "0 of 17 stars matched\n",
      "Attempting match with 17 and 16 stars from starlist1 and starlist2\n",
      "Begin initial match\n",
      "0 stars matched between starlist1 and starlist2\n",
      "End initial match \n",
      "\n",
      "    Found 0 duplicates out of 0 matches\n",
      "0 of 17 stars matched\n",
      "0 stars used in transform\n",
      "\n",
      "    Found 0 duplicates out of 0 matches\n",
      "0 of 17 stars matched\n",
      "Attempting match with 18 and 16 stars from starlist1 and starlist2\n",
      "Begin initial match\n",
      "0 stars matched between starlist1 and starlist2\n",
      "End initial match \n",
      "\n",
      "    Found 0 duplicates out of 0 matches\n",
      "0 of 18 stars matched\n",
      "0 stars used in transform\n",
      "\n",
      "    Found 0 duplicates out of 0 matches\n",
      "0 of 18 stars matched\n",
      "Attempting match with 17 and 16 stars from starlist1 and starlist2\n",
      "Begin initial match\n",
      "0 stars matched between starlist1 and starlist2\n",
      "End initial match \n",
      "\n",
      "    Found 0 duplicates out of 0 matches\n",
      "0 of 17 stars matched\n",
      "0 stars used in transform\n",
      "\n",
      "    Found 0 duplicates out of 0 matches\n",
      "0 of 17 stars matched\n",
      "Attempting match with 19 and 16 stars from starlist1 and starlist2\n",
      "Begin initial match\n",
      "0 stars matched between starlist1 and starlist2\n",
      "End initial match \n",
      "\n",
      "    Found 0 duplicates out of 0 matches\n",
      "0 of 19 stars matched\n",
      "0 stars used in transform\n",
      "\n",
      "    Found 0 duplicates out of 0 matches\n",
      "0 of 19 stars matched\n"
     ]
    },
    {
     "name": "stdout",
     "output_type": "stream",
     "text": [
      "Attempting match with 18 and 16 stars from starlist1 and starlist2\n",
      "Begin initial match\n",
      "0 stars matched between starlist1 and starlist2\n",
      "End initial match \n",
      "\n",
      "    Found 0 duplicates out of 0 matches\n",
      "0 of 18 stars matched\n",
      "0 stars used in transform\n",
      "\n",
      "    Found 0 duplicates out of 0 matches\n",
      "0 of 18 stars matched\n",
      "Attempting match with 16 and 14 stars from starlist1 and starlist2\n",
      "Begin initial match\n",
      "6 stars matched between starlist1 and starlist2\n",
      "End initial match \n",
      "\n",
      "    Found 0 duplicates out of 14 matches\n",
      "14 of 16 stars matched\n",
      "14 stars used in transform\n",
      "\n",
      "    Found 0 duplicates out of 14 matches\n",
      "14 of 16 stars matched\n",
      "Attempting match with 12 and 14 stars from starlist1 and starlist2\n",
      "Begin initial match\n",
      "4 stars matched between starlist1 and starlist2\n",
      "End initial match \n",
      "\n",
      "    Found 0 duplicates out of 7 matches\n",
      "7 of 12 stars matched\n",
      "7 stars used in transform\n",
      "\n",
      "    Found 0 duplicates out of 7 matches\n",
      "7 of 12 stars matched\n",
      "Attempting match with 11 and 14 stars from starlist1 and starlist2\n",
      "Begin initial match\n",
      "5 stars matched between starlist1 and starlist2\n",
      "End initial match \n",
      "\n",
      "    Found 0 duplicates out of 4 matches\n",
      "4 of 11 stars matched\n",
      "4 stars used in transform\n",
      "\n",
      "    Found 0 duplicates out of 5 matches\n",
      "5 of 11 stars matched\n",
      "Attempting match with 23 and 14 stars from starlist1 and starlist2\n",
      "Begin initial match\n",
      "3 stars matched between starlist1 and starlist2\n",
      "End initial match \n",
      "\n",
      "    Found 0 duplicates out of 4 matches\n",
      "4 of 23 stars matched\n",
      "4 stars used in transform\n",
      "\n",
      "    Found 0 duplicates out of 4 matches\n",
      "4 of 23 stars matched\n",
      "Attempting match with 22 and 14 stars from starlist1 and starlist2\n",
      "Begin initial match\n",
      "3 stars matched between starlist1 and starlist2\n",
      "End initial match \n",
      "\n",
      "    Found 0 duplicates out of 4 matches\n",
      "4 of 22 stars matched\n",
      "4 stars used in transform\n",
      "\n",
      "    Found 0 duplicates out of 4 matches\n",
      "4 of 22 stars matched\n",
      "Attempting match with 26 and 14 stars from starlist1 and starlist2\n",
      "Begin initial match\n",
      "3 stars matched between starlist1 and starlist2\n",
      "End initial match \n",
      "\n",
      "    Found 0 duplicates out of 4 matches\n",
      "4 of 26 stars matched\n",
      "4 stars used in transform\n",
      "\n",
      "    Found 0 duplicates out of 4 matches\n",
      "4 of 26 stars matched\n",
      "Attempting match with 29 and 14 stars from starlist1 and starlist2\n",
      "Begin initial match\n",
      "3 stars matched between starlist1 and starlist2\n",
      "End initial match \n",
      "\n",
      "    Found 0 duplicates out of 4 matches\n",
      "4 of 29 stars matched\n",
      "4 stars used in transform\n",
      "\n",
      "    Found 0 duplicates out of 4 matches\n",
      "4 of 29 stars matched\n",
      "Attempting match with 25 and 14 stars from starlist1 and starlist2\n",
      "Begin initial match\n",
      "3 stars matched between starlist1 and starlist2\n",
      "End initial match \n",
      "\n",
      "    Found 0 duplicates out of 4 matches\n",
      "4 of 25 stars matched\n",
      "4 stars used in transform\n",
      "\n",
      "    Found 0 duplicates out of 4 matches\n",
      "4 of 25 stars matched\n",
      "Attempting match with 42 and 14 stars from starlist1 and starlist2\n",
      "Begin initial match\n",
      "3 stars matched between starlist1 and starlist2\n",
      "End initial match \n",
      "\n",
      "    Found 0 duplicates out of 4 matches\n",
      "4 of 42 stars matched\n",
      "4 stars used in transform\n",
      "\n",
      "    Found 0 duplicates out of 4 matches\n",
      "4 of 42 stars matched\n",
      "Attempting match with 44 and 14 stars from starlist1 and starlist2\n",
      "Begin initial match\n",
      "3 stars matched between starlist1 and starlist2\n",
      "End initial match \n",
      "\n",
      "    Found 1 duplicates out of 5 matches\n",
      "4 of 44 stars matched\n",
      "4 stars used in transform\n",
      "\n",
      "    Found 1 duplicates out of 5 matches\n",
      "4 of 44 stars matched\n",
      "Attempting match with 43 and 14 stars from starlist1 and starlist2\n",
      "Begin initial match\n",
      "3 stars matched between starlist1 and starlist2\n",
      "End initial match \n",
      "\n",
      "    Found 1 duplicates out of 5 matches\n",
      "4 of 43 stars matched\n",
      "4 stars used in transform\n",
      "\n",
      "    Found 1 duplicates out of 5 matches\n",
      "4 of 43 stars matched\n",
      "Attempting match with 42 and 14 stars from starlist1 and starlist2\n",
      "Begin initial match\n",
      "3 stars matched between starlist1 and starlist2\n",
      "End initial match \n",
      "\n",
      "    Found 0 duplicates out of 4 matches\n",
      "4 of 42 stars matched\n",
      "4 stars used in transform\n",
      "\n",
      "    Found 0 duplicates out of 4 matches\n",
      "4 of 42 stars matched\n",
      "Attempting match with 41 and 14 stars from starlist1 and starlist2\n",
      "Begin initial match\n",
      "3 stars matched between starlist1 and starlist2\n",
      "End initial match \n",
      "\n",
      "    Found 0 duplicates out of 4 matches\n",
      "4 of 41 stars matched\n",
      "4 stars used in transform\n",
      "\n",
      "    Found 0 duplicates out of 4 matches\n",
      "4 of 41 stars matched\n",
      "Attempting match with 7 and 14 stars from starlist1 and starlist2\n",
      "Begin initial match\n",
      "0 stars matched between starlist1 and starlist2\n",
      "End initial match \n",
      "\n",
      "    Found 0 duplicates out of 0 matches\n",
      "0 of 7 stars matched\n",
      "0 stars used in transform\n",
      "\n",
      "    Found 0 duplicates out of 0 matches\n",
      "0 of 7 stars matched\n",
      "Attempting match with 7 and 14 stars from starlist1 and starlist2\n",
      "Begin initial match\n",
      "3 stars matched between starlist1 and starlist2\n",
      "End initial match \n",
      "\n",
      "    Found 0 duplicates out of 3 matches\n",
      "3 of 7 stars matched\n",
      "3 stars used in transform\n",
      "\n",
      "    Found 0 duplicates out of 3 matches\n",
      "3 of 7 stars matched\n",
      "Attempting match with 22 and 14 stars from starlist1 and starlist2\n",
      "Begin initial match\n",
      "0 stars matched between starlist1 and starlist2\n",
      "End initial match \n",
      "\n",
      "    Found 0 duplicates out of 0 matches\n",
      "0 of 22 stars matched\n",
      "0 stars used in transform\n",
      "\n",
      "    Found 0 duplicates out of 0 matches\n",
      "0 of 22 stars matched\n",
      "Attempting match with 25 and 14 stars from starlist1 and starlist2\n",
      "Begin initial match\n",
      "0 stars matched between starlist1 and starlist2\n",
      "End initial match \n",
      "\n",
      "    Found 0 duplicates out of 0 matches\n",
      "0 of 25 stars matched\n",
      "0 stars used in transform\n",
      "\n",
      "    Found 0 duplicates out of 0 matches\n",
      "0 of 25 stars matched\n",
      "Attempting match with 23 and 14 stars from starlist1 and starlist2\n",
      "Begin initial match\n",
      "0 stars matched between starlist1 and starlist2\n",
      "End initial match \n",
      "\n",
      "    Found 0 duplicates out of 0 matches\n",
      "0 of 23 stars matched\n",
      "0 stars used in transform\n",
      "\n",
      "    Found 0 duplicates out of 0 matches\n",
      "0 of 23 stars matched\n",
      "Attempting match with 15 and 14 stars from starlist1 and starlist2\n",
      "Begin initial match\n",
      "5 stars matched between starlist1 and starlist2\n",
      "End initial match \n",
      "\n",
      "    Found 0 duplicates out of 5 matches\n",
      "5 of 15 stars matched\n",
      "5 stars used in transform\n",
      "\n",
      "    Found 0 duplicates out of 5 matches\n",
      "5 of 15 stars matched\n",
      "Attempting match with 26 and 14 stars from starlist1 and starlist2\n",
      "Begin initial match\n",
      "3 stars matched between starlist1 and starlist2\n",
      "End initial match \n",
      "\n",
      "    Found 0 duplicates out of 0 matches\n",
      "0 of 26 stars matched\n",
      "0 stars used in transform\n",
      "\n",
      "    Found 0 duplicates out of 0 matches\n",
      "0 of 26 stars matched\n",
      "Attempting match with 23 and 14 stars from starlist1 and starlist2\n",
      "Begin initial match\n",
      "6 stars matched between starlist1 and starlist2\n",
      "End initial match \n",
      "\n",
      "    Found 0 duplicates out of 0 matches\n",
      "0 of 23 stars matched\n",
      "0 stars used in transform\n",
      "\n",
      "    Found 0 duplicates out of 0 matches\n",
      "0 of 23 stars matched\n",
      "Attempting match with 22 and 14 stars from starlist1 and starlist2\n",
      "Begin initial match\n",
      "5 stars matched between starlist1 and starlist2\n",
      "End initial match \n",
      "\n",
      "    Found 0 duplicates out of 3 matches\n",
      "3 of 22 stars matched\n",
      "3 stars used in transform\n",
      "\n",
      "    Found 0 duplicates out of 8 matches\n",
      "8 of 22 stars matched\n",
      "Attempting match with 20 and 14 stars from starlist1 and starlist2\n",
      "Begin initial match\n",
      "5 stars matched between starlist1 and starlist2\n",
      "End initial match \n",
      "\n",
      "    Found 1 duplicates out of 4 matches\n",
      "3 of 20 stars matched\n",
      "3 stars used in transform\n",
      "\n",
      "    Found 0 duplicates out of 8 matches\n",
      "8 of 20 stars matched\n",
      "Attempting match with 21 and 14 stars from starlist1 and starlist2\n",
      "Begin initial match\n",
      "5 stars matched between starlist1 and starlist2\n",
      "End initial match \n",
      "\n",
      "    Found 0 duplicates out of 0 matches\n",
      "0 of 21 stars matched\n",
      "0 stars used in transform\n",
      "\n",
      "    Found 0 duplicates out of 0 matches\n",
      "0 of 21 stars matched\n",
      "Attempting match with 20 and 14 stars from starlist1 and starlist2\n",
      "Begin initial match\n",
      "5 stars matched between starlist1 and starlist2\n",
      "End initial match \n",
      "\n",
      "    Found 0 duplicates out of 2 matches\n",
      "2 of 20 stars matched\n",
      "2 stars used in transform\n",
      "\n",
      "    Found 0 duplicates out of 4 matches\n",
      "4 of 20 stars matched\n",
      "Attempting match with 11 and 14 stars from starlist1 and starlist2\n",
      "Begin initial match\n",
      "5 stars matched between starlist1 and starlist2\n",
      "End initial match \n",
      "\n",
      "    Found 0 duplicates out of 4 matches\n",
      "4 of 11 stars matched\n",
      "4 stars used in transform\n",
      "\n",
      "    Found 0 duplicates out of 5 matches\n",
      "5 of 11 stars matched\n",
      "Attempting match with 27 and 14 stars from starlist1 and starlist2\n",
      "Begin initial match\n",
      "0 stars matched between starlist1 and starlist2\n",
      "End initial match \n",
      "\n",
      "    Found 0 duplicates out of 0 matches\n",
      "0 of 27 stars matched\n",
      "0 stars used in transform\n",
      "\n",
      "    Found 0 duplicates out of 0 matches\n",
      "0 of 27 stars matched\n",
      "Attempting match with 26 and 14 stars from starlist1 and starlist2\n",
      "Begin initial match\n",
      "3 stars matched between starlist1 and starlist2\n",
      "End initial match \n",
      "\n",
      "    Found 0 duplicates out of 0 matches\n",
      "0 of 26 stars matched\n",
      "0 stars used in transform\n",
      "\n",
      "    Found 0 duplicates out of 0 matches\n",
      "0 of 26 stars matched\n",
      "Attempting match with 20 and 14 stars from starlist1 and starlist2\n",
      "Begin initial match\n",
      "3 stars matched between starlist1 and starlist2\n",
      "End initial match \n",
      "\n",
      "    Found 0 duplicates out of 3 matches\n",
      "3 of 20 stars matched\n",
      "3 stars used in transform\n",
      "\n",
      "    Found 0 duplicates out of 3 matches\n",
      "3 of 20 stars matched\n",
      "Attempting match with 17 and 14 stars from starlist1 and starlist2\n",
      "Begin initial match\n",
      "3 stars matched between starlist1 and starlist2\n",
      "End initial match \n",
      "\n",
      "    Found 0 duplicates out of 3 matches\n",
      "3 of 17 stars matched\n",
      "3 stars used in transform\n",
      "\n",
      "    Found 0 duplicates out of 3 matches\n",
      "3 of 17 stars matched\n",
      "Attempting match with 17 and 14 stars from starlist1 and starlist2\n",
      "Begin initial match\n",
      "3 stars matched between starlist1 and starlist2\n",
      "End initial match \n",
      "\n",
      "    Found 0 duplicates out of 3 matches\n",
      "3 of 17 stars matched\n",
      "3 stars used in transform\n",
      "\n",
      "    Found 0 duplicates out of 3 matches\n",
      "3 of 17 stars matched\n"
     ]
    },
    {
     "name": "stdout",
     "output_type": "stream",
     "text": [
      "Attempting match with 18 and 14 stars from starlist1 and starlist2\n",
      "Begin initial match\n",
      "3 stars matched between starlist1 and starlist2\n",
      "End initial match \n",
      "\n",
      "    Found 0 duplicates out of 3 matches\n",
      "3 of 18 stars matched\n",
      "3 stars used in transform\n",
      "\n",
      "    Found 0 duplicates out of 3 matches\n",
      "3 of 18 stars matched\n",
      "Attempting match with 18 and 14 stars from starlist1 and starlist2\n",
      "Begin initial match\n",
      "3 stars matched between starlist1 and starlist2\n",
      "End initial match \n",
      "\n",
      "    Found 1 duplicates out of 4 matches\n",
      "3 of 18 stars matched\n",
      "3 stars used in transform\n",
      "\n",
      "    Found 1 duplicates out of 4 matches\n",
      "3 of 18 stars matched\n",
      "Attempting match with 17 and 14 stars from starlist1 and starlist2\n",
      "Begin initial match\n",
      "3 stars matched between starlist1 and starlist2\n",
      "End initial match \n",
      "\n",
      "    Found 0 duplicates out of 3 matches\n",
      "3 of 17 stars matched\n",
      "3 stars used in transform\n",
      "\n",
      "    Found 0 duplicates out of 3 matches\n",
      "3 of 17 stars matched\n",
      "Attempting match with 17 and 14 stars from starlist1 and starlist2\n",
      "Begin initial match\n",
      "3 stars matched between starlist1 and starlist2\n",
      "End initial match \n",
      "\n",
      "    Found 0 duplicates out of 2 matches\n",
      "2 of 17 stars matched\n",
      "2 stars used in transform\n",
      "\n",
      "    Found 0 duplicates out of 2 matches\n",
      "2 of 17 stars matched\n",
      "Attempting match with 18 and 14 stars from starlist1 and starlist2\n",
      "Begin initial match\n",
      "3 stars matched between starlist1 and starlist2\n",
      "End initial match \n",
      "\n",
      "    Found 1 duplicates out of 3 matches\n",
      "2 of 18 stars matched\n",
      "2 stars used in transform\n",
      "\n",
      "    Found 1 duplicates out of 4 matches\n",
      "3 of 18 stars matched\n",
      "Attempting match with 17 and 14 stars from starlist1 and starlist2\n",
      "Begin initial match\n",
      "3 stars matched between starlist1 and starlist2\n",
      "End initial match \n",
      "\n",
      "    Found 0 duplicates out of 2 matches\n",
      "2 of 17 stars matched\n",
      "2 stars used in transform\n",
      "\n",
      "    Found 0 duplicates out of 2 matches\n",
      "2 of 17 stars matched\n",
      "Attempting match with 19 and 14 stars from starlist1 and starlist2\n",
      "Begin initial match\n",
      "3 stars matched between starlist1 and starlist2\n",
      "End initial match \n",
      "\n",
      "    Found 1 duplicates out of 3 matches\n",
      "2 of 19 stars matched\n",
      "2 stars used in transform\n",
      "\n",
      "    Found 1 duplicates out of 4 matches\n",
      "3 of 19 stars matched\n",
      "Attempting match with 18 and 14 stars from starlist1 and starlist2\n",
      "Begin initial match\n",
      "3 stars matched between starlist1 and starlist2\n",
      "End initial match \n",
      "\n",
      "    Found 0 duplicates out of 2 matches\n",
      "2 of 18 stars matched\n",
      "2 stars used in transform\n",
      "\n",
      "    Found 0 duplicates out of 2 matches\n",
      "2 of 18 stars matched\n",
      "reduce_STA Shifting image:  /g/lu/data/imaka/onaga/20200121/sta/reduce/Beehive-W/sta003_o_scan_clean.fits\n",
      "reduce_STA Shifting image:  /g/lu/data/imaka/onaga/20200121/sta/reduce/Beehive-W/sta004_o_scan_clean.fits\n",
      "reduce_STA Shifting image:  /g/lu/data/imaka/onaga/20200121/sta/reduce/Beehive-W/sta035_o_scan_clean.fits\n",
      "reduce_STA Shifting image:  /g/lu/data/imaka/onaga/20200121/sta/reduce/Beehive-W/sta038_o_scan_clean.fits\n",
      "reduce_STA Shifting image:  /g/lu/data/imaka/onaga/20200121/sta/reduce/Beehive-W/sta040_o_scan_clean.fits\n",
      "reduce_STA Shifting image:  /g/lu/data/imaka/onaga/20200121/sta/reduce/Beehive-W/sta042_o_scan_clean.fits\n",
      "reduce_STA Shifting image:  /g/lu/data/imaka/onaga/20200121/sta/reduce/Beehive-W/sta044_o_scan_clean.fits\n",
      "reduce_STA Shifting image:  /g/lu/data/imaka/onaga/20200121/sta/reduce/Beehive-W/sta046_o_scan_clean.fits\n",
      "reduce_STA Shifting image:  /g/lu/data/imaka/onaga/20200121/sta/reduce/Beehive-W/sta048_o_scan_clean.fits\n",
      "reduce_STA Shifting image:  /g/lu/data/imaka/onaga/20200121/sta/reduce/Beehive-W/sta050_o_scan_clean.fits\n",
      "reduce_STA Shifting image:  /g/lu/data/imaka/onaga/20200121/sta/reduce/Beehive-W/sta052_o_scan_clean.fits\n",
      "reduce_STA Shifting image:  /g/lu/data/imaka/onaga/20200121/sta/reduce/Beehive-W/sta054_o_scan_clean.fits\n",
      "reduce_STA Shifting image:  /g/lu/data/imaka/onaga/20200121/sta/reduce/Beehive-W/sta056_o_scan_clean.fits\n",
      "reduce_STA Shifting image:  /g/lu/data/imaka/onaga/20200121/sta/reduce/Beehive-W/sta058_o_scan_clean.fits\n",
      "reduce_STA Shifting image:  /g/lu/data/imaka/onaga/20200121/sta/reduce/Beehive-W/sta059_o_scan_clean.fits\n",
      "reduce_STA Shifting image:  /g/lu/data/imaka/onaga/20200121/sta/reduce/Beehive-W/sta063_o_scan_clean.fits\n",
      "reduce_STA Shifting image:  /g/lu/data/imaka/onaga/20200121/sta/reduce/Beehive-W/sta065_o_scan_clean.fits\n",
      "reduce_STA Shifting image:  /g/lu/data/imaka/onaga/20200121/sta/reduce/Beehive-W/sta067_o_scan_clean.fits\n",
      "reduce_STA Shifting image:  /g/lu/data/imaka/onaga/20200121/sta/reduce/Beehive-W/sta068_o_scan_clean.fits\n",
      "reduce_STA Shifting image:  /g/lu/data/imaka/onaga/20200121/sta/reduce/Beehive-W/sta070_o_scan_clean.fits\n",
      "reduce_STA Shifting image:  /g/lu/data/imaka/onaga/20200121/sta/reduce/Beehive-W/sta072_o_scan_clean.fits\n",
      "reduce_STA Shifting image:  /g/lu/data/imaka/onaga/20200121/sta/reduce/Beehive-W/sta073_o_scan_clean.fits\n",
      "reduce_STA Shifting image:  /g/lu/data/imaka/onaga/20200121/sta/reduce/Beehive-W/sta074_o_scan_clean.fits\n",
      "reduce_STA Shifting image:  /g/lu/data/imaka/onaga/20200121/sta/reduce/Beehive-W/sta075_o_scan_clean.fits\n",
      "reduce_STA Shifting image:  /g/lu/data/imaka/onaga/20200121/sta/reduce/Beehive-W/sta076_o_scan_clean.fits\n",
      "reduce_STA Shifting image:  /g/lu/data/imaka/onaga/20200121/sta/reduce/Beehive-W/sta077_o_scan_clean.fits\n",
      "reduce_STA Shifting image:  /g/lu/data/imaka/onaga/20200121/sta/reduce/Beehive-W/sta079_o_scan_clean.fits\n",
      "reduce_STA Shifting image:  /g/lu/data/imaka/onaga/20200121/sta/reduce/Beehive-W/sta081_o_scan_clean.fits\n",
      "reduce_STA Shifting image:  /g/lu/data/imaka/onaga/20200121/sta/reduce/Beehive-W/sta083_o_scan_clean.fits\n",
      "reduce_STA Shifting image:  /g/lu/data/imaka/onaga/20200121/sta/reduce/Beehive-W/sta085_o_scan_clean.fits\n",
      "reduce_STA Shifting image:  /g/lu/data/imaka/onaga/20200121/sta/reduce/Beehive-W/sta087_o_scan_clean.fits\n",
      "reduce_STA Shifting image:  /g/lu/data/imaka/onaga/20200121/sta/reduce/Beehive-W/sta089_o_scan_clean.fits\n",
      "reduce_STA Shifting image:  /g/lu/data/imaka/onaga/20200121/sta/reduce/Beehive-W/sta091_o_scan_clean.fits\n",
      "reduce_STA Shifting image:  /g/lu/data/imaka/onaga/20200121/sta/reduce/Beehive-W/sta093_o_scan_clean.fits\n",
      "reduce_STA Shifting image:  /g/lu/data/imaka/onaga/20200121/sta/reduce/Beehive-W/sta107_o_scan_clean.fits\n",
      "reduce_STA Shifting image:  /g/lu/data/imaka/onaga/20200121/sta/reduce/Beehive-W/sta109_o_scan_clean.fits\n",
      "reduce_STA Shifting image:  /g/lu/data/imaka/onaga/20200121/sta/reduce/Beehive-W/sta111_o_scan_clean.fits\n",
      "reduce_STA Shifting image:  /g/lu/data/imaka/onaga/20200121/sta/reduce/Beehive-W/sta113_o_scan_clean.fits\n",
      "reduce_STA Shifting image:  /g/lu/data/imaka/onaga/20200121/sta/reduce/Beehive-W/sta115_o_scan_clean.fits\n",
      "Attempting match with 30 and 30 stars from starlist1 and starlist2\n",
      "Begin initial match\n",
      "7 stars matched between starlist1 and starlist2\n",
      "End initial match \n",
      "\n",
      "    Found 0 duplicates out of 30 matches\n",
      "30 of 30 stars matched\n",
      "30 stars used in transform\n",
      "\n",
      "    Found 0 duplicates out of 30 matches\n",
      "30 of 30 stars matched\n",
      "Attempting match with 36 and 30 stars from starlist1 and starlist2\n",
      "Begin initial match\n",
      "7 stars matched between starlist1 and starlist2\n",
      "End initial match \n",
      "\n",
      "    Found 0 duplicates out of 28 matches\n",
      "28 of 36 stars matched\n",
      "28 stars used in transform\n",
      "\n",
      "    Found 0 duplicates out of 28 matches\n",
      "28 of 36 stars matched\n",
      "Attempting match with 21 and 30 stars from starlist1 and starlist2\n",
      "Begin initial match\n",
      "7 stars matched between starlist1 and starlist2\n",
      "End initial match \n",
      "\n",
      "    Found 0 duplicates out of 20 matches\n",
      "20 of 21 stars matched\n",
      "20 stars used in transform\n",
      "\n",
      "    Found 0 duplicates out of 20 matches\n",
      "20 of 21 stars matched\n",
      "Attempting match with 19 and 30 stars from starlist1 and starlist2\n",
      "Begin initial match\n",
      "7 stars matched between starlist1 and starlist2\n",
      "End initial match \n",
      "\n",
      "    Found 0 duplicates out of 18 matches\n",
      "18 of 19 stars matched\n",
      "18 stars used in transform\n",
      "\n",
      "    Found 0 duplicates out of 18 matches\n",
      "18 of 19 stars matched\n",
      "Attempting match with 21 and 30 stars from starlist1 and starlist2\n",
      "Begin initial match\n",
      "7 stars matched between starlist1 and starlist2\n",
      "End initial match \n",
      "\n",
      "    Found 0 duplicates out of 20 matches\n",
      "20 of 21 stars matched\n",
      "20 stars used in transform\n",
      "\n",
      "    Found 0 duplicates out of 20 matches\n",
      "20 of 21 stars matched\n",
      "Attempting match with 21 and 30 stars from starlist1 and starlist2\n",
      "Begin initial match\n",
      "7 stars matched between starlist1 and starlist2\n",
      "End initial match \n",
      "\n",
      "    Found 0 duplicates out of 20 matches\n",
      "20 of 21 stars matched\n",
      "20 stars used in transform\n",
      "\n",
      "    Found 0 duplicates out of 21 matches\n",
      "21 of 21 stars matched\n",
      "Attempting match with 18 and 30 stars from starlist1 and starlist2\n",
      "Begin initial match\n",
      "7 stars matched between starlist1 and starlist2\n",
      "End initial match \n",
      "\n",
      "    Found 0 duplicates out of 14 matches\n",
      "14 of 18 stars matched\n",
      "14 stars used in transform\n",
      "\n",
      "    Found 0 duplicates out of 15 matches\n",
      "15 of 18 stars matched\n",
      "Attempting match with 38 and 30 stars from starlist1 and starlist2\n",
      "Begin initial match\n",
      "7 stars matched between starlist1 and starlist2\n",
      "End initial match \n",
      "\n",
      "    Found 0 duplicates out of 23 matches\n",
      "23 of 38 stars matched\n",
      "23 stars used in transform\n",
      "\n",
      "    Found 0 duplicates out of 23 matches\n",
      "23 of 38 stars matched\n",
      "Attempting match with 34 and 30 stars from starlist1 and starlist2\n",
      "Begin initial match\n",
      "7 stars matched between starlist1 and starlist2\n",
      "End initial match \n",
      "\n",
      "    Found 0 duplicates out of 21 matches\n",
      "21 of 34 stars matched\n",
      "21 stars used in transform\n",
      "\n",
      "    Found 0 duplicates out of 21 matches\n",
      "21 of 34 stars matched\n",
      "Attempting match with 26 and 30 stars from starlist1 and starlist2\n",
      "Begin initial match\n",
      "7 stars matched between starlist1 and starlist2\n",
      "End initial match \n",
      "\n",
      "    Found 0 duplicates out of 23 matches\n",
      "23 of 26 stars matched\n",
      "23 stars used in transform\n",
      "\n",
      "    Found 0 duplicates out of 23 matches\n",
      "23 of 26 stars matched\n",
      "Attempting match with 45 and 30 stars from starlist1 and starlist2\n",
      "Begin initial match\n",
      "7 stars matched between starlist1 and starlist2\n",
      "End initial match \n",
      "\n",
      "    Found 0 duplicates out of 27 matches\n",
      "27 of 45 stars matched\n",
      "27 stars used in transform\n",
      "\n",
      "    Found 0 duplicates out of 27 matches\n",
      "27 of 45 stars matched\n",
      "Attempting match with 17 and 30 stars from starlist1 and starlist2\n",
      "Begin initial match\n",
      "5 stars matched between starlist1 and starlist2\n",
      "End initial match \n",
      "\n",
      "    Found 0 duplicates out of 8 matches\n",
      "8 of 17 stars matched\n",
      "8 stars used in transform\n",
      "\n",
      "    Found 0 duplicates out of 9 matches\n",
      "9 of 17 stars matched\n",
      "Attempting match with 21 and 30 stars from starlist1 and starlist2\n",
      "Begin initial match\n",
      "4 stars matched between starlist1 and starlist2\n",
      "End initial match \n",
      "\n",
      "    Found 0 duplicates out of 4 matches\n",
      "4 of 21 stars matched\n",
      "4 stars used in transform\n",
      "\n",
      "    Found 0 duplicates out of 5 matches\n",
      "5 of 21 stars matched\n",
      "Attempting match with 22 and 30 stars from starlist1 and starlist2\n",
      "Begin initial match\n",
      "7 stars matched between starlist1 and starlist2\n",
      "End initial match \n",
      "\n",
      "    Found 0 duplicates out of 0 matches\n",
      "0 of 22 stars matched\n",
      "0 stars used in transform\n",
      "\n",
      "    Found 0 duplicates out of 0 matches\n",
      "0 of 22 stars matched\n",
      "Attempting match with 16 and 30 stars from starlist1 and starlist2\n",
      "Begin initial match\n"
     ]
    },
    {
     "name": "stdout",
     "output_type": "stream",
     "text": [
      "5 stars matched between starlist1 and starlist2\n",
      "End initial match \n",
      "\n",
      "    Found 0 duplicates out of 8 matches\n",
      "8 of 16 stars matched\n",
      "8 stars used in transform\n",
      "\n",
      "    Found 0 duplicates out of 9 matches\n",
      "9 of 16 stars matched\n",
      "Attempting match with 18 and 30 stars from starlist1 and starlist2\n",
      "Begin initial match\n",
      "5 stars matched between starlist1 and starlist2\n",
      "End initial match \n",
      "\n",
      "    Found 0 duplicates out of 5 matches\n",
      "5 of 18 stars matched\n",
      "5 stars used in transform\n",
      "\n",
      "    Found 0 duplicates out of 8 matches\n",
      "8 of 18 stars matched\n",
      "Attempting match with 20 and 30 stars from starlist1 and starlist2\n",
      "Begin initial match\n",
      "5 stars matched between starlist1 and starlist2\n",
      "End initial match \n",
      "\n",
      "    Found 0 duplicates out of 5 matches\n",
      "5 of 20 stars matched\n",
      "5 stars used in transform\n",
      "\n",
      "    Found 0 duplicates out of 8 matches\n",
      "8 of 20 stars matched\n",
      "Attempting match with 19 and 30 stars from starlist1 and starlist2\n",
      "Begin initial match\n",
      "6 stars matched between starlist1 and starlist2\n",
      "End initial match \n",
      "\n",
      "    Found 0 duplicates out of 0 matches\n",
      "0 of 19 stars matched\n",
      "0 stars used in transform\n",
      "\n",
      "    Found 0 duplicates out of 0 matches\n",
      "0 of 19 stars matched\n",
      "Attempting match with 25 and 30 stars from starlist1 and starlist2\n",
      "Begin initial match\n",
      "5 stars matched between starlist1 and starlist2\n",
      "End initial match \n",
      "\n",
      "    Found 0 duplicates out of 5 matches\n",
      "5 of 25 stars matched\n",
      "5 stars used in transform\n",
      "\n",
      "    Found 0 duplicates out of 8 matches\n",
      "8 of 25 stars matched\n",
      "Attempting match with 18 and 30 stars from starlist1 and starlist2\n",
      "Begin initial match\n",
      "4 stars matched between starlist1 and starlist2\n",
      "End initial match \n",
      "\n",
      "    Found 0 duplicates out of 3 matches\n",
      "3 of 18 stars matched\n",
      "3 stars used in transform\n",
      "\n",
      "    Found 0 duplicates out of 5 matches\n",
      "5 of 18 stars matched\n",
      "Attempting match with 18 and 30 stars from starlist1 and starlist2\n",
      "Begin initial match\n",
      "4 stars matched between starlist1 and starlist2\n",
      "End initial match \n",
      "\n",
      "    Found 0 duplicates out of 4 matches\n",
      "4 of 18 stars matched\n",
      "4 stars used in transform\n",
      "\n",
      "    Found 0 duplicates out of 7 matches\n",
      "7 of 18 stars matched\n",
      "Attempting match with 13 and 30 stars from starlist1 and starlist2\n",
      "Begin initial match\n",
      "6 stars matched between starlist1 and starlist2\n",
      "End initial match \n",
      "\n",
      "    Found 0 duplicates out of 7 matches\n",
      "7 of 13 stars matched\n",
      "7 stars used in transform\n",
      "\n",
      "    Found 0 duplicates out of 7 matches\n",
      "7 of 13 stars matched\n",
      "Attempting match with 13 and 30 stars from starlist1 and starlist2\n",
      "Begin initial match\n",
      "6 stars matched between starlist1 and starlist2\n",
      "End initial match \n",
      "\n",
      "    Found 0 duplicates out of 7 matches\n",
      "7 of 13 stars matched\n",
      "7 stars used in transform\n",
      "\n",
      "    Found 0 duplicates out of 7 matches\n",
      "7 of 13 stars matched\n",
      "Attempting match with 12 and 30 stars from starlist1 and starlist2\n",
      "Begin initial match\n",
      "6 stars matched between starlist1 and starlist2\n",
      "End initial match \n",
      "\n",
      "    Found 0 duplicates out of 7 matches\n",
      "7 of 12 stars matched\n",
      "7 stars used in transform\n",
      "\n",
      "    Found 0 duplicates out of 6 matches\n",
      "6 of 12 stars matched\n",
      "Attempting match with 12 and 30 stars from starlist1 and starlist2\n",
      "Begin initial match\n",
      "6 stars matched between starlist1 and starlist2\n",
      "End initial match \n",
      "\n",
      "    Found 0 duplicates out of 7 matches\n",
      "7 of 12 stars matched\n",
      "7 stars used in transform\n",
      "\n",
      "    Found 0 duplicates out of 6 matches\n",
      "6 of 12 stars matched\n",
      "Attempting match with 12 and 30 stars from starlist1 and starlist2\n",
      "Begin initial match\n",
      "6 stars matched between starlist1 and starlist2\n",
      "End initial match \n",
      "\n",
      "    Found 0 duplicates out of 6 matches\n",
      "6 of 12 stars matched\n",
      "6 stars used in transform\n",
      "\n",
      "    Found 0 duplicates out of 6 matches\n",
      "6 of 12 stars matched\n",
      "Attempting match with 12 and 30 stars from starlist1 and starlist2\n",
      "Begin initial match\n",
      "6 stars matched between starlist1 and starlist2\n",
      "End initial match \n",
      "\n",
      "    Found 0 duplicates out of 6 matches\n",
      "6 of 12 stars matched\n",
      "6 stars used in transform\n",
      "\n",
      "    Found 0 duplicates out of 5 matches\n",
      "5 of 12 stars matched\n",
      "Attempting match with 14 and 30 stars from starlist1 and starlist2\n",
      "Begin initial match\n",
      "6 stars matched between starlist1 and starlist2\n",
      "End initial match \n",
      "\n",
      "    Found 0 duplicates out of 11 matches\n",
      "11 of 14 stars matched\n",
      "11 stars used in transform\n",
      "\n",
      "    Found 0 duplicates out of 12 matches\n",
      "12 of 14 stars matched\n",
      "Attempting match with 14 and 30 stars from starlist1 and starlist2\n",
      "Begin initial match\n",
      "6 stars matched between starlist1 and starlist2\n",
      "End initial match \n",
      "\n",
      "    Found 0 duplicates out of 11 matches\n",
      "11 of 14 stars matched\n",
      "11 stars used in transform\n",
      "\n",
      "    Found 0 duplicates out of 12 matches\n",
      "12 of 14 stars matched\n",
      "Attempting match with 15 and 30 stars from starlist1 and starlist2\n",
      "Begin initial match\n",
      "6 stars matched between starlist1 and starlist2\n",
      "End initial match \n",
      "\n",
      "    Found 0 duplicates out of 0 matches\n",
      "0 of 15 stars matched\n",
      "0 stars used in transform\n",
      "\n",
      "    Found 0 duplicates out of 0 matches\n",
      "0 of 15 stars matched\n",
      "Attempting match with 17 and 30 stars from starlist1 and starlist2\n",
      "Begin initial match\n",
      "4 stars matched between starlist1 and starlist2\n",
      "End initial match \n",
      "\n",
      "    Found 1 duplicates out of 11 matches\n",
      "9 of 17 stars matched\n",
      "9 stars used in transform\n",
      "\n",
      "    Found 1 duplicates out of 14 matches\n",
      "    confused, dropping\n",
      "11 of 17 stars matched\n",
      "Attempting match with 15 and 30 stars from starlist1 and starlist2\n",
      "Begin initial match\n",
      "6 stars matched between starlist1 and starlist2\n",
      "End initial match \n",
      "\n",
      "    Found 0 duplicates out of 11 matches\n",
      "11 of 15 stars matched\n",
      "11 stars used in transform\n",
      "\n",
      "    Found 0 duplicates out of 13 matches\n",
      "13 of 15 stars matched\n",
      "Attempting match with 30 and 30 stars from starlist1 and starlist2\n",
      "Begin initial match\n",
      "6 stars matched between starlist1 and starlist2\n",
      "End initial match \n",
      "\n",
      "    Found 0 duplicates out of 30 matches\n",
      "30 of 30 stars matched\n",
      "30 stars used in transform\n",
      "\n",
      "    Found 0 duplicates out of 30 matches\n",
      "30 of 30 stars matched\n",
      "Attempting match with 36 and 30 stars from starlist1 and starlist2\n",
      "Begin initial match\n",
      "7 stars matched between starlist1 and starlist2\n",
      "End initial match \n",
      "\n",
      "    Found 0 duplicates out of 28 matches\n",
      "28 of 36 stars matched\n",
      "28 stars used in transform\n",
      "\n",
      "    Found 0 duplicates out of 28 matches\n",
      "28 of 36 stars matched\n",
      "Attempting match with 21 and 30 stars from starlist1 and starlist2\n",
      "Begin initial match\n",
      "7 stars matched between starlist1 and starlist2\n",
      "End initial match \n",
      "\n",
      "    Found 0 duplicates out of 21 matches\n",
      "21 of 21 stars matched\n",
      "21 stars used in transform\n",
      "\n",
      "    Found 0 duplicates out of 21 matches\n",
      "21 of 21 stars matched\n",
      "Attempting match with 19 and 30 stars from starlist1 and starlist2\n",
      "Begin initial match\n",
      "7 stars matched between starlist1 and starlist2\n",
      "End initial match \n",
      "\n",
      "    Found 0 duplicates out of 19 matches\n",
      "19 of 19 stars matched\n",
      "19 stars used in transform\n",
      "\n",
      "    Found 0 duplicates out of 19 matches\n",
      "19 of 19 stars matched\n",
      "Attempting match with 21 and 30 stars from starlist1 and starlist2\n",
      "Begin initial match\n",
      "7 stars matched between starlist1 and starlist2\n",
      "End initial match \n",
      "\n",
      "    Found 0 duplicates out of 21 matches\n",
      "21 of 21 stars matched\n",
      "21 stars used in transform\n",
      "\n",
      "    Found 0 duplicates out of 21 matches\n",
      "21 of 21 stars matched\n",
      "Attempting match with 21 and 30 stars from starlist1 and starlist2\n",
      "Begin initial match\n",
      "7 stars matched between starlist1 and starlist2\n",
      "End initial match \n",
      "\n",
      "    Found 0 duplicates out of 21 matches\n",
      "21 of 21 stars matched\n",
      "21 stars used in transform\n",
      "\n",
      "    Found 0 duplicates out of 21 matches\n",
      "21 of 21 stars matched\n",
      "Attempting match with 18 and 30 stars from starlist1 and starlist2\n",
      "Begin initial match\n",
      "7 stars matched between starlist1 and starlist2\n",
      "End initial match \n",
      "\n",
      "    Found 0 duplicates out of 15 matches\n",
      "15 of 18 stars matched\n",
      "15 stars used in transform\n",
      "\n",
      "    Found 0 duplicates out of 15 matches\n",
      "15 of 18 stars matched\n",
      "Attempting match with 38 and 30 stars from starlist1 and starlist2\n",
      "Begin initial match\n",
      "7 stars matched between starlist1 and starlist2\n",
      "End initial match \n",
      "\n",
      "    Found 0 duplicates out of 23 matches\n",
      "23 of 38 stars matched\n",
      "23 stars used in transform\n",
      "\n",
      "    Found 0 duplicates out of 23 matches\n",
      "23 of 38 stars matched\n",
      "Attempting match with 34 and 30 stars from starlist1 and starlist2\n",
      "Begin initial match\n",
      "7 stars matched between starlist1 and starlist2\n",
      "End initial match \n",
      "\n",
      "    Found 0 duplicates out of 21 matches\n",
      "21 of 34 stars matched\n",
      "21 stars used in transform\n",
      "\n",
      "    Found 0 duplicates out of 21 matches\n",
      "21 of 34 stars matched\n",
      "Attempting match with 26 and 30 stars from starlist1 and starlist2\n",
      "Begin initial match\n",
      "6 stars matched between starlist1 and starlist2\n",
      "End initial match \n",
      "\n",
      "    Found 0 duplicates out of 23 matches\n",
      "23 of 26 stars matched\n",
      "23 stars used in transform\n",
      "\n",
      "    Found 0 duplicates out of 23 matches\n",
      "23 of 26 stars matched\n",
      "Attempting match with 45 and 30 stars from starlist1 and starlist2\n",
      "Begin initial match\n",
      "7 stars matched between starlist1 and starlist2\n",
      "End initial match \n",
      "\n",
      "    Found 0 duplicates out of 27 matches\n",
      "27 of 45 stars matched\n",
      "27 stars used in transform\n",
      "\n",
      "    Found 0 duplicates out of 27 matches\n",
      "27 of 45 stars matched\n",
      "Attempting match with 17 and 30 stars from starlist1 and starlist2\n",
      "Begin initial match\n",
      "5 stars matched between starlist1 and starlist2\n",
      "End initial match \n",
      "\n",
      "    Found 0 duplicates out of 10 matches\n",
      "10 of 17 stars matched\n",
      "10 stars used in transform\n",
      "\n",
      "    Found 0 duplicates out of 10 matches\n",
      "10 of 17 stars matched\n",
      "Attempting match with 21 and 30 stars from starlist1 and starlist2\n",
      "Begin initial match\n",
      "4 stars matched between starlist1 and starlist2\n",
      "End initial match \n",
      "\n",
      "    Found 0 duplicates out of 0 matches\n",
      "0 of 21 stars matched\n",
      "0 stars used in transform\n",
      "\n",
      "    Found 0 duplicates out of 0 matches\n",
      "0 of 21 stars matched\n",
      "Attempting match with 22 and 30 stars from starlist1 and starlist2\n",
      "Begin initial match\n",
      "5 stars matched between starlist1 and starlist2\n",
      "End initial match \n",
      "\n",
      "    Found 0 duplicates out of 16 matches\n",
      "16 of 22 stars matched\n",
      "16 stars used in transform\n",
      "\n",
      "    Found 0 duplicates out of 17 matches\n",
      "17 of 22 stars matched\n",
      "Attempting match with 16 and 30 stars from starlist1 and starlist2\n",
      "Begin initial match\n",
      "5 stars matched between starlist1 and starlist2\n",
      "End initial match \n",
      "\n"
     ]
    },
    {
     "name": "stdout",
     "output_type": "stream",
     "text": [
      "    Found 0 duplicates out of 10 matches\n",
      "10 of 16 stars matched\n",
      "10 stars used in transform\n",
      "\n",
      "    Found 0 duplicates out of 10 matches\n",
      "10 of 16 stars matched\n",
      "Attempting match with 18 and 30 stars from starlist1 and starlist2\n",
      "Begin initial match\n",
      "6 stars matched between starlist1 and starlist2\n",
      "End initial match \n",
      "\n",
      "    Found 0 duplicates out of 10 matches\n",
      "10 of 18 stars matched\n",
      "10 stars used in transform\n",
      "\n",
      "    Found 0 duplicates out of 15 matches\n",
      "15 of 18 stars matched\n",
      "Attempting match with 20 and 30 stars from starlist1 and starlist2\n",
      "Begin initial match\n",
      "6 stars matched between starlist1 and starlist2\n",
      "End initial match \n",
      "\n",
      "    Found 0 duplicates out of 10 matches\n",
      "10 of 20 stars matched\n",
      "10 stars used in transform\n",
      "\n",
      "    Found 0 duplicates out of 16 matches\n",
      "16 of 20 stars matched\n",
      "Attempting match with 19 and 30 stars from starlist1 and starlist2\n",
      "Begin initial match\n",
      "4 stars matched between starlist1 and starlist2\n",
      "End initial match \n",
      "\n",
      "    Found 0 duplicates out of 16 matches\n",
      "16 of 19 stars matched\n",
      "16 stars used in transform\n",
      "\n",
      "    Found 0 duplicates out of 15 matches\n",
      "15 of 19 stars matched\n",
      "Attempting match with 25 and 30 stars from starlist1 and starlist2\n",
      "Begin initial match\n",
      "6 stars matched between starlist1 and starlist2\n",
      "End initial match \n",
      "\n",
      "    Found 0 duplicates out of 9 matches\n",
      "9 of 25 stars matched\n",
      "9 stars used in transform\n",
      "\n",
      "    Found 0 duplicates out of 14 matches\n",
      "14 of 25 stars matched\n",
      "Attempting match with 18 and 30 stars from starlist1 and starlist2\n",
      "Begin initial match\n",
      "5 stars matched between starlist1 and starlist2\n",
      "End initial match \n",
      "\n",
      "    Found 0 duplicates out of 8 matches\n",
      "8 of 18 stars matched\n",
      "8 stars used in transform\n",
      "\n",
      "    Found 0 duplicates out of 14 matches\n",
      "14 of 18 stars matched\n",
      "Attempting match with 18 and 30 stars from starlist1 and starlist2\n",
      "Begin initial match\n",
      "5 stars matched between starlist1 and starlist2\n",
      "End initial match \n",
      "\n",
      "    Found 0 duplicates out of 8 matches\n",
      "8 of 18 stars matched\n",
      "8 stars used in transform\n",
      "\n",
      "    Found 0 duplicates out of 14 matches\n",
      "14 of 18 stars matched\n",
      "Attempting match with 13 and 30 stars from starlist1 and starlist2\n",
      "Begin initial match\n",
      "7 stars matched between starlist1 and starlist2\n",
      "End initial match \n",
      "\n",
      "    Found 0 duplicates out of 9 matches\n",
      "9 of 13 stars matched\n",
      "9 stars used in transform\n",
      "\n",
      "    Found 0 duplicates out of 9 matches\n",
      "9 of 13 stars matched\n",
      "Attempting match with 13 and 30 stars from starlist1 and starlist2\n",
      "Begin initial match\n",
      "6 stars matched between starlist1 and starlist2\n",
      "End initial match \n",
      "\n",
      "    Found 0 duplicates out of 10 matches\n",
      "10 of 13 stars matched\n",
      "10 stars used in transform\n",
      "\n",
      "    Found 0 duplicates out of 10 matches\n",
      "10 of 13 stars matched\n",
      "Attempting match with 12 and 30 stars from starlist1 and starlist2\n",
      "Begin initial match\n",
      "6 stars matched between starlist1 and starlist2\n",
      "End initial match \n",
      "\n",
      "    Found 0 duplicates out of 9 matches\n",
      "9 of 12 stars matched\n",
      "9 stars used in transform\n",
      "\n",
      "    Found 0 duplicates out of 9 matches\n",
      "9 of 12 stars matched\n",
      "Attempting match with 12 and 30 stars from starlist1 and starlist2\n",
      "Begin initial match\n",
      "6 stars matched between starlist1 and starlist2\n",
      "End initial match \n",
      "\n",
      "    Found 0 duplicates out of 9 matches\n",
      "9 of 12 stars matched\n",
      "9 stars used in transform\n",
      "\n",
      "    Found 0 duplicates out of 8 matches\n",
      "8 of 12 stars matched\n",
      "Attempting match with 12 and 30 stars from starlist1 and starlist2\n",
      "Begin initial match\n",
      "6 stars matched between starlist1 and starlist2\n",
      "End initial match \n",
      "\n",
      "    Found 0 duplicates out of 8 matches\n",
      "8 of 12 stars matched\n",
      "8 stars used in transform\n",
      "\n",
      "    Found 0 duplicates out of 8 matches\n",
      "8 of 12 stars matched\n",
      "Attempting match with 12 and 30 stars from starlist1 and starlist2\n",
      "Begin initial match\n",
      "6 stars matched between starlist1 and starlist2\n",
      "End initial match \n",
      "\n",
      "    Found 0 duplicates out of 7 matches\n",
      "7 of 12 stars matched\n",
      "7 stars used in transform\n",
      "\n",
      "    Found 0 duplicates out of 7 matches\n",
      "7 of 12 stars matched\n",
      "Attempting match with 14 and 30 stars from starlist1 and starlist2\n",
      "Begin initial match\n",
      "6 stars matched between starlist1 and starlist2\n",
      "End initial match \n",
      "\n",
      "    Found 0 duplicates out of 12 matches\n",
      "12 of 14 stars matched\n",
      "12 stars used in transform\n",
      "\n",
      "    Found 0 duplicates out of 12 matches\n",
      "12 of 14 stars matched\n",
      "Attempting match with 14 and 30 stars from starlist1 and starlist2\n",
      "Begin initial match\n",
      "6 stars matched between starlist1 and starlist2\n",
      "End initial match \n",
      "\n",
      "    Found 0 duplicates out of 12 matches\n",
      "12 of 14 stars matched\n",
      "12 stars used in transform\n",
      "\n",
      "    Found 0 duplicates out of 12 matches\n",
      "12 of 14 stars matched\n",
      "Attempting match with 15 and 30 stars from starlist1 and starlist2\n",
      "Begin initial match\n",
      "7 stars matched between starlist1 and starlist2\n",
      "End initial match \n",
      "\n",
      "    Found 0 duplicates out of 0 matches\n",
      "0 of 15 stars matched\n",
      "0 stars used in transform\n",
      "\n",
      "    Found 0 duplicates out of 0 matches\n",
      "0 of 15 stars matched\n",
      "Attempting match with 17 and 30 stars from starlist1 and starlist2\n",
      "Begin initial match\n",
      "5 stars matched between starlist1 and starlist2\n",
      "End initial match \n",
      "\n",
      "    Found 1 duplicates out of 15 matches\n",
      "13 of 17 stars matched\n",
      "13 stars used in transform\n",
      "\n",
      "    Found 1 duplicates out of 15 matches\n",
      "    confused, dropping\n",
      "12 of 17 stars matched\n",
      "Attempting match with 15 and 30 stars from starlist1 and starlist2\n",
      "Begin initial match\n",
      "6 stars matched between starlist1 and starlist2\n",
      "End initial match \n",
      "\n",
      "    Found 0 duplicates out of 13 matches\n",
      "13 of 15 stars matched\n",
      "13 stars used in transform\n",
      "\n",
      "    Found 0 duplicates out of 13 matches\n",
      "13 of 15 stars matched\n",
      "reduce_STA Shifting image:  /g/lu/data/imaka/onaga/20200121/sta/reduce/Beehive-W/sta008x10LS5WFS_c_scan_clean.fits\n",
      "reduce_STA Shifting image:  /g/lu/data/imaka/onaga/20200121/sta/reduce/Beehive-W/sta036x10LS5WFS_c_scan_clean.fits\n",
      "reduce_STA Shifting image:  /g/lu/data/imaka/onaga/20200121/sta/reduce/Beehive-W/sta037x10LS5WFS_c_scan_clean.fits\n",
      "reduce_STA Shifting image:  /g/lu/data/imaka/onaga/20200121/sta/reduce/Beehive-W/sta039x10LS5WFS_c_scan_clean.fits\n",
      "reduce_STA Shifting image:  /g/lu/data/imaka/onaga/20200121/sta/reduce/Beehive-W/sta041x10LS5WFS_c_scan_clean.fits\n",
      "reduce_STA Shifting image:  /g/lu/data/imaka/onaga/20200121/sta/reduce/Beehive-W/sta043x10LS5WFS_c_scan_clean.fits\n",
      "reduce_STA Shifting image:  /g/lu/data/imaka/onaga/20200121/sta/reduce/Beehive-W/sta045x10LS5WFS_c_scan_clean.fits\n",
      "reduce_STA Shifting image:  /g/lu/data/imaka/onaga/20200121/sta/reduce/Beehive-W/sta047x10LS5WFS_c_scan_clean.fits\n",
      "reduce_STA Shifting image:  /g/lu/data/imaka/onaga/20200121/sta/reduce/Beehive-W/sta049x10LS5WFS_c_scan_clean.fits\n",
      "reduce_STA Shifting image:  /g/lu/data/imaka/onaga/20200121/sta/reduce/Beehive-W/sta051x10LS5WFS_c_scan_clean.fits\n",
      "reduce_STA Shifting image:  /g/lu/data/imaka/onaga/20200121/sta/reduce/Beehive-W/sta053x10LS5WFS_c_scan_clean.fits\n",
      "reduce_STA Shifting image:  /g/lu/data/imaka/onaga/20200121/sta/reduce/Beehive-W/sta057x10LS5WFS_c_scan_clean.fits\n",
      "reduce_STA Shifting image:  /g/lu/data/imaka/onaga/20200121/sta/reduce/Beehive-W/sta060x10LS5WFS_c_scan_clean.fits\n",
      "reduce_STA Shifting image:  /g/lu/data/imaka/onaga/20200121/sta/reduce/Beehive-W/sta061x10LS5WFS_c_scan_clean.fits\n",
      "reduce_STA Shifting image:  /g/lu/data/imaka/onaga/20200121/sta/reduce/Beehive-W/sta062x10LS5WFS_c_scan_clean.fits\n",
      "reduce_STA Shifting image:  /g/lu/data/imaka/onaga/20200121/sta/reduce/Beehive-W/sta064x10LS5WFS_c_scan_clean.fits\n",
      "reduce_STA Shifting image:  /g/lu/data/imaka/onaga/20200121/sta/reduce/Beehive-W/sta066x10LS5WFS_c_scan_clean.fits\n",
      "reduce_STA Shifting image:  /g/lu/data/imaka/onaga/20200121/sta/reduce/Beehive-W/sta069x10LS5WFS_c_scan_clean.fits\n",
      "reduce_STA Shifting image:  /g/lu/data/imaka/onaga/20200121/sta/reduce/Beehive-W/sta071x10LS5WFS_c_scan_clean.fits\n",
      "reduce_STA Shifting image:  /g/lu/data/imaka/onaga/20200121/sta/reduce/Beehive-W/sta078x10LS5WFS_c_scan_clean.fits\n",
      "reduce_STA Shifting image:  /g/lu/data/imaka/onaga/20200121/sta/reduce/Beehive-W/sta080x10LS5WFS_c_scan_clean.fits\n",
      "reduce_STA Shifting image:  /g/lu/data/imaka/onaga/20200121/sta/reduce/Beehive-W/sta082x10LS5WFS_c_scan_clean.fits\n",
      "reduce_STA Shifting image:  /g/lu/data/imaka/onaga/20200121/sta/reduce/Beehive-W/sta084x10LS5WFS_c_scan_clean.fits\n",
      "reduce_STA Shifting image:  /g/lu/data/imaka/onaga/20200121/sta/reduce/Beehive-W/sta086x10LS5WFS_c_scan_clean.fits\n",
      "reduce_STA Shifting image:  /g/lu/data/imaka/onaga/20200121/sta/reduce/Beehive-W/sta088x10LS5WFS_c_scan_clean.fits\n"
     ]
    },
    {
     "name": "stdout",
     "output_type": "stream",
     "text": [
      "reduce_STA Shifting image:  /g/lu/data/imaka/onaga/20200121/sta/reduce/Beehive-W/sta090x10LS5WFS_c_scan_clean.fits\n",
      "reduce_STA Shifting image:  /g/lu/data/imaka/onaga/20200121/sta/reduce/Beehive-W/sta092x10LS5WFS_c_scan_clean.fits\n",
      "reduce_STA Shifting image:  /g/lu/data/imaka/onaga/20200121/sta/reduce/Beehive-W/sta106x10LS5WFS_c_scan_clean.fits\n",
      "reduce_STA Shifting image:  /g/lu/data/imaka/onaga/20200121/sta/reduce/Beehive-W/sta108x10LS5WFS_c_scan_clean.fits\n",
      "reduce_STA Shifting image:  /g/lu/data/imaka/onaga/20200121/sta/reduce/Beehive-W/sta110x10LS5WFS_c_scan_clean.fits\n",
      "reduce_STA Shifting image:  /g/lu/data/imaka/onaga/20200121/sta/reduce/Beehive-W/sta112x10LS5WFS_c_scan_clean.fits\n",
      "reduce_STA Shifting image:  /g/lu/data/imaka/onaga/20200121/sta/reduce/Beehive-W/sta114x10LS5WFS_c_scan_clean.fits\n"
     ]
    },
    {
     "name": "stderr",
     "output_type": "stream",
     "text": [
      "/u/caylananderson/code/python/imaka/imaka/reduce/reduce_STA.py:726: RuntimeWarning: invalid value encountered in true_divide\n",
      "  final_image /= final_count\n"
     ]
    },
    {
     "name": "stdout",
     "output_type": "stream",
     "text": [
      "\n",
      "REDUCE_STA: find_stars()\n",
      "  Working on image:  /g/lu/data/imaka/onaga/20200121/sta/reduce/stacks/Beehive-W_stack_open.fits\n",
      "    Calculating background\n",
      "     Bkg = -12.15 +/- 3.69\n",
      "     Bkg Threshold = 369.14\n",
      "     Detecting Stars\n",
      "     Pass 0 assuming FWHM = 10.0\n",
      "27 sources found\n"
     ]
    },
    {
     "name": "stderr",
     "output_type": "stream",
     "text": [
      "/opt/anaconda3/envs/astroconda/lib/python3.7/site-packages/astropy/modeling/functional_models.py:378: RuntimeWarning: divide by zero encountered in true_divide\n",
      "  a = 0.5 * ((cost2 / xstd2) + (sint2 / ystd2))\n",
      "/opt/anaconda3/envs/astroconda/lib/python3.7/site-packages/astropy/modeling/functional_models.py:379: RuntimeWarning: divide by zero encountered in true_divide\n",
      "  b = 0.5 * ((sin2t / xstd2) - (sin2t / ystd2))\n",
      "/opt/anaconda3/envs/astroconda/lib/python3.7/site-packages/astropy/modeling/functional_models.py:380: RuntimeWarning: divide by zero encountered in true_divide\n",
      "  c = 0.5 * ((sint2 / xstd2) + (cost2 / ystd2))\n",
      "/opt/anaconda3/envs/astroconda/lib/python3.7/site-packages/astropy/modeling/functional_models.py:381: RuntimeWarning: invalid value encountered in add\n",
      "  return amplitude * np.exp(-((a * xdiff ** 2) + (b * xdiff * ydiff) +\n"
     ]
    },
    {
     "name": "stdout",
     "output_type": "stream",
     "text": [
      "        Number of sources =  14\n",
      "        Median x_fwhm = 13.0 +/- 4.1\n",
      "        Median y_fwhm = 13.0 +/- 4.3\n",
      "     Pass 1 assuming FWHM = 13.0\n",
      "30 sources found\n",
      "        Number of sources =  15\n",
      "        Median x_fwhm = 13.0 +/- 2.4\n",
      "        Median y_fwhm = 12.0 +/- 5.3\n",
      "\n",
      "REDUCE_STA: find_stars()\n",
      "  Working on image:  /g/lu/data/imaka/onaga/20200121/sta/reduce/stacks/Beehive-W_stack_x10LS5WFS_c.fits\n",
      "    Calculating background\n",
      "     Bkg = -10.38 +/- 2.26\n",
      "     Bkg Threshold = 67.68\n",
      "     Detecting Stars\n",
      "     Pass 0 assuming FWHM = 7.0\n",
      "58 sources found\n"
     ]
    },
    {
     "name": "stderr",
     "output_type": "stream",
     "text": [
      "/opt/anaconda3/envs/astroconda/lib/python3.7/site-packages/astropy/modeling/functional_models.py:378: RuntimeWarning: divide by zero encountered in true_divide\n",
      "  a = 0.5 * ((cost2 / xstd2) + (sint2 / ystd2))\n",
      "/opt/anaconda3/envs/astroconda/lib/python3.7/site-packages/astropy/modeling/functional_models.py:379: RuntimeWarning: divide by zero encountered in true_divide\n",
      "  b = 0.5 * ((sin2t / xstd2) - (sin2t / ystd2))\n",
      "/opt/anaconda3/envs/astroconda/lib/python3.7/site-packages/astropy/modeling/functional_models.py:380: RuntimeWarning: divide by zero encountered in true_divide\n",
      "  c = 0.5 * ((sint2 / xstd2) + (cost2 / ystd2))\n",
      "/opt/anaconda3/envs/astroconda/lib/python3.7/site-packages/astropy/modeling/functional_models.py:381: RuntimeWarning: invalid value encountered in add\n",
      "  return amplitude * np.exp(-((a * xdiff ** 2) + (b * xdiff * ydiff) +\n"
     ]
    },
    {
     "name": "stdout",
     "output_type": "stream",
     "text": [
      "        Number of sources =  8\n",
      "        Median x_fwhm = 10.0 +/- 0.9\n",
      "        Median y_fwhm = 9.0 +/- 2.9\n",
      "     Pass 1 assuming FWHM = 9.5\n",
      "75 sources found\n"
     ]
    },
    {
     "name": "stderr",
     "output_type": "stream",
     "text": [
      "/opt/anaconda3/envs/astroconda/lib/python3.7/site-packages/astropy/modeling/functional_models.py:378: RuntimeWarning: divide by zero encountered in true_divide\n",
      "  a = 0.5 * ((cost2 / xstd2) + (sint2 / ystd2))\n",
      "/opt/anaconda3/envs/astroconda/lib/python3.7/site-packages/astropy/modeling/functional_models.py:379: RuntimeWarning: divide by zero encountered in true_divide\n",
      "  b = 0.5 * ((sin2t / xstd2) - (sin2t / ystd2))\n",
      "/opt/anaconda3/envs/astroconda/lib/python3.7/site-packages/astropy/modeling/functional_models.py:379: RuntimeWarning: invalid value encountered in subtract\n",
      "  b = 0.5 * ((sin2t / xstd2) - (sin2t / ystd2))\n",
      "/opt/anaconda3/envs/astroconda/lib/python3.7/site-packages/astropy/modeling/functional_models.py:380: RuntimeWarning: divide by zero encountered in true_divide\n",
      "  c = 0.5 * ((sint2 / xstd2) + (cost2 / ystd2))\n",
      "/opt/anaconda3/envs/astroconda/lib/python3.7/site-packages/astropy/modeling/functional_models.py:381: RuntimeWarning: invalid value encountered in add\n",
      "  return amplitude * np.exp(-((a * xdiff ** 2) + (b * xdiff * ydiff) +\n"
     ]
    },
    {
     "name": "stdout",
     "output_type": "stream",
     "text": [
      "        Number of sources =  10\n",
      "        Median x_fwhm = 9.5 +/- 0.9\n",
      "        Median y_fwhm = 10.5 +/- 2.7\n"
     ]
    }
   ],
   "source": [
    "\"\"\"Set the appropriate root directory for your machine\"\"\"\n",
    "redu.root_dir = root_dir\n",
    "\n",
    "\"\"\"\"Make sky and flat images and use them to reduce science images\"\"\"\n",
    "#redu.make_sky() #using sky img from 2020-01-22 run (60s exposure time)\n",
    "#redu.make_flat()  # Using twilight images from 20200122 run\n",
    "#redu.reduce_FLD2()\n",
    "\n",
    "\"\"\"\"Find stars in clean images and calculate stats\"\"\"\n",
    "#redu.find_stars_FLD2()\n",
    "#redu.calc_star_stats()\n",
    "\n",
    "\"\"\"\"Make a stack of images for each mode and analyze stacks\"\"\"\n",
    "#redu.stack_FLD2()\n",
    "#redu.analyze_stacks()"
   ]
  },
  {
   "cell_type": "code",
   "execution_count": 3,
   "metadata": {},
   "outputs": [],
   "source": [
    "import pdb\n",
    "#pdb.pm()"
   ]
  },
  {
   "cell_type": "code",
   "execution_count": 4,
   "metadata": {},
   "outputs": [],
   "source": [
    "#redu.split_filt()\n",
    "#redu.calc_star_stats_fourfilt()"
   ]
  },
  {
   "cell_type": "code",
   "execution_count": null,
   "metadata": {},
   "outputs": [],
   "source": []
  },
  {
   "cell_type": "code",
   "execution_count": null,
   "metadata": {},
   "outputs": [],
   "source": []
  },
  {
   "cell_type": "markdown",
   "metadata": {},
   "source": [
    "## Time Variation w/MASS-DIMM\n",
    "The observed night did not have any MASS-DIMM data according to the Mauna Kea Weather Center Seeing Page"
   ]
  },
  {
   "cell_type": "code",
   "execution_count": 15,
   "metadata": {},
   "outputs": [],
   "source": [
    "open_file = stats_dir +\"stats_open.fits\"\n",
    "closed_file1 = stats_dir+ \"stats_closed_x10LS5WFS_c.fits\"\n",
    "#plot_stats.plot_fwhmvt_nomatch(open_file, closed_file1, 'emp_fwhm', \"2020-01-21 UT: FWHM and Seeing over time with Closed (4W)\", plots_dir)"
   ]
  },
  {
   "cell_type": "code",
   "execution_count": 16,
   "metadata": {
    "scrolled": false
   },
   "outputs": [],
   "source": [
    "## Aggregate Plots"
   ]
  },
  {
   "cell_type": "code",
   "execution_count": 22,
   "metadata": {},
   "outputs": [
    {
     "data": {
      "image/png": "[encoded data removed]",
      "text/plain": [
       "<Figure size 1080x360 with 3 Axes>"
      ]
     },
     "metadata": {
      "needs_background": "light"
     },
     "output_type": "display_data"
    }
   ],
   "source": [
    "files = [open_file, closed_file1]\n",
    "labels = ['Open', 'x10LS5WFS']\n",
    "colors = ['g', 'b']\n",
    "plot_stats.comp_cdf(files, labels, colors)"
   ]
  },
  {
   "cell_type": "code",
   "execution_count": null,
   "metadata": {},
   "outputs": [],
   "source": []
  },
  {
   "cell_type": "code",
   "execution_count": 15,
   "metadata": {},
   "outputs": [
    {
     "name": "stdout",
     "output_type": "stream",
     "text": [
      "> /u/caylananderson/code/python/imaka/imaka/analysis/plot_stats.py(592)compare_fwhm()\n",
      "-> date = datetime.strptime(stats['DATE_UTC'],'%Y-%m-%d')\n",
      "(Pdb) stats['DATE_UTC']\n",
      "<Column name='DATE_UTC' dtype='bytes15' length=39>\n",
      "2020-01-21\n",
      "2020-01-21\n",
      "2020-01-21\n",
      "2020-01-21\n",
      "2020-01-21\n",
      "2020-01-21\n",
      "2020-01-21\n",
      "2020-01-21\n",
      "2020-01-21\n",
      "2020-01-21\n",
      "2020-01-21\n",
      "2020-01-21\n",
      "       ...\n",
      "2020-01-21\n",
      "2020-01-21\n",
      "2020-01-21\n",
      "2020-01-21\n",
      "2020-01-21\n",
      "2020-01-21\n",
      "2020-01-21\n",
      "2020-01-21\n",
      "2020-01-21\n",
      "2020-01-21\n",
      "2020-01-21\n",
      "2020-01-21\n",
      "(Pdb) stats['DATE_UTC'][0]\n",
      "'2020-01-21'\n",
      "(Pdb) exit\n"
     ]
    }
   ],
   "source": [
    "pdb.pm()"
   ]
  },
  {
   "cell_type": "code",
   "execution_count": null,
   "metadata": {},
   "outputs": [],
   "source": [
    "## Field Variability"
   ]
  },
  {
   "cell_type": "code",
   "execution_count": 23,
   "metadata": {},
   "outputs": [
    {
     "name": "stderr",
     "output_type": "stream",
     "text": [
      "WARNING: The fit may be unsuccessful; check fit_info['message'] for more information. [astropy.modeling.fitting]\n"
     ]
    },
    {
     "data": {
      "image/png": "[encoded data removed]",
      "text/plain": [
       "<Figure size 1080x432 with 3 Axes>"
      ]
     },
     "metadata": {
      "needs_background": "light"
     },
     "output_type": "display_data"
    }
   ],
   "source": [
    "img_file = stack_dir + 'Beehive-W_stack_open.fits' \n",
    "starlist = stack_dir + 'Beehive-W_stack_open_stars.txt'\n",
    "plot_stats.plot_var(img_file, starlist, \"Open\")"
   ]
  },
  {
   "cell_type": "code",
   "execution_count": 24,
   "metadata": {},
   "outputs": [
    {
     "name": "stderr",
     "output_type": "stream",
     "text": [
      "WARNING: The fit may be unsuccessful; check fit_info['message'] for more information. [astropy.modeling.fitting]\n"
     ]
    },
    {
     "data": {
      "image/png": "[encoded data removed]",
      "text/plain": [
       "<Figure size 1080x432 with 3 Axes>"
      ]
     },
     "metadata": {
      "needs_background": "light"
     },
     "output_type": "display_data"
    }
   ],
   "source": [
    "img_file = stack_dir + 'Beehive-W_stack_x10LS5WFS_c.fits' \n",
    "starlist = stack_dir + 'Beehive-W_stack_x10LS5WFS_c_stars.txt'\n",
    "plot_stats.plot_var(img_file, starlist, \"Closed (x10LS5WFS)\")"
   ]
  },
  {
   "cell_type": "code",
   "execution_count": null,
   "metadata": {},
   "outputs": [],
   "source": []
  },
  {
   "cell_type": "code",
   "execution_count": null,
   "metadata": {},
   "outputs": [],
   "source": []
  },
  {
   "cell_type": "code",
   "execution_count": null,
   "metadata": {},
   "outputs": [],
   "source": []
  },
  {
   "cell_type": "code",
   "execution_count": null,
   "metadata": {},
   "outputs": [],
   "source": []
  },
  {
   "cell_type": "code",
   "execution_count": null,
   "metadata": {},
   "outputs": [],
   "source": []
  }
 ],
 "metadata": {
  "kernelspec": {
   "display_name": "Python 3",
   "language": "python",
   "name": "python3"
  },
  "language_info": {
   "codemirror_mode": {
    "name": "ipython",
    "version": 3
   },
   "file_extension": ".py",
   "mimetype": "text/x-python",
   "name": "python",
   "nbconvert_exporter": "python",
   "pygments_lexer": "ipython3",
   "version": "3.7.3"
  }
 },
 "nbformat": 4,
 "nbformat_minor": 2
}
