{
 "cells": [
  {
   "cell_type": "markdown",
   "metadata": {},
   "source": [
    "# 2020-01-21 UT Preliminary Analysis"
   ]
  },
  {
   "cell_type": "code",
   "execution_count": 16,
   "metadata": {},
   "outputs": [
    {
     "name": "stdout",
     "output_type": "stream",
     "text": [
      "The autoreload extension is already loaded. To reload it, use:\n",
      "  %reload_ext autoreload\n",
      "Root directory: /g/lu/data/imaka/onaga/20200121/sta/\n"
     ]
    }
   ],
   "source": [
    "%load_ext autoreload\n",
    "%autoreload 2\n",
    "%matplotlib inline\n",
    "\n",
    "import matplotlib.pyplot as plt\n",
    "from imaka.analysis import plot_stats\n",
    "from astropy.table import Table\n",
    "import numpy as np\n",
    "from importlib import reload\n",
    "from imaka.reduce.nights import reduce_2020_01_21 as redu\n",
    "\n",
    "reload(redu)\n",
    "reload(plot_stats)\n",
    "\n",
    "root_dir = \"/g/lu/data/imaka/onaga/20200121/sta/\"\n",
    "print(\"Root directory:\",root_dir)\n",
    "stats_dir = root_dir + \"reduce/stats/\"\n",
    "plots_dir = root_dir + \"reduce/plots/\"\n",
    "stack_dir = root_dir + \"reduce/stacks/\""
   ]
  },
  {
   "cell_type": "markdown",
   "metadata": {},
   "source": [
    "# Data Reduction"
   ]
  },
  {
   "cell_type": "markdown",
   "metadata": {},
   "source": [
    "Fully reduce the data from 20200121 UT. Don't re-run this unless you really need to as it takes awhile. After you re-run the data reduction, please remember to load it back up to onaga."
   ]
  },
  {
   "cell_type": "code",
   "execution_count": null,
   "metadata": {},
   "outputs": [
    {
     "name": "stdout",
     "output_type": "stream",
     "text": [
      "\n",
      "REDUCE_FLI: find_stars()\n",
      "Using mask\n",
      "  Working on image:  /g/lu/data/imaka/onaga/20200121/sta/reduce/Beehive-W/sta003_o_scan_clean.fits\n",
      "    Calculating background\n"
     ]
    },
    {
     "name": "stderr",
     "output_type": "stream",
     "text": [
      "/u/caylananderson/code/python/imaka/imaka/reduce/reduce_fli.py:243: RuntimeWarning: invalid value encountered in greater\n",
      "  good_pix = np.where((img < bad_hi) & (img > bad_lo))\n",
      "/u/caylananderson/code/python/imaka/imaka/reduce/reduce_fli.py:243: RuntimeWarning: invalid value encountered in less\n",
      "  good_pix = np.where((img < bad_hi) & (img > bad_lo))\n"
     ]
    },
    {
     "name": "stdout",
     "output_type": "stream",
     "text": [
      "> /u/caylananderson/code/python/imaka/imaka/reduce/reduce_fli.py(249)find_stars()\n",
      "-> print('     Bkg = {0:.2f} +/- {1:.2f}'.format(bkg_mean, bkg_std))\n",
      "(Pdb) n\n",
      "     Bkg = 0.00 +/- 0.00\n",
      "> /u/caylananderson/code/python/imaka/imaka/reduce/reduce_fli.py(250)find_stars()\n",
      "-> print('     Bkg Threshold = {0:.2f}'.format(img_threshold))\n",
      "(Pdb) threshold\n",
      "20\n",
      "(Pdb) bkg_std\n",
      "masked\n",
      "(Pdb) n\n",
      "     Bkg Threshold = 0.00\n",
      "> /u/caylananderson/code/python/imaka/imaka/reduce/reduce_fli.py(253)find_stars()\n",
      "-> print('     Detecting Stars')\n",
      "(Pdb) n\n",
      "     Detecting Stars\n",
      "> /u/caylananderson/code/python/imaka/imaka/reduce/reduce_fli.py(256)find_stars()\n",
      "-> for nn in range(N_passes):\n",
      "(Pdb) n\n",
      "> /u/caylananderson/code/python/imaka/imaka/reduce/reduce_fli.py(257)find_stars()\n",
      "-> print('     Pass {0:d} assuming FWHM = {1:.1f}'.format(nn, fwhm_curr))\n",
      "(Pdb) n\n",
      "     Pass 0 assuming FWHM = 10.0\n",
      "> /u/caylananderson/code/python/imaka/imaka/reduce/reduce_fli.py(258)find_stars()\n",
      "-> daofind = DAOStarFinder(fwhm=fwhm_curr, threshold = img_threshold, exclude_border=True)\n",
      "(Pdb) threshold\n",
      "20\n",
      "(Pdb) img_threshold\n",
      "masked\n",
      "(Pdb) n\n",
      "TypeError: threshold must be a scalar value.\n",
      "> /u/caylananderson/code/python/imaka/imaka/reduce/reduce_fli.py(258)find_stars()\n",
      "-> daofind = DAOStarFinder(fwhm=fwhm_curr, threshold = img_threshold, exclude_border=True)\n"
     ]
    }
   ],
   "source": [
    "\"\"\"Set the appropriate root directory for your machine\"\"\"\n",
    "redu.root_dir = root_dir\n",
    "\n",
    "\"\"\"\"Make sky and flat images and use them to reduce science images\"\"\"\n",
    "#redu.make_sky() #using frames from HR2286 to make sky images\n",
    "#redu.make_flat()  # Using twilight images from 20200122 run\n",
    "#redu.reduce_FLD2()\n",
    "\n",
    "\"\"\"\"Find stars in clean images and calculate stats\"\"\"\n",
    "redu.find_stars_FLD2()\n",
    "# redu.calc_star_stats()\n",
    "\n",
    "# \"\"\"\"Make a stack of images for each mode and analyze stacks\"\"\"\n",
    "# redu.stack_FLD2()\n",
    "# redu.analyze_stacks()"
   ]
  },
  {
   "cell_type": "code",
   "execution_count": 8,
   "metadata": {},
   "outputs": [
    {
     "name": "stdout",
     "output_type": "stream",
     "text": [
      "> /opt/anaconda3/envs/astroconda/lib/python3.7/site-packages/photutils/detection/findstars.py(870)__init__()\n",
      "-> raise TypeError('threshold must be a scalar value.')\n",
      "(Pdb) np.shape(threshold)\n",
      "()\n",
      "(Pdb) threshold[0]\n",
      "*** IndexError: too many indices for array\n",
      "(Pdb) exit\n"
     ]
    }
   ],
   "source": [
    "import pdb\n",
    "pdb.pm()"
   ]
  },
  {
   "cell_type": "code",
   "execution_count": null,
   "metadata": {},
   "outputs": [],
   "source": []
  },
  {
   "cell_type": "code",
   "execution_count": null,
   "metadata": {},
   "outputs": [],
   "source": []
  },
  {
   "cell_type": "code",
   "execution_count": null,
   "metadata": {},
   "outputs": [],
   "source": []
  },
  {
   "cell_type": "code",
   "execution_count": null,
   "metadata": {},
   "outputs": [],
   "source": []
  },
  {
   "cell_type": "code",
   "execution_count": null,
   "metadata": {},
   "outputs": [],
   "source": []
  },
  {
   "cell_type": "code",
   "execution_count": null,
   "metadata": {},
   "outputs": [],
   "source": []
  },
  {
   "cell_type": "code",
   "execution_count": null,
   "metadata": {
    "scrolled": false
   },
   "outputs": [],
   "source": []
  },
  {
   "cell_type": "code",
   "execution_count": null,
   "metadata": {},
   "outputs": [],
   "source": []
  },
  {
   "cell_type": "code",
   "execution_count": null,
   "metadata": {},
   "outputs": [],
   "source": []
  },
  {
   "cell_type": "code",
   "execution_count": null,
   "metadata": {},
   "outputs": [],
   "source": []
  },
  {
   "cell_type": "code",
   "execution_count": null,
   "metadata": {},
   "outputs": [],
   "source": []
  },
  {
   "cell_type": "code",
   "execution_count": null,
   "metadata": {},
   "outputs": [],
   "source": []
  },
  {
   "cell_type": "code",
   "execution_count": null,
   "metadata": {},
   "outputs": [],
   "source": []
  },
  {
   "cell_type": "code",
   "execution_count": null,
   "metadata": {},
   "outputs": [],
   "source": []
  },
  {
   "cell_type": "code",
   "execution_count": null,
   "metadata": {},
   "outputs": [],
   "source": []
  },
  {
   "cell_type": "code",
   "execution_count": null,
   "metadata": {},
   "outputs": [],
   "source": []
  }
 ],
 "metadata": {
  "kernelspec": {
   "display_name": "Python 3",
   "language": "python",
   "name": "python3"
  }
 },
 "nbformat": 4,
 "nbformat_minor": 2
}
