{
 "cells": [
  {
   "cell_type": "markdown",
   "metadata": {},
   "source": [
    "# 2020-01-21 UT Preliminary Analysis"
   ]
  },
  {
   "cell_type": "code",
   "execution_count": 1,
   "metadata": {},
   "outputs": [
    {
     "name": "stdout",
     "output_type": "stream",
     "text": [
      "Root directory: /g/lu/data/imaka/onaga/20200121/sta/\n"
     ]
    }
   ],
   "source": [
    "%reload_ext autoreload\n",
    "%autoreload 2\n",
    "%matplotlib inline\n",
    "\n",
    "import matplotlib.pyplot as plt\n",
    "from imaka.analysis import plot_stats\n",
    "from astropy.table import Table\n",
    "import numpy as np\n",
    "from importlib import reload\n",
    "from imaka.reduce.nights import reduce_2020_01_21 as redu\n",
    "\n",
    "reload(redu)\n",
    "reload(plot_stats)\n",
    "\n",
    "root_dir = \"/g/lu/data/imaka/onaga/20200121/sta/\"\n",
    "print(\"Root directory:\",root_dir)\n",
    "stats_dir = root_dir + \"reduce/stats/\"\n",
    "plots_dir = root_dir + \"reduce/plots/\"\n",
    "stack_dir = root_dir + \"reduce/stacks/\""
   ]
  },
  {
   "cell_type": "markdown",
   "metadata": {},
   "source": [
    "# Data Reduction"
   ]
  },
  {
   "cell_type": "markdown",
   "metadata": {},
   "source": [
    "Fully reduce the data from 20200121 UT. Don't re-run this unless you really need to as it takes awhile. After you re-run the data reduction, please remember to load it back up to onaga."
   ]
  },
  {
   "cell_type": "code",
   "execution_count": 8,
   "metadata": {},
   "outputs": [
    {
     "name": "stdout",
     "output_type": "stream",
     "text": [
      "Splitting file 1 of 5\n",
      "\t /g/lu/data/imaka/onaga/20200121/sta/reduce/Beehive-W/sta065_o_scan_clean_stars.txt\n",
      "Splitting file 2 of 5\n",
      "\t /g/lu/data/imaka/onaga/20200121/sta/reduce/Beehive-W/sta067_o_scan_clean_stars.txt\n",
      "Splitting file 3 of 5\n",
      "\t /g/lu/data/imaka/onaga/20200121/sta/reduce/Beehive-W/sta070_o_scan_clean_stars.txt\n",
      "Splitting file 4 of 5\n",
      "\t /g/lu/data/imaka/onaga/20200121/sta/reduce/Beehive-W/sta079_o_scan_clean_stars.txt\n",
      "Splitting file 5 of 5\n",
      "\t /g/lu/data/imaka/onaga/20200121/sta/reduce/Beehive-W/sta081_o_scan_clean_stars.txt\n",
      "Splitting file 1 of 6\n",
      "\t /g/lu/data/imaka/onaga/20200121/sta/reduce/Beehive-W/sta083_o_scan_clean_stars.txt\n",
      "Splitting file 2 of 6\n",
      "\t /g/lu/data/imaka/onaga/20200121/sta/reduce/Beehive-W/sta085_o_scan_clean_stars.txt\n",
      "Splitting file 3 of 6\n",
      "\t /g/lu/data/imaka/onaga/20200121/sta/reduce/Beehive-W/sta087_o_scan_clean_stars.txt\n",
      "Splitting file 4 of 6\n",
      "\t /g/lu/data/imaka/onaga/20200121/sta/reduce/Beehive-W/sta089_o_scan_clean_stars.txt\n",
      "Splitting file 5 of 6\n",
      "\t /g/lu/data/imaka/onaga/20200121/sta/reduce/Beehive-W/sta091_o_scan_clean_stars.txt\n",
      "Splitting file 6 of 6\n",
      "\t /g/lu/data/imaka/onaga/20200121/sta/reduce/Beehive-W/sta093_o_scan_clean_stars.txt\n",
      "Splitting file 1 of 5\n",
      "\t /g/lu/data/imaka/onaga/20200121/sta/reduce/Beehive-W/sta107_o_scan_clean_stars.txt\n",
      "Splitting file 2 of 5\n",
      "\t /g/lu/data/imaka/onaga/20200121/sta/reduce/Beehive-W/sta109_o_scan_clean_stars.txt\n",
      "Splitting file 3 of 5\n",
      "\t /g/lu/data/imaka/onaga/20200121/sta/reduce/Beehive-W/sta111_o_scan_clean_stars.txt\n",
      "Splitting file 4 of 5\n",
      "\t /g/lu/data/imaka/onaga/20200121/sta/reduce/Beehive-W/sta113_o_scan_clean_stars.txt\n",
      "Splitting file 5 of 5\n",
      "\t /g/lu/data/imaka/onaga/20200121/sta/reduce/Beehive-W/sta115_o_scan_clean_stars.txt\n",
      "Splitting file 1 of 6\n",
      "\t /g/lu/data/imaka/onaga/20200121/sta/reduce/Beehive-W/sta061x10LS5WFS_c_scan_clean_stars.txt\n",
      "Splitting file 2 of 6\n",
      "\t /g/lu/data/imaka/onaga/20200121/sta/reduce/Beehive-W/sta064x10LS5WFS_c_scan_clean_stars.txt\n",
      "Splitting file 3 of 6\n",
      "\t /g/lu/data/imaka/onaga/20200121/sta/reduce/Beehive-W/sta066x10LS5WFS_c_scan_clean_stars.txt\n",
      "Splitting file 4 of 6\n",
      "\t /g/lu/data/imaka/onaga/20200121/sta/reduce/Beehive-W/sta069x10LS5WFS_c_scan_clean_stars.txt\n",
      "Splitting file 5 of 6\n",
      "\t /g/lu/data/imaka/onaga/20200121/sta/reduce/Beehive-W/sta078x10LS5WFS_c_scan_clean_stars.txt\n",
      "Splitting file 6 of 6\n",
      "\t /g/lu/data/imaka/onaga/20200121/sta/reduce/Beehive-W/sta080x10LS5WFS_c_scan_clean_stars.txt\n",
      "Splitting file 1 of 6\n",
      "\t /g/lu/data/imaka/onaga/20200121/sta/reduce/Beehive-W/sta082x10LS5WFS_c_scan_clean_stars.txt\n",
      "Splitting file 2 of 6\n",
      "\t /g/lu/data/imaka/onaga/20200121/sta/reduce/Beehive-W/sta084x10LS5WFS_c_scan_clean_stars.txt\n",
      "Splitting file 3 of 6\n",
      "\t /g/lu/data/imaka/onaga/20200121/sta/reduce/Beehive-W/sta086x10LS5WFS_c_scan_clean_stars.txt\n",
      "Splitting file 4 of 6\n",
      "\t /g/lu/data/imaka/onaga/20200121/sta/reduce/Beehive-W/sta088x10LS5WFS_c_scan_clean_stars.txt\n",
      "Splitting file 5 of 6\n",
      "\t /g/lu/data/imaka/onaga/20200121/sta/reduce/Beehive-W/sta090x10LS5WFS_c_scan_clean_stars.txt\n",
      "Splitting file 6 of 6\n",
      "\t /g/lu/data/imaka/onaga/20200121/sta/reduce/Beehive-W/sta092x10LS5WFS_c_scan_clean_stars.txt\n",
      "Splitting file 1 of 5\n",
      "\t /g/lu/data/imaka/onaga/20200121/sta/reduce/Beehive-W/sta106x10LS5WFS_c_scan_clean_stars.txt\n",
      "Splitting file 2 of 5\n",
      "\t /g/lu/data/imaka/onaga/20200121/sta/reduce/Beehive-W/sta108x10LS5WFS_c_scan_clean_stars.txt\n",
      "Splitting file 3 of 5\n",
      "\t /g/lu/data/imaka/onaga/20200121/sta/reduce/Beehive-W/sta110x10LS5WFS_c_scan_clean_stars.txt\n",
      "Splitting file 4 of 5\n",
      "\t /g/lu/data/imaka/onaga/20200121/sta/reduce/Beehive-W/sta112x10LS5WFS_c_scan_clean_stars.txt\n",
      "Splitting file 5 of 5\n",
      "\t /g/lu/data/imaka/onaga/20200121/sta/reduce/Beehive-W/sta114x10LS5WFS_c_scan_clean_stars.txt\n",
      "Working on image:  /g/lu/data/imaka/onaga/20200121/sta/reduce/Beehive-W/sta065_o_scan_clean.fits\n"
     ]
    },
    {
     "name": "stderr",
     "output_type": "stream",
     "text": [
      "WARNING: AstropyDeprecationWarning: Inputing positions shaped as 2xN is deprecated and will be removed in v0.8.  Positions should be a (x, y) pixel position or a list or array of (x, y) pixel positions, e.g. [(x1, y1), (x2, y2), (x3, y3)]. [photutils.aperture.attributes]\n"
     ]
    },
    {
     "name": "stdout",
     "output_type": "stream",
     "text": [
      "Working on image:  /g/lu/data/imaka/onaga/20200121/sta/reduce/Beehive-W/sta067_o_scan_clean.fits\n",
      "Working on image:  /g/lu/data/imaka/onaga/20200121/sta/reduce/Beehive-W/sta070_o_scan_clean.fits\n",
      "Working on image:  /g/lu/data/imaka/onaga/20200121/sta/reduce/Beehive-W/sta079_o_scan_clean.fits\n",
      "Working on image:  /g/lu/data/imaka/onaga/20200121/sta/reduce/Beehive-W/sta081_o_scan_clean.fits\n",
      "Working on image:  /g/lu/data/imaka/onaga/20200121/sta/reduce/Beehive-W/sta083_o_scan_clean.fits\n"
     ]
    },
    {
     "name": "stderr",
     "output_type": "stream",
     "text": [
      "/u/caylananderson/code/python/imaka/imaka/reduce/reduce_STA.py:517: RuntimeWarning: invalid value encountered in greater_equal\n",
      "  ee25_rad = radii[ np.where(enc_energy_final >= 0.25)[0][0]]\n"
     ]
    },
    {
     "ename": "IndexError",
     "evalue": "index 0 is out of bounds for axis 0 with size 0",
     "output_type": "error",
     "traceback": [
      "\u001b[0;31m---------------------------------------------------------------------------\u001b[0m",
      "\u001b[0;31mIndexError\u001b[0m                                Traceback (most recent call last)",
      "\u001b[0;32m<ipython-input-8-002b55ee524a>\u001b[0m in \u001b[0;36m<module>\u001b[0;34m\u001b[0m\n\u001b[1;32m     13\u001b[0m \u001b[0;34m\"\"\"\"Split four filter data and calculate stats\"\"\"\u001b[0m\u001b[0;34m\u001b[0m\u001b[0;34m\u001b[0m\u001b[0m\n\u001b[1;32m     14\u001b[0m \u001b[0mredu\u001b[0m\u001b[0;34m.\u001b[0m\u001b[0msplit_filt\u001b[0m\u001b[0;34m(\u001b[0m\u001b[0;34m)\u001b[0m\u001b[0;34m\u001b[0m\u001b[0;34m\u001b[0m\u001b[0m\n\u001b[0;32m---> 15\u001b[0;31m \u001b[0mredu\u001b[0m\u001b[0;34m.\u001b[0m\u001b[0mcalc_star_stats_fourfilt\u001b[0m\u001b[0;34m(\u001b[0m\u001b[0;34m)\u001b[0m\u001b[0;34m\u001b[0m\u001b[0;34m\u001b[0m\u001b[0m\n\u001b[0m\u001b[1;32m     16\u001b[0m \u001b[0;34m\u001b[0m\u001b[0m\n\u001b[1;32m     17\u001b[0m \u001b[0;34m\"\"\"\"Make a stack of images for each mode and analyze stacks\"\"\"\u001b[0m\u001b[0;34m\u001b[0m\u001b[0;34m\u001b[0m\u001b[0m\n",
      "\u001b[0;32m~/code/python/imaka/imaka/reduce/nights/reduce_2020_01_21.py\u001b[0m in \u001b[0;36mcalc_star_stats_fourfilt\u001b[0;34m()\u001b[0m\n\u001b[1;32m    241\u001b[0m     \u001b[0mstarlists\u001b[0m \u001b[0;34m+=\u001b[0m \u001b[0;34m[\u001b[0m\u001b[0mout_dir\u001b[0m \u001b[0;34m+\u001b[0m \u001b[0;34m'sta{0:03d}_o_scan_clean_B_BVIR_stars.txt'\u001b[0m\u001b[0;34m.\u001b[0m\u001b[0mformat\u001b[0m\u001b[0;34m(\u001b[0m\u001b[0mii\u001b[0m\u001b[0;34m)\u001b[0m \u001b[0;32mfor\u001b[0m \u001b[0mii\u001b[0m \u001b[0;32min\u001b[0m \u001b[0mrot_3_o\u001b[0m\u001b[0;34m]\u001b[0m\u001b[0;34m\u001b[0m\u001b[0;34m\u001b[0m\u001b[0m\n\u001b[1;32m    242\u001b[0m     \u001b[0mstats_file\u001b[0m \u001b[0;34m=\u001b[0m \u001b[0mstats_dir\u001b[0m \u001b[0;34m+\u001b[0m \u001b[0;34m'stats_open_B.fits'\u001b[0m\u001b[0;34m\u001b[0m\u001b[0;34m\u001b[0m\u001b[0m\n\u001b[0;32m--> 243\u001b[0;31m     \u001b[0mreduce_STA\u001b[0m\u001b[0;34m.\u001b[0m\u001b[0mcalc_star_stats\u001b[0m\u001b[0;34m(\u001b[0m\u001b[0mimg_files\u001b[0m\u001b[0;34m,\u001b[0m \u001b[0moutput_stats\u001b[0m\u001b[0;34m=\u001b[0m\u001b[0mstats_file\u001b[0m\u001b[0;34m,\u001b[0m \u001b[0mstarlists\u001b[0m\u001b[0;34m=\u001b[0m\u001b[0mstarlists\u001b[0m\u001b[0;34m,\u001b[0m \u001b[0mfourfilt\u001b[0m\u001b[0;34m=\u001b[0m\u001b[0;32mTrue\u001b[0m\u001b[0;34m)\u001b[0m\u001b[0;34m\u001b[0m\u001b[0;34m\u001b[0m\u001b[0m\n\u001b[0m\u001b[1;32m    244\u001b[0m     \u001b[0mmoffat\u001b[0m\u001b[0;34m.\u001b[0m\u001b[0mfit_moffat\u001b[0m\u001b[0;34m(\u001b[0m\u001b[0mimg_files\u001b[0m\u001b[0;34m,\u001b[0m \u001b[0mstats_file\u001b[0m\u001b[0;34m,\u001b[0m \u001b[0mstarlists\u001b[0m\u001b[0;34m=\u001b[0m\u001b[0mstarlists\u001b[0m\u001b[0;34m)\u001b[0m\u001b[0;34m\u001b[0m\u001b[0;34m\u001b[0m\u001b[0m\n\u001b[1;32m    245\u001b[0m \u001b[0;34m\u001b[0m\u001b[0m\n",
      "\u001b[0;32m~/code/python/imaka/imaka/reduce/reduce_STA.py\u001b[0m in \u001b[0;36mcalc_star_stats\u001b[0;34m(img_files, output_stats, filt, fourfilt, starlists)\u001b[0m\n\u001b[1;32m    515\u001b[0m \u001b[0;34m\u001b[0m\u001b[0m\n\u001b[1;32m    516\u001b[0m         \u001b[0;31m# Find the 50% and 80% EE values\u001b[0m\u001b[0;34m\u001b[0m\u001b[0;34m\u001b[0m\u001b[0;34m\u001b[0m\u001b[0m\n\u001b[0;32m--> 517\u001b[0;31m         \u001b[0mee25_rad\u001b[0m \u001b[0;34m=\u001b[0m \u001b[0mradii\u001b[0m\u001b[0;34m[\u001b[0m \u001b[0mnp\u001b[0m\u001b[0;34m.\u001b[0m\u001b[0mwhere\u001b[0m\u001b[0;34m(\u001b[0m\u001b[0menc_energy_final\u001b[0m \u001b[0;34m>=\u001b[0m \u001b[0;36m0.25\u001b[0m\u001b[0;34m)\u001b[0m\u001b[0;34m[\u001b[0m\u001b[0;36m0\u001b[0m\u001b[0;34m]\u001b[0m\u001b[0;34m[\u001b[0m\u001b[0;36m0\u001b[0m\u001b[0;34m]\u001b[0m\u001b[0;34m]\u001b[0m\u001b[0;34m\u001b[0m\u001b[0;34m\u001b[0m\u001b[0m\n\u001b[0m\u001b[1;32m    518\u001b[0m         \u001b[0mee50_rad\u001b[0m \u001b[0;34m=\u001b[0m \u001b[0mradii\u001b[0m\u001b[0;34m[\u001b[0m \u001b[0mnp\u001b[0m\u001b[0;34m.\u001b[0m\u001b[0mwhere\u001b[0m\u001b[0;34m(\u001b[0m\u001b[0menc_energy_final\u001b[0m \u001b[0;34m>=\u001b[0m \u001b[0;36m0.5\u001b[0m\u001b[0;34m)\u001b[0m\u001b[0;34m[\u001b[0m\u001b[0;36m0\u001b[0m\u001b[0;34m]\u001b[0m\u001b[0;34m[\u001b[0m\u001b[0;36m0\u001b[0m\u001b[0;34m]\u001b[0m \u001b[0;34m]\u001b[0m\u001b[0;34m\u001b[0m\u001b[0;34m\u001b[0m\u001b[0m\n\u001b[1;32m    519\u001b[0m         \u001b[0mee80_rad\u001b[0m \u001b[0;34m=\u001b[0m \u001b[0mradii\u001b[0m\u001b[0;34m[\u001b[0m \u001b[0mnp\u001b[0m\u001b[0;34m.\u001b[0m\u001b[0mwhere\u001b[0m\u001b[0;34m(\u001b[0m\u001b[0menc_energy_final\u001b[0m \u001b[0;34m>=\u001b[0m \u001b[0;36m0.8\u001b[0m\u001b[0;34m)\u001b[0m\u001b[0;34m[\u001b[0m\u001b[0;36m0\u001b[0m\u001b[0;34m]\u001b[0m\u001b[0;34m[\u001b[0m\u001b[0;36m0\u001b[0m\u001b[0;34m]\u001b[0m \u001b[0;34m]\u001b[0m\u001b[0;34m\u001b[0m\u001b[0;34m\u001b[0m\u001b[0m\n",
      "\u001b[0;31mIndexError\u001b[0m: index 0 is out of bounds for axis 0 with size 0"
     ]
    }
   ],
   "source": [
    "\"\"\"Set the appropriate root directory for your machine\"\"\"\n",
    "redu.root_dir = root_dir\n",
    "\n",
    "\"\"\"\"Make sky and flat images and use them to reduce science images\"\"\"\n",
    "#redu.make_sky() #using sky img from 2020-01-22 run (60s exposure time)\n",
    "#redu.make_flat()  # Using twilight images from 20200122 run\n",
    "#redu.reduce_FLD2()\n",
    "\n",
    "\"\"\"\"Find stars in clean images and calculate stats\"\"\"\n",
    "# redu.find_stars_FLD2()\n",
    "# redu.calc_star_stats()\n",
    "\n",
    "\"\"\"\"Split four filter data and calculate stats\"\"\"\n",
    "redu.split_filt()\n",
    "redu.calc_star_stats_fourfilt()\n",
    "\n",
    "\"\"\"\"Make a stack of images for each mode and analyze stacks\"\"\"\n",
    "redu.stack_FLD2()\n",
    "redu.analyze_stacks()"
   ]
  },
  {
   "cell_type": "code",
   "execution_count": null,
   "metadata": {},
   "outputs": [
    {
     "name": "stdout",
     "output_type": "stream",
     "text": [
      "> /u/caylananderson/code/python/imaka/imaka/reduce/reduce_STA.py(517)calc_star_stats()\n",
      "-> ee25_rad = radii[ np.where(enc_energy_final >= 0.25)[0][0]]\n",
      "(Pdb) print(enc_energy_final)\n",
      "[nan nan nan nan nan nan nan nan nan nan nan nan nan nan nan nan nan nan\n",
      " nan nan nan nan nan nan nan nan nan nan nan nan nan nan nan nan nan nan\n",
      " nan nan nan nan nan nan nan nan nan nan nan nan nan nan nan nan nan nan\n",
      " nan nan nan nan nan]\n",
      "(Pdb) type(enc_energy_final)\n",
      "<class 'numpy.ndarray'>\n",
      "(Pdb) print(bkg_annuli)\n",
      "Aperture: CircularAnnulus\n",
      "positions: [[3030.158, 4544.678],\n",
      "            [4939.015, 5102.371]]\n",
      "r_in: 93.75\n",
      "r_out: 125.0\n",
      "(Pdb) print(bkg)\n",
      " id xcenter  ycenter      aperture_sum   \n",
      "      pix      pix                       \n",
      "--- -------- -------- -------------------\n",
      "  1 3030.158 4544.678 -262814.13030611584\n",
      "  2 4939.015 5102.371                 nan\n",
      "(Pdb) print(img)\n",
      "[[ -39.90704398   37.06788716 -103.48672972 ...   38.2862644\n",
      "    95.94729658  135.77917932]\n",
      " [-159.88462324  110.82671756  -68.42772489 ...   38.69149265\n",
      "    77.13313754  -75.85590637]\n",
      " [ -79.38532145 -184.10588281   34.24370688 ...   76.63366519\n",
      "    58.21833723  -38.59518108]\n",
      " ...\n",
      " [ -45.89826525  -84.14583276  -35.99687181 ...    0.\n",
      "    39.96362785  -78.16724336]\n",
      " [   0.          -41.43441177 -192.92316944 ...   40.07909331\n",
      "   158.85521042 -123.11895446]\n",
      " [   0.          102.5951146  -197.32748857 ... -101.28815874\n",
      "  -100.81761409 -102.06245261]]\n",
      "(Pdb) plt.imshow(img)\n",
      "<matplotlib.image.AxesImage object at 0x7fb4d1acbad0>\n",
      "(Pdb) filt_name\n",
      "'B'\n",
      "(Pdb) filt_order\n",
      "'VIRB'\n",
      "(Pdb) bkg\n",
      "<QTable length=2>\n",
      "  id  xcenter  ycenter      aperture_sum   \n",
      "        pix      pix                       \n",
      "int64 float64  float64        float64      \n",
      "----- -------- -------- -------------------\n",
      "    1 3030.158 4544.678 -262814.13030611584\n",
      "    2 4939.015 5102.371                 nan\n"
     ]
    }
   ],
   "source": [
    "import pdb\n",
    "pdb.pm()"
   ]
  },
  {
   "cell_type": "code",
   "execution_count": null,
   "metadata": {},
   "outputs": [],
   "source": []
  },
  {
   "cell_type": "code",
   "execution_count": null,
   "metadata": {},
   "outputs": [],
   "source": []
  },
  {
   "cell_type": "code",
   "execution_count": null,
   "metadata": {},
   "outputs": [],
   "source": []
  },
  {
   "cell_type": "markdown",
   "metadata": {},
   "source": [
    "### "
   ]
  },
  {
   "cell_type": "code",
   "execution_count": null,
   "metadata": {},
   "outputs": [],
   "source": []
  },
  {
   "cell_type": "code",
   "execution_count": null,
   "metadata": {
    "scrolled": false
   },
   "outputs": [],
   "source": []
  },
  {
   "cell_type": "code",
   "execution_count": null,
   "metadata": {},
   "outputs": [],
   "source": []
  },
  {
   "cell_type": "code",
   "execution_count": null,
   "metadata": {},
   "outputs": [],
   "source": []
  },
  {
   "cell_type": "code",
   "execution_count": null,
   "metadata": {},
   "outputs": [],
   "source": []
  },
  {
   "cell_type": "code",
   "execution_count": null,
   "metadata": {},
   "outputs": [],
   "source": []
  },
  {
   "cell_type": "code",
   "execution_count": null,
   "metadata": {},
   "outputs": [],
   "source": []
  },
  {
   "cell_type": "code",
   "execution_count": null,
   "metadata": {},
   "outputs": [],
   "source": []
  },
  {
   "cell_type": "code",
   "execution_count": null,
   "metadata": {},
   "outputs": [],
   "source": []
  },
  {
   "cell_type": "code",
   "execution_count": null,
   "metadata": {},
   "outputs": [],
   "source": []
  },
  {
   "cell_type": "code",
   "execution_count": null,
   "metadata": {},
   "outputs": [],
   "source": []
  }
 ],
 "metadata": {
  "kernelspec": {
   "display_name": "Python 3",
   "language": "python",
   "name": "python3"
  },
  "language_info": {
   "codemirror_mode": {
    "name": "ipython",
    "version": 3
   },
   "file_extension": ".py",
   "mimetype": "text/x-python",
   "name": "python",
   "nbconvert_exporter": "python",
   "pygments_lexer": "ipython3",
   "version": "3.7.6"
  }
 },
 "nbformat": 4,
 "nbformat_minor": 2
}
