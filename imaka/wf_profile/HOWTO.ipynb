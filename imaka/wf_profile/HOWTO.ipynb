{
 "cells": [
  {
   "cell_type": "markdown",
   "metadata": {},
   "source": [
    "# How to Run\n",
    "## A guide to getting started with WFP\n",
    "This Jupyter notebook should give a comprehensive overview for figuring out how to run the imaka wavefront profiler. "
   ]
  },
  {
   "cell_type": "markdown",
   "metadata": {},
   "source": [
    "## => Required Python Libraries\n",
    "Below is an import list of all functions used throughout this code. If you're able to run the following block of code, you should be able to run this package without issues.\n",
    "\n",
    "!TODO: check that all libraries are used throughout code"
   ]
  },
  {
   "cell_type": "code",
   "execution_count": 1,
   "metadata": {},
   "outputs": [],
   "source": [
    "#Pipeline\n",
    "import os\n",
    "import sys\n",
    "import fnmatch\n",
    "import logging\n",
    "import threading\n",
    "import time\n",
    "import concurrent.futures\n",
    "#Correlator\n",
    "import math\n",
    "import imageio\n",
    "import pandas as pd\n",
    "import numpy as np\n",
    "from scipy.io import readsav\n",
    "import matplotlib\n",
    "from astropy.table import Table\n",
    "from astropy.stats import sigma_clip\n",
    "from astropy.io import fits\n",
    "#Plotting\n",
    "from celluloid import Camera\n",
    "from IPython.display import Image "
   ]
  },
  {
   "cell_type": "markdown",
   "metadata": {},
   "source": [
    "The following imports are from seperate packages that aren't necessary for core functionality:"
   ]
  },
  {
   "cell_type": "code",
   "execution_count": 2,
   "metadata": {},
   "outputs": [],
   "source": [
    "#datatable: not required for corr code\n",
    "from datetime import datetime, date, time, timezone\n",
    "import pytz"
   ]
  },
  {
   "cell_type": "code",
   "execution_count": 3,
   "metadata": {},
   "outputs": [],
   "source": [
    "# estimator\n",
    "import hdbscan\n",
    "import seaborn as sns"
   ]
  },
  {
   "cell_type": "markdown",
   "metadata": {},
   "source": [
    "## => Configuration Files\n",
    "Configuration files consist of the directory locations you wish the correlator function to find and store data. \n",
    "\n",
    "### Defining a variable path: \n",
    "name of variable a space, an equals, a space, value, line break. This is the order that the file reader will parse inputs.\n",
    "\n",
    "> name = value\n",
    "\n",
    "The file reader for this file will not catch anything that starts with \"#\" so feel free to use those as comments.\n",
    "\n",
    "### The major variables to edit: \n",
    "The big variables to edit are the paths specific to your system. They are described below:\n",
    "\n",
    "> data_path = /home/imaka/data/\n",
    "\n",
    "The data path shows the system where to look for files that contain dates. for example, this is the directory where we'd expect to find **/home/imaka/data/**20201102\n",
    "\n",
    "> out_path = /home/emcewen/out/\n",
    "\n",
    "This is where you'll be storing your data output. The system will create this path if it can, so be sure you're pointing it in the right direction\n",
    "\n",
    "> target_path = /home/emcewen/data/target_input/\n",
    "\n",
    "The target path shows the system where to look for target files. In this package, target files are listed under: **wf_profile_inputs_targets**\n",
    "\n",
    "\n",
    "### Varibles that don't need changing:\n",
    "These are ways to customize how the pipeline operates or what it outputs. Don't feel the need to change them if you don't need to. \n",
    "\n",
    "> pipe_fn = all\n",
    "\n",
    "This determines whether you want just data fits, plots from previous files, or both at once. **all** should work for most users.\n",
    "\n",
    "> parallel = True\n",
    "\n",
    "This allows you to do a parallization of the conf run, but is experimental."
   ]
  },
  {
   "cell_type": "code",
   "execution_count": 8,
   "metadata": {},
   "outputs": [
    {
     "name": "stdout",
     "output_type": "stream",
     "text": [
      "# Configure file for DATA\n",
      "# => Change data paths here\n",
      "\n",
      "# Commented lines will be ignored\n",
      "# variables must be defined with \" = \" (spaces included)\n",
      "\n",
      "# where to place files\n",
      "data_path = /home/imaka/data/\n",
      "out_path = /home/emcewen/out/\n",
      "target_path = /home/emcewen/data/target_input/\n",
      "\n",
      "# options: all, data, plots\n",
      "pipe_fn = all\n",
      "\n",
      "# Parallel processing\n",
      "parallel = True\n"
     ]
    }
   ],
   "source": [
    "# print an example conf file\n",
    "\n",
    "f = open('inputs/conf/CONF_data.txt', 'r')\n",
    "print (f.read())"
   ]
  },
  {
   "cell_type": "markdown",
   "metadata": {},
   "source": [
    "## => Run files\n",
    "\n",
    "Run files are inputs to the main pipeline that outlines either the dates or the files for the correlator to run over. \n",
    "\n",
    "Entries can be:\n",
    "- **a date**, will be looked for in **data_path** and all fits files in date/ or date/ao will be added to a list of files to process\n",
    "- **target name**, will look for this file in the **target_path** defined in conf, where the file begins with **target_name** and ends with **_USNOB_GS.txt**. If a new target is inserted, all dates after the change will be given that target until switched again. \n"
   ]
  },
  {
   "cell_type": "code",
   "execution_count": 7,
   "metadata": {},
   "outputs": [
    {
     "name": "stdout",
     "output_type": "stream",
     "text": [
      "Beehive-W\n",
      "20190226\n"
     ]
    }
   ],
   "source": [
    "# Example Run File: Data\n",
    "\n",
    "f = open('inputs/runs/RUN10.txt', 'r')\n",
    "print (f.read())"
   ]
  },
  {
   "cell_type": "code",
   "execution_count": null,
   "metadata": {},
   "outputs": [],
   "source": [
    "# Example Run File: Simulation"
   ]
  },
  {
   "cell_type": "markdown",
   "metadata": {},
   "source": [
    "## => Target files\n",
    "\n",
    "Target files are optional, but will give more information to \n"
   ]
  },
  {
   "cell_type": "code",
   "execution_count": null,
   "metadata": {},
   "outputs": [],
   "source": []
  }
 ],
 "metadata": {
  "kernelspec": {
   "display_name": "Python 3",
   "language": "python",
   "name": "python3"
  },
  "language_info": {
   "codemirror_mode": {
    "name": "ipython",
    "version": 3
   },
   "file_extension": ".py",
   "mimetype": "text/x-python",
   "name": "python",
   "nbconvert_exporter": "python",
   "pygments_lexer": "ipython3",
   "version": "3.6.8"
  }
 },
 "nbformat": 4,
 "nbformat_minor": 4
}
