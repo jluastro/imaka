{
 "cells": [
  {
   "cell_type": "markdown",
   "metadata": {},
   "source": [
    "# RUN7 Image Quality Analysis"
   ]
  },
  {
   "cell_type": "code",
   "execution_count": 5,
   "metadata": {},
   "outputs": [],
   "source": [
    "from IPython.display import Image\n",
    "from astropy.table import Table\n",
    "import plot_stats\n",
    "import add_data\n",
    "import numpy as np\n",
    "%matplotlib inline\n",
    "\n",
    "labels = [['20180526', 'threewfs_small_c_clean']]\n",
    "data_dir_root = \"/Volumes/DATA5/imaka/\"\n",
    "stats_dir_end = \"/FLI/reduce/stats/\""
   ]
  },
  {
   "cell_type": "markdown",
   "metadata": {},
   "source": [
    "### Nightly Summary\n",
    "\n",
    "The table below gives a summary of the conditions (average MASS and DIMM seeing over the course of the observing time) and results (average empirical FWHM of all images for open and closed) of each observing night. "
   ]
  },
  {
   "cell_type": "code",
   "execution_count": 6,
   "metadata": {},
   "outputs": [
    {
     "ename": "FileNotFoundError",
     "evalue": "[Errno 2] No such file or directory: 'g/lu/data/imaka/RUN5/20180526/FLI/reduce/stats/stats_open_mdp.fits'",
     "output_type": "error",
     "traceback": [
      "\u001b[0;31m-------------------------------------------------------------------------\u001b[0m",
      "\u001b[0;31mFileNotFoundError\u001b[0m                       Traceback (most recent call last)",
      "\u001b[0;32m<ipython-input-6-4fbd916b6085>\u001b[0m in \u001b[0;36m<module>\u001b[0;34m()\u001b[0m\n\u001b[0;32m----> 1\u001b[0;31m \u001b[0madd_data\u001b[0m\u001b[0;34m.\u001b[0m\u001b[0mweek_table\u001b[0m\u001b[0;34m(\u001b[0m\u001b[0mdata_dir_root\u001b[0m\u001b[0;34m,\u001b[0m \u001b[0mstats_dir_end\u001b[0m\u001b[0;34m,\u001b[0m \u001b[0mlabels\u001b[0m\u001b[0;34m)\u001b[0m\u001b[0;34m\u001b[0m\u001b[0;34m\u001b[0m\u001b[0m\n\u001b[0m\u001b[1;32m      2\u001b[0m \u001b[0mTable\u001b[0m\u001b[0;34m.\u001b[0m\u001b[0mread\u001b[0m\u001b[0;34m(\u001b[0m\u001b[0mdata_dir_root\u001b[0m\u001b[0;34m+\u001b[0m\u001b[0;34m\"nightly_aves.fits\"\u001b[0m\u001b[0;34m)\u001b[0m\u001b[0;34m\u001b[0m\u001b[0;34m\u001b[0m\u001b[0m\n",
      "\u001b[0;32m~/code/python/imaka/imaka/analysis/add_data.py\u001b[0m in \u001b[0;36mweek_table\u001b[0;34m(data_dir_root, stats_dir_end, labels)\u001b[0m\n\u001b[1;32m    273\u001b[0m         \u001b[0mopen_file\u001b[0m \u001b[0;34m=\u001b[0m \u001b[0mdata_dir_root\u001b[0m\u001b[0;34m+\u001b[0m\u001b[0mlabels\u001b[0m\u001b[0;34m[\u001b[0m\u001b[0mi\u001b[0m\u001b[0;34m]\u001b[0m\u001b[0;34m[\u001b[0m\u001b[0;36m0\u001b[0m\u001b[0;34m]\u001b[0m\u001b[0;34m+\u001b[0m\u001b[0mstats_dir_end\u001b[0m\u001b[0;34m+\u001b[0m\u001b[0;34m'stats_open_mdp.fits'\u001b[0m\u001b[0;34m\u001b[0m\u001b[0;34m\u001b[0m\u001b[0m\n\u001b[1;32m    274\u001b[0m         \u001b[0mclosed_file\u001b[0m \u001b[0;34m=\u001b[0m \u001b[0mdata_dir_root\u001b[0m\u001b[0;34m+\u001b[0m\u001b[0mlabels\u001b[0m\u001b[0;34m[\u001b[0m\u001b[0mi\u001b[0m\u001b[0;34m]\u001b[0m\u001b[0;34m[\u001b[0m\u001b[0;36m0\u001b[0m\u001b[0;34m]\u001b[0m\u001b[0;34m+\u001b[0m\u001b[0mstats_dir_end\u001b[0m\u001b[0;34m+\u001b[0m\u001b[0;34m'stats_'\u001b[0m\u001b[0;34m+\u001b[0m\u001b[0mlabels\u001b[0m\u001b[0;34m[\u001b[0m\u001b[0mi\u001b[0m\u001b[0;34m]\u001b[0m\u001b[0;34m[\u001b[0m\u001b[0;36m1\u001b[0m\u001b[0;34m]\u001b[0m\u001b[0;34m+\u001b[0m\u001b[0;34m'_mdp.fits'\u001b[0m\u001b[0;34m\u001b[0m\u001b[0;34m\u001b[0m\u001b[0m\n\u001b[0;32m--> 275\u001b[0;31m         \u001b[0mopen_data\u001b[0m \u001b[0;34m=\u001b[0m \u001b[0mTable\u001b[0m\u001b[0;34m.\u001b[0m\u001b[0mread\u001b[0m\u001b[0;34m(\u001b[0m\u001b[0mopen_file\u001b[0m\u001b[0;34m)\u001b[0m\u001b[0;34m\u001b[0m\u001b[0;34m\u001b[0m\u001b[0m\n\u001b[0m\u001b[1;32m    276\u001b[0m         \u001b[0mclosed_data\u001b[0m \u001b[0;34m=\u001b[0m \u001b[0mTable\u001b[0m\u001b[0;34m.\u001b[0m\u001b[0mread\u001b[0m\u001b[0;34m(\u001b[0m\u001b[0mclosed_file\u001b[0m\u001b[0;34m)\u001b[0m\u001b[0;34m\u001b[0m\u001b[0;34m\u001b[0m\u001b[0m\n\u001b[1;32m    277\u001b[0m \u001b[0;34m\u001b[0m\u001b[0m\n",
      "\u001b[0;32m/anaconda/lib/python3.6/site-packages/astropy/table/table.py\u001b[0m in \u001b[0;36mread\u001b[0;34m(cls, *args, **kwargs)\u001b[0m\n\u001b[1;32m   2529\u001b[0m         \u001b[0mpassed\u001b[0m \u001b[0mthrough\u001b[0m \u001b[0mto\u001b[0m \u001b[0mthe\u001b[0m \u001b[0munderlying\u001b[0m \u001b[0mdata\u001b[0m \u001b[0mreader\u001b[0m \u001b[0;34m(\u001b[0m\u001b[0me\u001b[0m\u001b[0;34m.\u001b[0m\u001b[0mg\u001b[0m\u001b[0;34m.\u001b[0m\u001b[0;31m \u001b[0m\u001b[0;31m`\u001b[0m\u001b[0;34m~\u001b[0m\u001b[0mastropy\u001b[0m\u001b[0;34m.\u001b[0m\u001b[0mio\u001b[0m\u001b[0;34m.\u001b[0m\u001b[0mascii\u001b[0m\u001b[0;34m.\u001b[0m\u001b[0mread\u001b[0m\u001b[0;31m`\u001b[0m\u001b[0;34m)\u001b[0m\u001b[0;34m.\u001b[0m\u001b[0;34m\u001b[0m\u001b[0;34m\u001b[0m\u001b[0m\n\u001b[1;32m   2530\u001b[0m         \"\"\"\n\u001b[0;32m-> 2531\u001b[0;31m         \u001b[0mout\u001b[0m \u001b[0;34m=\u001b[0m \u001b[0mio_registry\u001b[0m\u001b[0;34m.\u001b[0m\u001b[0mread\u001b[0m\u001b[0;34m(\u001b[0m\u001b[0mcls\u001b[0m\u001b[0;34m,\u001b[0m \u001b[0;34m*\u001b[0m\u001b[0margs\u001b[0m\u001b[0;34m,\u001b[0m \u001b[0;34m**\u001b[0m\u001b[0mkwargs\u001b[0m\u001b[0;34m)\u001b[0m\u001b[0;34m\u001b[0m\u001b[0;34m\u001b[0m\u001b[0m\n\u001b[0m\u001b[1;32m   2532\u001b[0m         \u001b[0;31m# For some readers (e.g., ascii.ecsv), the returned `out` class is not\u001b[0m\u001b[0;34m\u001b[0m\u001b[0;34m\u001b[0m\u001b[0;34m\u001b[0m\u001b[0m\n\u001b[1;32m   2533\u001b[0m         \u001b[0;31m# guaranteed to be the same as the desired output `cls`.  If so,\u001b[0m\u001b[0;34m\u001b[0m\u001b[0;34m\u001b[0m\u001b[0;34m\u001b[0m\u001b[0m\n",
      "\u001b[0;32m/anaconda/lib/python3.6/site-packages/astropy/io/registry.py\u001b[0m in \u001b[0;36mread\u001b[0;34m(cls, format, *args, **kwargs)\u001b[0m\n\u001b[1;32m    500\u001b[0m                     \u001b[0;32mtry\u001b[0m\u001b[0;34m:\u001b[0m\u001b[0;34m\u001b[0m\u001b[0;34m\u001b[0m\u001b[0m\n\u001b[1;32m    501\u001b[0m                         \u001b[0mctx\u001b[0m \u001b[0;34m=\u001b[0m \u001b[0mget_readable_fileobj\u001b[0m\u001b[0;34m(\u001b[0m\u001b[0margs\u001b[0m\u001b[0;34m[\u001b[0m\u001b[0;36m0\u001b[0m\u001b[0;34m]\u001b[0m\u001b[0;34m,\u001b[0m \u001b[0mencoding\u001b[0m\u001b[0;34m=\u001b[0m\u001b[0;34m'binary'\u001b[0m\u001b[0;34m)\u001b[0m\u001b[0;34m\u001b[0m\u001b[0;34m\u001b[0m\u001b[0m\n\u001b[0;32m--> 502\u001b[0;31m                         \u001b[0mfileobj\u001b[0m \u001b[0;34m=\u001b[0m \u001b[0mctx\u001b[0m\u001b[0;34m.\u001b[0m\u001b[0m__enter__\u001b[0m\u001b[0;34m(\u001b[0m\u001b[0;34m)\u001b[0m\u001b[0;34m\u001b[0m\u001b[0;34m\u001b[0m\u001b[0m\n\u001b[0m\u001b[1;32m    503\u001b[0m                     \u001b[0;32mexcept\u001b[0m \u001b[0mOSError\u001b[0m\u001b[0;34m:\u001b[0m\u001b[0;34m\u001b[0m\u001b[0;34m\u001b[0m\u001b[0m\n\u001b[1;32m    504\u001b[0m                         \u001b[0;32mraise\u001b[0m\u001b[0;34m\u001b[0m\u001b[0;34m\u001b[0m\u001b[0m\n",
      "\u001b[0;32m/anaconda/lib/python3.6/contextlib.py\u001b[0m in \u001b[0;36m__enter__\u001b[0;34m(self)\u001b[0m\n\u001b[1;32m     79\u001b[0m     \u001b[0;32mdef\u001b[0m \u001b[0m__enter__\u001b[0m\u001b[0;34m(\u001b[0m\u001b[0mself\u001b[0m\u001b[0;34m)\u001b[0m\u001b[0;34m:\u001b[0m\u001b[0;34m\u001b[0m\u001b[0;34m\u001b[0m\u001b[0m\n\u001b[1;32m     80\u001b[0m         \u001b[0;32mtry\u001b[0m\u001b[0;34m:\u001b[0m\u001b[0;34m\u001b[0m\u001b[0;34m\u001b[0m\u001b[0m\n\u001b[0;32m---> 81\u001b[0;31m             \u001b[0;32mreturn\u001b[0m \u001b[0mnext\u001b[0m\u001b[0;34m(\u001b[0m\u001b[0mself\u001b[0m\u001b[0;34m.\u001b[0m\u001b[0mgen\u001b[0m\u001b[0;34m)\u001b[0m\u001b[0;34m\u001b[0m\u001b[0;34m\u001b[0m\u001b[0m\n\u001b[0m\u001b[1;32m     82\u001b[0m         \u001b[0;32mexcept\u001b[0m \u001b[0mStopIteration\u001b[0m\u001b[0;34m:\u001b[0m\u001b[0;34m\u001b[0m\u001b[0;34m\u001b[0m\u001b[0m\n\u001b[1;32m     83\u001b[0m             \u001b[0;32mraise\u001b[0m \u001b[0mRuntimeError\u001b[0m\u001b[0;34m(\u001b[0m\u001b[0;34m\"generator didn't yield\"\u001b[0m\u001b[0;34m)\u001b[0m \u001b[0;32mfrom\u001b[0m \u001b[0;32mNone\u001b[0m\u001b[0;34m\u001b[0m\u001b[0;34m\u001b[0m\u001b[0m\n",
      "\u001b[0;32m/anaconda/lib/python3.6/site-packages/astropy/utils/data.py\u001b[0m in \u001b[0;36mget_readable_fileobj\u001b[0;34m(name_or_obj, encoding, cache, show_progress, remote_timeout)\u001b[0m\n\u001b[1;32m    191\u001b[0m                 \u001b[0mname_or_obj\u001b[0m\u001b[0;34m,\u001b[0m \u001b[0mcache\u001b[0m\u001b[0;34m=\u001b[0m\u001b[0mcache\u001b[0m\u001b[0;34m,\u001b[0m \u001b[0mshow_progress\u001b[0m\u001b[0;34m=\u001b[0m\u001b[0mshow_progress\u001b[0m\u001b[0;34m,\u001b[0m\u001b[0;34m\u001b[0m\u001b[0;34m\u001b[0m\u001b[0m\n\u001b[1;32m    192\u001b[0m                 timeout=remote_timeout)\n\u001b[0;32m--> 193\u001b[0;31m         \u001b[0mfileobj\u001b[0m \u001b[0;34m=\u001b[0m \u001b[0mio\u001b[0m\u001b[0;34m.\u001b[0m\u001b[0mFileIO\u001b[0m\u001b[0;34m(\u001b[0m\u001b[0mname_or_obj\u001b[0m\u001b[0;34m,\u001b[0m \u001b[0;34m'r'\u001b[0m\u001b[0;34m)\u001b[0m\u001b[0;34m\u001b[0m\u001b[0;34m\u001b[0m\u001b[0m\n\u001b[0m\u001b[1;32m    194\u001b[0m         \u001b[0;32mif\u001b[0m \u001b[0mis_url\u001b[0m \u001b[0;32mand\u001b[0m \u001b[0;32mnot\u001b[0m \u001b[0mcache\u001b[0m\u001b[0;34m:\u001b[0m\u001b[0;34m\u001b[0m\u001b[0;34m\u001b[0m\u001b[0m\n\u001b[1;32m    195\u001b[0m             \u001b[0mdelete_fds\u001b[0m\u001b[0;34m.\u001b[0m\u001b[0mappend\u001b[0m\u001b[0;34m(\u001b[0m\u001b[0mfileobj\u001b[0m\u001b[0;34m)\u001b[0m\u001b[0;34m\u001b[0m\u001b[0;34m\u001b[0m\u001b[0m\n",
      "\u001b[0;31mFileNotFoundError\u001b[0m: [Errno 2] No such file or directory: 'g/lu/data/imaka/RUN5/20180526/FLI/reduce/stats/stats_open_mdp.fits'"
     ]
    }
   ],
   "source": [
    "add_data.week_table(data_dir_root, stats_dir_end, labels)\n",
    "Table.read(data_dir_root+\"nightly_aves.fits\")"
   ]
  },
  {
   "cell_type": "markdown",
   "metadata": {},
   "source": [
    "### FWHM vs Seeing\n",
    "\n",
    "The data in the plot below shows empirical FWHM as a function of seeing, each data point representing one frame.  Ideally, the FWHM in open loop should match the DIMM seeing, while the closed loop should match MASS seeing, having data points fall along the diagonal black line.  Though open loop data at high seeing seems to be better than ideal, our closed loop data is generally above the black line, that is, not reaching the PSF we expect from the seeing measurments."
   ]
  },
  {
   "cell_type": "code",
   "execution_count": null,
   "metadata": {},
   "outputs": [],
   "source": [
    "plot_stats.plot_week_fwhm(labels, data_dir_root, stats_dir_end, \"FWHM vs Seeing for June 2017 Run\")"
   ]
  },
  {
   "cell_type": "markdown",
   "metadata": {},
   "source": [
    "### FWHM Histogram\n",
    "\n",
    "The histogram below represents the distribtion of empirical FWHM measured in all the data, comparing open and closed loop observations.  Besides the clear shift of the distribution to lower FWHM in closed loop, the shape of the distrubtion is notably different as well, showing a narrower spread in closed loop."
   ]
  },
  {
   "cell_type": "code",
   "execution_count": null,
   "metadata": {},
   "outputs": [],
   "source": [
    "labels = [['20170517', 'closed', 806], ['20170518', 'closedB', 806], ['20170519', 'closedB', 806],['20170520', 'closedA', 806], ['20170521', 'closed', 806], ['20170522', 'closed', 806]]\n",
    "plot_stats.plot_hist(labels, data_dir_root, stats_dir_end, 'February Run FWHM Histogram')"
   ]
  },
  {
   "cell_type": "markdown",
   "metadata": {},
   "source": [
    "### Encircled Energy Profile\n",
    "\n",
    "The plots below show the ratio of closed to open loop encircled energies as a function of the difference between DIMM and MASS seeing.  Besides the lack of correlation between fractional improvment of the EE and seeing, we were suprised to see the discrepancy between improvements in the FWHM and in the 50% EE diameter.  Though the sharpness of the brightness profile could create some difference between these two metrics, we expect to see similar amounts of improvement; while the FWHMs improve by almost a factor of two, the 50% EE improves on average by only about 25%."
   ]
  },
  {
   "cell_type": "code",
   "execution_count": null,
   "metadata": {},
   "outputs": [],
   "source": [
    "plot_stats.plot_EE(labels, data_dir_root, stats_dir_end)"
   ]
  },
  {
   "cell_type": "markdown",
   "metadata": {},
   "source": [
    "### Nightly FWHM with Seeing \n",
    "\n",
    "Each data point in the plots below represent the average FWHM of all sources in a single frame. The solid lines represent the MASS-DIMM seeing as reported by Mauna Kea Weather Services. Only seeing observations at the same time as images are shown below.  In addition to matching the seeing data to the times of observations, the times of closed loop images were matched as closely as possible in time to the open loop frame in an attempt to show the difference in open and closed loop images with the same seeing conditions.\n",
    "\n",
    "Looking at the plots, the DIMM seeing generally does a good job of tracing the open loop data.  The MASS doesn't trace closed loop quite as well, particularly at very low seeing conditions.  Our data generally follows the seeing data up until a minimum of around 0.3 as, where our FWHM seems to reach a lower limit.  Potentially augmenting this discrepancy, the MASS software on Mauna Kea may currently be overestimating their seeing, calling this data 'prelimiary'."
   ]
  },
  {
   "cell_type": "code",
   "execution_count": null,
   "metadata": {},
   "outputs": [],
   "source": [
    "root_dir = \"/Users/fatimaabdurrahman/Desktop/Research/RUN5/20170517/FLI/reduce\"; open_file = root_dir + \"/stats/stats_open_mdp.fits\"; closed_file = root_dir + \"/stats/stats_closed_mdp.fits\"; plots_dir = root_dir + \"/plots/\"\n",
    "plot_stats.plot_fwhmvt_nomatch(open_file, closed_file, 'emp_fwhm', \"2017-05-17: FWHM and Seeing over time\", plots_dir)\n"
   ]
  },
  {
   "cell_type": "code",
   "execution_count": null,
   "metadata": {},
   "outputs": [],
   "source": [
    "root_dir = \"/Users/fatimaabdurrahman/Desktop/Research/RUN5/20170518/FLI/reduce\"; open_file = root_dir + \"/stats/stats_open_mdp.fits\"; closed_file = root_dir + \"/stats/stats_closedA_mdp.fits\"; plots_dir = root_dir + \"/plots/\"\n",
    "plot_stats.plot_fwhmvt_nomatch(open_file, closed_file, 'emp_fwhm', \"2017-05-18: FWHM and Seeing over time\", plots_dir)"
   ]
  },
  {
   "cell_type": "code",
   "execution_count": null,
   "metadata": {},
   "outputs": [],
   "source": [
    "root_dir = \"/Users/fatimaabdurrahman/Desktop/Research/RUN5/20170519/FLI/reduce\"; open_file = root_dir + \"/stats/stats_open_mdp.fits\"; closed_file = root_dir + \"/stats/stats_closedA_mdp.fits\"; plots_dir = root_dir + \"/plots/\"\n",
    "plot_stats.plot_fwhmvt_nomatch(open_file, closed_file, 'emp_fwhm', \"2017-05-19: FWHM and Seeing over time\", plots_dir)"
   ]
  },
  {
   "cell_type": "code",
   "execution_count": null,
   "metadata": {},
   "outputs": [],
   "source": [
    "root_dir = \"/Users/fatimaabdurrahman/Desktop/Research/RUN5/20170520/FLI/reduce\"; open_file = root_dir + \"/stats/stats_open_mdp.fits\"; closed_file = root_dir + \"/stats/stats_closedA_mdp.fits\"; plots_dir = root_dir + \"/plots/\"\n",
    "plot_stats.plot_fwhmvt_nomatch(open_file, closed_file, 'emp_fwhm', \"2017-05-20: FWHM and Seeing over time\", plots_dir)"
   ]
  },
  {
   "cell_type": "code",
   "execution_count": null,
   "metadata": {},
   "outputs": [],
   "source": [
    "root_dir = \"/Users/fatimaabdurrahman/Desktop/Research/RUN5/20170521/FLI/reduce\"; open_file = root_dir + \"/stats/stats_open_mdp.fits\"; closed_file = root_dir + \"/stats/stats_closedA_mdp.fits\"; plots_dir = root_dir + \"/plots/\"\n",
    "plot_stats.plot_fwhmvt_nomatch(open_file, closed_file, 'emp_fwhm', \"2017-05-21: FWHM and Seeing over time\", plots_dir)"
   ]
  },
  {
   "cell_type": "code",
   "execution_count": null,
   "metadata": {},
   "outputs": [],
   "source": [
    "root_dir = \"/Users/fatimaabdurrahman/Desktop/Research/RUN5/20170522/FLI/reduce\"; open_file = root_dir + \"/stats/stats_open_mdp.fits\"; closed_file = root_dir + \"/stats/stats_closedA_mdp.fits\"; plots_dir = root_dir + \"/plots/\"\n",
    "plot_stats.plot_fwhmvt_nomatch(open_file, closed_file, 'emp_fwhm', \"2017-05-22: FWHM and Seeing over time\", plots_dir)"
   ]
  },
  {
   "cell_type": "code",
   "execution_count": null,
   "metadata": {},
   "outputs": [],
   "source": []
  }
 ],
 "metadata": {
  "kernelspec": {
   "display_name": "Python 3",
   "language": "python",
   "name": "python3"
  },
  "language_info": {
   "codemirror_mode": {
    "name": "ipython",
    "version": 3
   },
   "file_extension": ".py",
   "mimetype": "text/x-python",
   "name": "python",
   "nbconvert_exporter": "python",
   "pygments_lexer": "ipython3",
   "version": "3.7.10"
  }
 },
 "nbformat": 4,
 "nbformat_minor": 4
}
