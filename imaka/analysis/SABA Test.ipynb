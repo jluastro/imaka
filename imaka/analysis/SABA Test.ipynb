{
 "cells": [
  {
   "cell_type": "markdown",
   "metadata": {},
   "source": [
    "# Moffat Fit with Uncertainties in SABA (Sherpa-Astropy Bridge)"
   ]
  },
  {
   "cell_type": "code",
   "execution_count": 80,
   "metadata": {},
   "outputs": [],
   "source": [
    "import numpy as np\n",
    "import matplotlib.pyplot as plt\n",
    "from imaka.analysis import moffat\n",
    "from saba import SherpaFitter\n",
    "from astropy.io import fits\n",
    "from astropy.table import Table\n",
    "%matplotlib inline"
   ]
  },
  {
   "cell_type": "code",
   "execution_count": 128,
   "metadata": {},
   "outputs": [],
   "source": [
    "# Initialization\n",
    "\n",
    "stack_dir = \"//g/lu/data/imaka/onaga/20180531/sta/reduce/stacks/\"\n",
    "stack1 = stack_dir + \"FLD2_stack_threeWFSLS_B2_c.fits\"\n",
    "stars1 = stack_dir + \"FLD2_stack_threeWFSLS_B2_c_stars.txt\"\n",
    "img, hdr = fits.getdata(stack1, header=True)\n",
    "stars = Table.read(stars1, format='ascii')\n",
    "x_cent = np.array(stars['xcentroid'])\n",
    "y_cent = np.array(stars['ycentroid'])\n",
    "ii=0\n",
    "z = img[int(y_cent[ii])-10 : int(y_cent[ii])+10+1, int(x_cent[ii])-10 : int(x_cent[ii])+10+1]\n",
    "\n",
    "#np.random.seed(0x1337)\n",
    "#true = moffat.Elliptical_Moffat2D(N_sky = 450, amplitude=2000,  x_0=10.9, y_0=10.7, width_x = 4, width_y=6, phi=.7, power=2.5)\n",
    "err = 100\n",
    "err_grid = err * np.random.uniform(-1, 1, size=(len(x), len(y)))\n",
    "y, x = np.mgrid[:21, :21]\n",
    "#z = true(x, y) + err_grid\n",
    "fit_model = moffat.Elliptical_Moffat2D(N_sky = 0, amplitude=np.amax(z),  x_0=10.5, y_0=10.5, width_x = 4, width_y=6, phi=20, power=3)\n"
   ]
  },
  {
   "cell_type": "code",
   "execution_count": 135,
   "metadata": {},
   "outputs": [
    {
     "data": {
      "text/plain": [
       "<matplotlib.colorbar.Colorbar at 0x182f3d0978>"
      ]
     },
     "execution_count": 135,
     "metadata": {},
     "output_type": "execute_result"
    },
    {
     "data": {
      "image/png": "[encoded data removed]",
      "text/plain": [
       "<matplotlib.figure.Figure at 0x182f339940>"
      ]
     },
     "metadata": {},
     "output_type": "display_data"
    }
   ],
   "source": [
    "plt.figure(figsize=(5,5))\n",
    "plt.imshow(fit_model(x, y), vmin=-100, vmax=900)\n",
    "plt.colorbar()"
   ]
  },
  {
   "cell_type": "code",
   "execution_count": 109,
   "metadata": {},
   "outputs": [],
   "source": [
    "# Fitting\n",
    "\n",
    "sfit = SherpaFitter(statistic='LeastSq', optimizer='levmar', estmethod='confidence')\n",
    "fitted_model = sfit(fit_model, x, y, z)"
   ]
  },
  {
   "cell_type": "code",
   "execution_count": 111,
   "metadata": {},
   "outputs": [],
   "source": [
    "χ2=np.inf\n",
    "for model in fitted_model:\n",
    "    χ2_temp = np.sum(((model(x,y)-z)/err_grid)**2)\n",
    "    if χ2_temp < χ2:\n",
    "        χ2 = χ2_temp\n",
    "        mod = model"
   ]
  },
  {
   "cell_type": "code",
   "execution_count": 115,
   "metadata": {},
   "outputs": [
    {
     "data": {
      "text/plain": [
       "<matplotlib.image.AxesImage at 0x182fd52748>"
      ]
     },
     "execution_count": 115,
     "metadata": {},
     "output_type": "execute_result"
    },
    {
     "data": {
      "image/png": "[encoded data removed]",
      "text/plain": [
       "<matplotlib.figure.Figure at 0x182fc278d0>"
      ]
     },
     "metadata": {},
     "output_type": "display_data"
    }
   ],
   "source": [
    "plt.subplot(121)\n",
    "plt.imshow(mod(x,y))\n",
    "plt.subplot(122)\n",
    "plt.imshow(z)"
   ]
  },
  {
   "cell_type": "code",
   "execution_count": 110,
   "metadata": {},
   "outputs": [
    {
     "data": {
      "text/plain": [
       "[<Elliptical_Moffat2D(N_sky=133.02093056, amplitude=3040.94555168, phi=0.01832402, power=2.12779741, x_0=14.64162033, y_0=8.51133748, width_x=28.89122053, width_y=4.94806763, name='')>,\n",
       " <Elliptical_Moffat2D(N_sky=113.7014697, amplitude=2800.06302477, phi=0.01380887, power=2.26595207, x_0=15.23986752, y_0=8.71578093, width_x=34.65321279, width_y=5.05954221, name='')>,\n",
       " <Elliptical_Moffat2D(N_sky=283.93206544, amplitude=1199.4971392, phi=0.02248232, power=2.74324942, x_0=11.71462713, y_0=9.78248272, width_x=7.36181191, width_y=4.29462248, name='')>,\n",
       " <Elliptical_Moffat2D(N_sky=291.98550866, amplitude=1222.71709678, phi=0.00884508, power=3.00278856, x_0=11.20028412, y_0=10.02080788, width_x=5.58468159, width_y=4.24909695, name='')>,\n",
       " <Elliptical_Moffat2D(N_sky=293.8870148, amplitude=804.23309798, phi=-0.00287998, power=2.39997187, x_0=10.85200132, y_0=10.50112894, width_x=3.89891436, width_y=3.92045756, name='')>,\n",
       " <Elliptical_Moffat2D(N_sky=276.99105536, amplitude=172.27427111, phi=-0.02247184, power=0.59926525, x_0=11.25979854, y_0=10.88814548, width_x=1.51537019, width_y=3.50905677, name='')>,\n",
       " <Elliptical_Moffat2D(N_sky=287.14408576, amplitude=428.33980672, phi=-0.05566086, power=1.16733165, x_0=11.42516784, y_0=11.02627892, width_x=2.43166053, width_y=3.28051993, name='')>,\n",
       " <Elliptical_Moffat2D(N_sky=285.2455587, amplitude=705.53501292, phi=-0.09361166, power=1.54083846, x_0=11.16607321, y_0=10.99170749, width_x=3.04760659, width_y=3.36790547, name='')>,\n",
       " <Elliptical_Moffat2D(N_sky=296.90374914, amplitude=949.34199508, phi=-0.2536629, power=1.91086431, x_0=11.10550065, y_0=10.88485615, width_x=3.33885267, width_y=3.22485057, name='')>,\n",
       " <Elliptical_Moffat2D(N_sky=289.05692763, amplitude=983.99498561, phi=-0.198679, power=1.7126895, x_0=10.99320654, y_0=10.82654638, width_x=3.24406526, width_y=2.76304676, name='')>,\n",
       " <Elliptical_Moffat2D(N_sky=289.69608742, amplitude=940.32236752, phi=-0.11936997, power=1.8247842, x_0=10.79437032, y_0=10.54056467, width_x=3.62924758, width_y=1.61964659, name='')>,\n",
       " <Elliptical_Moffat2D(N_sky=290.79295488, amplitude=1093.37425063, phi=0.47482468, power=2.0079486, x_0=10.41421883, y_0=9.9804673, width_x=4.24989431, width_y=2.70355417, name='')>,\n",
       " <Elliptical_Moffat2D(N_sky=289.10790824, amplitude=940.7336383, phi=0.37129428, power=1.95749237, x_0=10.08083681, y_0=11.11847899, width_x=4.42006543, width_y=2.3322013, name='')>,\n",
       " <Elliptical_Moffat2D(N_sky=292.58968992, amplitude=1151.97988635, phi=-0.00610906, power=2.30827907, x_0=10.47885714, y_0=10.41504564, width_x=4.12449453, width_y=3.94277468, name='')>,\n",
       " <Elliptical_Moffat2D(N_sky=290.0319908, amplitude=1106.75490331, phi=-0.0215764, power=1.94122228, x_0=10.30480219, y_0=10.33142909, width_x=3.49682461, width_y=3.74141885, name='')>,\n",
       " <Elliptical_Moffat2D(N_sky=288.24928563, amplitude=936.36707068, phi=-0.01736406, power=1.73233333, x_0=10.27355995, y_0=10.27861297, width_x=3.15033333, width_y=3.67805945, name='')>,\n",
       " <Elliptical_Moffat2D(N_sky=92.30006969, amplitude=342.93821111, phi=-0.0246627, power=0.12057927, x_0=10.07119147, y_0=10.22049511, width_x=1.20706446, width_y=3.60909323, name='')>,\n",
       " <Elliptical_Moffat2D(N_sky=290.46429762, amplitude=1706.79111347, phi=-0.01784199, power=3.76624698, x_0=10.49887446, y_0=11.23607688, width_x=6.86854877, width_y=4.67406732, name='')>,\n",
       " <Elliptical_Moffat2D(N_sky=284.84820468, amplitude=1316.61654699, phi=-0.02285298, power=2.71459221, x_0=10.55853304, y_0=11.01976603, width_x=5.95822301, width_y=4.28818843, name='')>,\n",
       " <Elliptical_Moffat2D(N_sky=288.39833366, amplitude=1167.18707818, phi=-0.02939537, power=2.63267511, x_0=10.95843752, y_0=11.20630993, width_x=5.77794612, width_y=4.27361871, name='')>,\n",
       " <Elliptical_Moffat2D(N_sky=127.13368744, amplitude=2797.50776727, phi=-0.01595885, power=2.23477198, x_0=14.71748925, y_0=12.18190464, width_x=30.29768533, width_y=4.98142033, name='')>]"
      ]
     },
     "execution_count": 110,
     "metadata": {},
     "output_type": "execute_result"
    }
   ],
   "source": [
    "fitted_model"
   ]
  },
  {
   "cell_type": "code",
   "execution_count": 140,
   "metadata": {},
   "outputs": [
    {
     "data": {
      "text/plain": [
       "0.8571651617789082"
      ]
     },
     "execution_count": 140,
     "metadata": {},
     "output_type": "execute_result"
    }
   ],
   "source": [
    "Δm = -2.5*np.log10(.89/1.96)\n",
    "Δm"
   ]
  },
  {
   "cell_type": "code",
   "execution_count": 141,
   "metadata": {},
   "outputs": [
    {
     "data": {
      "text/plain": [
       "2.202247191011236"
      ]
     },
     "execution_count": 141,
     "metadata": {},
     "output_type": "execute_result"
    }
   ],
   "source": [
    "1.96/.89"
   ]
  },
  {
   "cell_type": "code",
   "execution_count": null,
   "metadata": {
    "collapsed": true
   },
   "outputs": [],
   "source": []
  }
 ],
 "metadata": {
  "kernelspec": {
   "display_name": "Python 3",
   "language": "python",
   "name": "python3"
  },
  "language_info": {
   "codemirror_mode": {
    "name": "ipython",
    "version": 3
   },
   "file_extension": ".py",
   "mimetype": "text/x-python",
   "name": "python",
   "nbconvert_exporter": "python",
   "pygments_lexer": "ipython3",
   "version": "3.6.3"
  }
 },
 "nbformat": 4,
 "nbformat_minor": 2
}
